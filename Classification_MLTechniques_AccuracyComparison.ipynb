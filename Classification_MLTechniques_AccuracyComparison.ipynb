{
  "nbformat": 4,
  "nbformat_minor": 0,
  "metadata": {
    "colab": {
      "name": "Classification_MLTechniques_AccuracyComparison.ipynb",
      "provenance": [],
      "authorship_tag": "ABX9TyPAq6t0rkRBfwbKwswv6ZOI"
    },
    "kernelspec": {
      "name": "python3",
      "display_name": "Python 3"
    },
    "language_info": {
      "name": "python"
    }
  },
  "cells": [
    {
      "cell_type": "markdown",
      "metadata": {
        "id": "cShTnAlJBg91"
      },
      "source": [
        "# **Problem** : Based on the Features of the Tumor in the Breast , Classify the Tumor as Malignant or Benign."
      ]
    },
    {
      "cell_type": "markdown",
      "metadata": {
        "id": "NPFxY5n2Q7ol"
      },
      "source": [
        "Although the given type of problem is generally Complicated and require a lot of Preliminary & Exploratory Analysis and As well as intense Data Cleaning. But our Aim is to Explore and Compare the Accuracy of Mutiple Classification ML Techniques , therefore we will Prioritise the Comparison over the EDA and Data Cleaning. To do this I chose a much Simpler and Ready to use dataset from UCI Machine Learning Repositary."
      ]
    },
    {
      "cell_type": "markdown",
      "metadata": {
        "id": "tq-NLY6hBg0g"
      },
      "source": [
        "# **1.Importing Libraries**"
      ]
    },
    {
      "cell_type": "code",
      "metadata": {
        "id": "F2YiaYPm-xfV"
      },
      "source": [
        "import numpy as np\n",
        "import matplotlib.pyplot as plt\n",
        "import pandas as pd"
      ],
      "execution_count": 1,
      "outputs": []
    },
    {
      "cell_type": "markdown",
      "metadata": {
        "id": "myY-2Gh7BlWA"
      },
      "source": [
        "# **2.Importing Dataset**"
      ]
    },
    {
      "cell_type": "code",
      "metadata": {
        "id": "-KxItLQpBlyZ"
      },
      "source": [
        "dataset = pd.read_csv('Data.csv')"
      ],
      "execution_count": 2,
      "outputs": []
    },
    {
      "cell_type": "markdown",
      "metadata": {
        "id": "ftw9i81WBx4N"
      },
      "source": [
        "# **3.Preliminary Analysis and Missing Value Detection & Rectification**"
      ]
    },
    {
      "cell_type": "code",
      "metadata": {
        "colab": {
          "base_uri": "https://localhost:8080/"
        },
        "id": "uvBPXUzhC2Za",
        "outputId": "8dae2fcd-5e5c-488c-f8c3-8aabe93379e4"
      },
      "source": [
        "dataset.shape"
      ],
      "execution_count": 3,
      "outputs": [
        {
          "output_type": "execute_result",
          "data": {
            "text/plain": [
              "(683, 11)"
            ]
          },
          "metadata": {
            "tags": []
          },
          "execution_count": 3
        }
      ]
    },
    {
      "cell_type": "code",
      "metadata": {
        "colab": {
          "base_uri": "https://localhost:8080/",
          "height": 224
        },
        "id": "aU6pPAi1ByNr",
        "outputId": "5159bd71-0009-4df7-cff3-17749c0d2212"
      },
      "source": [
        "dataset.head()"
      ],
      "execution_count": 4,
      "outputs": [
        {
          "output_type": "execute_result",
          "data": {
            "text/html": [
              "<div>\n",
              "<style scoped>\n",
              "    .dataframe tbody tr th:only-of-type {\n",
              "        vertical-align: middle;\n",
              "    }\n",
              "\n",
              "    .dataframe tbody tr th {\n",
              "        vertical-align: top;\n",
              "    }\n",
              "\n",
              "    .dataframe thead th {\n",
              "        text-align: right;\n",
              "    }\n",
              "</style>\n",
              "<table border=\"1\" class=\"dataframe\">\n",
              "  <thead>\n",
              "    <tr style=\"text-align: right;\">\n",
              "      <th></th>\n",
              "      <th>Sample code number</th>\n",
              "      <th>Clump Thickness</th>\n",
              "      <th>Uniformity of Cell Size</th>\n",
              "      <th>Uniformity of Cell Shape</th>\n",
              "      <th>Marginal Adhesion</th>\n",
              "      <th>Single Epithelial Cell Size</th>\n",
              "      <th>Bare Nuclei</th>\n",
              "      <th>Bland Chromatin</th>\n",
              "      <th>Normal Nucleoli</th>\n",
              "      <th>Mitoses</th>\n",
              "      <th>Class</th>\n",
              "    </tr>\n",
              "  </thead>\n",
              "  <tbody>\n",
              "    <tr>\n",
              "      <th>0</th>\n",
              "      <td>1000025</td>\n",
              "      <td>5</td>\n",
              "      <td>1</td>\n",
              "      <td>1</td>\n",
              "      <td>1</td>\n",
              "      <td>2</td>\n",
              "      <td>1</td>\n",
              "      <td>3</td>\n",
              "      <td>1</td>\n",
              "      <td>1</td>\n",
              "      <td>2</td>\n",
              "    </tr>\n",
              "    <tr>\n",
              "      <th>1</th>\n",
              "      <td>1002945</td>\n",
              "      <td>5</td>\n",
              "      <td>4</td>\n",
              "      <td>4</td>\n",
              "      <td>5</td>\n",
              "      <td>7</td>\n",
              "      <td>10</td>\n",
              "      <td>3</td>\n",
              "      <td>2</td>\n",
              "      <td>1</td>\n",
              "      <td>2</td>\n",
              "    </tr>\n",
              "    <tr>\n",
              "      <th>2</th>\n",
              "      <td>1015425</td>\n",
              "      <td>3</td>\n",
              "      <td>1</td>\n",
              "      <td>1</td>\n",
              "      <td>1</td>\n",
              "      <td>2</td>\n",
              "      <td>2</td>\n",
              "      <td>3</td>\n",
              "      <td>1</td>\n",
              "      <td>1</td>\n",
              "      <td>2</td>\n",
              "    </tr>\n",
              "    <tr>\n",
              "      <th>3</th>\n",
              "      <td>1016277</td>\n",
              "      <td>6</td>\n",
              "      <td>8</td>\n",
              "      <td>8</td>\n",
              "      <td>1</td>\n",
              "      <td>3</td>\n",
              "      <td>4</td>\n",
              "      <td>3</td>\n",
              "      <td>7</td>\n",
              "      <td>1</td>\n",
              "      <td>2</td>\n",
              "    </tr>\n",
              "    <tr>\n",
              "      <th>4</th>\n",
              "      <td>1017023</td>\n",
              "      <td>4</td>\n",
              "      <td>1</td>\n",
              "      <td>1</td>\n",
              "      <td>3</td>\n",
              "      <td>2</td>\n",
              "      <td>1</td>\n",
              "      <td>3</td>\n",
              "      <td>1</td>\n",
              "      <td>1</td>\n",
              "      <td>2</td>\n",
              "    </tr>\n",
              "  </tbody>\n",
              "</table>\n",
              "</div>"
            ],
            "text/plain": [
              "   Sample code number  Clump Thickness  ...  Mitoses  Class\n",
              "0             1000025                5  ...        1      2\n",
              "1             1002945                5  ...        1      2\n",
              "2             1015425                3  ...        1      2\n",
              "3             1016277                6  ...        1      2\n",
              "4             1017023                4  ...        1      2\n",
              "\n",
              "[5 rows x 11 columns]"
            ]
          },
          "metadata": {
            "tags": []
          },
          "execution_count": 4
        }
      ]
    },
    {
      "cell_type": "code",
      "metadata": {
        "colab": {
          "base_uri": "https://localhost:8080/"
        },
        "id": "5yfhNSqoCa6s",
        "outputId": "9148d71d-1538-499a-f1d8-a9010496da1d"
      },
      "source": [
        "dataset.isna().sum()"
      ],
      "execution_count": 5,
      "outputs": [
        {
          "output_type": "execute_result",
          "data": {
            "text/plain": [
              "Sample code number             0\n",
              "Clump Thickness                0\n",
              "Uniformity of Cell Size        0\n",
              "Uniformity of Cell Shape       0\n",
              "Marginal Adhesion              0\n",
              "Single Epithelial Cell Size    0\n",
              "Bare Nuclei                    0\n",
              "Bland Chromatin                0\n",
              "Normal Nucleoli                0\n",
              "Mitoses                        0\n",
              "Class                          0\n",
              "dtype: int64"
            ]
          },
          "metadata": {
            "tags": []
          },
          "execution_count": 5
        }
      ]
    },
    {
      "cell_type": "code",
      "metadata": {
        "id": "drwwjzPJD8pd"
      },
      "source": [
        "df = dataset"
      ],
      "execution_count": 6,
      "outputs": []
    },
    {
      "cell_type": "code",
      "metadata": {
        "colab": {
          "base_uri": "https://localhost:8080/"
        },
        "id": "o2Sx9aDUDiWd",
        "outputId": "62e8194e-2edf-400e-dd6a-b52ca781621b"
      },
      "source": [
        "df.columns"
      ],
      "execution_count": 7,
      "outputs": [
        {
          "output_type": "execute_result",
          "data": {
            "text/plain": [
              "Index(['Sample code number', 'Clump Thickness', 'Uniformity of Cell Size',\n",
              "       'Uniformity of Cell Shape', 'Marginal Adhesion',\n",
              "       'Single Epithelial Cell Size', 'Bare Nuclei', 'Bland Chromatin',\n",
              "       'Normal Nucleoli', 'Mitoses', 'Class'],\n",
              "      dtype='object')"
            ]
          },
          "metadata": {
            "tags": []
          },
          "execution_count": 7
        }
      ]
    },
    {
      "cell_type": "markdown",
      "metadata": {
        "id": "Z9TSDfbaE63u"
      },
      "source": [
        "# **4.Splitting of the Dataset**"
      ]
    },
    {
      "cell_type": "markdown",
      "metadata": {
        "id": "XbD4GN7QTH2W"
      },
      "source": [
        "Lets drop the sample code number as it is no longer necessarty for the model"
      ]
    },
    {
      "cell_type": "code",
      "metadata": {
        "id": "jtSPqbQpEFuN"
      },
      "source": [
        "x = df.iloc[:, 1:-1]\n",
        "y = df.iloc[:, -1]"
      ],
      "execution_count": 8,
      "outputs": []
    },
    {
      "cell_type": "markdown",
      "metadata": {
        "id": "_-Xr5GBGTTMu"
      },
      "source": [
        "Splitting the dataset into Dependent and Independent Variables"
      ]
    },
    {
      "cell_type": "code",
      "metadata": {
        "colab": {
          "base_uri": "https://localhost:8080/",
          "height": 224
        },
        "id": "zeBiKAEfEFro",
        "outputId": "81121f9f-2734-4061-c3a0-0c59345becb0"
      },
      "source": [
        "x.head()"
      ],
      "execution_count": 9,
      "outputs": [
        {
          "output_type": "execute_result",
          "data": {
            "text/html": [
              "<div>\n",
              "<style scoped>\n",
              "    .dataframe tbody tr th:only-of-type {\n",
              "        vertical-align: middle;\n",
              "    }\n",
              "\n",
              "    .dataframe tbody tr th {\n",
              "        vertical-align: top;\n",
              "    }\n",
              "\n",
              "    .dataframe thead th {\n",
              "        text-align: right;\n",
              "    }\n",
              "</style>\n",
              "<table border=\"1\" class=\"dataframe\">\n",
              "  <thead>\n",
              "    <tr style=\"text-align: right;\">\n",
              "      <th></th>\n",
              "      <th>Clump Thickness</th>\n",
              "      <th>Uniformity of Cell Size</th>\n",
              "      <th>Uniformity of Cell Shape</th>\n",
              "      <th>Marginal Adhesion</th>\n",
              "      <th>Single Epithelial Cell Size</th>\n",
              "      <th>Bare Nuclei</th>\n",
              "      <th>Bland Chromatin</th>\n",
              "      <th>Normal Nucleoli</th>\n",
              "      <th>Mitoses</th>\n",
              "    </tr>\n",
              "  </thead>\n",
              "  <tbody>\n",
              "    <tr>\n",
              "      <th>0</th>\n",
              "      <td>5</td>\n",
              "      <td>1</td>\n",
              "      <td>1</td>\n",
              "      <td>1</td>\n",
              "      <td>2</td>\n",
              "      <td>1</td>\n",
              "      <td>3</td>\n",
              "      <td>1</td>\n",
              "      <td>1</td>\n",
              "    </tr>\n",
              "    <tr>\n",
              "      <th>1</th>\n",
              "      <td>5</td>\n",
              "      <td>4</td>\n",
              "      <td>4</td>\n",
              "      <td>5</td>\n",
              "      <td>7</td>\n",
              "      <td>10</td>\n",
              "      <td>3</td>\n",
              "      <td>2</td>\n",
              "      <td>1</td>\n",
              "    </tr>\n",
              "    <tr>\n",
              "      <th>2</th>\n",
              "      <td>3</td>\n",
              "      <td>1</td>\n",
              "      <td>1</td>\n",
              "      <td>1</td>\n",
              "      <td>2</td>\n",
              "      <td>2</td>\n",
              "      <td>3</td>\n",
              "      <td>1</td>\n",
              "      <td>1</td>\n",
              "    </tr>\n",
              "    <tr>\n",
              "      <th>3</th>\n",
              "      <td>6</td>\n",
              "      <td>8</td>\n",
              "      <td>8</td>\n",
              "      <td>1</td>\n",
              "      <td>3</td>\n",
              "      <td>4</td>\n",
              "      <td>3</td>\n",
              "      <td>7</td>\n",
              "      <td>1</td>\n",
              "    </tr>\n",
              "    <tr>\n",
              "      <th>4</th>\n",
              "      <td>4</td>\n",
              "      <td>1</td>\n",
              "      <td>1</td>\n",
              "      <td>3</td>\n",
              "      <td>2</td>\n",
              "      <td>1</td>\n",
              "      <td>3</td>\n",
              "      <td>1</td>\n",
              "      <td>1</td>\n",
              "    </tr>\n",
              "  </tbody>\n",
              "</table>\n",
              "</div>"
            ],
            "text/plain": [
              "   Clump Thickness  Uniformity of Cell Size  ...  Normal Nucleoli  Mitoses\n",
              "0                5                        1  ...                1        1\n",
              "1                5                        4  ...                2        1\n",
              "2                3                        1  ...                1        1\n",
              "3                6                        8  ...                7        1\n",
              "4                4                        1  ...                1        1\n",
              "\n",
              "[5 rows x 9 columns]"
            ]
          },
          "metadata": {
            "tags": []
          },
          "execution_count": 9
        }
      ]
    },
    {
      "cell_type": "code",
      "metadata": {
        "colab": {
          "base_uri": "https://localhost:8080/"
        },
        "id": "JiXFNlRJEFpE",
        "outputId": "9f67eb63-462d-4d9b-b4e2-7fc2c3449b34"
      },
      "source": [
        "y.head()"
      ],
      "execution_count": 10,
      "outputs": [
        {
          "output_type": "execute_result",
          "data": {
            "text/plain": [
              "0    2\n",
              "1    2\n",
              "2    2\n",
              "3    2\n",
              "4    2\n",
              "Name: Class, dtype: int64"
            ]
          },
          "metadata": {
            "tags": []
          },
          "execution_count": 10
        }
      ]
    },
    {
      "cell_type": "markdown",
      "metadata": {
        "id": "GdE5kyY3TauN"
      },
      "source": [
        "Spliting the Dataset into Test set and Train set"
      ]
    },
    {
      "cell_type": "code",
      "metadata": {
        "id": "qQIZOSlIEFmd"
      },
      "source": [
        "from sklearn.model_selection import train_test_split\n",
        "x_train, x_test, y_train, y_test = train_test_split(x, y, test_size = 0.25, random_state = 0)"
      ],
      "execution_count": 11,
      "outputs": []
    },
    {
      "cell_type": "markdown",
      "metadata": {
        "id": "kyN2Fen5FpX0"
      },
      "source": [
        "# **5.Feature Scaling**"
      ]
    },
    {
      "cell_type": "code",
      "metadata": {
        "id": "IXLE_l_yFoFv"
      },
      "source": [
        "from sklearn.preprocessing import StandardScaler\n",
        "sc = StandardScaler()\n",
        "x_train = sc.fit_transform(x_train)\n",
        "x_test = sc.transform(x_test)"
      ],
      "execution_count": 12,
      "outputs": []
    },
    {
      "cell_type": "code",
      "metadata": {
        "colab": {
          "base_uri": "https://localhost:8080/"
        },
        "id": "i7eTeJMzH0AC",
        "outputId": "88f4301a-9451-48fc-d193-c188f41275ad"
      },
      "source": [
        "x_train[:,:3]"
      ],
      "execution_count": 42,
      "outputs": [
        {
          "output_type": "execute_result",
          "data": {
            "text/plain": [
              "array([[ 0.91903747,  0.9407658 ,  2.30881719],\n",
              "       [ 1.27578287, -0.04290763,  1.63138773],\n",
              "       [ 1.27578287,  2.25233038,  2.30881719],\n",
              "       ...,\n",
              "       [-1.22143494, -0.69868992, -0.73961536],\n",
              "       [-0.50794414, -0.69868992, -0.73961536],\n",
              "       [ 1.98927367,  1.92443923,  1.29267301]])"
            ]
          },
          "metadata": {
            "tags": []
          },
          "execution_count": 42
        }
      ]
    },
    {
      "cell_type": "code",
      "metadata": {
        "colab": {
          "base_uri": "https://localhost:8080/"
        },
        "id": "TaYnXRd2H2d0",
        "outputId": "05fb52fe-182e-4bac-ba28-aa2272a4ec1e"
      },
      "source": [
        "y_train[:10]"
      ],
      "execution_count": 44,
      "outputs": [
        {
          "output_type": "execute_result",
          "data": {
            "text/plain": [
              "556    4\n",
              "66     4\n",
              "571    4\n",
              "299    2\n",
              "355    2\n",
              "627    2\n",
              "247    4\n",
              "625    2\n",
              "529    2\n",
              "610    4\n",
              "Name: Class, dtype: int64"
            ]
          },
          "metadata": {
            "tags": []
          },
          "execution_count": 44
        }
      ]
    },
    {
      "cell_type": "markdown",
      "metadata": {
        "id": "t7vCcfU7GHfz"
      },
      "source": [
        "# **6.Training the Model with Various ML Classification Techniques**"
      ]
    },
    {
      "cell_type": "markdown",
      "metadata": {
        "id": "q5-021jMGnlk"
      },
      "source": [
        "# a. Logistic Regression"
      ]
    },
    {
      "cell_type": "code",
      "metadata": {
        "colab": {
          "base_uri": "https://localhost:8080/"
        },
        "id": "hfiOYoKIEFjt",
        "outputId": "7b51dda8-371e-4a4a-979a-edb0ef6aefa2"
      },
      "source": [
        "from sklearn.linear_model import LogisticRegression\n",
        "classifier1 = LogisticRegression(random_state = 0)\n",
        "classifier1.fit(x_train, y_train)"
      ],
      "execution_count": 15,
      "outputs": [
        {
          "output_type": "execute_result",
          "data": {
            "text/plain": [
              "LogisticRegression(C=1.0, class_weight=None, dual=False, fit_intercept=True,\n",
              "                   intercept_scaling=1, l1_ratio=None, max_iter=100,\n",
              "                   multi_class='auto', n_jobs=None, penalty='l2',\n",
              "                   random_state=0, solver='lbfgs', tol=0.0001, verbose=0,\n",
              "                   warm_start=False)"
            ]
          },
          "metadata": {
            "tags": []
          },
          "execution_count": 15
        }
      ]
    },
    {
      "cell_type": "code",
      "metadata": {
        "colab": {
          "base_uri": "https://localhost:8080/"
        },
        "id": "UOMHxhqHEFYF",
        "outputId": "717cc167-28dd-49c9-a74f-b330608b72e6"
      },
      "source": [
        "from sklearn.metrics import confusion_matrix, accuracy_score\n",
        "y_pred1 = classifier1.predict(x_test)\n",
        "cm1 = confusion_matrix(y_test, y_pred1)\n",
        "print(cm1)\n",
        "a1 = accuracy_score(y_test, y_pred1)\n",
        "print(a1)"
      ],
      "execution_count": 16,
      "outputs": [
        {
          "output_type": "stream",
          "text": [
            "[[103   4]\n",
            " [  5  59]]\n",
            "0.9473684210526315\n"
          ],
          "name": "stdout"
        }
      ]
    },
    {
      "cell_type": "markdown",
      "metadata": {
        "id": "i7KYeG69HUJc"
      },
      "source": [
        "# b. K-Nearest Neighbours(K-NN)"
      ]
    },
    {
      "cell_type": "code",
      "metadata": {
        "colab": {
          "base_uri": "https://localhost:8080/"
        },
        "id": "17QUceuWHk41",
        "outputId": "4de95fb1-9ab5-49b7-eec2-edebf810ee2b"
      },
      "source": [
        "from sklearn.neighbors import KNeighborsClassifier\n",
        "classifier2 = KNeighborsClassifier(n_neighbors = 5, metric = 'minkowski', p = 2)\n",
        "classifier2.fit(x_train, y_train)"
      ],
      "execution_count": 17,
      "outputs": [
        {
          "output_type": "execute_result",
          "data": {
            "text/plain": [
              "KNeighborsClassifier(algorithm='auto', leaf_size=30, metric='minkowski',\n",
              "                     metric_params=None, n_jobs=None, n_neighbors=5, p=2,\n",
              "                     weights='uniform')"
            ]
          },
          "metadata": {
            "tags": []
          },
          "execution_count": 17
        }
      ]
    },
    {
      "cell_type": "code",
      "metadata": {
        "colab": {
          "base_uri": "https://localhost:8080/"
        },
        "id": "Cdl8nBILIcSH",
        "outputId": "97b7bf87-f883-40f0-f5d9-f7319ff71d64"
      },
      "source": [
        "y_pred2 = classifier2.predict(x_test)\n",
        "cm2 = confusion_matrix(y_test, y_pred2)\n",
        "print(cm2)\n",
        "a2 = accuracy_score(y_test, y_pred2)\n",
        "print(a2)"
      ],
      "execution_count": 18,
      "outputs": [
        {
          "output_type": "stream",
          "text": [
            "[[103   4]\n",
            " [  5  59]]\n",
            "0.9473684210526315\n"
          ],
          "name": "stdout"
        }
      ]
    },
    {
      "cell_type": "markdown",
      "metadata": {
        "id": "8YTec7S7I7j6"
      },
      "source": [
        "# c. Naive Bayes"
      ]
    },
    {
      "cell_type": "code",
      "metadata": {
        "colab": {
          "base_uri": "https://localhost:8080/"
        },
        "id": "KX1uJ9FhJExt",
        "outputId": "813aa932-dda7-4918-a347-d1ae3d5f7549"
      },
      "source": [
        "from sklearn.naive_bayes import GaussianNB\n",
        "classifier3 = GaussianNB()\n",
        "classifier3.fit(x_train, y_train)"
      ],
      "execution_count": 19,
      "outputs": [
        {
          "output_type": "execute_result",
          "data": {
            "text/plain": [
              "GaussianNB(priors=None, var_smoothing=1e-09)"
            ]
          },
          "metadata": {
            "tags": []
          },
          "execution_count": 19
        }
      ]
    },
    {
      "cell_type": "code",
      "metadata": {
        "colab": {
          "base_uri": "https://localhost:8080/"
        },
        "id": "vd5eEnm0JGz5",
        "outputId": "b6d34eff-b675-42e6-daeb-aeeeca3f4bb7"
      },
      "source": [
        "y_pred3 = classifier3.predict(x_test)\n",
        "cm3 = confusion_matrix(y_test, y_pred3)\n",
        "print(cm3)\n",
        "a3 = accuracy_score(y_test, y_pred3)\n",
        "print(a3)"
      ],
      "execution_count": 21,
      "outputs": [
        {
          "output_type": "stream",
          "text": [
            "[[99  8]\n",
            " [ 2 62]]\n",
            "0.9415204678362573\n"
          ],
          "name": "stdout"
        }
      ]
    },
    {
      "cell_type": "markdown",
      "metadata": {
        "id": "fqGBkN87J1--"
      },
      "source": [
        "# d. Support Vector Machine (SVM)"
      ]
    },
    {
      "cell_type": "code",
      "metadata": {
        "colab": {
          "base_uri": "https://localhost:8080/"
        },
        "id": "AHrlfbH9J94t",
        "outputId": "de92d64a-0171-4ae2-cbf0-81275e81f9a8"
      },
      "source": [
        "from sklearn.svm import SVC\n",
        "classifier4 = SVC(kernel = 'linear', random_state = 0)\n",
        "classifier4.fit(x_train, y_train)"
      ],
      "execution_count": 22,
      "outputs": [
        {
          "output_type": "execute_result",
          "data": {
            "text/plain": [
              "SVC(C=1.0, break_ties=False, cache_size=200, class_weight=None, coef0=0.0,\n",
              "    decision_function_shape='ovr', degree=3, gamma='scale', kernel='linear',\n",
              "    max_iter=-1, probability=False, random_state=0, shrinking=True, tol=0.001,\n",
              "    verbose=False)"
            ]
          },
          "metadata": {
            "tags": []
          },
          "execution_count": 22
        }
      ]
    },
    {
      "cell_type": "code",
      "metadata": {
        "colab": {
          "base_uri": "https://localhost:8080/"
        },
        "id": "hmx-dBFkKCKN",
        "outputId": "61e13c4c-091b-4c5b-fba9-f277b205a70c"
      },
      "source": [
        "y_pred4 = classifier4.predict(x_test)\n",
        "cm4 = confusion_matrix(y_test, y_pred4)\n",
        "print(cm4)\n",
        "a4 = accuracy_score(y_test, y_pred4)\n",
        "print(a4)"
      ],
      "execution_count": 24,
      "outputs": [
        {
          "output_type": "stream",
          "text": [
            "[[102   5]\n",
            " [  5  59]]\n",
            "0.9415204678362573\n"
          ],
          "name": "stdout"
        }
      ]
    },
    {
      "cell_type": "markdown",
      "metadata": {
        "id": "y96qwhmgKfqf"
      },
      "source": [
        "# e. Kernel Support Vector Machine (KSVM)"
      ]
    },
    {
      "cell_type": "code",
      "metadata": {
        "colab": {
          "base_uri": "https://localhost:8080/"
        },
        "id": "y_r-ghGbKr-1",
        "outputId": "e2a96ff3-c932-4355-fb57-aa8a56d85d83"
      },
      "source": [
        "from sklearn.svm import SVC\n",
        "classifier5 = SVC(kernel = 'rbf', random_state = 0)\n",
        "classifier5.fit(x_train, y_train)"
      ],
      "execution_count": 26,
      "outputs": [
        {
          "output_type": "execute_result",
          "data": {
            "text/plain": [
              "SVC(C=1.0, break_ties=False, cache_size=200, class_weight=None, coef0=0.0,\n",
              "    decision_function_shape='ovr', degree=3, gamma='scale', kernel='rbf',\n",
              "    max_iter=-1, probability=False, random_state=0, shrinking=True, tol=0.001,\n",
              "    verbose=False)"
            ]
          },
          "metadata": {
            "tags": []
          },
          "execution_count": 26
        }
      ]
    },
    {
      "cell_type": "code",
      "metadata": {
        "colab": {
          "base_uri": "https://localhost:8080/"
        },
        "id": "rPewMHD6KscY",
        "outputId": "106b799b-ef65-4345-9b2f-fd56cef29f41"
      },
      "source": [
        "y_pred5 = classifier5.predict(x_test)\n",
        "cm5 = confusion_matrix(y_test, y_pred5)\n",
        "print(cm5)\n",
        "a5 = accuracy_score(y_test, y_pred5)\n",
        "print(a5)"
      ],
      "execution_count": 27,
      "outputs": [
        {
          "output_type": "stream",
          "text": [
            "[[101   6]\n",
            " [  3  61]]\n",
            "0.9473684210526315\n"
          ],
          "name": "stdout"
        }
      ]
    },
    {
      "cell_type": "markdown",
      "metadata": {
        "id": "14N37hVQLS1E"
      },
      "source": [
        "# f. Decision Tree Classification"
      ]
    },
    {
      "cell_type": "code",
      "metadata": {
        "colab": {
          "base_uri": "https://localhost:8080/"
        },
        "id": "N9v9WRzTLSGN",
        "outputId": "f7085576-7055-430c-b6a3-8b12d0eff3c3"
      },
      "source": [
        "from sklearn.tree import DecisionTreeClassifier\n",
        "classifier6 = DecisionTreeClassifier(criterion = 'entropy', random_state = 0)\n",
        "classifier6.fit(x_train, y_train)"
      ],
      "execution_count": 28,
      "outputs": [
        {
          "output_type": "execute_result",
          "data": {
            "text/plain": [
              "DecisionTreeClassifier(ccp_alpha=0.0, class_weight=None, criterion='entropy',\n",
              "                       max_depth=None, max_features=None, max_leaf_nodes=None,\n",
              "                       min_impurity_decrease=0.0, min_impurity_split=None,\n",
              "                       min_samples_leaf=1, min_samples_split=2,\n",
              "                       min_weight_fraction_leaf=0.0, presort='deprecated',\n",
              "                       random_state=0, splitter='best')"
            ]
          },
          "metadata": {
            "tags": []
          },
          "execution_count": 28
        }
      ]
    },
    {
      "cell_type": "code",
      "metadata": {
        "colab": {
          "base_uri": "https://localhost:8080/"
        },
        "id": "Cw7yAyxSLaRl",
        "outputId": "406b3a1f-232a-486e-be38-c8ce6471c4ba"
      },
      "source": [
        "y_pred6 = classifier6.predict(x_test)\n",
        "cm6 = confusion_matrix(y_test, y_pred6)\n",
        "print(cm6)\n",
        "a6 = accuracy_score(y_test, y_pred6)\n",
        "print(a6)"
      ],
      "execution_count": 30,
      "outputs": [
        {
          "output_type": "stream",
          "text": [
            "[[104   3]\n",
            " [  4  60]]\n",
            "0.9590643274853801\n"
          ],
          "name": "stdout"
        }
      ]
    },
    {
      "cell_type": "markdown",
      "metadata": {
        "id": "aiIDHbsfLswx"
      },
      "source": [
        "# g. Random Forest Classification"
      ]
    },
    {
      "cell_type": "code",
      "metadata": {
        "colab": {
          "base_uri": "https://localhost:8080/"
        },
        "id": "0ibpkSSPLwb5",
        "outputId": "e4df4ca6-6724-4d4d-e6d1-e36d602b11ec"
      },
      "source": [
        "from sklearn.ensemble import RandomForestClassifier\n",
        "classifier7 = RandomForestClassifier(n_estimators = 10, criterion = 'entropy', random_state = 0)\n",
        "classifier7.fit(x_train, y_train)"
      ],
      "execution_count": 31,
      "outputs": [
        {
          "output_type": "execute_result",
          "data": {
            "text/plain": [
              "RandomForestClassifier(bootstrap=True, ccp_alpha=0.0, class_weight=None,\n",
              "                       criterion='entropy', max_depth=None, max_features='auto',\n",
              "                       max_leaf_nodes=None, max_samples=None,\n",
              "                       min_impurity_decrease=0.0, min_impurity_split=None,\n",
              "                       min_samples_leaf=1, min_samples_split=2,\n",
              "                       min_weight_fraction_leaf=0.0, n_estimators=10,\n",
              "                       n_jobs=None, oob_score=False, random_state=0, verbose=0,\n",
              "                       warm_start=False)"
            ]
          },
          "metadata": {
            "tags": []
          },
          "execution_count": 31
        }
      ]
    },
    {
      "cell_type": "code",
      "metadata": {
        "colab": {
          "base_uri": "https://localhost:8080/"
        },
        "id": "rTQaa-A7Lwtm",
        "outputId": "fbaf7959-eda7-4f9b-d922-e8c9674e7473"
      },
      "source": [
        "y_pred7 = classifier7.predict(x_test)\n",
        "cm7 = confusion_matrix(y_test, y_pred7)\n",
        "print(cm7)\n",
        "a7 = accuracy_score(y_test, y_pred7)\n",
        "print(a7)"
      ],
      "execution_count": 32,
      "outputs": [
        {
          "output_type": "stream",
          "text": [
            "[[104   3]\n",
            " [  5  59]]\n",
            "0.9532163742690059\n"
          ],
          "name": "stdout"
        }
      ]
    },
    {
      "cell_type": "markdown",
      "metadata": {
        "id": "m88LOKq5Mf8d"
      },
      "source": [
        "# **7.Aggregation of Results**"
      ]
    },
    {
      "cell_type": "code",
      "metadata": {
        "colab": {
          "base_uri": "https://localhost:8080/"
        },
        "id": "wpNsqhq0Mt0l",
        "outputId": "ee8a163c-ca3c-47b4-e8ba-948728d50768"
      },
      "source": [
        "print('Classification Technique' ,' | ', 'Accuracy Score',' | ','Confusion Matrix')\n",
        "print('Logistic Regression', ' :               ',a1)\n",
        "print(cm1)\n",
        "print('K-Nearest Neighbours(K-NN)',' :         ',a2)\n",
        "print(cm2)\n",
        "print('Naive Bayes',' :                        ',a3)\n",
        "print(cm3)\n",
        "print('Support Vector Machine (SVM)',' :        ',a4)\n",
        "print(cm4)\n",
        "print('Kernel Support Vector Machine (KSVM)',' : ',a5)\n",
        "print(cm5)\n",
        "print('Decision Tree Classification',' :          ',a6)\n",
        "print(cm6)\n",
        "print('Random Forest Classification',' :         ',a7)\n",
        "print(cm7)\n"
      ],
      "execution_count": 40,
      "outputs": [
        {
          "output_type": "stream",
          "text": [
            "Classification Technique  |  Accuracy Score  |  Confusion Matrix\n",
            "Logistic Regression  :                0.9473684210526315\n",
            "[[103   4]\n",
            " [  5  59]]\n",
            "K-Nearest Neighbours(K-NN)  :          0.9473684210526315\n",
            "[[103   4]\n",
            " [  5  59]]\n",
            "Naive Bayes  :                         0.9415204678362573\n",
            "[[99  8]\n",
            " [ 2 62]]\n",
            "Support Vector Machine (SVM)  :         0.9415204678362573\n",
            "[[102   5]\n",
            " [  5  59]]\n",
            "Kernel Support Vector Machine (KSVM)  :  0.9473684210526315\n",
            "[[101   6]\n",
            " [  3  61]]\n",
            "Decision Tree Classification  :           0.9590643274853801\n",
            "[[104   3]\n",
            " [  4  60]]\n",
            "Random Forest Classification  :          0.9532163742690059\n",
            "[[104   3]\n",
            " [  5  59]]\n"
          ],
          "name": "stdout"
        }
      ]
    },
    {
      "cell_type": "markdown",
      "metadata": {
        "id": "jESbwa8BU2XW"
      },
      "source": [
        "**From the Above we can see the Decision Tree Classsification has the Highest Accuracy score . But this differs according to nature of the dataset. Generally KSVM and Random Forest Classification give pretty high results. Ofcourse Each Technique has its own Pros and Cons.I personally choose SVM and KSVM for most problems since they avoid the problem of overfitting and still give pretty high accuracy.**"
      ]
    },
    {
      "cell_type": "markdown",
      "metadata": {
        "id": "er5diS7IVPj4"
      },
      "source": [
        "**If your problem is linear, you should go for Logistic Regression or SVM.\n",
        "If your problem is non linear, you should go for K-NN, Naive Bayes, Decision Tree or Random Forest.**"
      ]
    }
  ]
}