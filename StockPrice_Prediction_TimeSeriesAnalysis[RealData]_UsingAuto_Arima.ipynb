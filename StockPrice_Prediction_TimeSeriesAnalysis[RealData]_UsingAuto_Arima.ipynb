{
  "nbformat": 4,
  "nbformat_minor": 0,
  "metadata": {
    "colab": {
      "name": "StockPrice Prediction_TimeSeriesAnalysis[RealData]_UsingAuto-Arima.ipynb",
      "provenance": [],
      "collapsed_sections": [],
      "authorship_tag": "ABX9TyOlfI1pzva/JZvZQAg6jh5z",
      "include_colab_link": true
    },
    "kernelspec": {
      "name": "python3",
      "display_name": "Python 3"
    },
    "language_info": {
      "name": "python"
    }
  },
  "cells": [
    {
      "cell_type": "markdown",
      "metadata": {
        "id": "view-in-github",
        "colab_type": "text"
      },
      "source": [
        "<a href=\"https://colab.research.google.com/github/Nirmalkumar1911/IndepVAR/blob/main/StockPrice_Prediction_TimeSeriesAnalysis%5BRealData%5D_UsingAuto_Arima.ipynb\" target=\"_parent\"><img src=\"https://colab.research.google.com/assets/colab-badge.svg\" alt=\"Open In Colab\"/></a>"
      ]
    },
    {
      "cell_type": "markdown",
      "metadata": {
        "id": "9dzs83hUZmWt"
      },
      "source": [
        "**Business Problem** : You work for a Hedge Fund company in India.Your Employer wants you to Predict the Stock price of **Bajaj Finances** , so that he can choose whether to Invest in it or not.He gives you the Historic Data of BAJFINANCES to create a Model to predict the Stock Price."
      ]
    },
    {
      "cell_type": "markdown",
      "metadata": {
        "id": "wbHTZJEKZlx2"
      },
      "source": [
        "**1.Importing Libraries**"
      ]
    },
    {
      "cell_type": "code",
      "metadata": {
        "id": "OLqwoBbgYPlJ"
      },
      "source": [
        "import pandas as pd\n",
        "import numpy as np\n",
        "import seaborn as sns\n",
        "import matplotlib.pyplot as plt"
      ],
      "execution_count": 1,
      "outputs": []
    },
    {
      "cell_type": "markdown",
      "metadata": {
        "id": "Udk_nxWKZpgl"
      },
      "source": [
        "**2.Importing Dataset**"
      ]
    },
    {
      "cell_type": "code",
      "metadata": {
        "colab": {
          "base_uri": "https://localhost:8080/",
          "height": 244
        },
        "id": "E2VQGl7uZqBL",
        "outputId": "a7c997a6-159e-4bab-e1bc-c4bfac0fcb55"
      },
      "source": [
        "df=pd.read_csv('BAJFINANCE.csv')\n",
        "df.head()"
      ],
      "execution_count": 2,
      "outputs": [
        {
          "output_type": "execute_result",
          "data": {
            "text/html": [
              "<div>\n",
              "<style scoped>\n",
              "    .dataframe tbody tr th:only-of-type {\n",
              "        vertical-align: middle;\n",
              "    }\n",
              "\n",
              "    .dataframe tbody tr th {\n",
              "        vertical-align: top;\n",
              "    }\n",
              "\n",
              "    .dataframe thead th {\n",
              "        text-align: right;\n",
              "    }\n",
              "</style>\n",
              "<table border=\"1\" class=\"dataframe\">\n",
              "  <thead>\n",
              "    <tr style=\"text-align: right;\">\n",
              "      <th></th>\n",
              "      <th>Date</th>\n",
              "      <th>Symbol</th>\n",
              "      <th>Series</th>\n",
              "      <th>Prev Close</th>\n",
              "      <th>Open</th>\n",
              "      <th>High</th>\n",
              "      <th>Low</th>\n",
              "      <th>Last</th>\n",
              "      <th>Close</th>\n",
              "      <th>VWAP</th>\n",
              "      <th>Volume</th>\n",
              "      <th>Turnover</th>\n",
              "      <th>Trades</th>\n",
              "      <th>Deliverable Volume</th>\n",
              "      <th>%Deliverble</th>\n",
              "    </tr>\n",
              "  </thead>\n",
              "  <tbody>\n",
              "    <tr>\n",
              "      <th>0</th>\n",
              "      <td>2000-01-03</td>\n",
              "      <td>BAJAUTOFIN</td>\n",
              "      <td>EQ</td>\n",
              "      <td>46.95</td>\n",
              "      <td>49.45</td>\n",
              "      <td>50.75</td>\n",
              "      <td>46.5</td>\n",
              "      <td>50.75</td>\n",
              "      <td>50.75</td>\n",
              "      <td>50.05</td>\n",
              "      <td>7600</td>\n",
              "      <td>3.803800e+10</td>\n",
              "      <td>NaN</td>\n",
              "      <td>NaN</td>\n",
              "      <td>NaN</td>\n",
              "    </tr>\n",
              "    <tr>\n",
              "      <th>1</th>\n",
              "      <td>2000-01-04</td>\n",
              "      <td>BAJAUTOFIN</td>\n",
              "      <td>EQ</td>\n",
              "      <td>50.75</td>\n",
              "      <td>53.20</td>\n",
              "      <td>53.20</td>\n",
              "      <td>47.9</td>\n",
              "      <td>48.00</td>\n",
              "      <td>48.10</td>\n",
              "      <td>48.56</td>\n",
              "      <td>5000</td>\n",
              "      <td>2.428000e+10</td>\n",
              "      <td>NaN</td>\n",
              "      <td>NaN</td>\n",
              "      <td>NaN</td>\n",
              "    </tr>\n",
              "    <tr>\n",
              "      <th>2</th>\n",
              "      <td>2000-01-05</td>\n",
              "      <td>BAJAUTOFIN</td>\n",
              "      <td>EQ</td>\n",
              "      <td>48.10</td>\n",
              "      <td>46.55</td>\n",
              "      <td>47.40</td>\n",
              "      <td>44.6</td>\n",
              "      <td>44.60</td>\n",
              "      <td>44.60</td>\n",
              "      <td>45.47</td>\n",
              "      <td>3500</td>\n",
              "      <td>1.591450e+10</td>\n",
              "      <td>NaN</td>\n",
              "      <td>NaN</td>\n",
              "      <td>NaN</td>\n",
              "    </tr>\n",
              "    <tr>\n",
              "      <th>3</th>\n",
              "      <td>2000-01-06</td>\n",
              "      <td>BAJAUTOFIN</td>\n",
              "      <td>EQ</td>\n",
              "      <td>44.60</td>\n",
              "      <td>43.50</td>\n",
              "      <td>46.00</td>\n",
              "      <td>42.1</td>\n",
              "      <td>46.00</td>\n",
              "      <td>45.25</td>\n",
              "      <td>44.43</td>\n",
              "      <td>6200</td>\n",
              "      <td>2.754750e+10</td>\n",
              "      <td>NaN</td>\n",
              "      <td>NaN</td>\n",
              "      <td>NaN</td>\n",
              "    </tr>\n",
              "    <tr>\n",
              "      <th>4</th>\n",
              "      <td>2000-01-07</td>\n",
              "      <td>BAJAUTOFIN</td>\n",
              "      <td>EQ</td>\n",
              "      <td>45.25</td>\n",
              "      <td>48.00</td>\n",
              "      <td>48.00</td>\n",
              "      <td>42.0</td>\n",
              "      <td>42.90</td>\n",
              "      <td>42.90</td>\n",
              "      <td>44.44</td>\n",
              "      <td>3500</td>\n",
              "      <td>1.555550e+10</td>\n",
              "      <td>NaN</td>\n",
              "      <td>NaN</td>\n",
              "      <td>NaN</td>\n",
              "    </tr>\n",
              "  </tbody>\n",
              "</table>\n",
              "</div>"
            ],
            "text/plain": [
              "         Date      Symbol Series  ...  Trades  Deliverable Volume  %Deliverble\n",
              "0  2000-01-03  BAJAUTOFIN     EQ  ...     NaN                 NaN          NaN\n",
              "1  2000-01-04  BAJAUTOFIN     EQ  ...     NaN                 NaN          NaN\n",
              "2  2000-01-05  BAJAUTOFIN     EQ  ...     NaN                 NaN          NaN\n",
              "3  2000-01-06  BAJAUTOFIN     EQ  ...     NaN                 NaN          NaN\n",
              "4  2000-01-07  BAJAUTOFIN     EQ  ...     NaN                 NaN          NaN\n",
              "\n",
              "[5 rows x 15 columns]"
            ]
          },
          "metadata": {
            "tags": []
          },
          "execution_count": 2
        }
      ]
    },
    {
      "cell_type": "markdown",
      "metadata": {
        "id": "4zAza5PyaFt-"
      },
      "source": [
        "**3.Preliminary Analysis and Missing value Detection & Rectification**"
      ]
    },
    {
      "cell_type": "code",
      "metadata": {
        "id": "ZYZXWxePaGXm"
      },
      "source": [
        "df.set_index('Date',inplace=True)"
      ],
      "execution_count": 3,
      "outputs": []
    },
    {
      "cell_type": "code",
      "metadata": {
        "colab": {
          "base_uri": "https://localhost:8080/",
          "height": 300
        },
        "id": "B5V6aouia5zV",
        "outputId": "f60fec7e-db41-4e38-97b9-638831e30e74"
      },
      "source": [
        "# Lets just see an Overview of how the Stock Price changes in Time #\n",
        "df['VWAP'].plot()"
      ],
      "execution_count": 4,
      "outputs": [
        {
          "output_type": "execute_result",
          "data": {
            "text/plain": [
              "<matplotlib.axes._subplots.AxesSubplot at 0x7f2b20a9f950>"
            ]
          },
          "metadata": {
            "tags": []
          },
          "execution_count": 4
        },
        {
          "output_type": "display_data",
          "data": {
            "image/png": "[encoded data removed]",
            "text/plain": [
              "<Figure size 432x288 with 1 Axes>"
            ]
          },
          "metadata": {
            "tags": [],
            "needs_background": "light"
          }
        }
      ]
    },
    {
      "cell_type": "code",
      "metadata": {
        "colab": {
          "base_uri": "https://localhost:8080/"
        },
        "id": "syyWtRKLbLrk",
        "outputId": "44467fa8-f8d0-4d45-8af8-67e082b16f94"
      },
      "source": [
        "df.shape"
      ],
      "execution_count": 5,
      "outputs": [
        {
          "output_type": "execute_result",
          "data": {
            "text/plain": [
              "(5070, 14)"
            ]
          },
          "metadata": {
            "tags": []
          },
          "execution_count": 5
        }
      ]
    },
    {
      "cell_type": "code",
      "metadata": {
        "colab": {
          "base_uri": "https://localhost:8080/"
        },
        "id": "vrQYu4ohbOl2",
        "outputId": "8af20870-cd10-4caf-af90-9f6731e2299b"
      },
      "source": [
        "# Null value Detection #\n",
        "df.isna().sum()"
      ],
      "execution_count": 6,
      "outputs": [
        {
          "output_type": "execute_result",
          "data": {
            "text/plain": [
              "Symbol                   0\n",
              "Series                   0\n",
              "Prev Close               0\n",
              "Open                     0\n",
              "High                     0\n",
              "Low                      0\n",
              "Last                     0\n",
              "Close                    0\n",
              "VWAP                     0\n",
              "Volume                   0\n",
              "Turnover                 0\n",
              "Trades                2779\n",
              "Deliverable Volume     446\n",
              "%Deliverble            446\n",
              "dtype: int64"
            ]
          },
          "metadata": {
            "tags": []
          },
          "execution_count": 6
        }
      ]
    },
    {
      "cell_type": "code",
      "metadata": {
        "id": "KsdEu0NsbOi8"
      },
      "source": [
        "# We drop the column Trades as almost half of it is Missing #\n",
        "df.drop('Trades',axis=1,inplace=True)"
      ],
      "execution_count": 7,
      "outputs": []
    },
    {
      "cell_type": "code",
      "metadata": {
        "id": "Uu_c6IaMdx61"
      },
      "source": [
        "# Lets just drop the rest of the missing values as they are not present from the beginning upto row no. 446 #\n",
        "# If they were missing inbetween rather that From the beginning , we could have used Imputation methods like Mean/Moving Avg to fill it #\n",
        "df.dropna(inplace=True)"
      ],
      "execution_count": 8,
      "outputs": []
    },
    {
      "cell_type": "code",
      "metadata": {
        "colab": {
          "base_uri": "https://localhost:8080/"
        },
        "id": "BYM8Oyt5d6Fs",
        "outputId": "5e38c41d-be64-4614-f81b-6833232f9858"
      },
      "source": [
        "df.isna().sum()"
      ],
      "execution_count": 9,
      "outputs": [
        {
          "output_type": "execute_result",
          "data": {
            "text/plain": [
              "Symbol                0\n",
              "Series                0\n",
              "Prev Close            0\n",
              "Open                  0\n",
              "High                  0\n",
              "Low                   0\n",
              "Last                  0\n",
              "Close                 0\n",
              "VWAP                  0\n",
              "Volume                0\n",
              "Turnover              0\n",
              "Deliverable Volume    0\n",
              "%Deliverble           0\n",
              "dtype: int64"
            ]
          },
          "metadata": {
            "tags": []
          },
          "execution_count": 9
        }
      ]
    },
    {
      "cell_type": "code",
      "metadata": {
        "colab": {
          "base_uri": "https://localhost:8080/"
        },
        "id": "9tgNz6XzeFXR",
        "outputId": "fac1716b-b6ec-4d07-d970-a2c5612fc391"
      },
      "source": [
        "# The problem of missing values is Over and the new Shape is given below #\n",
        "df.shape"
      ],
      "execution_count": 10,
      "outputs": [
        {
          "output_type": "execute_result",
          "data": {
            "text/plain": [
              "(4624, 13)"
            ]
          },
          "metadata": {
            "tags": []
          },
          "execution_count": 10
        }
      ]
    },
    {
      "cell_type": "code",
      "metadata": {
        "id": "lDcyqKQueK_9"
      },
      "source": [
        "data=df.copy()"
      ],
      "execution_count": 11,
      "outputs": []
    },
    {
      "cell_type": "code",
      "metadata": {
        "colab": {
          "base_uri": "https://localhost:8080/"
        },
        "id": "ud1AEaQoeMlj",
        "outputId": "648575bb-2637-423f-fa20-0ec24c97efa1"
      },
      "source": [
        "data.dtypes"
      ],
      "execution_count": 12,
      "outputs": [
        {
          "output_type": "execute_result",
          "data": {
            "text/plain": [
              "Symbol                 object\n",
              "Series                 object\n",
              "Prev Close            float64\n",
              "Open                  float64\n",
              "High                  float64\n",
              "Low                   float64\n",
              "Last                  float64\n",
              "Close                 float64\n",
              "VWAP                  float64\n",
              "Volume                  int64\n",
              "Turnover              float64\n",
              "Deliverable Volume    float64\n",
              "%Deliverble           float64\n",
              "dtype: object"
            ]
          },
          "metadata": {
            "tags": []
          },
          "execution_count": 12
        }
      ]
    },
    {
      "cell_type": "markdown",
      "metadata": {
        "id": "H9EMwD3ogbjJ"
      },
      "source": [
        "**4.Creation of the Rolling Statistic**"
      ]
    },
    {
      "cell_type": "markdown",
      "metadata": {
        "id": "Ac7gWX5T2Fhz"
      },
      "source": [
        "A rolling analysis of a time series model is often used to assess the model’s stability over time. When analyzing financial time series data using a statistical model, a key assumption is that the parameters of the model are constant over time. However, the economic environment often changes considerably, and it may not be reasonable to assume that a model’s parameters are constant. A common technique to assess the constancy of a model’s parameters is to compute parameter estimates over a rolling window of a fixed size through the sample. If the parameters are truly constant over the entire sample, then the estimates over the rolling windows should not be too different. If the parameters change at some point during the sample, then the rolling estimates should capture this instability."
      ]
    },
    {
      "cell_type": "code",
      "metadata": {
        "colab": {
          "base_uri": "https://localhost:8080/"
        },
        "id": "vn2EqoyReMiZ",
        "outputId": "3bc02c5f-821f-4bb6-f4fd-4b4d5aeddbf8"
      },
      "source": [
        "data.columns"
      ],
      "execution_count": 13,
      "outputs": [
        {
          "output_type": "execute_result",
          "data": {
            "text/plain": [
              "Index(['Symbol', 'Series', 'Prev Close', 'Open', 'High', 'Low', 'Last',\n",
              "       'Close', 'VWAP', 'Volume', 'Turnover', 'Deliverable Volume',\n",
              "       '%Deliverble'],\n",
              "      dtype='object')"
            ]
          },
          "metadata": {
            "tags": []
          },
          "execution_count": 13
        }
      ]
    },
    {
      "cell_type": "code",
      "metadata": {
        "id": "kxnMHDcYeMc3"
      },
      "source": [
        "lag_features=['High','Low','Volume','Turnover']\n",
        "window1=3\n",
        "window2=7"
      ],
      "execution_count": 14,
      "outputs": []
    },
    {
      "cell_type": "code",
      "metadata": {
        "id": "6ZSTG8TueMSt"
      },
      "source": [
        "for feature in lag_features:\n",
        "    data[feature+'rolling_mean_3']=data[feature].rolling(window=window1).mean()\n",
        "    data[feature+'rolling_mean_7']=data[feature].rolling(window=window2).mean()"
      ],
      "execution_count": 15,
      "outputs": []
    },
    {
      "cell_type": "code",
      "metadata": {
        "id": "_2e__ZAjgmAA"
      },
      "source": [
        "for feature in lag_features:\n",
        "    data[feature+'rolling_std_3']=data[feature].rolling(window=window1).std()\n",
        "    data[feature+'rolling_std_7']=data[feature].rolling(window=window2).std()"
      ],
      "execution_count": 16,
      "outputs": []
    },
    {
      "cell_type": "code",
      "metadata": {
        "colab": {
          "base_uri": "https://localhost:8080/",
          "height": 275
        },
        "id": "gH-cOfXlgl18",
        "outputId": "062496ff-f2fc-4694-aa75-b3fdb3113f19"
      },
      "source": [
        "data.head()"
      ],
      "execution_count": 17,
      "outputs": [
        {
          "output_type": "execute_result",
          "data": {
            "text/html": [
              "<div>\n",
              "<style scoped>\n",
              "    .dataframe tbody tr th:only-of-type {\n",
              "        vertical-align: middle;\n",
              "    }\n",
              "\n",
              "    .dataframe tbody tr th {\n",
              "        vertical-align: top;\n",
              "    }\n",
              "\n",
              "    .dataframe thead th {\n",
              "        text-align: right;\n",
              "    }\n",
              "</style>\n",
              "<table border=\"1\" class=\"dataframe\">\n",
              "  <thead>\n",
              "    <tr style=\"text-align: right;\">\n",
              "      <th></th>\n",
              "      <th>Symbol</th>\n",
              "      <th>Series</th>\n",
              "      <th>Prev Close</th>\n",
              "      <th>Open</th>\n",
              "      <th>High</th>\n",
              "      <th>Low</th>\n",
              "      <th>Last</th>\n",
              "      <th>Close</th>\n",
              "      <th>VWAP</th>\n",
              "      <th>Volume</th>\n",
              "      <th>Turnover</th>\n",
              "      <th>Deliverable Volume</th>\n",
              "      <th>%Deliverble</th>\n",
              "      <th>Highrolling_mean_3</th>\n",
              "      <th>Highrolling_mean_7</th>\n",
              "      <th>Lowrolling_mean_3</th>\n",
              "      <th>Lowrolling_mean_7</th>\n",
              "      <th>Volumerolling_mean_3</th>\n",
              "      <th>Volumerolling_mean_7</th>\n",
              "      <th>Turnoverrolling_mean_3</th>\n",
              "      <th>Turnoverrolling_mean_7</th>\n",
              "      <th>Highrolling_std_3</th>\n",
              "      <th>Highrolling_std_7</th>\n",
              "      <th>Lowrolling_std_3</th>\n",
              "      <th>Lowrolling_std_7</th>\n",
              "      <th>Volumerolling_std_3</th>\n",
              "      <th>Volumerolling_std_7</th>\n",
              "      <th>Turnoverrolling_std_3</th>\n",
              "      <th>Turnoverrolling_std_7</th>\n",
              "    </tr>\n",
              "    <tr>\n",
              "      <th>Date</th>\n",
              "      <th></th>\n",
              "      <th></th>\n",
              "      <th></th>\n",
              "      <th></th>\n",
              "      <th></th>\n",
              "      <th></th>\n",
              "      <th></th>\n",
              "      <th></th>\n",
              "      <th></th>\n",
              "      <th></th>\n",
              "      <th></th>\n",
              "      <th></th>\n",
              "      <th></th>\n",
              "      <th></th>\n",
              "      <th></th>\n",
              "      <th></th>\n",
              "      <th></th>\n",
              "      <th></th>\n",
              "      <th></th>\n",
              "      <th></th>\n",
              "      <th></th>\n",
              "      <th></th>\n",
              "      <th></th>\n",
              "      <th></th>\n",
              "      <th></th>\n",
              "      <th></th>\n",
              "      <th></th>\n",
              "      <th></th>\n",
              "      <th></th>\n",
              "    </tr>\n",
              "  </thead>\n",
              "  <tbody>\n",
              "    <tr>\n",
              "      <th>2002-01-01</th>\n",
              "      <td>BAJAUTOFIN</td>\n",
              "      <td>EQ</td>\n",
              "      <td>33.55</td>\n",
              "      <td>33.60</td>\n",
              "      <td>34.00</td>\n",
              "      <td>33.00</td>\n",
              "      <td>34.00</td>\n",
              "      <td>34.00</td>\n",
              "      <td>33.84</td>\n",
              "      <td>500</td>\n",
              "      <td>1.691750e+09</td>\n",
              "      <td>450.0</td>\n",
              "      <td>0.9000</td>\n",
              "      <td>NaN</td>\n",
              "      <td>NaN</td>\n",
              "      <td>NaN</td>\n",
              "      <td>NaN</td>\n",
              "      <td>NaN</td>\n",
              "      <td>NaN</td>\n",
              "      <td>NaN</td>\n",
              "      <td>NaN</td>\n",
              "      <td>NaN</td>\n",
              "      <td>NaN</td>\n",
              "      <td>NaN</td>\n",
              "      <td>NaN</td>\n",
              "      <td>NaN</td>\n",
              "      <td>NaN</td>\n",
              "      <td>NaN</td>\n",
              "      <td>NaN</td>\n",
              "    </tr>\n",
              "    <tr>\n",
              "      <th>2002-01-02</th>\n",
              "      <td>BAJAUTOFIN</td>\n",
              "      <td>EQ</td>\n",
              "      <td>34.00</td>\n",
              "      <td>34.85</td>\n",
              "      <td>34.85</td>\n",
              "      <td>33.85</td>\n",
              "      <td>34.20</td>\n",
              "      <td>34.20</td>\n",
              "      <td>33.97</td>\n",
              "      <td>1448</td>\n",
              "      <td>4.918660e+09</td>\n",
              "      <td>1348.0</td>\n",
              "      <td>0.9309</td>\n",
              "      <td>NaN</td>\n",
              "      <td>NaN</td>\n",
              "      <td>NaN</td>\n",
              "      <td>NaN</td>\n",
              "      <td>NaN</td>\n",
              "      <td>NaN</td>\n",
              "      <td>NaN</td>\n",
              "      <td>NaN</td>\n",
              "      <td>NaN</td>\n",
              "      <td>NaN</td>\n",
              "      <td>NaN</td>\n",
              "      <td>NaN</td>\n",
              "      <td>NaN</td>\n",
              "      <td>NaN</td>\n",
              "      <td>NaN</td>\n",
              "      <td>NaN</td>\n",
              "    </tr>\n",
              "    <tr>\n",
              "      <th>2002-01-03</th>\n",
              "      <td>BAJAUTOFIN</td>\n",
              "      <td>EQ</td>\n",
              "      <td>34.20</td>\n",
              "      <td>35.00</td>\n",
              "      <td>35.00</td>\n",
              "      <td>34.05</td>\n",
              "      <td>34.50</td>\n",
              "      <td>34.50</td>\n",
              "      <td>34.28</td>\n",
              "      <td>600</td>\n",
              "      <td>2.057000e+09</td>\n",
              "      <td>600.0</td>\n",
              "      <td>1.0000</td>\n",
              "      <td>34.616667</td>\n",
              "      <td>NaN</td>\n",
              "      <td>33.633333</td>\n",
              "      <td>NaN</td>\n",
              "      <td>849.333333</td>\n",
              "      <td>NaN</td>\n",
              "      <td>2.889137e+09</td>\n",
              "      <td>NaN</td>\n",
              "      <td>0.539290</td>\n",
              "      <td>NaN</td>\n",
              "      <td>0.557524</td>\n",
              "      <td>NaN</td>\n",
              "      <td>520.865946</td>\n",
              "      <td>NaN</td>\n",
              "      <td>1.767081e+09</td>\n",
              "      <td>NaN</td>\n",
              "    </tr>\n",
              "    <tr>\n",
              "      <th>2002-01-07</th>\n",
              "      <td>BAJAUTOFIN</td>\n",
              "      <td>EQ</td>\n",
              "      <td>34.50</td>\n",
              "      <td>34.05</td>\n",
              "      <td>35.00</td>\n",
              "      <td>34.05</td>\n",
              "      <td>34.25</td>\n",
              "      <td>34.25</td>\n",
              "      <td>34.24</td>\n",
              "      <td>145</td>\n",
              "      <td>4.965000e+08</td>\n",
              "      <td>145.0</td>\n",
              "      <td>1.0000</td>\n",
              "      <td>34.950000</td>\n",
              "      <td>NaN</td>\n",
              "      <td>33.983333</td>\n",
              "      <td>NaN</td>\n",
              "      <td>731.000000</td>\n",
              "      <td>NaN</td>\n",
              "      <td>2.490720e+09</td>\n",
              "      <td>NaN</td>\n",
              "      <td>0.086603</td>\n",
              "      <td>NaN</td>\n",
              "      <td>0.115470</td>\n",
              "      <td>NaN</td>\n",
              "      <td>661.304015</td>\n",
              "      <td>NaN</td>\n",
              "      <td>2.242757e+09</td>\n",
              "      <td>NaN</td>\n",
              "    </tr>\n",
              "    <tr>\n",
              "      <th>2002-01-08</th>\n",
              "      <td>BAJAUTOFIN</td>\n",
              "      <td>EQ</td>\n",
              "      <td>34.25</td>\n",
              "      <td>34.05</td>\n",
              "      <td>34.50</td>\n",
              "      <td>34.00</td>\n",
              "      <td>34.00</td>\n",
              "      <td>34.00</td>\n",
              "      <td>34.07</td>\n",
              "      <td>800</td>\n",
              "      <td>2.725500e+09</td>\n",
              "      <td>800.0</td>\n",
              "      <td>1.0000</td>\n",
              "      <td>34.833333</td>\n",
              "      <td>NaN</td>\n",
              "      <td>34.033333</td>\n",
              "      <td>NaN</td>\n",
              "      <td>515.000000</td>\n",
              "      <td>NaN</td>\n",
              "      <td>1.759667e+09</td>\n",
              "      <td>NaN</td>\n",
              "      <td>0.288675</td>\n",
              "      <td>NaN</td>\n",
              "      <td>0.028868</td>\n",
              "      <td>NaN</td>\n",
              "      <td>335.670970</td>\n",
              "      <td>NaN</td>\n",
              "      <td>1.143860e+09</td>\n",
              "      <td>NaN</td>\n",
              "    </tr>\n",
              "  </tbody>\n",
              "</table>\n",
              "</div>"
            ],
            "text/plain": [
              "                Symbol Series  ...  Turnoverrolling_std_3  Turnoverrolling_std_7\n",
              "Date                           ...                                              \n",
              "2002-01-01  BAJAUTOFIN     EQ  ...                    NaN                    NaN\n",
              "2002-01-02  BAJAUTOFIN     EQ  ...                    NaN                    NaN\n",
              "2002-01-03  BAJAUTOFIN     EQ  ...           1.767081e+09                    NaN\n",
              "2002-01-07  BAJAUTOFIN     EQ  ...           2.242757e+09                    NaN\n",
              "2002-01-08  BAJAUTOFIN     EQ  ...           1.143860e+09                    NaN\n",
              "\n",
              "[5 rows x 29 columns]"
            ]
          },
          "metadata": {
            "tags": []
          },
          "execution_count": 17
        }
      ]
    },
    {
      "cell_type": "code",
      "metadata": {
        "colab": {
          "base_uri": "https://localhost:8080/"
        },
        "id": "ymam9xawgt7e",
        "outputId": "16795a1c-467c-40a7-a887-ed37cfc6d452"
      },
      "source": [
        "# We can see that there are Null Values in the Newly formed Columns #\n",
        "data.isna().sum()"
      ],
      "execution_count": 18,
      "outputs": [
        {
          "output_type": "execute_result",
          "data": {
            "text/plain": [
              "Symbol                    0\n",
              "Series                    0\n",
              "Prev Close                0\n",
              "Open                      0\n",
              "High                      0\n",
              "Low                       0\n",
              "Last                      0\n",
              "Close                     0\n",
              "VWAP                      0\n",
              "Volume                    0\n",
              "Turnover                  0\n",
              "Deliverable Volume        0\n",
              "%Deliverble               0\n",
              "Highrolling_mean_3        2\n",
              "Highrolling_mean_7        6\n",
              "Lowrolling_mean_3         2\n",
              "Lowrolling_mean_7         6\n",
              "Volumerolling_mean_3      2\n",
              "Volumerolling_mean_7      6\n",
              "Turnoverrolling_mean_3    2\n",
              "Turnoverrolling_mean_7    6\n",
              "Highrolling_std_3         2\n",
              "Highrolling_std_7         6\n",
              "Lowrolling_std_3          2\n",
              "Lowrolling_std_7          6\n",
              "Volumerolling_std_3       2\n",
              "Volumerolling_std_7       6\n",
              "Turnoverrolling_std_3     2\n",
              "Turnoverrolling_std_7     6\n",
              "dtype: int64"
            ]
          },
          "metadata": {
            "tags": []
          },
          "execution_count": 18
        }
      ]
    },
    {
      "cell_type": "code",
      "metadata": {
        "id": "maqNgTyugt5F"
      },
      "source": [
        "# Since the null values are very low compared to the Dataset , lets drop them #\n",
        "data.dropna(inplace=True)"
      ],
      "execution_count": 19,
      "outputs": []
    },
    {
      "cell_type": "code",
      "metadata": {
        "colab": {
          "base_uri": "https://localhost:8080/"
        },
        "id": "THRlNyGZgt2Y",
        "outputId": "39f9a797-e06b-42d2-b5e0-437cd1e9b22c"
      },
      "source": [
        "data.isna().sum()"
      ],
      "execution_count": 20,
      "outputs": [
        {
          "output_type": "execute_result",
          "data": {
            "text/plain": [
              "Symbol                    0\n",
              "Series                    0\n",
              "Prev Close                0\n",
              "Open                      0\n",
              "High                      0\n",
              "Low                       0\n",
              "Last                      0\n",
              "Close                     0\n",
              "VWAP                      0\n",
              "Volume                    0\n",
              "Turnover                  0\n",
              "Deliverable Volume        0\n",
              "%Deliverble               0\n",
              "Highrolling_mean_3        0\n",
              "Highrolling_mean_7        0\n",
              "Lowrolling_mean_3         0\n",
              "Lowrolling_mean_7         0\n",
              "Volumerolling_mean_3      0\n",
              "Volumerolling_mean_7      0\n",
              "Turnoverrolling_mean_3    0\n",
              "Turnoverrolling_mean_7    0\n",
              "Highrolling_std_3         0\n",
              "Highrolling_std_7         0\n",
              "Lowrolling_std_3          0\n",
              "Lowrolling_std_7          0\n",
              "Volumerolling_std_3       0\n",
              "Volumerolling_std_7       0\n",
              "Turnoverrolling_std_3     0\n",
              "Turnoverrolling_std_7     0\n",
              "dtype: int64"
            ]
          },
          "metadata": {
            "tags": []
          },
          "execution_count": 20
        }
      ]
    },
    {
      "cell_type": "code",
      "metadata": {
        "colab": {
          "base_uri": "https://localhost:8080/"
        },
        "id": "SOI9js02gtzt",
        "outputId": "6e8332df-c38d-45dc-9685-e525ddac2523"
      },
      "source": [
        "data.columns"
      ],
      "execution_count": 21,
      "outputs": [
        {
          "output_type": "execute_result",
          "data": {
            "text/plain": [
              "Index(['Symbol', 'Series', 'Prev Close', 'Open', 'High', 'Low', 'Last',\n",
              "       'Close', 'VWAP', 'Volume', 'Turnover', 'Deliverable Volume',\n",
              "       '%Deliverble', 'Highrolling_mean_3', 'Highrolling_mean_7',\n",
              "       'Lowrolling_mean_3', 'Lowrolling_mean_7', 'Volumerolling_mean_3',\n",
              "       'Volumerolling_mean_7', 'Turnoverrolling_mean_3',\n",
              "       'Turnoverrolling_mean_7', 'Highrolling_std_3', 'Highrolling_std_7',\n",
              "       'Lowrolling_std_3', 'Lowrolling_std_7', 'Volumerolling_std_3',\n",
              "       'Volumerolling_std_7', 'Turnoverrolling_std_3',\n",
              "       'Turnoverrolling_std_7'],\n",
              "      dtype='object')"
            ]
          },
          "metadata": {
            "tags": []
          },
          "execution_count": 21
        }
      ]
    },
    {
      "cell_type": "code",
      "metadata": {
        "colab": {
          "base_uri": "https://localhost:8080/"
        },
        "id": "ZFmBqTzBijHF",
        "outputId": "461e7209-5537-4f22-9c12-d9bda8ddc446"
      },
      "source": [
        "data.shape"
      ],
      "execution_count": 22,
      "outputs": [
        {
          "output_type": "execute_result",
          "data": {
            "text/plain": [
              "(4618, 29)"
            ]
          },
          "metadata": {
            "tags": []
          },
          "execution_count": 22
        }
      ]
    },
    {
      "cell_type": "markdown",
      "metadata": {
        "id": "zKlHnAdbisP8"
      },
      "source": [
        "**5.Splitting the Data into Trainset and TestSet**"
      ]
    },
    {
      "cell_type": "code",
      "metadata": {
        "id": "DaJZn8ZDgtqm"
      },
      "source": [
        "# Note: we are not spliting the data Randomly using Test train Split because we need proper chrological order in Timeseries Data#\n",
        "training_data=data[0:4000]\n",
        "test_data=data[4000:]"
      ],
      "execution_count": 23,
      "outputs": []
    },
    {
      "cell_type": "code",
      "metadata": {
        "colab": {
          "base_uri": "https://localhost:8080/",
          "height": 275
        },
        "id": "Y4pCOswPjDir",
        "outputId": "019d882e-c9d8-4960-f630-2079f41fab4d"
      },
      "source": [
        "training_data.head()"
      ],
      "execution_count": 24,
      "outputs": [
        {
          "output_type": "execute_result",
          "data": {
            "text/html": [
              "<div>\n",
              "<style scoped>\n",
              "    .dataframe tbody tr th:only-of-type {\n",
              "        vertical-align: middle;\n",
              "    }\n",
              "\n",
              "    .dataframe tbody tr th {\n",
              "        vertical-align: top;\n",
              "    }\n",
              "\n",
              "    .dataframe thead th {\n",
              "        text-align: right;\n",
              "    }\n",
              "</style>\n",
              "<table border=\"1\" class=\"dataframe\">\n",
              "  <thead>\n",
              "    <tr style=\"text-align: right;\">\n",
              "      <th></th>\n",
              "      <th>Symbol</th>\n",
              "      <th>Series</th>\n",
              "      <th>Prev Close</th>\n",
              "      <th>Open</th>\n",
              "      <th>High</th>\n",
              "      <th>Low</th>\n",
              "      <th>Last</th>\n",
              "      <th>Close</th>\n",
              "      <th>VWAP</th>\n",
              "      <th>Volume</th>\n",
              "      <th>Turnover</th>\n",
              "      <th>Deliverable Volume</th>\n",
              "      <th>%Deliverble</th>\n",
              "      <th>Highrolling_mean_3</th>\n",
              "      <th>Highrolling_mean_7</th>\n",
              "      <th>Lowrolling_mean_3</th>\n",
              "      <th>Lowrolling_mean_7</th>\n",
              "      <th>Volumerolling_mean_3</th>\n",
              "      <th>Volumerolling_mean_7</th>\n",
              "      <th>Turnoverrolling_mean_3</th>\n",
              "      <th>Turnoverrolling_mean_7</th>\n",
              "      <th>Highrolling_std_3</th>\n",
              "      <th>Highrolling_std_7</th>\n",
              "      <th>Lowrolling_std_3</th>\n",
              "      <th>Lowrolling_std_7</th>\n",
              "      <th>Volumerolling_std_3</th>\n",
              "      <th>Volumerolling_std_7</th>\n",
              "      <th>Turnoverrolling_std_3</th>\n",
              "      <th>Turnoverrolling_std_7</th>\n",
              "    </tr>\n",
              "    <tr>\n",
              "      <th>Date</th>\n",
              "      <th></th>\n",
              "      <th></th>\n",
              "      <th></th>\n",
              "      <th></th>\n",
              "      <th></th>\n",
              "      <th></th>\n",
              "      <th></th>\n",
              "      <th></th>\n",
              "      <th></th>\n",
              "      <th></th>\n",
              "      <th></th>\n",
              "      <th></th>\n",
              "      <th></th>\n",
              "      <th></th>\n",
              "      <th></th>\n",
              "      <th></th>\n",
              "      <th></th>\n",
              "      <th></th>\n",
              "      <th></th>\n",
              "      <th></th>\n",
              "      <th></th>\n",
              "      <th></th>\n",
              "      <th></th>\n",
              "      <th></th>\n",
              "      <th></th>\n",
              "      <th></th>\n",
              "      <th></th>\n",
              "      <th></th>\n",
              "      <th></th>\n",
              "    </tr>\n",
              "  </thead>\n",
              "  <tbody>\n",
              "    <tr>\n",
              "      <th>2002-01-10</th>\n",
              "      <td>BAJAUTOFIN</td>\n",
              "      <td>EQ</td>\n",
              "      <td>34.75</td>\n",
              "      <td>35.40</td>\n",
              "      <td>35.50</td>\n",
              "      <td>34.25</td>\n",
              "      <td>34.25</td>\n",
              "      <td>34.40</td>\n",
              "      <td>34.98</td>\n",
              "      <td>1050</td>\n",
              "      <td>3.672500e+09</td>\n",
              "      <td>450.0</td>\n",
              "      <td>0.4286</td>\n",
              "      <td>35.316667</td>\n",
              "      <td>34.971429</td>\n",
              "      <td>34.166667</td>\n",
              "      <td>33.921429</td>\n",
              "      <td>1051.000000</td>\n",
              "      <td>835.142857</td>\n",
              "      <td>3.649867e+09</td>\n",
              "      <td>2.873359e+09</td>\n",
              "      <td>0.742181</td>\n",
              "      <td>0.634992</td>\n",
              "      <td>0.144338</td>\n",
              "      <td>0.429978</td>\n",
              "      <td>251.501491</td>\n",
              "      <td>462.924194</td>\n",
              "      <td>9.132604e+08</td>\n",
              "      <td>1.600642e+09</td>\n",
              "    </tr>\n",
              "    <tr>\n",
              "      <th>2002-01-11</th>\n",
              "      <td>BAJAUTOFIN</td>\n",
              "      <td>EQ</td>\n",
              "      <td>34.40</td>\n",
              "      <td>34.35</td>\n",
              "      <td>34.75</td>\n",
              "      <td>34.35</td>\n",
              "      <td>34.35</td>\n",
              "      <td>34.35</td>\n",
              "      <td>34.36</td>\n",
              "      <td>675</td>\n",
              "      <td>2.319625e+09</td>\n",
              "      <td>675.0</td>\n",
              "      <td>1.0000</td>\n",
              "      <td>35.400000</td>\n",
              "      <td>35.078571</td>\n",
              "      <td>34.283333</td>\n",
              "      <td>34.114286</td>\n",
              "      <td>1009.333333</td>\n",
              "      <td>860.142857</td>\n",
              "      <td>3.514575e+09</td>\n",
              "      <td>2.963055e+09</td>\n",
              "      <td>0.606218</td>\n",
              "      <td>0.490626</td>\n",
              "      <td>0.057735</td>\n",
              "      <td>0.174915</td>\n",
              "      <td>315.968880</td>\n",
              "      <td>446.232910</td>\n",
              "      <td>1.124337e+09</td>\n",
              "      <td>1.539829e+09</td>\n",
              "    </tr>\n",
              "    <tr>\n",
              "      <th>2002-01-14</th>\n",
              "      <td>BAJAUTOFIN</td>\n",
              "      <td>EQ</td>\n",
              "      <td>34.35</td>\n",
              "      <td>35.10</td>\n",
              "      <td>36.35</td>\n",
              "      <td>34.20</td>\n",
              "      <td>34.20</td>\n",
              "      <td>34.20</td>\n",
              "      <td>35.18</td>\n",
              "      <td>2888</td>\n",
              "      <td>1.016096e+10</td>\n",
              "      <td>2588.0</td>\n",
              "      <td>0.8961</td>\n",
              "      <td>35.533333</td>\n",
              "      <td>35.292857</td>\n",
              "      <td>34.266667</td>\n",
              "      <td>34.164286</td>\n",
              "      <td>1537.666667</td>\n",
              "      <td>1065.857143</td>\n",
              "      <td>5.384362e+09</td>\n",
              "      <td>3.711955e+09</td>\n",
              "      <td>0.800521</td>\n",
              "      <td>0.669221</td>\n",
              "      <td>0.076376</td>\n",
              "      <td>0.131385</td>\n",
              "      <td>1184.359039</td>\n",
              "      <td>881.773105</td>\n",
              "      <td>4.191597e+09</td>\n",
              "      <td>3.116781e+09</td>\n",
              "    </tr>\n",
              "    <tr>\n",
              "      <th>2002-01-15</th>\n",
              "      <td>BAJAUTOFIN</td>\n",
              "      <td>EQ</td>\n",
              "      <td>34.20</td>\n",
              "      <td>35.50</td>\n",
              "      <td>36.75</td>\n",
              "      <td>35.50</td>\n",
              "      <td>36.00</td>\n",
              "      <td>36.00</td>\n",
              "      <td>36.33</td>\n",
              "      <td>950</td>\n",
              "      <td>3.451000e+09</td>\n",
              "      <td>950.0</td>\n",
              "      <td>1.0000</td>\n",
              "      <td>35.950000</td>\n",
              "      <td>35.542857</td>\n",
              "      <td>34.683333</td>\n",
              "      <td>34.371429</td>\n",
              "      <td>1504.333333</td>\n",
              "      <td>1115.857143</td>\n",
              "      <td>5.310528e+09</td>\n",
              "      <td>3.911098e+09</td>\n",
              "      <td>1.058301</td>\n",
              "      <td>0.845295</td>\n",
              "      <td>0.711220</td>\n",
              "      <td>0.512231</td>\n",
              "      <td>1206.153528</td>\n",
              "      <td>860.624081</td>\n",
              "      <td>4.238516e+09</td>\n",
              "      <td>3.036927e+09</td>\n",
              "    </tr>\n",
              "    <tr>\n",
              "      <th>2002-01-16</th>\n",
              "      <td>BAJAUTOFIN</td>\n",
              "      <td>EQ</td>\n",
              "      <td>36.00</td>\n",
              "      <td>38.75</td>\n",
              "      <td>38.90</td>\n",
              "      <td>36.00</td>\n",
              "      <td>38.90</td>\n",
              "      <td>38.65</td>\n",
              "      <td>37.46</td>\n",
              "      <td>19969</td>\n",
              "      <td>7.479410e+10</td>\n",
              "      <td>16870.0</td>\n",
              "      <td>0.8448</td>\n",
              "      <td>37.333333</td>\n",
              "      <td>36.100000</td>\n",
              "      <td>35.233333</td>\n",
              "      <td>34.650000</td>\n",
              "      <td>7935.666667</td>\n",
              "      <td>3947.857143</td>\n",
              "      <td>2.946869e+10</td>\n",
              "      <td>1.452504e+10</td>\n",
              "      <td>1.371435</td>\n",
              "      <td>1.477047</td>\n",
              "      <td>0.929157</td>\n",
              "      <td>0.772442</td>\n",
              "      <td>10466.126042</td>\n",
              "      <td>7104.000127</td>\n",
              "      <td>3.939608e+10</td>\n",
              "      <td>2.670670e+10</td>\n",
              "    </tr>\n",
              "  </tbody>\n",
              "</table>\n",
              "</div>"
            ],
            "text/plain": [
              "                Symbol Series  ...  Turnoverrolling_std_3  Turnoverrolling_std_7\n",
              "Date                           ...                                              \n",
              "2002-01-10  BAJAUTOFIN     EQ  ...           9.132604e+08           1.600642e+09\n",
              "2002-01-11  BAJAUTOFIN     EQ  ...           1.124337e+09           1.539829e+09\n",
              "2002-01-14  BAJAUTOFIN     EQ  ...           4.191597e+09           3.116781e+09\n",
              "2002-01-15  BAJAUTOFIN     EQ  ...           4.238516e+09           3.036927e+09\n",
              "2002-01-16  BAJAUTOFIN     EQ  ...           3.939608e+10           2.670670e+10\n",
              "\n",
              "[5 rows x 29 columns]"
            ]
          },
          "metadata": {
            "tags": []
          },
          "execution_count": 24
        }
      ]
    },
    {
      "cell_type": "code",
      "metadata": {
        "colab": {
          "base_uri": "https://localhost:8080/",
          "height": 275
        },
        "id": "QspYzDyBSVGZ",
        "outputId": "df9b45e6-9acb-4b8d-b4c7-6502cf197cc2"
      },
      "source": [
        "test_data.head()"
      ],
      "execution_count": 25,
      "outputs": [
        {
          "output_type": "execute_result",
          "data": {
            "text/html": [
              "<div>\n",
              "<style scoped>\n",
              "    .dataframe tbody tr th:only-of-type {\n",
              "        vertical-align: middle;\n",
              "    }\n",
              "\n",
              "    .dataframe tbody tr th {\n",
              "        vertical-align: top;\n",
              "    }\n",
              "\n",
              "    .dataframe thead th {\n",
              "        text-align: right;\n",
              "    }\n",
              "</style>\n",
              "<table border=\"1\" class=\"dataframe\">\n",
              "  <thead>\n",
              "    <tr style=\"text-align: right;\">\n",
              "      <th></th>\n",
              "      <th>Symbol</th>\n",
              "      <th>Series</th>\n",
              "      <th>Prev Close</th>\n",
              "      <th>Open</th>\n",
              "      <th>High</th>\n",
              "      <th>Low</th>\n",
              "      <th>Last</th>\n",
              "      <th>Close</th>\n",
              "      <th>VWAP</th>\n",
              "      <th>Volume</th>\n",
              "      <th>Turnover</th>\n",
              "      <th>Deliverable Volume</th>\n",
              "      <th>%Deliverble</th>\n",
              "      <th>Highrolling_mean_3</th>\n",
              "      <th>Highrolling_mean_7</th>\n",
              "      <th>Lowrolling_mean_3</th>\n",
              "      <th>Lowrolling_mean_7</th>\n",
              "      <th>Volumerolling_mean_3</th>\n",
              "      <th>Volumerolling_mean_7</th>\n",
              "      <th>Turnoverrolling_mean_3</th>\n",
              "      <th>Turnoverrolling_mean_7</th>\n",
              "      <th>Highrolling_std_3</th>\n",
              "      <th>Highrolling_std_7</th>\n",
              "      <th>Lowrolling_std_3</th>\n",
              "      <th>Lowrolling_std_7</th>\n",
              "      <th>Volumerolling_std_3</th>\n",
              "      <th>Volumerolling_std_7</th>\n",
              "      <th>Turnoverrolling_std_3</th>\n",
              "      <th>Turnoverrolling_std_7</th>\n",
              "    </tr>\n",
              "    <tr>\n",
              "      <th>Date</th>\n",
              "      <th></th>\n",
              "      <th></th>\n",
              "      <th></th>\n",
              "      <th></th>\n",
              "      <th></th>\n",
              "      <th></th>\n",
              "      <th></th>\n",
              "      <th></th>\n",
              "      <th></th>\n",
              "      <th></th>\n",
              "      <th></th>\n",
              "      <th></th>\n",
              "      <th></th>\n",
              "      <th></th>\n",
              "      <th></th>\n",
              "      <th></th>\n",
              "      <th></th>\n",
              "      <th></th>\n",
              "      <th></th>\n",
              "      <th></th>\n",
              "      <th></th>\n",
              "      <th></th>\n",
              "      <th></th>\n",
              "      <th></th>\n",
              "      <th></th>\n",
              "      <th></th>\n",
              "      <th></th>\n",
              "      <th></th>\n",
              "      <th></th>\n",
              "    </tr>\n",
              "  </thead>\n",
              "  <tbody>\n",
              "    <tr>\n",
              "      <th>2018-02-28</th>\n",
              "      <td>BAJFINANCE</td>\n",
              "      <td>EQ</td>\n",
              "      <td>1656.80</td>\n",
              "      <td>1644.0</td>\n",
              "      <td>1659.60</td>\n",
              "      <td>1629.0</td>\n",
              "      <td>1632.50</td>\n",
              "      <td>1640.25</td>\n",
              "      <td>1645.57</td>\n",
              "      <td>1756349</td>\n",
              "      <td>2.890187e+14</td>\n",
              "      <td>1188877.0</td>\n",
              "      <td>0.6769</td>\n",
              "      <td>1673.116667</td>\n",
              "      <td>1655.792857</td>\n",
              "      <td>1638.833333</td>\n",
              "      <td>1615.514286</td>\n",
              "      <td>1.132751e+06</td>\n",
              "      <td>1.062007e+06</td>\n",
              "      <td>1.871129e+14</td>\n",
              "      <td>1.730846e+14</td>\n",
              "      <td>11.706017</td>\n",
              "      <td>22.233017</td>\n",
              "      <td>11.184066</td>\n",
              "      <td>27.345973</td>\n",
              "      <td>581537.519476</td>\n",
              "      <td>489383.312977</td>\n",
              "      <td>9.518117e+13</td>\n",
              "      <td>7.912891e+13</td>\n",
              "    </tr>\n",
              "    <tr>\n",
              "      <th>2018-03-01</th>\n",
              "      <td>BAJFINANCE</td>\n",
              "      <td>EQ</td>\n",
              "      <td>1640.25</td>\n",
              "      <td>1635.0</td>\n",
              "      <td>1666.00</td>\n",
              "      <td>1628.0</td>\n",
              "      <td>1658.45</td>\n",
              "      <td>1659.35</td>\n",
              "      <td>1652.22</td>\n",
              "      <td>1238390</td>\n",
              "      <td>2.046088e+14</td>\n",
              "      <td>688149.0</td>\n",
              "      <td>0.5557</td>\n",
              "      <td>1668.516667</td>\n",
              "      <td>1656.978571</td>\n",
              "      <td>1636.000000</td>\n",
              "      <td>1615.800000</td>\n",
              "      <td>1.199994e+06</td>\n",
              "      <td>1.155498e+06</td>\n",
              "      <td>1.980461e+14</td>\n",
              "      <td>1.886141e+14</td>\n",
              "      <td>10.405808</td>\n",
              "      <td>22.570443</td>\n",
              "      <td>13.000000</td>\n",
              "      <td>27.483889</td>\n",
              "      <td>576512.229420</td>\n",
              "      <td>443164.684875</td>\n",
              "      <td>9.442514e+13</td>\n",
              "      <td>7.178299e+13</td>\n",
              "    </tr>\n",
              "    <tr>\n",
              "      <th>2018-03-05</th>\n",
              "      <td>BAJFINANCE</td>\n",
              "      <td>EQ</td>\n",
              "      <td>1659.35</td>\n",
              "      <td>1660.0</td>\n",
              "      <td>1660.00</td>\n",
              "      <td>1621.0</td>\n",
              "      <td>1631.95</td>\n",
              "      <td>1636.95</td>\n",
              "      <td>1633.83</td>\n",
              "      <td>743779</td>\n",
              "      <td>1.215209e+14</td>\n",
              "      <td>379212.0</td>\n",
              "      <td>0.5098</td>\n",
              "      <td>1661.866667</td>\n",
              "      <td>1657.264286</td>\n",
              "      <td>1626.000000</td>\n",
              "      <td>1620.614286</td>\n",
              "      <td>1.246173e+06</td>\n",
              "      <td>1.020360e+06</td>\n",
              "      <td>2.050495e+14</td>\n",
              "      <td>1.672792e+14</td>\n",
              "      <td>3.585155</td>\n",
              "      <td>22.598169</td>\n",
              "      <td>4.358899</td>\n",
              "      <td>24.442905</td>\n",
              "      <td>506329.861504</td>\n",
              "      <td>394678.650014</td>\n",
              "      <td>8.374975e+13</td>\n",
              "      <td>6.514960e+13</td>\n",
              "    </tr>\n",
              "    <tr>\n",
              "      <th>2018-03-06</th>\n",
              "      <td>BAJFINANCE</td>\n",
              "      <td>EQ</td>\n",
              "      <td>1636.95</td>\n",
              "      <td>1655.0</td>\n",
              "      <td>1671.85</td>\n",
              "      <td>1627.6</td>\n",
              "      <td>1628.75</td>\n",
              "      <td>1637.75</td>\n",
              "      <td>1652.31</td>\n",
              "      <td>944176</td>\n",
              "      <td>1.560070e+14</td>\n",
              "      <td>402338.0</td>\n",
              "      <td>0.4261</td>\n",
              "      <td>1665.950000</td>\n",
              "      <td>1665.028571</td>\n",
              "      <td>1625.533333</td>\n",
              "      <td>1627.921429</td>\n",
              "      <td>9.754483e+05</td>\n",
              "      <td>1.005153e+06</td>\n",
              "      <td>1.607122e+14</td>\n",
              "      <td>1.655695e+14</td>\n",
              "      <td>5.925158</td>\n",
              "      <td>14.569485</td>\n",
              "      <td>3.931073</td>\n",
              "      <td>14.772098</td>\n",
              "      <td>248784.001604</td>\n",
              "      <td>395368.326658</td>\n",
              "      <td>4.174331e+13</td>\n",
              "      <td>6.528519e+13</td>\n",
              "    </tr>\n",
              "    <tr>\n",
              "      <th>2018-03-07</th>\n",
              "      <td>BAJFINANCE</td>\n",
              "      <td>EQ</td>\n",
              "      <td>1637.75</td>\n",
              "      <td>1641.0</td>\n",
              "      <td>1648.65</td>\n",
              "      <td>1606.0</td>\n",
              "      <td>1624.25</td>\n",
              "      <td>1618.35</td>\n",
              "      <td>1627.87</td>\n",
              "      <td>644577</td>\n",
              "      <td>1.049288e+14</td>\n",
              "      <td>257592.0</td>\n",
              "      <td>0.3996</td>\n",
              "      <td>1660.166667</td>\n",
              "      <td>1666.550000</td>\n",
              "      <td>1618.200000</td>\n",
              "      <td>1628.442857</td>\n",
              "      <td>7.775107e+05</td>\n",
              "      <td>9.955963e+05</td>\n",
              "      <td>1.274856e+14</td>\n",
              "      <td>1.640578e+14</td>\n",
              "      <td>11.600898</td>\n",
              "      <td>11.511806</td>\n",
              "      <td>11.068875</td>\n",
              "      <td>13.747952</td>\n",
              "      <td>152621.293411</td>\n",
              "      <td>404356.497736</td>\n",
              "      <td>2.605626e+13</td>\n",
              "      <td>6.674373e+13</td>\n",
              "    </tr>\n",
              "  </tbody>\n",
              "</table>\n",
              "</div>"
            ],
            "text/plain": [
              "                Symbol Series  ...  Turnoverrolling_std_3  Turnoverrolling_std_7\n",
              "Date                           ...                                              \n",
              "2018-02-28  BAJFINANCE     EQ  ...           9.518117e+13           7.912891e+13\n",
              "2018-03-01  BAJFINANCE     EQ  ...           9.442514e+13           7.178299e+13\n",
              "2018-03-05  BAJFINANCE     EQ  ...           8.374975e+13           6.514960e+13\n",
              "2018-03-06  BAJFINANCE     EQ  ...           4.174331e+13           6.528519e+13\n",
              "2018-03-07  BAJFINANCE     EQ  ...           2.605626e+13           6.674373e+13\n",
              "\n",
              "[5 rows x 29 columns]"
            ]
          },
          "metadata": {
            "tags": []
          },
          "execution_count": 25
        }
      ]
    },
    {
      "cell_type": "code",
      "metadata": {
        "id": "AUNsFzytNWoC"
      },
      "source": [
        "# These are features created by Rolling Analysis to Minimize Outliers and Unstability in Data #\n",
        "Independent_Features = ['Highrolling_mean_3', 'Highrolling_mean_7',\n",
        "       'Lowrolling_mean_3', 'Lowrolling_mean_7', 'Volumerolling_mean_3',\n",
        "       'Volumerolling_mean_7', 'Turnoverrolling_mean_3',\n",
        "       'Turnoverrolling_mean_7', 'Highrolling_std_3', 'Highrolling_std_7',\n",
        "       'Lowrolling_std_3', 'Lowrolling_std_7', 'Volumerolling_std_3',\n",
        "       'Volumerolling_std_7', 'Turnoverrolling_std_3',\n",
        "       'Turnoverrolling_std_7']"
      ],
      "execution_count": 26,
      "outputs": []
    },
    {
      "cell_type": "markdown",
      "metadata": {
        "id": "ZNk2SkVZFh3A"
      },
      "source": [
        "**6.Training and Fitting the Model**"
      ]
    },
    {
      "cell_type": "code",
      "metadata": {
        "colab": {
          "base_uri": "https://localhost:8080/"
        },
        "id": "Xy5v82LJOOBq",
        "outputId": "e9b7931e-4cc5-40e2-e6cf-65276e282937"
      },
      "source": [
        "!pip install pmdarima"
      ],
      "execution_count": 27,
      "outputs": [
        {
          "output_type": "stream",
          "text": [
            "Requirement already satisfied: pmdarima in /usr/local/lib/python3.7/dist-packages (1.8.2)\n",
            "Requirement already satisfied: pandas>=0.19 in /usr/local/lib/python3.7/dist-packages (from pmdarima) (1.1.5)\n",
            "Requirement already satisfied: Cython!=0.29.18,>=0.29 in /usr/local/lib/python3.7/dist-packages (from pmdarima) (0.29.22)\n",
            "Requirement already satisfied: scikit-learn>=0.22 in /usr/local/lib/python3.7/dist-packages (from pmdarima) (0.22.2.post1)\n",
            "Requirement already satisfied: urllib3 in /usr/local/lib/python3.7/dist-packages (from pmdarima) (1.24.3)\n",
            "Requirement already satisfied: joblib>=0.11 in /usr/local/lib/python3.7/dist-packages (from pmdarima) (1.0.1)\n",
            "Requirement already satisfied: scipy>=1.3.2 in /usr/local/lib/python3.7/dist-packages (from pmdarima) (1.4.1)\n",
            "Requirement already satisfied: statsmodels!=0.12.0,>=0.11 in /usr/local/lib/python3.7/dist-packages (from pmdarima) (0.12.2)\n",
            "Requirement already satisfied: setuptools!=50.0.0,>=38.6.0 in /usr/local/lib/python3.7/dist-packages (from pmdarima) (56.1.0)\n",
            "Requirement already satisfied: numpy~=1.19.0 in /usr/local/lib/python3.7/dist-packages (from pmdarima) (1.19.5)\n",
            "Requirement already satisfied: pytz>=2017.2 in /usr/local/lib/python3.7/dist-packages (from pandas>=0.19->pmdarima) (2018.9)\n",
            "Requirement already satisfied: python-dateutil>=2.7.3 in /usr/local/lib/python3.7/dist-packages (from pandas>=0.19->pmdarima) (2.8.1)\n",
            "Requirement already satisfied: patsy>=0.5 in /usr/local/lib/python3.7/dist-packages (from statsmodels!=0.12.0,>=0.11->pmdarima) (0.5.1)\n",
            "Requirement already satisfied: six>=1.5 in /usr/local/lib/python3.7/dist-packages (from python-dateutil>=2.7.3->pandas>=0.19->pmdarima) (1.15.0)\n"
          ],
          "name": "stdout"
        }
      ]
    },
    {
      "cell_type": "code",
      "metadata": {
        "id": "ZJEGJAvROj4l"
      },
      "source": [
        "from pmdarima import auto_arima"
      ],
      "execution_count": 28,
      "outputs": []
    },
    {
      "cell_type": "markdown",
      "metadata": {
        "id": "YWAnQ-vPPwSG"
      },
      "source": [
        "We will be using the Infamous Auto-Arima Machine Learning Technique Specialised for TimeSeries to train the Model"
      ]
    },
    {
      "cell_type": "code",
      "metadata": {
        "colab": {
          "base_uri": "https://localhost:8080/"
        },
        "id": "ITm0JLQuPv5T",
        "outputId": "d4adc37f-d567-424a-a19c-9ae64dfafb0f"
      },
      "source": [
        "# We will set the 'trace' parameter to 'True' so that the model can consider all bundles of (p,d,q) to find the best #\n",
        "model=auto_arima(y=training_data['VWAP'],exogenous=training_data[Independent_Features],trace=True)"
      ],
      "execution_count": 29,
      "outputs": [
        {
          "output_type": "stream",
          "text": [
            "Performing stepwise search to minimize aic\n",
            " ARIMA(2,0,2)(0,0,0)[0] intercept   : AIC=43273.417, Time=11.44 sec\n",
            " ARIMA(0,0,0)(0,0,0)[0] intercept   : AIC=43269.853, Time=5.92 sec\n",
            " ARIMA(1,0,0)(0,0,0)[0] intercept   : AIC=43269.847, Time=6.22 sec\n",
            " ARIMA(0,0,1)(0,0,0)[0] intercept   : AIC=43269.765, Time=8.67 sec\n",
            " ARIMA(0,0,0)(0,0,0)[0]             : AIC=72445.894, Time=5.57 sec\n"
          ],
          "name": "stdout"
        },
        {
          "output_type": "stream",
          "text": [
            "/usr/local/lib/python3.7/dist-packages/statsmodels/tsa/statespace/sarimax.py:1890: RuntimeWarning: divide by zero encountered in reciprocal\n",
            "  return np.roots(self.polynomial_reduced_ar)**-1\n",
            "/usr/local/lib/python3.7/dist-packages/statsmodels/tsa/statespace/sarimax.py:1897: RuntimeWarning: divide by zero encountered in reciprocal\n",
            "  return np.roots(self.polynomial_reduced_ma)**-1\n"
          ],
          "name": "stderr"
        },
        {
          "output_type": "stream",
          "text": [
            " ARIMA(1,0,1)(0,0,0)[0] intercept   : AIC=43273.887, Time=9.50 sec\n",
            " ARIMA(0,0,2)(0,0,0)[0] intercept   : AIC=43269.875, Time=10.03 sec\n",
            " ARIMA(1,0,2)(0,0,0)[0] intercept   : AIC=43269.600, Time=10.98 sec\n",
            " ARIMA(1,0,3)(0,0,0)[0] intercept   : AIC=43253.362, Time=11.25 sec\n",
            " ARIMA(0,0,3)(0,0,0)[0] intercept   : AIC=43251.446, Time=10.87 sec\n",
            " ARIMA(0,0,4)(0,0,0)[0] intercept   : AIC=43253.304, Time=12.68 sec\n",
            " ARIMA(1,0,4)(0,0,0)[0] intercept   : AIC=43255.081, Time=13.40 sec\n",
            " ARIMA(0,0,3)(0,0,0)[0]             : AIC=43250.509, Time=10.13 sec\n",
            " ARIMA(0,0,2)(0,0,0)[0]             : AIC=43268.804, Time=10.02 sec\n",
            " ARIMA(1,0,3)(0,0,0)[0]             : AIC=43252.412, Time=11.04 sec\n",
            " ARIMA(0,0,4)(0,0,0)[0]             : AIC=43252.380, Time=12.21 sec\n",
            " ARIMA(1,0,2)(0,0,0)[0]             : AIC=43268.427, Time=9.69 sec\n",
            " ARIMA(1,0,4)(0,0,0)[0]             : AIC=43254.172, Time=12.10 sec\n",
            "\n",
            "Best model:  ARIMA(0,0,3)(0,0,0)[0]          \n",
            "Total fit time: 181.783 seconds\n"
          ],
          "name": "stdout"
        }
      ]
    },
    {
      "cell_type": "code",
      "metadata": {
        "colab": {
          "base_uri": "https://localhost:8080/"
        },
        "id": "-U4QyQB_RItO",
        "outputId": "0eee36b4-1f18-4bbd-a56e-a232555161bf"
      },
      "source": [
        "model.fit(training_data['VWAP'],training_data[Independent_Features])"
      ],
      "execution_count": 30,
      "outputs": [
        {
          "output_type": "execute_result",
          "data": {
            "text/plain": [
              "ARIMA(maxiter=50, method='lbfgs', order=(0, 0, 3), out_of_sample_size=0,\n",
              "      scoring='mse', scoring_args={}, seasonal_order=(0, 0, 0, 0),\n",
              "      start_params=None, suppress_warnings=True, trend=None,\n",
              "      with_intercept=False)"
            ]
          },
          "metadata": {
            "tags": []
          },
          "execution_count": 30
        }
      ]
    },
    {
      "cell_type": "markdown",
      "metadata": {
        "id": "atA65vg9G5Wa"
      },
      "source": [
        "**7.Predicting the Test Set**"
      ]
    },
    {
      "cell_type": "code",
      "metadata": {
        "colab": {
          "base_uri": "https://localhost:8080/"
        },
        "id": "todP2r7uRjim",
        "outputId": "61f2fecc-9b6f-44df-9803-47b97237b1ce"
      },
      "source": [
        "forecast=model.predict(n_periods=len(test_data), exogenous=test_data[Independent_Features])"
      ],
      "execution_count": 31,
      "outputs": [
        {
          "output_type": "stream",
          "text": [
            "/usr/local/lib/python3.7/dist-packages/statsmodels/tsa/base/tsa_model.py:379: ValueWarning: No supported index is available. Prediction results will be given with an integer index beginning at `start`.\n",
            "  ValueWarning)\n"
          ],
          "name": "stderr"
        }
      ]
    },
    {
      "cell_type": "code",
      "metadata": {
        "colab": {
          "base_uri": "https://localhost:8080/"
        },
        "id": "rgkzM2FcRtGv",
        "outputId": "5bb76a2b-9c1a-4e4b-d26b-f68534e2a712"
      },
      "source": [
        "test_data['Forecast_ARIMA']=forecast"
      ],
      "execution_count": 32,
      "outputs": [
        {
          "output_type": "stream",
          "text": [
            "/usr/local/lib/python3.7/dist-packages/ipykernel_launcher.py:1: SettingWithCopyWarning: \n",
            "A value is trying to be set on a copy of a slice from a DataFrame.\n",
            "Try using .loc[row_indexer,col_indexer] = value instead\n",
            "\n",
            "See the caveats in the documentation: https://pandas.pydata.org/pandas-docs/stable/user_guide/indexing.html#returning-a-view-versus-a-copy\n",
            "  \"\"\"Entry point for launching an IPython kernel.\n"
          ],
          "name": "stderr"
        }
      ]
    },
    {
      "cell_type": "code",
      "metadata": {
        "colab": {
          "base_uri": "https://localhost:8080/",
          "height": 460
        },
        "id": "9F9-zUycRvFC",
        "outputId": "ca338dfb-8726-471e-9d81-3f32769f6654"
      },
      "source": [
        "# Lets plot the Actual Values to the Predicted values by the Model #\n",
        "test_data[['VWAP','Forecast_ARIMA']].plot(figsize=(14,7))"
      ],
      "execution_count": 33,
      "outputs": [
        {
          "output_type": "execute_result",
          "data": {
            "text/plain": [
              "<matplotlib.axes._subplots.AxesSubplot at 0x7f2b00b04390>"
            ]
          },
          "metadata": {
            "tags": []
          },
          "execution_count": 33
        },
        {
          "output_type": "display_data",
          "data": {
            "image/png": "[encoded data removed]",
            "text/plain": [
              "<Figure size 1008x504 with 1 Axes>"
            ]
          },
          "metadata": {
            "tags": [],
            "needs_background": "light"
          }
        }
      ]
    },
    {
      "cell_type": "markdown",
      "metadata": {
        "id": "fxYMBxMXPAwT"
      },
      "source": [
        "Note that : The Model was predicting VWAP with very high Accuracy until March 2020 . Which we know what happened after that : 'The Corona pandemic'.After the pandemic the markets were super Unstable ,leading to such drastic highs and lows in predictions after March 2020.This is Clearly Visualized in the graph."
      ]
    },
    {
      "cell_type": "markdown",
      "metadata": {
        "id": "1lkwLE7IHSgs"
      },
      "source": [
        "**8.Accuracy Matrix and R Squared Value**"
      ]
    },
    {
      "cell_type": "code",
      "metadata": {
        "colab": {
          "base_uri": "https://localhost:8080/"
        },
        "id": "D3wWWetwHqpO",
        "outputId": "fc12b3cc-3470-4e94-c4f6-4a8f049eff94"
      },
      "source": [
        "x = test_data.iloc[:,8].values\n",
        "y = test_data.iloc[:,29].values\n",
        "x = x.reshape(len(x),1)\n",
        "y = y.reshape(len(y),1)\n",
        "am = np.concatenate((x,y),1)\n",
        "am[:10]\n",
        "# x is the Actual VWAP and y is the predicted VWAP #"
      ],
      "execution_count": 34,
      "outputs": [
        {
          "output_type": "execute_result",
          "data": {
            "text/plain": [
              "array([[1645.57      , 1658.17634323],\n",
              "       [1652.22      , 1645.21800726],\n",
              "       [1633.83      , 1660.1916043 ],\n",
              "       [1652.31      , 1658.35296147],\n",
              "       [1627.87      , 1636.42559491],\n",
              "       [1617.85      , 1625.52773087],\n",
              "       [1654.53      , 1626.52833643],\n",
              "       [1665.45      , 1621.61468968],\n",
              "       [1685.13      , 1652.12232702],\n",
              "       [1686.47      , 1690.61037729]])"
            ]
          },
          "metadata": {
            "tags": []
          },
          "execution_count": 34
        }
      ]
    },
    {
      "cell_type": "code",
      "metadata": {
        "colab": {
          "base_uri": "https://localhost:8080/"
        },
        "id": "sq4wqrBDRu40",
        "outputId": "1fb447b4-f15a-4810-feaf-591b81b942e8"
      },
      "source": [
        "from sklearn.metrics import r2_score,mean_absolute_error, mean_squared_error\n",
        "r2_score(test_data['VWAP'],test_data['Forecast_ARIMA'])\n",
        "# An R Squared Value of 0.89 makes this model a Good Fit #"
      ],
      "execution_count": 35,
      "outputs": [
        {
          "output_type": "execute_result",
          "data": {
            "text/plain": [
              "0.8899449620757011"
            ]
          },
          "metadata": {
            "tags": []
          },
          "execution_count": 35
        }
      ]
    },
    {
      "cell_type": "code",
      "metadata": {
        "colab": {
          "base_uri": "https://localhost:8080/"
        },
        "id": "UKo2_gpwGi6B",
        "outputId": "154723f6-dc08-4f38-e96e-e5753c753b08"
      },
      "source": [
        "np.sqrt(mean_squared_error(test_data['VWAP'],test_data['Forecast_ARIMA']))"
      ],
      "execution_count": 36,
      "outputs": [
        {
          "output_type": "execute_result",
          "data": {
            "text/plain": [
              "259.6434857019801"
            ]
          },
          "metadata": {
            "tags": []
          },
          "execution_count": 36
        }
      ]
    },
    {
      "cell_type": "code",
      "metadata": {
        "colab": {
          "base_uri": "https://localhost:8080/"
        },
        "id": "axJ3r2r8Gis8",
        "outputId": "2f100ec2-baa8-4f18-db19-bb1b104524b8"
      },
      "source": [
        "mean_absolute_error(test_data['VWAP'],test_data['Forecast_ARIMA'])"
      ],
      "execution_count": 37,
      "outputs": [
        {
          "output_type": "execute_result",
          "data": {
            "text/plain": [
              "156.49661023039096"
            ]
          },
          "metadata": {
            "tags": []
          },
          "execution_count": 37
        }
      ]
    },
    {
      "cell_type": "markdown",
      "metadata": {
        "id": "mahdLP2B5Ugb"
      },
      "source": [
        "**9.Lets check Accuracy for Test Set just before March 2020 just for the sake of Curiosity**"
      ]
    },
    {
      "cell_type": "code",
      "metadata": {
        "colab": {
          "base_uri": "https://localhost:8080/"
        },
        "id": "yCOM5YIb5qVQ",
        "outputId": "71a42a6d-6c76-4366-b43e-3aed8490775a"
      },
      "source": [
        "test_data.shape"
      ],
      "execution_count": 38,
      "outputs": [
        {
          "output_type": "execute_result",
          "data": {
            "text/plain": [
              "(618, 30)"
            ]
          },
          "metadata": {
            "tags": []
          },
          "execution_count": 38
        }
      ]
    },
    {
      "cell_type": "code",
      "metadata": {
        "id": "PZtigGRr8ikO"
      },
      "source": [
        "pre_covid_test_data = test_data.iloc[:475,:]\n",
        "post_covid_test_data = test_data.iloc[475:,:]"
      ],
      "execution_count": 39,
      "outputs": []
    },
    {
      "cell_type": "code",
      "metadata": {
        "colab": {
          "base_uri": "https://localhost:8080/"
        },
        "id": "kx36ND2L9y9P",
        "outputId": "397f3c4e-b1b7-4b99-908c-13d6002093d4"
      },
      "source": [
        "forecast_a=model.predict(n_periods=len(pre_covid_test_data), exogenous=pre_covid_test_data[Independent_Features])"
      ],
      "execution_count": 40,
      "outputs": [
        {
          "output_type": "stream",
          "text": [
            "/usr/local/lib/python3.7/dist-packages/statsmodels/tsa/base/tsa_model.py:379: ValueWarning: No supported index is available. Prediction results will be given with an integer index beginning at `start`.\n",
            "  ValueWarning)\n"
          ],
          "name": "stderr"
        }
      ]
    },
    {
      "cell_type": "code",
      "metadata": {
        "colab": {
          "base_uri": "https://localhost:8080/"
        },
        "id": "0Dv-Ymh8_lgy",
        "outputId": "ae30775c-a77b-42de-f031-194e213f9b30"
      },
      "source": [
        "forecast_b=model.predict(n_periods=len(post_covid_test_data), exogenous=post_covid_test_data[Independent_Features])"
      ],
      "execution_count": 41,
      "outputs": [
        {
          "output_type": "stream",
          "text": [
            "/usr/local/lib/python3.7/dist-packages/statsmodels/tsa/base/tsa_model.py:379: ValueWarning: No supported index is available. Prediction results will be given with an integer index beginning at `start`.\n",
            "  ValueWarning)\n"
          ],
          "name": "stderr"
        }
      ]
    },
    {
      "cell_type": "code",
      "metadata": {
        "colab": {
          "base_uri": "https://localhost:8080/"
        },
        "id": "rm16HFtt_tzF",
        "outputId": "5011a2e7-2736-46cf-d1e5-e4039c26d6ea"
      },
      "source": [
        "pre_covid_test_data['Forecast_ARIMA']=forecast_a"
      ],
      "execution_count": 42,
      "outputs": [
        {
          "output_type": "stream",
          "text": [
            "/usr/local/lib/python3.7/dist-packages/ipykernel_launcher.py:1: SettingWithCopyWarning: \n",
            "A value is trying to be set on a copy of a slice from a DataFrame.\n",
            "Try using .loc[row_indexer,col_indexer] = value instead\n",
            "\n",
            "See the caveats in the documentation: https://pandas.pydata.org/pandas-docs/stable/user_guide/indexing.html#returning-a-view-versus-a-copy\n",
            "  \"\"\"Entry point for launching an IPython kernel.\n"
          ],
          "name": "stderr"
        }
      ]
    },
    {
      "cell_type": "code",
      "metadata": {
        "colab": {
          "base_uri": "https://localhost:8080/"
        },
        "id": "fpan6jWS_0oh",
        "outputId": "626f1079-dbcd-402d-a5f9-90fe71125bf6"
      },
      "source": [
        "post_covid_test_data['Forecast_ARIMA']=forecast_b"
      ],
      "execution_count": 43,
      "outputs": [
        {
          "output_type": "stream",
          "text": [
            "/usr/local/lib/python3.7/dist-packages/ipykernel_launcher.py:1: SettingWithCopyWarning: \n",
            "A value is trying to be set on a copy of a slice from a DataFrame.\n",
            "Try using .loc[row_indexer,col_indexer] = value instead\n",
            "\n",
            "See the caveats in the documentation: https://pandas.pydata.org/pandas-docs/stable/user_guide/indexing.html#returning-a-view-versus-a-copy\n",
            "  \"\"\"Entry point for launching an IPython kernel.\n"
          ],
          "name": "stderr"
        }
      ]
    },
    {
      "cell_type": "code",
      "metadata": {
        "colab": {
          "base_uri": "https://localhost:8080/",
          "height": 460
        },
        "id": "lPWH-ql0AE4Y",
        "outputId": "2ba35ec6-200f-4e3b-8a08-8babf4cba4f8"
      },
      "source": [
        "pre_covid_test_data[['VWAP','Forecast_ARIMA']].plot(figsize=(14,7))"
      ],
      "execution_count": 44,
      "outputs": [
        {
          "output_type": "execute_result",
          "data": {
            "text/plain": [
              "<matplotlib.axes._subplots.AxesSubplot at 0x7f2b009d7310>"
            ]
          },
          "metadata": {
            "tags": []
          },
          "execution_count": 44
        },
        {
          "output_type": "display_data",
          "data": {
            "image/png": "[encoded data removed]",
            "text/plain": [
              "<Figure size 1008x504 with 1 Axes>"
            ]
          },
          "metadata": {
            "tags": [],
            "needs_background": "light"
          }
        }
      ]
    },
    {
      "cell_type": "code",
      "metadata": {
        "colab": {
          "base_uri": "https://localhost:8080/"
        },
        "id": "vqLxfLguAV_3",
        "outputId": "b2f615d8-c921-4ab2-d2f8-5b9bd95f0fe4"
      },
      "source": [
        "r2_score(pre_covid_test_data['VWAP'],pre_covid_test_data['Forecast_ARIMA'])"
      ],
      "execution_count": 45,
      "outputs": [
        {
          "output_type": "execute_result",
          "data": {
            "text/plain": [
              "0.9767436433093339"
            ]
          },
          "metadata": {
            "tags": []
          },
          "execution_count": 45
        }
      ]
    },
    {
      "cell_type": "code",
      "metadata": {
        "colab": {
          "base_uri": "https://localhost:8080/"
        },
        "id": "PFsC6pHmHKQx",
        "outputId": "594c7540-eb01-4ade-ff26-a907849de580"
      },
      "source": [
        "np.sqrt(mean_squared_error(pre_covid_test_data['VWAP'],pre_covid_test_data['Forecast_ARIMA']))"
      ],
      "execution_count": 46,
      "outputs": [
        {
          "output_type": "execute_result",
          "data": {
            "text/plain": [
              "113.97541410019909"
            ]
          },
          "metadata": {
            "tags": []
          },
          "execution_count": 46
        }
      ]
    },
    {
      "cell_type": "code",
      "metadata": {
        "colab": {
          "base_uri": "https://localhost:8080/"
        },
        "id": "cv7qd94EHK-g",
        "outputId": "aab3eb90-a113-48e4-c102-69aeb7494b02"
      },
      "source": [
        "mean_absolute_error(pre_covid_test_data['VWAP'],pre_covid_test_data['Forecast_ARIMA'])"
      ],
      "execution_count": 47,
      "outputs": [
        {
          "output_type": "execute_result",
          "data": {
            "text/plain": [
              "85.29149261839103"
            ]
          },
          "metadata": {
            "tags": []
          },
          "execution_count": 47
        }
      ]
    },
    {
      "cell_type": "markdown",
      "metadata": {
        "id": "ogVzMyXVDioR"
      },
      "source": [
        "R Squared Value of Pre-Covid Predictions are pretty Amazing with a whooping Accuracy of almost 98% . Also Note that the forecast by Arima is mostly Under-Predicted except a few exceptions.Which is actually good while buying Stock market shares (ie.) you get more profit than your expectations.All said and done still the values MAE and RMSE looks a little bit higher , That is expected after all.Predicting Super Accurate stock prices is nearly Impossible.These predicted values cannot be used in Intra-day trading , but can still be effectively used in Swing trading and Long term Investmest"
      ]
    },
    {
      "cell_type": "code",
      "metadata": {
        "colab": {
          "base_uri": "https://localhost:8080/",
          "height": 460
        },
        "id": "sk-ewNwqAKFI",
        "outputId": "cda7e4ce-a043-4374-ba91-50df7827bcb7"
      },
      "source": [
        "post_covid_test_data[['VWAP','Forecast_ARIMA']].plot(figsize=(14,7))"
      ],
      "execution_count": 48,
      "outputs": [
        {
          "output_type": "execute_result",
          "data": {
            "text/plain": [
              "<matplotlib.axes._subplots.AxesSubplot at 0x7f2b00b02d90>"
            ]
          },
          "metadata": {
            "tags": []
          },
          "execution_count": 48
        },
        {
          "output_type": "display_data",
          "data": {
            "image/png": "[encoded data removed]",
            "text/plain": [
              "<Figure size 1008x504 with 1 Axes>"
            ]
          },
          "metadata": {
            "tags": [],
            "needs_background": "light"
          }
        }
      ]
    },
    {
      "cell_type": "code",
      "metadata": {
        "colab": {
          "base_uri": "https://localhost:8080/"
        },
        "id": "_BVNNa77AEoZ",
        "outputId": "66a593ac-37d2-44a5-9349-d2a89e3c08ee"
      },
      "source": [
        "r2_score(post_covid_test_data['VWAP'],post_covid_test_data['Forecast_ARIMA'])"
      ],
      "execution_count": 49,
      "outputs": [
        {
          "output_type": "execute_result",
          "data": {
            "text/plain": [
              "0.6792377973587886"
            ]
          },
          "metadata": {
            "tags": []
          },
          "execution_count": 49
        }
      ]
    },
    {
      "cell_type": "markdown",
      "metadata": {
        "id": "N_Xf6weHDp0n"
      },
      "source": [
        "As expected the R Squared Value of Post Covid test data is Disappointing and brought down the accuracy of the model.It is implictly proved that this model is not a good fit for this data.No need for MAE and RMSE to prove it again."
      ]
    },
    {
      "cell_type": "markdown",
      "metadata": {
        "id": "0nDi-oRmJ1tV"
      },
      "source": [
        "**10.Predicting the Value of VWAP in Realtime**"
      ]
    },
    {
      "cell_type": "code",
      "metadata": {
        "id": "b_KmrcdnhUQn"
      },
      "source": [
        "check = pd.read_csv('07-04-2021-TO-06-05-2021BAJFINANCEEQN.csv')"
      ],
      "execution_count": 50,
      "outputs": []
    },
    {
      "cell_type": "markdown",
      "metadata": {
        "id": "UdmoPkyeLKWA"
      },
      "source": [
        "Note that : The training data stops at August 2018 and the below data is from April 2021 till today (May 07 2021)                                               .\n",
        "I know it is not perfectly done in Real time , but this the best I could do,to bring in the essence of realtime in this project . please bear with me"
      ]
    },
    {
      "cell_type": "markdown",
      "metadata": {
        "id": "is5p-U-iLhJY"
      },
      "source": [
        "***The same preliminary Analysis , Null value Detection & Rectification , Data Cleaning and Creation of Rolling Variables is done for this small Dataset as well***"
      ]
    },
    {
      "cell_type": "code",
      "metadata": {
        "colab": {
          "base_uri": "https://localhost:8080/",
          "height": 278
        },
        "id": "BOUB_pK7hT9o",
        "outputId": "ea772d30-6eb2-40f3-b83a-bdc037d09f8c"
      },
      "source": [
        "check.head()"
      ],
      "execution_count": 51,
      "outputs": [
        {
          "output_type": "execute_result",
          "data": {
            "text/html": [
              "<div>\n",
              "<style scoped>\n",
              "    .dataframe tbody tr th:only-of-type {\n",
              "        vertical-align: middle;\n",
              "    }\n",
              "\n",
              "    .dataframe tbody tr th {\n",
              "        vertical-align: top;\n",
              "    }\n",
              "\n",
              "    .dataframe thead th {\n",
              "        text-align: right;\n",
              "    }\n",
              "</style>\n",
              "<table border=\"1\" class=\"dataframe\">\n",
              "  <thead>\n",
              "    <tr style=\"text-align: right;\">\n",
              "      <th></th>\n",
              "      <th>Date</th>\n",
              "      <th>Symbol</th>\n",
              "      <th>Series</th>\n",
              "      <th>Prev Close</th>\n",
              "      <th>Open Price</th>\n",
              "      <th>High Price</th>\n",
              "      <th>Low Price</th>\n",
              "      <th>Last Price</th>\n",
              "      <th>Close Price</th>\n",
              "      <th>VWAP</th>\n",
              "      <th>Total Traded Quantity</th>\n",
              "      <th>Turnover</th>\n",
              "      <th>No. of Trades</th>\n",
              "      <th>Deliverable Qty</th>\n",
              "      <th>% Dly Qt to Traded Qty</th>\n",
              "    </tr>\n",
              "  </thead>\n",
              "  <tbody>\n",
              "    <tr>\n",
              "      <th>0</th>\n",
              "      <td>07-04-21</td>\n",
              "      <td>BAJFINANCE</td>\n",
              "      <td>EQ</td>\n",
              "      <td>4993.1</td>\n",
              "      <td>4980.0</td>\n",
              "      <td>5109.0</td>\n",
              "      <td>4940.00</td>\n",
              "      <td>5069.1</td>\n",
              "      <td>5077.10</td>\n",
              "      <td>5043.73</td>\n",
              "      <td>2402782</td>\n",
              "      <td>12118975497</td>\n",
              "      <td>130810</td>\n",
              "      <td>609473</td>\n",
              "      <td>25.37</td>\n",
              "    </tr>\n",
              "    <tr>\n",
              "      <th>1</th>\n",
              "      <td>08-04-21</td>\n",
              "      <td>BAJFINANCE</td>\n",
              "      <td>EQ</td>\n",
              "      <td>5077.1</td>\n",
              "      <td>5100.0</td>\n",
              "      <td>5115.0</td>\n",
              "      <td>5015.00</td>\n",
              "      <td>5027.3</td>\n",
              "      <td>5029.50</td>\n",
              "      <td>5061.08</td>\n",
              "      <td>1407879</td>\n",
              "      <td>7125389270</td>\n",
              "      <td>114649</td>\n",
              "      <td>383568</td>\n",
              "      <td>27.24</td>\n",
              "    </tr>\n",
              "    <tr>\n",
              "      <th>2</th>\n",
              "      <td>09-04-21</td>\n",
              "      <td>BAJFINANCE</td>\n",
              "      <td>EQ</td>\n",
              "      <td>5029.5</td>\n",
              "      <td>5000.0</td>\n",
              "      <td>5010.0</td>\n",
              "      <td>4845.00</td>\n",
              "      <td>4878.0</td>\n",
              "      <td>4872.30</td>\n",
              "      <td>4908.86</td>\n",
              "      <td>2902646</td>\n",
              "      <td>14248672058</td>\n",
              "      <td>239654</td>\n",
              "      <td>1274214</td>\n",
              "      <td>43.90</td>\n",
              "    </tr>\n",
              "    <tr>\n",
              "      <th>3</th>\n",
              "      <td>12-04-21</td>\n",
              "      <td>BAJFINANCE</td>\n",
              "      <td>EQ</td>\n",
              "      <td>4872.3</td>\n",
              "      <td>4740.0</td>\n",
              "      <td>4740.0</td>\n",
              "      <td>4400.00</td>\n",
              "      <td>4519.0</td>\n",
              "      <td>4511.00</td>\n",
              "      <td>4535.10</td>\n",
              "      <td>4500046</td>\n",
              "      <td>20408167515</td>\n",
              "      <td>334289</td>\n",
              "      <td>1261611</td>\n",
              "      <td>28.04</td>\n",
              "    </tr>\n",
              "    <tr>\n",
              "      <th>4</th>\n",
              "      <td>13-04-21</td>\n",
              "      <td>BAJFINANCE</td>\n",
              "      <td>EQ</td>\n",
              "      <td>4511.0</td>\n",
              "      <td>4535.1</td>\n",
              "      <td>4774.9</td>\n",
              "      <td>4514.05</td>\n",
              "      <td>4730.0</td>\n",
              "      <td>4728.75</td>\n",
              "      <td>4660.26</td>\n",
              "      <td>3175019</td>\n",
              "      <td>14796410483</td>\n",
              "      <td>204148</td>\n",
              "      <td>516743</td>\n",
              "      <td>16.28</td>\n",
              "    </tr>\n",
              "  </tbody>\n",
              "</table>\n",
              "</div>"
            ],
            "text/plain": [
              "       Date      Symbol  ... Deliverable Qty  % Dly Qt to Traded Qty\n",
              "0  07-04-21  BAJFINANCE  ...          609473                   25.37\n",
              "1  08-04-21  BAJFINANCE  ...          383568                   27.24\n",
              "2  09-04-21  BAJFINANCE  ...         1274214                   43.90\n",
              "3  12-04-21  BAJFINANCE  ...         1261611                   28.04\n",
              "4  13-04-21  BAJFINANCE  ...          516743                   16.28\n",
              "\n",
              "[5 rows x 15 columns]"
            ]
          },
          "metadata": {
            "tags": []
          },
          "execution_count": 51
        }
      ]
    },
    {
      "cell_type": "code",
      "metadata": {
        "id": "bPQt1exRibza"
      },
      "source": [
        "check.set_index('Date',inplace=True)"
      ],
      "execution_count": 52,
      "outputs": []
    },
    {
      "cell_type": "code",
      "metadata": {
        "colab": {
          "base_uri": "https://localhost:8080/",
          "height": 297
        },
        "id": "EhdvuWO2lGm6",
        "outputId": "b5637126-9591-41e6-822f-8bf8ea43e6cd"
      },
      "source": [
        "check['VWAP'].plot()"
      ],
      "execution_count": 53,
      "outputs": [
        {
          "output_type": "execute_result",
          "data": {
            "text/plain": [
              "<matplotlib.axes._subplots.AxesSubplot at 0x7f2b00abc510>"
            ]
          },
          "metadata": {
            "tags": []
          },
          "execution_count": 53
        },
        {
          "output_type": "display_data",
          "data": {
            "image/png": "[encoded data removed]",
            "text/plain": [
              "<Figure size 432x288 with 1 Axes>"
            ]
          },
          "metadata": {
            "tags": [],
            "needs_background": "light"
          }
        }
      ]
    },
    {
      "cell_type": "code",
      "metadata": {
        "id": "VPvWAKL6ij3w"
      },
      "source": [
        "check.drop('No. of Trades',axis=1,inplace=True)"
      ],
      "execution_count": 54,
      "outputs": []
    },
    {
      "cell_type": "code",
      "metadata": {
        "colab": {
          "base_uri": "https://localhost:8080/"
        },
        "id": "k2DDCbVflzjo",
        "outputId": "1baa77a4-5dd5-482e-b140-47efde07fa81"
      },
      "source": [
        "check.shape"
      ],
      "execution_count": 55,
      "outputs": [
        {
          "output_type": "execute_result",
          "data": {
            "text/plain": [
              "(20, 13)"
            ]
          },
          "metadata": {
            "tags": []
          },
          "execution_count": 55
        }
      ]
    },
    {
      "cell_type": "code",
      "metadata": {
        "colab": {
          "base_uri": "https://localhost:8080/"
        },
        "id": "Bk-oEghfl4Jw",
        "outputId": "c486dc24-310d-4ec5-983a-1a13986970d9"
      },
      "source": [
        "check.isna().sum()"
      ],
      "execution_count": 56,
      "outputs": [
        {
          "output_type": "execute_result",
          "data": {
            "text/plain": [
              "Symbol                    0\n",
              "Series                    0\n",
              "Prev Close                0\n",
              "Open Price                0\n",
              "High Price                0\n",
              "Low Price                 0\n",
              "Last Price                0\n",
              "Close Price               0\n",
              "VWAP                      0\n",
              "Total Traded Quantity     0\n",
              "Turnover                  0\n",
              "Deliverable Qty           0\n",
              "% Dly Qt to Traded Qty    0\n",
              "dtype: int64"
            ]
          },
          "metadata": {
            "tags": []
          },
          "execution_count": 56
        }
      ]
    },
    {
      "cell_type": "code",
      "metadata": {
        "colab": {
          "base_uri": "https://localhost:8080/"
        },
        "id": "9UsFSi7YmHwR",
        "outputId": "269217d2-fe24-438b-c00c-d4fb98e8aa73"
      },
      "source": [
        "check.columns"
      ],
      "execution_count": 57,
      "outputs": [
        {
          "output_type": "execute_result",
          "data": {
            "text/plain": [
              "Index(['Symbol', 'Series', 'Prev Close', 'Open Price', 'High Price',\n",
              "       'Low Price', 'Last Price', 'Close Price', 'VWAP',\n",
              "       'Total Traded Quantity', 'Turnover', 'Deliverable Qty',\n",
              "       '% Dly Qt to Traded Qty'],\n",
              "      dtype='object')"
            ]
          },
          "metadata": {
            "tags": []
          },
          "execution_count": 57
        }
      ]
    },
    {
      "cell_type": "code",
      "metadata": {
        "id": "jo5W1_Z5mQCT"
      },
      "source": [
        "lag_feature = ['High Price','Low Price','Total Traded Quantity', 'Turnover']\n",
        "window3=3\n",
        "window4=7"
      ],
      "execution_count": 58,
      "outputs": []
    },
    {
      "cell_type": "code",
      "metadata": {
        "id": "KAS30TZMmzwV"
      },
      "source": [
        "for feature in lag_feature:\n",
        "    check[feature+'rolling_mean_3']=check[feature].rolling(window=window3).mean()\n",
        "    check[feature+'rolling_mean_7']=check[feature].rolling(window=window4).mean()"
      ],
      "execution_count": 59,
      "outputs": []
    },
    {
      "cell_type": "code",
      "metadata": {
        "id": "yfTX5R5TnDiv"
      },
      "source": [
        "for feature in lag_feature:\n",
        "    check[feature+'rolling_std_3']=check[feature].rolling(window=window3).std()\n",
        "    check[feature+'rolling_std_7']=check[feature].rolling(window=window4).std()"
      ],
      "execution_count": 60,
      "outputs": []
    },
    {
      "cell_type": "code",
      "metadata": {
        "colab": {
          "base_uri": "https://localhost:8080/",
          "height": 310
        },
        "id": "uKz973BTnkJg",
        "outputId": "2dedb04a-c157-4631-b43f-9d2bcc8c3cda"
      },
      "source": [
        "check.head()"
      ],
      "execution_count": 61,
      "outputs": [
        {
          "output_type": "execute_result",
          "data": {
            "text/html": [
              "<div>\n",
              "<style scoped>\n",
              "    .dataframe tbody tr th:only-of-type {\n",
              "        vertical-align: middle;\n",
              "    }\n",
              "\n",
              "    .dataframe tbody tr th {\n",
              "        vertical-align: top;\n",
              "    }\n",
              "\n",
              "    .dataframe thead th {\n",
              "        text-align: right;\n",
              "    }\n",
              "</style>\n",
              "<table border=\"1\" class=\"dataframe\">\n",
              "  <thead>\n",
              "    <tr style=\"text-align: right;\">\n",
              "      <th></th>\n",
              "      <th>Symbol</th>\n",
              "      <th>Series</th>\n",
              "      <th>Prev Close</th>\n",
              "      <th>Open Price</th>\n",
              "      <th>High Price</th>\n",
              "      <th>Low Price</th>\n",
              "      <th>Last Price</th>\n",
              "      <th>Close Price</th>\n",
              "      <th>VWAP</th>\n",
              "      <th>Total Traded Quantity</th>\n",
              "      <th>Turnover</th>\n",
              "      <th>Deliverable Qty</th>\n",
              "      <th>% Dly Qt to Traded Qty</th>\n",
              "      <th>High Pricerolling_mean_3</th>\n",
              "      <th>High Pricerolling_mean_7</th>\n",
              "      <th>Low Pricerolling_mean_3</th>\n",
              "      <th>Low Pricerolling_mean_7</th>\n",
              "      <th>Total Traded Quantityrolling_mean_3</th>\n",
              "      <th>Total Traded Quantityrolling_mean_7</th>\n",
              "      <th>Turnoverrolling_mean_3</th>\n",
              "      <th>Turnoverrolling_mean_7</th>\n",
              "      <th>High Pricerolling_std_3</th>\n",
              "      <th>High Pricerolling_std_7</th>\n",
              "      <th>Low Pricerolling_std_3</th>\n",
              "      <th>Low Pricerolling_std_7</th>\n",
              "      <th>Total Traded Quantityrolling_std_3</th>\n",
              "      <th>Total Traded Quantityrolling_std_7</th>\n",
              "      <th>Turnoverrolling_std_3</th>\n",
              "      <th>Turnoverrolling_std_7</th>\n",
              "    </tr>\n",
              "    <tr>\n",
              "      <th>Date</th>\n",
              "      <th></th>\n",
              "      <th></th>\n",
              "      <th></th>\n",
              "      <th></th>\n",
              "      <th></th>\n",
              "      <th></th>\n",
              "      <th></th>\n",
              "      <th></th>\n",
              "      <th></th>\n",
              "      <th></th>\n",
              "      <th></th>\n",
              "      <th></th>\n",
              "      <th></th>\n",
              "      <th></th>\n",
              "      <th></th>\n",
              "      <th></th>\n",
              "      <th></th>\n",
              "      <th></th>\n",
              "      <th></th>\n",
              "      <th></th>\n",
              "      <th></th>\n",
              "      <th></th>\n",
              "      <th></th>\n",
              "      <th></th>\n",
              "      <th></th>\n",
              "      <th></th>\n",
              "      <th></th>\n",
              "      <th></th>\n",
              "      <th></th>\n",
              "    </tr>\n",
              "  </thead>\n",
              "  <tbody>\n",
              "    <tr>\n",
              "      <th>07-04-21</th>\n",
              "      <td>BAJFINANCE</td>\n",
              "      <td>EQ</td>\n",
              "      <td>4993.1</td>\n",
              "      <td>4980.0</td>\n",
              "      <td>5109.0</td>\n",
              "      <td>4940.00</td>\n",
              "      <td>5069.1</td>\n",
              "      <td>5077.10</td>\n",
              "      <td>5043.73</td>\n",
              "      <td>2402782</td>\n",
              "      <td>12118975497</td>\n",
              "      <td>609473</td>\n",
              "      <td>25.37</td>\n",
              "      <td>NaN</td>\n",
              "      <td>NaN</td>\n",
              "      <td>NaN</td>\n",
              "      <td>NaN</td>\n",
              "      <td>NaN</td>\n",
              "      <td>NaN</td>\n",
              "      <td>NaN</td>\n",
              "      <td>NaN</td>\n",
              "      <td>NaN</td>\n",
              "      <td>NaN</td>\n",
              "      <td>NaN</td>\n",
              "      <td>NaN</td>\n",
              "      <td>NaN</td>\n",
              "      <td>NaN</td>\n",
              "      <td>NaN</td>\n",
              "      <td>NaN</td>\n",
              "    </tr>\n",
              "    <tr>\n",
              "      <th>08-04-21</th>\n",
              "      <td>BAJFINANCE</td>\n",
              "      <td>EQ</td>\n",
              "      <td>5077.1</td>\n",
              "      <td>5100.0</td>\n",
              "      <td>5115.0</td>\n",
              "      <td>5015.00</td>\n",
              "      <td>5027.3</td>\n",
              "      <td>5029.50</td>\n",
              "      <td>5061.08</td>\n",
              "      <td>1407879</td>\n",
              "      <td>7125389270</td>\n",
              "      <td>383568</td>\n",
              "      <td>27.24</td>\n",
              "      <td>NaN</td>\n",
              "      <td>NaN</td>\n",
              "      <td>NaN</td>\n",
              "      <td>NaN</td>\n",
              "      <td>NaN</td>\n",
              "      <td>NaN</td>\n",
              "      <td>NaN</td>\n",
              "      <td>NaN</td>\n",
              "      <td>NaN</td>\n",
              "      <td>NaN</td>\n",
              "      <td>NaN</td>\n",
              "      <td>NaN</td>\n",
              "      <td>NaN</td>\n",
              "      <td>NaN</td>\n",
              "      <td>NaN</td>\n",
              "      <td>NaN</td>\n",
              "    </tr>\n",
              "    <tr>\n",
              "      <th>09-04-21</th>\n",
              "      <td>BAJFINANCE</td>\n",
              "      <td>EQ</td>\n",
              "      <td>5029.5</td>\n",
              "      <td>5000.0</td>\n",
              "      <td>5010.0</td>\n",
              "      <td>4845.00</td>\n",
              "      <td>4878.0</td>\n",
              "      <td>4872.30</td>\n",
              "      <td>4908.86</td>\n",
              "      <td>2902646</td>\n",
              "      <td>14248672058</td>\n",
              "      <td>1274214</td>\n",
              "      <td>43.90</td>\n",
              "      <td>5078.000000</td>\n",
              "      <td>NaN</td>\n",
              "      <td>4933.333333</td>\n",
              "      <td>NaN</td>\n",
              "      <td>2.237769e+06</td>\n",
              "      <td>NaN</td>\n",
              "      <td>1.116435e+10</td>\n",
              "      <td>NaN</td>\n",
              "      <td>58.966092</td>\n",
              "      <td>NaN</td>\n",
              "      <td>85.195853</td>\n",
              "      <td>NaN</td>\n",
              "      <td>7.609232e+05</td>\n",
              "      <td>NaN</td>\n",
              "      <td>3.656334e+09</td>\n",
              "      <td>NaN</td>\n",
              "    </tr>\n",
              "    <tr>\n",
              "      <th>12-04-21</th>\n",
              "      <td>BAJFINANCE</td>\n",
              "      <td>EQ</td>\n",
              "      <td>4872.3</td>\n",
              "      <td>4740.0</td>\n",
              "      <td>4740.0</td>\n",
              "      <td>4400.00</td>\n",
              "      <td>4519.0</td>\n",
              "      <td>4511.00</td>\n",
              "      <td>4535.10</td>\n",
              "      <td>4500046</td>\n",
              "      <td>20408167515</td>\n",
              "      <td>1261611</td>\n",
              "      <td>28.04</td>\n",
              "      <td>4955.000000</td>\n",
              "      <td>NaN</td>\n",
              "      <td>4753.333333</td>\n",
              "      <td>NaN</td>\n",
              "      <td>2.936857e+06</td>\n",
              "      <td>NaN</td>\n",
              "      <td>1.392741e+10</td>\n",
              "      <td>NaN</td>\n",
              "      <td>193.455421</td>\n",
              "      <td>NaN</td>\n",
              "      <td>317.582010</td>\n",
              "      <td>NaN</td>\n",
              "      <td>1.546367e+06</td>\n",
              "      <td>NaN</td>\n",
              "      <td>6.647214e+09</td>\n",
              "      <td>NaN</td>\n",
              "    </tr>\n",
              "    <tr>\n",
              "      <th>13-04-21</th>\n",
              "      <td>BAJFINANCE</td>\n",
              "      <td>EQ</td>\n",
              "      <td>4511.0</td>\n",
              "      <td>4535.1</td>\n",
              "      <td>4774.9</td>\n",
              "      <td>4514.05</td>\n",
              "      <td>4730.0</td>\n",
              "      <td>4728.75</td>\n",
              "      <td>4660.26</td>\n",
              "      <td>3175019</td>\n",
              "      <td>14796410483</td>\n",
              "      <td>516743</td>\n",
              "      <td>16.28</td>\n",
              "      <td>4841.633333</td>\n",
              "      <td>NaN</td>\n",
              "      <td>4586.350000</td>\n",
              "      <td>NaN</td>\n",
              "      <td>3.525904e+06</td>\n",
              "      <td>NaN</td>\n",
              "      <td>1.648442e+10</td>\n",
              "      <td>NaN</td>\n",
              "      <td>146.850275</td>\n",
              "      <td>NaN</td>\n",
              "      <td>231.142202</td>\n",
              "      <td>NaN</td>\n",
              "      <td>8.545535e+05</td>\n",
              "      <td>NaN</td>\n",
              "      <td>3.409086e+09</td>\n",
              "      <td>NaN</td>\n",
              "    </tr>\n",
              "  </tbody>\n",
              "</table>\n",
              "</div>"
            ],
            "text/plain": [
              "              Symbol Series  ...  Turnoverrolling_std_3  Turnoverrolling_std_7\n",
              "Date                         ...                                              \n",
              "07-04-21  BAJFINANCE     EQ  ...                    NaN                    NaN\n",
              "08-04-21  BAJFINANCE     EQ  ...                    NaN                    NaN\n",
              "09-04-21  BAJFINANCE     EQ  ...           3.656334e+09                    NaN\n",
              "12-04-21  BAJFINANCE     EQ  ...           6.647214e+09                    NaN\n",
              "13-04-21  BAJFINANCE     EQ  ...           3.409086e+09                    NaN\n",
              "\n",
              "[5 rows x 29 columns]"
            ]
          },
          "metadata": {
            "tags": []
          },
          "execution_count": 61
        }
      ]
    },
    {
      "cell_type": "code",
      "metadata": {
        "colab": {
          "base_uri": "https://localhost:8080/"
        },
        "id": "idweEcXtnpah",
        "outputId": "6551f31e-76e6-403b-9355-5276dd440726"
      },
      "source": [
        "check.isna().sum()"
      ],
      "execution_count": 62,
      "outputs": [
        {
          "output_type": "execute_result",
          "data": {
            "text/plain": [
              "Symbol                                 0\n",
              "Series                                 0\n",
              "Prev Close                             0\n",
              "Open Price                             0\n",
              "High Price                             0\n",
              "Low Price                              0\n",
              "Last Price                             0\n",
              "Close Price                            0\n",
              "VWAP                                   0\n",
              "Total Traded Quantity                  0\n",
              "Turnover                               0\n",
              "Deliverable Qty                        0\n",
              "% Dly Qt to Traded Qty                 0\n",
              "High Pricerolling_mean_3               2\n",
              "High Pricerolling_mean_7               6\n",
              "Low Pricerolling_mean_3                2\n",
              "Low Pricerolling_mean_7                6\n",
              "Total Traded Quantityrolling_mean_3    2\n",
              "Total Traded Quantityrolling_mean_7    6\n",
              "Turnoverrolling_mean_3                 2\n",
              "Turnoverrolling_mean_7                 6\n",
              "High Pricerolling_std_3                2\n",
              "High Pricerolling_std_7                6\n",
              "Low Pricerolling_std_3                 2\n",
              "Low Pricerolling_std_7                 6\n",
              "Total Traded Quantityrolling_std_3     2\n",
              "Total Traded Quantityrolling_std_7     6\n",
              "Turnoverrolling_std_3                  2\n",
              "Turnoverrolling_std_7                  6\n",
              "dtype: int64"
            ]
          },
          "metadata": {
            "tags": []
          },
          "execution_count": 62
        }
      ]
    },
    {
      "cell_type": "code",
      "metadata": {
        "id": "Pp4rtIgGn2mI"
      },
      "source": [
        "check.dropna(inplace=True)"
      ],
      "execution_count": 63,
      "outputs": []
    },
    {
      "cell_type": "code",
      "metadata": {
        "colab": {
          "base_uri": "https://localhost:8080/"
        },
        "id": "XtPtUl-voExn",
        "outputId": "dcc92a51-4770-4205-ec9b-8c5623dac4ea"
      },
      "source": [
        "check.isna().sum()"
      ],
      "execution_count": 64,
      "outputs": [
        {
          "output_type": "execute_result",
          "data": {
            "text/plain": [
              "Symbol                                 0\n",
              "Series                                 0\n",
              "Prev Close                             0\n",
              "Open Price                             0\n",
              "High Price                             0\n",
              "Low Price                              0\n",
              "Last Price                             0\n",
              "Close Price                            0\n",
              "VWAP                                   0\n",
              "Total Traded Quantity                  0\n",
              "Turnover                               0\n",
              "Deliverable Qty                        0\n",
              "% Dly Qt to Traded Qty                 0\n",
              "High Pricerolling_mean_3               0\n",
              "High Pricerolling_mean_7               0\n",
              "Low Pricerolling_mean_3                0\n",
              "Low Pricerolling_mean_7                0\n",
              "Total Traded Quantityrolling_mean_3    0\n",
              "Total Traded Quantityrolling_mean_7    0\n",
              "Turnoverrolling_mean_3                 0\n",
              "Turnoverrolling_mean_7                 0\n",
              "High Pricerolling_std_3                0\n",
              "High Pricerolling_std_7                0\n",
              "Low Pricerolling_std_3                 0\n",
              "Low Pricerolling_std_7                 0\n",
              "Total Traded Quantityrolling_std_3     0\n",
              "Total Traded Quantityrolling_std_7     0\n",
              "Turnoverrolling_std_3                  0\n",
              "Turnoverrolling_std_7                  0\n",
              "dtype: int64"
            ]
          },
          "metadata": {
            "tags": []
          },
          "execution_count": 64
        }
      ]
    },
    {
      "cell_type": "code",
      "metadata": {
        "colab": {
          "base_uri": "https://localhost:8080/"
        },
        "id": "sOhYTkCYoIUf",
        "outputId": "8bbbe0bb-5397-4162-fc20-cde6854ea4ee"
      },
      "source": [
        "check.shape"
      ],
      "execution_count": 65,
      "outputs": [
        {
          "output_type": "execute_result",
          "data": {
            "text/plain": [
              "(14, 29)"
            ]
          },
          "metadata": {
            "tags": []
          },
          "execution_count": 65
        }
      ]
    },
    {
      "cell_type": "code",
      "metadata": {
        "colab": {
          "base_uri": "https://localhost:8080/"
        },
        "id": "BGUZFLQ4oCOI",
        "outputId": "3f9e7221-b8a3-4256-d61b-1fffea9ba101"
      },
      "source": [
        "check.columns"
      ],
      "execution_count": 66,
      "outputs": [
        {
          "output_type": "execute_result",
          "data": {
            "text/plain": [
              "Index(['Symbol', 'Series', 'Prev Close', 'Open Price', 'High Price',\n",
              "       'Low Price', 'Last Price', 'Close Price', 'VWAP',\n",
              "       'Total Traded Quantity', 'Turnover', 'Deliverable Qty',\n",
              "       '% Dly Qt to Traded Qty', 'High Pricerolling_mean_3',\n",
              "       'High Pricerolling_mean_7', 'Low Pricerolling_mean_3',\n",
              "       'Low Pricerolling_mean_7', 'Total Traded Quantityrolling_mean_3',\n",
              "       'Total Traded Quantityrolling_mean_7', 'Turnoverrolling_mean_3',\n",
              "       'Turnoverrolling_mean_7', 'High Pricerolling_std_3',\n",
              "       'High Pricerolling_std_7', 'Low Pricerolling_std_3',\n",
              "       'Low Pricerolling_std_7', 'Total Traded Quantityrolling_std_3',\n",
              "       'Total Traded Quantityrolling_std_7', 'Turnoverrolling_std_3',\n",
              "       'Turnoverrolling_std_7'],\n",
              "      dtype='object')"
            ]
          },
          "metadata": {
            "tags": []
          },
          "execution_count": 66
        }
      ]
    },
    {
      "cell_type": "code",
      "metadata": {
        "id": "4znics_loQQw"
      },
      "source": [
        "ind_features = ['High Pricerolling_mean_3',\n",
        "       'High Pricerolling_mean_7', 'Low Pricerolling_mean_3',\n",
        "       'Low Pricerolling_mean_7', 'Total Traded Quantityrolling_mean_3',\n",
        "       'Total Traded Quantityrolling_mean_7', 'Turnoverrolling_mean_3',\n",
        "       'Turnoverrolling_mean_7','High Pricerolling_std_3',\n",
        "       'High Pricerolling_std_7', 'Low Pricerolling_std_3',\n",
        "       'Low Pricerolling_std_7', 'Total Traded Quantityrolling_std_3',\n",
        "       'Total Traded Quantityrolling_std_7', 'Turnoverrolling_std_3',\n",
        "       'Turnoverrolling_std_7']"
      ],
      "execution_count": 67,
      "outputs": []
    },
    {
      "cell_type": "markdown",
      "metadata": {
        "id": "4GW2n22nMJan"
      },
      "source": [
        "**11.Forecasting for the Second Dataset**"
      ]
    },
    {
      "cell_type": "code",
      "metadata": {
        "colab": {
          "base_uri": "https://localhost:8080/"
        },
        "id": "d1M2b9lWpIxA",
        "outputId": "2df6c40b-7265-4e1e-d5dc-34fc07ad3992"
      },
      "source": [
        "forecast1=model.predict(n_periods=len(check), exogenous=check[ind_features])"
      ],
      "execution_count": 68,
      "outputs": [
        {
          "output_type": "stream",
          "text": [
            "/usr/local/lib/python3.7/dist-packages/statsmodels/tsa/base/tsa_model.py:379: ValueWarning: No supported index is available. Prediction results will be given with an integer index beginning at `start`.\n",
            "  ValueWarning)\n"
          ],
          "name": "stderr"
        }
      ]
    },
    {
      "cell_type": "code",
      "metadata": {
        "id": "73tOfMw0qi9Z"
      },
      "source": [
        "check['Forecast_ARIMA']=forecast1"
      ],
      "execution_count": 69,
      "outputs": []
    },
    {
      "cell_type": "code",
      "metadata": {
        "colab": {
          "base_uri": "https://localhost:8080/",
          "height": 460
        },
        "id": "eIft9zI6q2PZ",
        "outputId": "24db6f3e-15c3-48a7-8c25-4a4ee6671c5e"
      },
      "source": [
        "# plotting Predicted Values VS Actual Values #\n",
        "check[['VWAP','Forecast_ARIMA']].plot(figsize=(14,7))"
      ],
      "execution_count": 70,
      "outputs": [
        {
          "output_type": "execute_result",
          "data": {
            "text/plain": [
              "<matplotlib.axes._subplots.AxesSubplot at 0x7f2b00c29c90>"
            ]
          },
          "metadata": {
            "tags": []
          },
          "execution_count": 70
        },
        {
          "output_type": "display_data",
          "data": {
            "image/png": "[encoded data removed]",
            "text/plain": [
              "<Figure size 1008x504 with 1 Axes>"
            ]
          },
          "metadata": {
            "tags": [],
            "needs_background": "light"
          }
        }
      ]
    },
    {
      "cell_type": "code",
      "metadata": {
        "colab": {
          "base_uri": "https://localhost:8080/"
        },
        "id": "CiuyLjZXrFNR",
        "outputId": "e40fcf69-41d0-4dbc-8a26-a56bc71493dd"
      },
      "source": [
        "from sklearn.metrics import r2_score\n",
        "r2_score(check['VWAP'],check['Forecast_ARIMA'])"
      ],
      "execution_count": 71,
      "outputs": [
        {
          "output_type": "execute_result",
          "data": {
            "text/plain": [
              "0.7443838101034119"
            ]
          },
          "metadata": {
            "tags": []
          },
          "execution_count": 71
        }
      ]
    },
    {
      "cell_type": "markdown",
      "metadata": {
        "id": "plGe_FKDJtNH"
      },
      "source": [
        "It is implictly proved that this model is not a good fit for this data.No need for MAE and RMSE to prove it again"
      ]
    },
    {
      "cell_type": "markdown",
      "metadata": {
        "id": "Q3d6jx_XMlTG"
      },
      "source": [
        "**We can see that R Squared Value has dropped Significantly from (0.89 to 0.74).The main reason for the fall in accuracy is beacuse of the Time period Gap inbetween August 2018 and April 2021.Many things could have happened in the market in these 3 years, whose effects are not Imbued into the model. But Even after that Information Disadvantage the model has a solid 0.74 R Square , which is Commendable.**"
      ]
    }
  ]
}
