{
  "nbformat": 4,
  "nbformat_minor": 0,
  "metadata": {
    "colab": {
      "name": "Regression_MLTechniques_AccuracyComparison[RealData].ipynb",
      "provenance": [],
      "authorship_tag": "ABX9TyMIoWTIVACRUZfZwgcKxX8g"
    },
    "kernelspec": {
      "name": "python3",
      "display_name": "Python 3"
    },
    "language_info": {
      "name": "python"
    }
  },
  "cells": [
    {
      "cell_type": "markdown",
      "metadata": {
        "id": "X-mcVMLGg-HJ"
      },
      "source": [
        "# **Problem** : This is a Real World Data set from a European Natural Gas Powerplant.The data set contains Various features which affect the Power Output(PE).I still don't understand how the features affect the Power Output (Im not a Physicist) needless to say we can still predict the Power output using our various Wonderful Regression ML Techniques  "
      ]
    },
    {
      "cell_type": "markdown",
      "metadata": {
        "id": "XbPNXBdTg988"
      },
      "source": [
        "Note : Although the given type of problem is generally Complicated and require a lot of Preliminary & Exploratory Analysis and As well as intense Data Cleaning. But our Aim is to Explore and Compare the Accuracy of Mutiple Regression ML Techniques , therefore we will Prioritise the Comparison b/w models over the EDA and Data Cleaning. To do this I chose a much Simpler and Ready to use dataset from UCI Machine Learning Repositary."
      ]
    },
    {
      "cell_type": "markdown",
      "metadata": {
        "id": "daxYQeWlmv8h"
      },
      "source": [
        "**1.Importing the Libraries**"
      ]
    },
    {
      "cell_type": "code",
      "metadata": {
        "id": "fvr8D3TQgsaa"
      },
      "source": [
        "import numpy as np\n",
        "import matplotlib.pyplot as plt\n",
        "import pandas as pd"
      ],
      "execution_count": 1,
      "outputs": []
    },
    {
      "cell_type": "markdown",
      "metadata": {
        "id": "11V3BGtphEtW"
      },
      "source": [
        "**2.Importing the DataSet**"
      ]
    },
    {
      "cell_type": "code",
      "metadata": {
        "id": "RBUnnPPChFBV"
      },
      "source": [
        "df = pd.read_csv('Data.csv')"
      ],
      "execution_count": 2,
      "outputs": []
    },
    {
      "cell_type": "markdown",
      "metadata": {
        "id": "ma0p13a9hUTN"
      },
      "source": [
        "**3.Preliminary Analysis and Missing value Detection & Rectification**"
      ]
    },
    {
      "cell_type": "code",
      "metadata": {
        "colab": {
          "base_uri": "https://localhost:8080/"
        },
        "id": "A1sh1e2ChUnp",
        "outputId": "4eee11ce-d3e1-477c-f788-948d07fc9f00"
      },
      "source": [
        "df.shape"
      ],
      "execution_count": 3,
      "outputs": [
        {
          "output_type": "execute_result",
          "data": {
            "text/plain": [
              "(9568, 5)"
            ]
          },
          "metadata": {
            "tags": []
          },
          "execution_count": 3
        }
      ]
    },
    {
      "cell_type": "code",
      "metadata": {
        "colab": {
          "base_uri": "https://localhost:8080/",
          "height": 206
        },
        "id": "_DhwjrbChkGe",
        "outputId": "b1888bb9-3ee0-45c7-91c0-7fd43e2c22b4"
      },
      "source": [
        "df.head()"
      ],
      "execution_count": 4,
      "outputs": [
        {
          "output_type": "execute_result",
          "data": {
            "text/html": [
              "<div>\n",
              "<style scoped>\n",
              "    .dataframe tbody tr th:only-of-type {\n",
              "        vertical-align: middle;\n",
              "    }\n",
              "\n",
              "    .dataframe tbody tr th {\n",
              "        vertical-align: top;\n",
              "    }\n",
              "\n",
              "    .dataframe thead th {\n",
              "        text-align: right;\n",
              "    }\n",
              "</style>\n",
              "<table border=\"1\" class=\"dataframe\">\n",
              "  <thead>\n",
              "    <tr style=\"text-align: right;\">\n",
              "      <th></th>\n",
              "      <th>AT</th>\n",
              "      <th>V</th>\n",
              "      <th>AP</th>\n",
              "      <th>RH</th>\n",
              "      <th>PE</th>\n",
              "    </tr>\n",
              "  </thead>\n",
              "  <tbody>\n",
              "    <tr>\n",
              "      <th>0</th>\n",
              "      <td>14.96</td>\n",
              "      <td>41.76</td>\n",
              "      <td>1024.07</td>\n",
              "      <td>73.17</td>\n",
              "      <td>463.26</td>\n",
              "    </tr>\n",
              "    <tr>\n",
              "      <th>1</th>\n",
              "      <td>25.18</td>\n",
              "      <td>62.96</td>\n",
              "      <td>1020.04</td>\n",
              "      <td>59.08</td>\n",
              "      <td>444.37</td>\n",
              "    </tr>\n",
              "    <tr>\n",
              "      <th>2</th>\n",
              "      <td>5.11</td>\n",
              "      <td>39.40</td>\n",
              "      <td>1012.16</td>\n",
              "      <td>92.14</td>\n",
              "      <td>488.56</td>\n",
              "    </tr>\n",
              "    <tr>\n",
              "      <th>3</th>\n",
              "      <td>20.86</td>\n",
              "      <td>57.32</td>\n",
              "      <td>1010.24</td>\n",
              "      <td>76.64</td>\n",
              "      <td>446.48</td>\n",
              "    </tr>\n",
              "    <tr>\n",
              "      <th>4</th>\n",
              "      <td>10.82</td>\n",
              "      <td>37.50</td>\n",
              "      <td>1009.23</td>\n",
              "      <td>96.62</td>\n",
              "      <td>473.90</td>\n",
              "    </tr>\n",
              "  </tbody>\n",
              "</table>\n",
              "</div>"
            ],
            "text/plain": [
              "      AT      V       AP     RH      PE\n",
              "0  14.96  41.76  1024.07  73.17  463.26\n",
              "1  25.18  62.96  1020.04  59.08  444.37\n",
              "2   5.11  39.40  1012.16  92.14  488.56\n",
              "3  20.86  57.32  1010.24  76.64  446.48\n",
              "4  10.82  37.50  1009.23  96.62  473.90"
            ]
          },
          "metadata": {
            "tags": []
          },
          "execution_count": 4
        }
      ]
    },
    {
      "cell_type": "code",
      "metadata": {
        "colab": {
          "base_uri": "https://localhost:8080/"
        },
        "id": "U_v0EiAghYhu",
        "outputId": "d098deff-5af8-4f5a-9ce5-9498a8585bb5"
      },
      "source": [
        "df.isna().sum()"
      ],
      "execution_count": 5,
      "outputs": [
        {
          "output_type": "execute_result",
          "data": {
            "text/plain": [
              "AT    0\n",
              "V     0\n",
              "AP    0\n",
              "RH    0\n",
              "PE    0\n",
              "dtype: int64"
            ]
          },
          "metadata": {
            "tags": []
          },
          "execution_count": 5
        }
      ]
    },
    {
      "cell_type": "code",
      "metadata": {
        "colab": {
          "base_uri": "https://localhost:8080/"
        },
        "id": "oPOyVfN5hYel",
        "outputId": "bbc178fe-6388-4baf-8f1b-1438fba7ef63"
      },
      "source": [
        "df.columns"
      ],
      "execution_count": 6,
      "outputs": [
        {
          "output_type": "execute_result",
          "data": {
            "text/plain": [
              "Index(['AT', 'V', 'AP', 'RH', 'PE'], dtype='object')"
            ]
          },
          "metadata": {
            "tags": []
          },
          "execution_count": 6
        }
      ]
    },
    {
      "cell_type": "markdown",
      "metadata": {
        "id": "vWVnwnJwh25l"
      },
      "source": [
        "**4.Splitting the Dataset**"
      ]
    },
    {
      "cell_type": "markdown",
      "metadata": {
        "id": "eCId6iDWnaXu"
      },
      "source": [
        "Splitting the dataset into Dependent and Independent variables"
      ]
    },
    {
      "cell_type": "code",
      "metadata": {
        "id": "8xJG-vQ0hYWN"
      },
      "source": [
        "X = df.iloc[:, :-1].values\n",
        "y = df.iloc[:, -1].values"
      ],
      "execution_count": 7,
      "outputs": []
    },
    {
      "cell_type": "markdown",
      "metadata": {
        "id": "nDNnNlLknhPB"
      },
      "source": [
        "Splitting the dataset into Train set and Test set"
      ]
    },
    {
      "cell_type": "code",
      "metadata": {
        "id": "5WHfhps5h9FG"
      },
      "source": [
        "from sklearn.model_selection import train_test_split\n",
        "X_train, X_test, y_train, y_test = train_test_split(X, y, test_size = 0.2, random_state = 0)"
      ],
      "execution_count": 8,
      "outputs": []
    },
    {
      "cell_type": "markdown",
      "metadata": {
        "id": "2EZjuRAKiFI-"
      },
      "source": [
        "# **5.Training the Model Using Various Regression ML Techniques**"
      ]
    },
    {
      "cell_type": "markdown",
      "metadata": {
        "id": "r83WeJ__iaZA"
      },
      "source": [
        "**a. Multiple Linear Regression**"
      ]
    },
    {
      "cell_type": "code",
      "metadata": {
        "colab": {
          "base_uri": "https://localhost:8080/"
        },
        "id": "JK3-QVE6iFge",
        "outputId": "19746800-5759-4af1-806d-bf34abc4bf4a"
      },
      "source": [
        "from sklearn.linear_model import LinearRegression\n",
        "regressor1 = LinearRegression()\n",
        "regressor1.fit(X_train, y_train)"
      ],
      "execution_count": 9,
      "outputs": [
        {
          "output_type": "execute_result",
          "data": {
            "text/plain": [
              "LinearRegression(copy_X=True, fit_intercept=True, n_jobs=None, normalize=False)"
            ]
          },
          "metadata": {
            "tags": []
          },
          "execution_count": 9
        }
      ]
    },
    {
      "cell_type": "code",
      "metadata": {
        "colab": {
          "base_uri": "https://localhost:8080/"
        },
        "id": "SQjrVaNmicSD",
        "outputId": "49cc1cf5-d3e6-4074-de82-33eac897f5cb"
      },
      "source": [
        "y_pred1 = regressor1.predict(X_test)\n",
        "np.set_printoptions(precision=2)\n",
        "print(np.concatenate((y_pred1.reshape(len(y_pred1),1), y_test.reshape(len(y_test),1)),1))"
      ],
      "execution_count": 10,
      "outputs": [
        {
          "output_type": "stream",
          "text": [
            "[[431.43 431.23]\n",
            " [458.56 460.01]\n",
            " [462.75 461.14]\n",
            " ...\n",
            " [469.52 473.26]\n",
            " [442.42 438.  ]\n",
            " [461.88 463.28]]\n"
          ],
          "name": "stdout"
        }
      ]
    },
    {
      "cell_type": "code",
      "metadata": {
        "colab": {
          "base_uri": "https://localhost:8080/"
        },
        "id": "KGCCGFoDie4m",
        "outputId": "0bc74a8e-ecbf-48e8-e36e-a9b89542e902"
      },
      "source": [
        "from sklearn.metrics import r2_score\n",
        "a1 = r2_score(y_test, y_pred1)\n",
        "print(a1)"
      ],
      "execution_count": 11,
      "outputs": [
        {
          "output_type": "stream",
          "text": [
            "0.9325315554761302\n"
          ],
          "name": "stdout"
        }
      ]
    },
    {
      "cell_type": "markdown",
      "metadata": {
        "id": "uTxzUWdFihIO"
      },
      "source": [
        "**b. Polynomial Regression**"
      ]
    },
    {
      "cell_type": "code",
      "metadata": {
        "colab": {
          "base_uri": "https://localhost:8080/"
        },
        "id": "O095aLYAihig",
        "outputId": "0087cc9b-72d5-48c5-c3d5-f56eee8a1c3e"
      },
      "source": [
        "from sklearn.preprocessing import PolynomialFeatures\n",
        "poly_reg = PolynomialFeatures(degree = 4)\n",
        "X_poly = poly_reg.fit_transform(X_train)\n",
        "regressor2 = LinearRegression()\n",
        "regressor2.fit(X_poly, y_train)"
      ],
      "execution_count": 12,
      "outputs": [
        {
          "output_type": "execute_result",
          "data": {
            "text/plain": [
              "LinearRegression(copy_X=True, fit_intercept=True, n_jobs=None, normalize=False)"
            ]
          },
          "metadata": {
            "tags": []
          },
          "execution_count": 12
        }
      ]
    },
    {
      "cell_type": "code",
      "metadata": {
        "colab": {
          "base_uri": "https://localhost:8080/"
        },
        "id": "rXRfxqx3ih5_",
        "outputId": "8ac1a838-7c9b-4132-f5ff-dfd7a71fd52e"
      },
      "source": [
        "y_pred2 = regressor2.predict(poly_reg.transform(X_test))\n",
        "np.set_printoptions(precision=2)\n",
        "print(np.concatenate((y_pred2.reshape(len(y_pred2),1), y_test.reshape(len(y_test),1)),1))"
      ],
      "execution_count": 13,
      "outputs": [
        {
          "output_type": "stream",
          "text": [
            "[[433.94 431.23]\n",
            " [457.9  460.01]\n",
            " [460.52 461.14]\n",
            " ...\n",
            " [469.53 473.26]\n",
            " [438.27 438.  ]\n",
            " [461.66 463.28]]\n"
          ],
          "name": "stdout"
        }
      ]
    },
    {
      "cell_type": "code",
      "metadata": {
        "colab": {
          "base_uri": "https://localhost:8080/"
        },
        "id": "rY8pE0J-iiMe",
        "outputId": "2316ae56-078c-4c2b-9697-4ef52988ca6c"
      },
      "source": [
        "from sklearn.metrics import r2_score\n",
        "a2 = r2_score(y_test, y_pred2)\n",
        "print(a2)"
      ],
      "execution_count": 14,
      "outputs": [
        {
          "output_type": "stream",
          "text": [
            "0.9458192606428238\n"
          ],
          "name": "stdout"
        }
      ]
    },
    {
      "cell_type": "markdown",
      "metadata": {
        "id": "75RJuv3Oir8u"
      },
      "source": [
        "**c. Decision Tree Regression**"
      ]
    },
    {
      "cell_type": "code",
      "metadata": {
        "colab": {
          "base_uri": "https://localhost:8080/"
        },
        "id": "styXAHWRisZm",
        "outputId": "9539d345-cf12-4eb8-ba15-b3f891688e81"
      },
      "source": [
        "from sklearn.tree import DecisionTreeRegressor\n",
        "regressor3 = DecisionTreeRegressor(random_state = 0)\n",
        "regressor3.fit(X_train, y_train)"
      ],
      "execution_count": 15,
      "outputs": [
        {
          "output_type": "execute_result",
          "data": {
            "text/plain": [
              "DecisionTreeRegressor(ccp_alpha=0.0, criterion='mse', max_depth=None,\n",
              "                      max_features=None, max_leaf_nodes=None,\n",
              "                      min_impurity_decrease=0.0, min_impurity_split=None,\n",
              "                      min_samples_leaf=1, min_samples_split=2,\n",
              "                      min_weight_fraction_leaf=0.0, presort='deprecated',\n",
              "                      random_state=0, splitter='best')"
            ]
          },
          "metadata": {
            "tags": []
          },
          "execution_count": 15
        }
      ]
    },
    {
      "cell_type": "code",
      "metadata": {
        "colab": {
          "base_uri": "https://localhost:8080/"
        },
        "id": "k_62FqeSisx-",
        "outputId": "7ac5686d-5371-4d47-8f04-17ea6e8b9eec"
      },
      "source": [
        "y_pred3 = regressor3.predict(X_test)\n",
        "np.set_printoptions(precision=2)\n",
        "print(np.concatenate((y_pred3.reshape(len(y_pred3),1), y_test.reshape(len(y_test),1)),1))"
      ],
      "execution_count": 16,
      "outputs": [
        {
          "output_type": "stream",
          "text": [
            "[[431.28 431.23]\n",
            " [462.81 460.01]\n",
            " [460.06 461.14]\n",
            " ...\n",
            " [471.46 473.26]\n",
            " [437.76 438.  ]\n",
            " [462.55 463.28]]\n"
          ],
          "name": "stdout"
        }
      ]
    },
    {
      "cell_type": "code",
      "metadata": {
        "colab": {
          "base_uri": "https://localhost:8080/"
        },
        "id": "RSKswbMfitD-",
        "outputId": "c7c74533-ed36-469b-edd3-d5453e99921f"
      },
      "source": [
        "from sklearn.metrics import r2_score\n",
        "a3 = r2_score(y_test, y_pred3)\n",
        "print(a3)"
      ],
      "execution_count": 17,
      "outputs": [
        {
          "output_type": "stream",
          "text": [
            "0.9226091050550043\n"
          ],
          "name": "stdout"
        }
      ]
    },
    {
      "cell_type": "markdown",
      "metadata": {
        "id": "Deo7eeUmi1VW"
      },
      "source": [
        "**d. Random Forest Regression**"
      ]
    },
    {
      "cell_type": "code",
      "metadata": {
        "colab": {
          "base_uri": "https://localhost:8080/"
        },
        "id": "5OcmHZBPi1of",
        "outputId": "9ae4ef05-7546-4819-841d-a288aa705ad9"
      },
      "source": [
        "from sklearn.ensemble import RandomForestRegressor\n",
        "regressor4 = RandomForestRegressor(n_estimators = 10, random_state = 0)\n",
        "regressor4.fit(X_train, y_train)"
      ],
      "execution_count": 18,
      "outputs": [
        {
          "output_type": "execute_result",
          "data": {
            "text/plain": [
              "RandomForestRegressor(bootstrap=True, ccp_alpha=0.0, criterion='mse',\n",
              "                      max_depth=None, max_features='auto', max_leaf_nodes=None,\n",
              "                      max_samples=None, min_impurity_decrease=0.0,\n",
              "                      min_impurity_split=None, min_samples_leaf=1,\n",
              "                      min_samples_split=2, min_weight_fraction_leaf=0.0,\n",
              "                      n_estimators=10, n_jobs=None, oob_score=False,\n",
              "                      random_state=0, verbose=0, warm_start=False)"
            ]
          },
          "metadata": {
            "tags": []
          },
          "execution_count": 18
        }
      ]
    },
    {
      "cell_type": "code",
      "metadata": {
        "colab": {
          "base_uri": "https://localhost:8080/"
        },
        "id": "azfFytQVi2E-",
        "outputId": "8236df57-8658-4b98-de22-42ea62ab2f46"
      },
      "source": [
        "y_pred4 = regressor4.predict(X_test)\n",
        "np.set_printoptions(precision=2)\n",
        "print(np.concatenate((y_pred4.reshape(len(y_pred4),1), y_test.reshape(len(y_test),1)),1))"
      ],
      "execution_count": 19,
      "outputs": [
        {
          "output_type": "stream",
          "text": [
            "[[433.78 431.23]\n",
            " [457.99 460.01]\n",
            " [463.14 461.14]\n",
            " ...\n",
            " [470.16 473.26]\n",
            " [439.51 438.  ]\n",
            " [460.32 463.28]]\n"
          ],
          "name": "stdout"
        }
      ]
    },
    {
      "cell_type": "code",
      "metadata": {
        "colab": {
          "base_uri": "https://localhost:8080/"
        },
        "id": "BmXl-QVFi2Y1",
        "outputId": "c27748cd-ccec-4eff-fbbb-467e03345454"
      },
      "source": [
        "from sklearn.metrics import r2_score\n",
        "a4 = r2_score(y_test, y_pred4)\n",
        "print(a4)"
      ],
      "execution_count": 20,
      "outputs": [
        {
          "output_type": "stream",
          "text": [
            "0.9615980699813017\n"
          ],
          "name": "stdout"
        }
      ]
    },
    {
      "cell_type": "markdown",
      "metadata": {
        "id": "84VkE80oi9YZ"
      },
      "source": [
        "**e. Support Vector Regression**"
      ]
    },
    {
      "cell_type": "markdown",
      "metadata": {
        "id": "KCxfHRRiok8V"
      },
      "source": [
        "Note : All the Previous ML-Regression Techniques donot compulsarily need Feature Scaling (Although it is done to avoid the Outliers).SVR compulsarily needs Feature Scaling to function Effectively. This is because of the way this Technique is Formulated."
      ]
    },
    {
      "cell_type": "code",
      "metadata": {
        "id": "eVu8WSXhi9vX"
      },
      "source": [
        "from sklearn.preprocessing import StandardScaler\n",
        "sc_X = StandardScaler()\n",
        "sc_y = StandardScaler()\n",
        "X_train = sc_X.fit_transform(X_train)\n",
        "y_train = pd.DataFrame(y_train)\n",
        "y_train = sc_y.fit_transform(y_train)"
      ],
      "execution_count": 21,
      "outputs": []
    },
    {
      "cell_type": "code",
      "metadata": {
        "colab": {
          "base_uri": "https://localhost:8080/"
        },
        "id": "BrhgI5Axi-GH",
        "outputId": "e228a51d-e15f-40b8-e13d-91d6de0386cd"
      },
      "source": [
        "from sklearn.svm import SVR\n",
        "regressor5 = SVR(kernel = 'rbf')\n",
        "regressor5.fit(X_train, y_train)"
      ],
      "execution_count": 22,
      "outputs": [
        {
          "output_type": "stream",
          "text": [
            "/usr/local/lib/python3.7/dist-packages/sklearn/utils/validation.py:760: DataConversionWarning: A column-vector y was passed when a 1d array was expected. Please change the shape of y to (n_samples, ), for example using ravel().\n",
            "  y = column_or_1d(y, warn=True)\n"
          ],
          "name": "stderr"
        },
        {
          "output_type": "execute_result",
          "data": {
            "text/plain": [
              "SVR(C=1.0, cache_size=200, coef0=0.0, degree=3, epsilon=0.1, gamma='scale',\n",
              "    kernel='rbf', max_iter=-1, shrinking=True, tol=0.001, verbose=False)"
            ]
          },
          "metadata": {
            "tags": []
          },
          "execution_count": 22
        }
      ]
    },
    {
      "cell_type": "code",
      "metadata": {
        "colab": {
          "base_uri": "https://localhost:8080/"
        },
        "id": "7zKsyMg6i-ZV",
        "outputId": "3501a438-7755-4f09-b3fd-1dffb92e3994"
      },
      "source": [
        "y_pred5 = sc_y.inverse_transform(regressor5.predict(sc_X.transform(X_test)))\n",
        "np.set_printoptions(precision=2)\n",
        "print(np.concatenate((y_pred5.reshape(len(y_pred5),1), y_test.reshape(len(y_test),1)),1))"
      ],
      "execution_count": 23,
      "outputs": [
        {
          "output_type": "stream",
          "text": [
            "[[434.05 431.23]\n",
            " [457.94 460.01]\n",
            " [461.03 461.14]\n",
            " ...\n",
            " [470.6  473.26]\n",
            " [439.42 438.  ]\n",
            " [460.92 463.28]]\n"
          ],
          "name": "stdout"
        }
      ]
    },
    {
      "cell_type": "code",
      "metadata": {
        "colab": {
          "base_uri": "https://localhost:8080/"
        },
        "id": "glE18DAei-tm",
        "outputId": "ea092ae4-b51b-4388-f109-44f23528f411"
      },
      "source": [
        "from sklearn.metrics import r2_score\n",
        "a5 = r2_score(y_test, y_pred5)\n",
        "print(a5)"
      ],
      "execution_count": 24,
      "outputs": [
        {
          "output_type": "stream",
          "text": [
            "0.9480784049986258\n"
          ],
          "name": "stdout"
        }
      ]
    },
    {
      "cell_type": "markdown",
      "metadata": {
        "id": "h6IpjK0MppF5"
      },
      "source": [
        "# **6.Aggregation of the Results**"
      ]
    },
    {
      "cell_type": "code",
      "metadata": {
        "colab": {
          "base_uri": "https://localhost:8080/"
        },
        "id": "Rb6VvWtPpzwt",
        "outputId": "7f5b0c3c-d1dc-4bba-be9d-e8f2df3d699e"
      },
      "source": [
        "print('Regression Technique','       | ','R2 Square Value')\n",
        "print('Multiple Linear Regression',' : ',a1)\n",
        "print('Polynomial Regression',' :      ',a2)\n",
        "print('Decision Tree Regression',' :   ',a3)\n",
        "print('Random Forest Regression',' :   ',a4)\n",
        "print('Support Vector Regression',' :  ',a5)"
      ],
      "execution_count": 25,
      "outputs": [
        {
          "output_type": "stream",
          "text": [
            "Regression Technique        |  R2 Square Value\n",
            "Multiple Linear Regression  :  0.9325315554761302\n",
            "Polynomial Regression  :       0.9458192606428238\n",
            "Decision Tree Regression  :    0.9226091050550043\n",
            "Random Forest Regression  :    0.9615980699813017\n",
            "Support Vector Regression  :   0.9480784049986258\n"
          ],
          "name": "stdout"
        }
      ]
    },
    {
      "cell_type": "markdown",
      "metadata": {
        "id": "sRxrhFXKq8HH"
      },
      "source": [
        "**As you can see from above Random Forest Regression has the highest R2 Value . Which is no fluke . Generally Random Forest and Supprt Vector Regression always give very good predictions.**"
      ]
    }
  ]
}