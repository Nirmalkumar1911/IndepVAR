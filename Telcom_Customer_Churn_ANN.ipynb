{
  "nbformat": 4,
  "nbformat_minor": 0,
  "metadata": {
    "colab": {
      "name": "Copy of Telcom_Customer_Churn_ANN.ipynb",
      "provenance": [],
      "collapsed_sections": [],
      "authorship_tag": "ABX9TyN6lehhADQQ4GiVTXAc89er",
      "include_colab_link": true
    },
    "kernelspec": {
      "name": "python3",
      "display_name": "Python 3"
    },
    "language_info": {
      "name": "python"
    }
  },
  "cells": [
    {
      "cell_type": "markdown",
      "metadata": {
        "id": "view-in-github",
        "colab_type": "text"
      },
      "source": [
        "<a href=\"https://colab.research.google.com/github/Nirmalkumar1911/IndepVAR/blob/main/Telcom_Customer_Churn_ANN.ipynb\" target=\"_parent\"><img src=\"https://colab.research.google.com/assets/colab-badge.svg\" alt=\"Open In Colab\"/></a>"
      ]
    },
    {
      "cell_type": "markdown",
      "metadata": {
        "id": "uPZQavZca-Nn"
      },
      "source": [
        ""
      ]
    },
    {
      "cell_type": "markdown",
      "metadata": {
        "id": "-KYOF6mCbKdu"
      },
      "source": [
        "**A Tel-comm Company in Europe [Anonymous] is facing rapid drop in Clients . In order to curb this rapid drop , the Company wants to send Discounts and Offers to Customers who are most likely to churn out , so that they could still retain the Customers . A random Sample from the Large Customer Data Base is Given to the Data Scientist [me] in order to solve the Business problem of Predicting the churn Rate and thereby finding the List of customers who are most likely to Churn out.**"
      ]
    },
      "source": [
        "**1.Importing Libraries**"
      ]
    },
    {
      "cell_type": "code",
      "metadata": {
        "id": "DmyTf3wka_g-"
      },
      "source": [
        "import pandas as pd\n",
        "import numpy as np\n",
        "import matplotlib.pyplot as plt\n",
        "import tensorflow as tf\n",
        "import seaborn as sns"
      ],
      "execution_count": 1,
      "outputs": []
    },
    {
      "cell_type": "markdown",
      "metadata": {
        "id": "qUkWPr2abSnB"
      },
      "source": [
        "**2.Importing Dataset**"
      ]
    },
    {
      "cell_type": "code",
      "metadata": {
        "colab": {
          "base_uri": "https://localhost:8080/",
          "height": 313
        },
        "id": "oKv9F7royTA2",
        "outputId": "6e106cf7-ec80-4d02-d8e3-b8cdfc2c9495"
      },
      "source": [
        "df = pd.read_excel('Telco-Customer-Churn.xlsx')\n",
        "df.head()"
      ],
      "execution_count": 2,
      "outputs": [
        {
          "output_type": "execute_result",
          "data": {
            "text/html": [
              "<div>\n",
              "<style scoped>\n",
              "    .dataframe tbody tr th:only-of-type {\n",
              "        vertical-align: middle;\n",
              "    }\n",
              "\n",
              "    .dataframe tbody tr th {\n",
              "        vertical-align: top;\n",
              "    }\n",
              "\n",
              "    .dataframe thead th {\n",
              "        text-align: right;\n",
              "    }\n",
              "</style>\n",
              "<table border=\"1\" class=\"dataframe\">\n",
              "  <thead>\n",
              "    <tr style=\"text-align: right;\">\n",
              "      <th></th>\n",
              "      <th>customerID</th>\n",
              "      <th>SeniorCitizen</th>\n",
              "      <th>PhoneService</th>\n",
              "      <th>gender</th>\n",
              "      <th>Partner</th>\n",
              "      <th>Dependents</th>\n",
              "      <th>PaperlessBilling</th>\n",
              "      <th>MultipleLines</th>\n",
              "      <th>InternetService</th>\n",
              "      <th>OnlineSecurity</th>\n",
              "      <th>OnlineBackup</th>\n",
              "      <th>DeviceProtection</th>\n",
              "      <th>TechSupport</th>\n",
              "      <th>StreamingTV</th>\n",
              "      <th>StreamingMovies</th>\n",
              "      <th>Contract</th>\n",
              "      <th>PaymentMethod</th>\n",
              "      <th>tenure</th>\n",
              "      <th>MonthlyCharges</th>\n",
              "      <th>TotalCharges</th>\n",
              "      <th>Churn</th>\n",
              "    </tr>\n",
              "  </thead>\n",
              "  <tbody>\n",
              "    <tr>\n",
              "      <th>0</th>\n",
              "      <td>7590-VHVEG</td>\n",
              "      <td>0</td>\n",
              "      <td>No</td>\n",
              "      <td>Female</td>\n",
              "      <td>Yes</td>\n",
              "      <td>No</td>\n",
              "      <td>Yes</td>\n",
              "      <td>No phone service</td>\n",
              "      <td>DSL</td>\n",
              "      <td>No</td>\n",
              "      <td>Yes</td>\n",
              "      <td>No</td>\n",
              "      <td>No</td>\n",
              "      <td>No</td>\n",
              "      <td>No</td>\n",
              "      <td>Month-to-month</td>\n",
              "      <td>Electronic check</td>\n",
              "      <td>1</td>\n",
              "      <td>29.85</td>\n",
              "      <td>29.85</td>\n",
              "      <td>No</td>\n",
              "    </tr>\n",
              "    <tr>\n",
              "      <th>1</th>\n",
              "      <td>5575-GNVDE</td>\n",
              "      <td>0</td>\n",
              "      <td>Yes</td>\n",
              "      <td>Male</td>\n",
              "      <td>No</td>\n",
              "      <td>No</td>\n",
              "      <td>No</td>\n",
              "      <td>No</td>\n",
              "      <td>DSL</td>\n",
              "      <td>Yes</td>\n",
              "      <td>No</td>\n",
              "      <td>Yes</td>\n",
              "      <td>No</td>\n",
              "      <td>No</td>\n",
              "      <td>No</td>\n",
              "      <td>One year</td>\n",
              "      <td>Mailed check</td>\n",
              "      <td>34</td>\n",
              "      <td>56.95</td>\n",
              "      <td>1889.5</td>\n",
              "      <td>No</td>\n",
              "    </tr>\n",
              "    <tr>\n",
              "      <th>2</th>\n",
              "      <td>3668-QPYBK</td>\n",
              "      <td>0</td>\n",
              "      <td>Yes</td>\n",
              "      <td>Male</td>\n",
              "      <td>No</td>\n",
              "      <td>No</td>\n",
              "      <td>Yes</td>\n",
              "      <td>No</td>\n",
              "      <td>DSL</td>\n",
              "      <td>Yes</td>\n",
              "      <td>Yes</td>\n",
              "      <td>No</td>\n",
              "      <td>No</td>\n",
              "      <td>No</td>\n",
              "      <td>No</td>\n",
              "      <td>Month-to-month</td>\n",
              "      <td>Mailed check</td>\n",
              "      <td>2</td>\n",
              "      <td>53.85</td>\n",
              "      <td>108.15</td>\n",
              "      <td>Yes</td>\n",
              "    </tr>\n",
              "    <tr>\n",
              "      <th>3</th>\n",
              "      <td>7795-CFOCW</td>\n",
              "      <td>0</td>\n",
              "      <td>No</td>\n",
              "      <td>Male</td>\n",
              "      <td>No</td>\n",
              "      <td>No</td>\n",
              "      <td>No</td>\n",
              "      <td>No phone service</td>\n",
              "      <td>DSL</td>\n",
              "      <td>Yes</td>\n",
              "      <td>No</td>\n",
              "      <td>Yes</td>\n",
              "      <td>Yes</td>\n",
              "      <td>No</td>\n",
              "      <td>No</td>\n",
              "      <td>One year</td>\n",
              "      <td>Bank transfer (automatic)</td>\n",
              "      <td>45</td>\n",
              "      <td>42.30</td>\n",
              "      <td>1840.75</td>\n",
              "      <td>No</td>\n",
              "    </tr>\n",
              "    <tr>\n",
              "      <th>4</th>\n",
              "      <td>9237-HQITU</td>\n",
              "      <td>0</td>\n",
              "      <td>Yes</td>\n",
              "      <td>Female</td>\n",
              "      <td>No</td>\n",
              "      <td>No</td>\n",
              "      <td>Yes</td>\n",
              "      <td>No</td>\n",
              "      <td>Fiber optic</td>\n",
              "      <td>No</td>\n",
              "      <td>No</td>\n",
              "      <td>No</td>\n",
              "      <td>No</td>\n",
              "      <td>No</td>\n",
              "      <td>No</td>\n",
              "      <td>Month-to-month</td>\n",
              "      <td>Electronic check</td>\n",
              "      <td>2</td>\n",
              "      <td>70.70</td>\n",
              "      <td>151.65</td>\n",
              "      <td>Yes</td>\n",
              "    </tr>\n",
              "  </tbody>\n",
              "</table>\n",
              "</div>"
            ],
            "text/plain": [
              "   customerID  SeniorCitizen PhoneService  ... MonthlyCharges TotalCharges Churn\n",
              "0  7590-VHVEG              0           No  ...          29.85        29.85    No\n",
              "1  5575-GNVDE              0          Yes  ...          56.95       1889.5    No\n",
              "2  3668-QPYBK              0          Yes  ...          53.85       108.15   Yes\n",
              "3  7795-CFOCW              0           No  ...          42.30      1840.75    No\n",
              "4  9237-HQITU              0          Yes  ...          70.70       151.65   Yes\n",
              "\n",
              "[5 rows x 21 columns]"
            ]
          },
          "metadata": {
            "tags": []
          },
          "execution_count": 2
        }
      ]
    },
    {
      "cell_type": "markdown",
      "metadata": {
        "id": "2TAoIE05bfuW"
      },
      "source": [
        "**3.Exploratory Data Analysis**"
      ]
    },
    {
      "cell_type": "code",
      "metadata": {
        "id": "FKedO18w4AWQ"
      },
      "source": [
        "# Since the Customer ID is Useless for the Prediction of Churn we can just Drop it #\n",
        "df = df.iloc[: , 1:]"
      ],
      "execution_count": 3,
      "outputs": []
    },
    {
      "cell_type": "code",
      "metadata": {
        "colab": {
          "base_uri": "https://localhost:8080/"
        },
        "id": "z3qrD9ykyS4n",
        "outputId": "02c29961-81a2-4f21-f7c5-6e93d34d8b24"
      },
      "source": [
        "df.shape"
      ],
      "execution_count": 4,
      "outputs": [
        {
          "output_type": "execute_result",
          "data": {
            "text/plain": [
              "(7043, 20)"
            ]
          },
          "metadata": {
            "tags": []
          },
          "execution_count": 4
        }
      ]
    },
    {
      "cell_type": "code",
      "metadata": {
        "colab": {
          "base_uri": "https://localhost:8080/"
        },
        "id": "4ehts4bTyStc",
        "outputId": "9a158901-af1c-49f0-e1d9-241bb577e699"
      },
      "source": [
        "# Checking for Missing Values #\n",
        "df.isna().sum()"
      ],
      "execution_count": 5,
      "outputs": [
        {
          "output_type": "execute_result",
          "data": {
            "text/plain": [
              "SeniorCitizen       0\n",
              "PhoneService        0\n",
              "gender              0\n",
              "Partner             0\n",
              "Dependents          0\n",
              "PaperlessBilling    0\n",
              "MultipleLines       0\n",
              "InternetService     0\n",
              "OnlineSecurity      0\n",
              "OnlineBackup        0\n",
              "DeviceProtection    0\n",
              "TechSupport         0\n",
              "StreamingTV         0\n",
              "StreamingMovies     0\n",
              "Contract            0\n",
              "PaymentMethod       0\n",
              "tenure              0\n",
              "MonthlyCharges      0\n",
              "TotalCharges        0\n",
              "Churn               0\n",
              "dtype: int64"
            ]
          },
          "metadata": {
            "tags": []
          },
          "execution_count": 5
        }
      ]
    },
    {
      "cell_type": "code",
      "metadata": {
        "colab": {
          "base_uri": "https://localhost:8080/"
        },
        "id": "T9m1Vu_sySls",
        "outputId": "1dc85666-33ff-45fc-82ae-f2f43bea8a7c"
      },
      "source": [
        "# Observing the Data Types #\n",
        "df.dtypes"
      ],
      "execution_count": 6,
      "outputs": [
        {
          "output_type": "execute_result",
          "data": {
            "text/plain": [
              "SeniorCitizen         int64\n",
              "PhoneService         object\n",
              "gender               object\n",
              "Partner              object\n",
              "Dependents           object\n",
              "PaperlessBilling     object\n",
              "MultipleLines        object\n",
              "InternetService      object\n",
              "OnlineSecurity       object\n",
              "OnlineBackup         object\n",
              "DeviceProtection     object\n",
              "TechSupport          object\n",
              "StreamingTV          object\n",
              "StreamingMovies      object\n",
              "Contract             object\n",
              "PaymentMethod        object\n",
              "tenure                int64\n",
              "MonthlyCharges      float64\n",
              "TotalCharges         object\n",
              "Churn                object\n",
              "dtype: object"
            ]
          },
          "metadata": {
            "tags": []
          },
          "execution_count": 6
        }
      ]
    },
    {
      "cell_type": "code",
      "metadata": {
        "colab": {
          "base_uri": "https://localhost:8080/"
        },
        "id": "2AXdC8PLySat",
        "outputId": "755fdcb7-bde3-4fac-8560-8a0ed6b4006b"
      },
      "source": [
        "# Observing the Features of the Dataset #\n",
        "df.columns"
      ],
      "execution_count": 7,
      "outputs": [
        {
          "output_type": "execute_result",
          "data": {
            "text/plain": [
              "Index(['SeniorCitizen', 'PhoneService', 'gender', 'Partner', 'Dependents',\n",
              "       'PaperlessBilling', 'MultipleLines', 'InternetService',\n",
              "       'OnlineSecurity', 'OnlineBackup', 'DeviceProtection', 'TechSupport',\n",
              "       'StreamingTV', 'StreamingMovies', 'Contract', 'PaymentMethod', 'tenure',\n",
              "       'MonthlyCharges', 'TotalCharges', 'Churn'],\n",
              "      dtype='object')"
            ]
          },
          "metadata": {
            "tags": []
          },
          "execution_count": 7
        }
      ]
    },
    {
      "cell_type": "code",
      "metadata": {
        "colab": {
          "base_uri": "https://localhost:8080/"
        },
        "id": "TgPaAYaF4YFW",
        "outputId": "466ee0b0-6f2a-4e38-aba9-df505411e279"
      },
      "source": [
        "df.nunique()"
      ],
      "execution_count": 8,
      "outputs": [
        {
          "output_type": "execute_result",
          "data": {
            "text/plain": [
              "SeniorCitizen          2\n",
              "PhoneService           2\n",
              "gender                 2\n",
              "Partner                2\n",
              "Dependents             2\n",
              "PaperlessBilling       2\n",
              "MultipleLines          3\n",
              "InternetService        3\n",
              "OnlineSecurity         3\n",
              "OnlineBackup           3\n",
              "DeviceProtection       3\n",
              "TechSupport            3\n",
              "StreamingTV            3\n",
              "StreamingMovies        3\n",
              "Contract               3\n",
              "PaymentMethod          4\n",
              "tenure                73\n",
              "MonthlyCharges      1585\n",
              "TotalCharges        6531\n",
              "Churn                  2\n",
              "dtype: int64"
            ]
          },
          "metadata": {
            "tags": []
          },
          "execution_count": 8
        }
      ]
    },
    {
      "cell_type": "markdown",
      "metadata": {
        "id": "bdQRoZIhCE6R"
      },
      "source": [
        "** 4.Analysing the Categorical Variables**"
      ]
    },
    {
      "cell_type": "code",
      "metadata": {
        "colab": {
          "base_uri": "https://localhost:8080/"
        },
        "id": "ZiSFwWcGAsjT",
        "outputId": "62a3c0bb-0e55-4d3b-e1cf-040d1aa60636"
      },
      "source": [
        "df.SeniorCitizen.value_counts()"
      ],
      "execution_count": 9,
      "outputs": [
        {
          "output_type": "execute_result",
          "data": {
            "text/plain": [
              "0    5901\n",
              "1    1142\n",
              "Name: SeniorCitizen, dtype: int64"
            ]
          },
          "metadata": {
            "tags": []
          },
          "execution_count": 9
        }
      ]
    },
    {
      "cell_type": "code",
      "metadata": {
        "colab": {
          "base_uri": "https://localhost:8080/",
          "height": 280
        },
        "id": "7zaOsrxKAsgs",
        "outputId": "2a72ac6c-490a-44af-f221-aabcbe1c3aac"
      },
      "source": [
        "df.SeniorCitizen.value_counts().plot(kind=\"bar\")"
      ],
      "execution_count": 10,
      "outputs": [
        {
          "output_type": "execute_result",
          "data": {
            "text/plain": [
              "<matplotlib.axes._subplots.AxesSubplot at 0x7f3282104610>"
            ]
          },
          "metadata": {
            "tags": []
          },
          "execution_count": 10
        },
        {
          "output_type": "display_data",
          "data": {
            "image/png": "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\n",
            "text/plain": [
              "<Figure size 432x288 with 1 Axes>"
            ]
          },
          "metadata": {
            "tags": [],
            "needs_background": "light"
          }
        }
      ]
    },
    {
      "cell_type": "code",
      "metadata": {
        "colab": {
          "base_uri": "https://localhost:8080/"
        },
        "id": "vpkUWR5cAsd_",
        "outputId": "310cda66-9c0f-4b37-e5bb-553be3f66bbc"
      },
      "source": [
        "df.PhoneService.value_counts()"
      ],
      "execution_count": 11,
      "outputs": [
        {
          "output_type": "execute_result",
          "data": {
            "text/plain": [
              "Yes    6361\n",
              "No      682\n",
              "Name: PhoneService, dtype: int64"
            ]
          },
          "metadata": {
            "tags": []
          },
          "execution_count": 11
        }
      ]
    },
    {
      "cell_type": "code",
      "metadata": {
        "colab": {
          "base_uri": "https://localhost:8080/",
          "height": 289
        },
        "id": "Ojh6KnXfAsbh",
        "outputId": "655a823e-0de7-4be7-c2bd-a4486fa1c442"
      },
      "source": [
        "df.PhoneService.value_counts().plot(kind=\"bar\")"
      ],
      "execution_count": 12,
      "outputs": [
        {
          "output_type": "execute_result",
          "data": {
            "text/plain": [
              "<matplotlib.axes._subplots.AxesSubplot at 0x7f32823e6310>"
            ]
          },
          "metadata": {
            "tags": []
          },
          "execution_count": 12
        },
        {
          "output_type": "display_data",
          "data": {
            "image/png": "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\n",
            "text/plain": [
              "<Figure size 432x288 with 1 Axes>"
            ]
          },
          "metadata": {
            "tags": [],
            "needs_background": "light"
          }
        }
      ]
    },
    {
      "cell_type": "code",
      "metadata": {
        "colab": {
          "base_uri": "https://localhost:8080/"
        },
        "id": "SwpzSuoJAsYp",
        "outputId": "ac3ba45c-eccf-4cef-c20d-ed32a448633c"
      },
      "source": [
        "df.gender.value_counts()"
      ],
      "execution_count": 13,
      "outputs": [
        {
          "output_type": "execute_result",
          "data": {
            "text/plain": [
              "Male      3555\n",
              "Female    3488\n",
              "Name: gender, dtype: int64"
            ]
          },
          "metadata": {
            "tags": []
          },
          "execution_count": 13
        }
      ]
    },
    {
      "cell_type": "code",
      "metadata": {
        "colab": {
          "base_uri": "https://localhost:8080/",
          "height": 309
        },
        "id": "e4yGlkJdAsWC",
        "outputId": "e8e1dad3-86f3-4f2a-caca-fb006d3bc268"
      },
      "source": [
        "df.gender.value_counts().plot(kind=\"bar\")"
      ],
      "execution_count": 14,
      "outputs": [
        {
          "output_type": "execute_result",
          "data": {
            "text/plain": [
              "<matplotlib.axes._subplots.AxesSubplot at 0x7f3281fb1050>"
            ]
          },
          "metadata": {
            "tags": []
          },
          "execution_count": 14
        },
        {
          "output_type": "display_data",
          "data": {
            "image/png": "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\n",
            "text/plain": [
              "<Figure size 432x288 with 1 Axes>"
            ]
          },
          "metadata": {
            "tags": [],
            "needs_background": "light"
          }
        }
      ]
    },
    {
      "cell_type": "code",
      "metadata": {
        "colab": {
          "base_uri": "https://localhost:8080/"
        },
        "id": "bGmbcgl3AsTW",
        "outputId": "8f83ad80-603f-4c5b-bcb7-b026d62836f1"
      },
      "source": [
        "df.Partner.value_counts()"
      ],
      "execution_count": 15,
      "outputs": [
        {
          "output_type": "execute_result",
          "data": {
            "text/plain": [
              "No     3641\n",
              "Yes    3402\n",
              "Name: Partner, dtype: int64"
            ]
          },
          "metadata": {
            "tags": []
          },
          "execution_count": 15
        }
      ]
    },
    {
      "cell_type": "code",
      "metadata": {
        "colab": {
          "base_uri": "https://localhost:8080/",
          "height": 289
        },
        "id": "AHerjgi4AsQv",
        "outputId": "92c0ba16-5e21-4468-f857-c70582fb0c8a"
      },
      "source": [
        "df.Partner.value_counts().plot(kind=\"bar\")"
      ],
      "execution_count": 16,
      "outputs": [
        {
          "output_type": "execute_result",
          "data": {
            "text/plain": [
              "<matplotlib.axes._subplots.AxesSubplot at 0x7f3281d4ac50>"
            ]
          },
          "metadata": {
            "tags": []
          },
          "execution_count": 16
        },
        {
          "output_type": "display_data",
          "data": {
            "image/png": "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\n",
            "text/plain": [
              "<Figure size 432x288 with 1 Axes>"
            ]
          },
          "metadata": {
            "tags": [],
            "needs_background": "light"
          }
        }
      ]
    },
    {
      "cell_type": "code",
      "metadata": {
        "colab": {
          "base_uri": "https://localhost:8080/"
        },
        "id": "NEv6sUB9AsN1",
        "outputId": "38f35e57-7304-4d31-f1a0-db2b72eb8285"
      },
      "source": [
        "df.Dependents.value_counts()"
      ],
      "execution_count": 17,
      "outputs": [
        {
          "output_type": "execute_result",
          "data": {
            "text/plain": [
              "No     4933\n",
              "Yes    2110\n",
              "Name: Dependents, dtype: int64"
            ]
          },
          "metadata": {
            "tags": []
          },
          "execution_count": 17
        }
      ]
    },
    {
      "cell_type": "code",
      "metadata": {
        "colab": {
          "base_uri": "https://localhost:8080/",
          "height": 289
        },
        "id": "xVva5MF6AsKd",
        "outputId": "d492cc6d-d00b-422e-fe27-9463326ec54b"
      },
      "source": [
        "df.Dependents.value_counts().plot(kind=\"bar\")"
      ],
      "execution_count": 18,
      "outputs": [
        {
          "output_type": "execute_result",
          "data": {
            "text/plain": [
              "<matplotlib.axes._subplots.AxesSubplot at 0x7f3281f5b490>"
            ]
          },
          "metadata": {
            "tags": []
          },
          "execution_count": 18
        },
        {
          "output_type": "display_data",
          "data": {
            "image/png": "iVBORw0KGgoAAAANSUhEUgAAAX0AAAD+CAYAAADWKtWTAAAABHNCSVQICAgIfAhkiAAAAAlwSFlzAAALEgAACxIB0t1+/AAAADh0RVh0U29mdHdhcmUAbWF0cGxvdGxpYiB2ZXJzaW9uMy4yLjIsIGh0dHA6Ly9tYXRwbG90bGliLm9yZy+WH4yJAAAOvUlEQVR4nO3df6zddX3H8eeLVtDotCB3DWs728wmC5qI5AYw7g8HGRTYLFuU4OZsSJNmSY0sMZuwX2QgC2ZTNo2aNKNazFwlOkOHZKxBzbYsKpfpUGCEO36MNmivtHY6Ilp874/zqTvDe3vvhXvPwft5PpKb+/1+vt9zzueblOf55nu+55KqQpLUh5PGPQFJ0ugYfUnqiNGXpI4YfUnqiNGXpI6sHvcETuT000+vjRs3jnsakvRT5Z577vl2VU3Mtu0FHf2NGzcyNTU17mlI0k+VJI/Ntc3LO5LUEaMvSR0x+pLUkQVFP8mjSb6e5GtJptrYaUn2J3mo/T61jSfJB5NMJ7k3ydlDz7Ot7f9Qkm3Lc0iSpLks5kz/l6vqrKqabOtXA3dV1WbgrrYOcDGwuf3sAD4KgzcJ4FrgXOAc4NrjbxSSpNF4Ppd3tgJ72vIe4LKh8Vtq4EvAmiRnABcB+6vqcFUdAfYDW57H60uSFmmh0S/gH5Pck2RHG1tbVU+05W8Ca9vyOuDxocceaGNzjf8/SXYkmUoyNTMzs8DpSZIWYqH36f9SVR1M8rPA/iT/MbyxqirJkvyN5qraBewCmJyc9O8+S9ISWtCZflUdbL8PAZ9lcE3+W+2yDe33obb7QWDD0MPXt7G5xiVJIzLvmX6SlwInVdV32/KFwHXAPmAbcGP7fVt7yD7gnUn2MvjQ9mhVPZHkTuDPhj68vRC4ZkmPZkw2Xv25cU9hRXn0xkvHPQVpxVrI5Z21wGeTHN//k1X1D0nuBm5Nsh14DLi87X8HcAkwDTwFXAlQVYeTXA/c3fa7rqoOL9mRSJLmNW/0q+ph4HWzjD8JXDDLeAE753iu3cDuxU9TkrQU/EauJHXE6EtSR4y+JHXE6EtSR4y+JHXE6EtSR4y+JHXE6EtSR4y+JHXE6EtSR4y+JHXE6EtSR4y+JHXE6EtSR4y+JHXE6EtSR4y+JHXE6EtSR4y+JHXE6EtSR4y+JHXE6EtSR4y+JHXE6EtSR4y+JHXE6EtSR4y+JHXE6EtSR4y+JHXE6EtSR4y+JHXE6EtSR4y+JHVkwdFPsirJV5Pc3tY3Jflykukkn0pychs/pa1Pt+0bh57jmjb+YJKLlvpgJEkntpgz/auAB4bW3wfcVFWvBo4A29v4duBIG7+p7UeSM4ErgNcAW4CPJFn1/KYvSVqMBUU/yXrgUuCv23qA84FPt132AJe15a1tnbb9grb/VmBvVT1dVY8A08A5S3EQkqSFWeiZ/l8Cvw/8qK2/EvhOVR1r6weAdW15HfA4QNt+tO3/4/FZHvNjSXYkmUoyNTMzs4hDkSTNZ97oJ/lV4FBV3TOC+VBVu6pqsqomJyYmRvGSktSN1QvY543Am5NcArwYeDnwV8CaJKvb2fx64GDb/yCwATiQZDXwCuDJofHjhh8jSRqBec/0q+qaqlpfVRsZfBD7+ar6LeALwFvabtuA29ryvrZO2/75qqo2fkW7u2cTsBn4ypIdiSRpXgs505/Le4C9Sd4LfBW4uY3fDHwiyTRwmMEbBVV1X5JbgfuBY8DOqnrmeby+JGmRFhX9qvoi8MW2/DCz3H1TVd8H3jrH428AbljsJCVJS8Nv5EpSR4y+JHXE6EtSR4y+JHXE6EtSR4y+JHXE6EtSR4y+JHXE6EtSR4y+JHXE6EtSR4y+JHXE6EtSR4y+JHXE6EtSR4y+JHXE6EtSR4y+JHXE6EtSR4y+JHXE6EtSR4y+JHXE6EtSR4y+JHXE6EtSR4y+JHXE6EtSR4y+JHXE6EtSR4y+JHXE6EtSR4y+JHXE6EtSR+aNfpIXJ/lKkn9Pcl+SP23jm5J8Ocl0kk8lObmNn9LWp9v2jUPPdU0bfzDJRct1UJKk2S3kTP9p4Pyqeh1wFrAlyXnA+4CbqurVwBFge9t/O3Ckjd/U9iPJmcAVwGuALcBHkqxayoORJJ3YvNGvge+11Re1nwLOBz7dxvcAl7XlrW2dtv2CJGnje6vq6ap6BJgGzlmSo5AkLciCruknWZXka8AhYD/wn8B3qupY2+UAsK4trwMeB2jbjwKvHB6f5THDr7UjyVSSqZmZmcUfkSRpTguKflU9U1VnAesZnJ3/4nJNqKp2VdVkVU1OTEws18tIUpcWdfdOVX0H+ALwBmBNktVt03rgYFs+CGwAaNtfATw5PD7LYyRJI7CQu3cmkqxpyy8BfgV4gEH839J22wbc1pb3tXXa9s9XVbXxK9rdPZuAzcBXlupAJEnzWz3/LpwB7Gl32pwE3FpVtye5H9ib5L3AV4Gb2/43A59IMg0cZnDHDlV1X5JbgfuBY8DOqnpmaQ9HknQi80a/qu4FXj/L+MPMcvdNVX0feOscz3UDcMPipylJWgp+I1eSOmL0JakjRl+SOmL0JakjRl+SOmL0JakjRl+SOmL0JakjRl+SOmL0JakjRl+SOmL0JakjRl+SOmL0JakjRl+SOmL0JakjRl+SOmL0JakjRl+SOmL0JakjRl+SOmL0JakjRl+SOmL0JakjRl+SOmL0JakjRl+SOmL0JakjRl+SOmL0JakjRl+SOrJ63BOQtLw2Xv25cU9hxXj0xkvHPYXnzTN9SerIvNFPsiHJF5Lcn+S+JFe18dOS7E/yUPt9ahtPkg8mmU5yb5Kzh55rW9v/oSTblu+wJEmzWciZ/jHg3VV1JnAesDPJmcDVwF1VtRm4q60DXAxsbj87gI/C4E0CuBY4FzgHuPb4G4UkaTTmjX5VPVFV/9aWvws8AKwDtgJ72m57gMva8lbglhr4ErAmyRnARcD+qjpcVUeA/cCWJT0aSdIJLeqafpKNwOuBLwNrq+qJtumbwNq2vA54fOhhB9rYXOPPfo0dSaaSTM3MzCxmepKkeSw4+kleBnwG+N2q+u/hbVVVQC3FhKpqV1VNVtXkxMTEUjylJKlZUPSTvIhB8P+mqv6uDX+rXbah/T7Uxg8CG4Yevr6NzTUuSRqRhdy9E+Bm4IGq+sDQpn3A8TtwtgG3DY2/o93Fcx5wtF0GuhO4MMmp7QPcC9uYJGlEFvLlrDcCvw18PcnX2tgfADcCtybZDjwGXN623QFcAkwDTwFXAlTV4STXA3e3/a6rqsNLchSSpAWZN/pV9S9A5th8wSz7F7BzjufaDexezAQlSUvHb+RKUkeMviR1xOhLUkeMviR1xOhLUkeMviR1xOhLUkeMviR1xOhLUkeMviR1xOhLUkeMviR1xOhLUkeMviR1xOhLUkeMviR1xOhLUkeMviR1xOhLUkeMviR1xOhLUkeMviR1xOhLUkeMviR1xOhLUkeMviR1xOhLUkeMviR1xOhLUkeMviR1xOhLUkeMviR1xOhLUkfmjX6S3UkOJfnG0NhpSfYneaj9PrWNJ8kHk0wnuTfJ2UOP2db2fyjJtuU5HEnSiSzkTP/jwJZnjV0N3FVVm4G72jrAxcDm9rMD+CgM3iSAa4FzgXOAa4+/UUiSRmfe6FfVPwGHnzW8FdjTlvcAlw2N31IDXwLWJDkDuAjYX1WHq+oIsJ+ffCORJC2z53pNf21VPdGWvwmsbcvrgMeH9jvQxuYa/wlJdiSZSjI1MzPzHKcnSZrN8/4gt6oKqCWYy/Hn21VVk1U1OTExsVRPK0niuUf/W+2yDe33oTZ+ENgwtN/6NjbXuCRphJ5r9PcBx+/A2QbcNjT+jnYXz3nA0XYZ6E7gwiSntg9wL2xjkqQRWj3fDkn+FngTcHqSAwzuwrkRuDXJduAx4PK2+x3AJcA08BRwJUBVHU5yPXB32++6qnr2h8OSpGU2b/Sr6m1zbLpgln0L2DnH8+wGdi9qdpKkJeU3ciWpI0Zfkjpi9CWpI0Zfkjpi9CWpI0Zfkjpi9CWpI0Zfkjpi9CWpI0Zfkjpi9CWpI0Zfkjpi9CWpI0Zfkjpi9CWpI0Zfkjpi9CWpI0Zfkjpi9CWpI0Zfkjpi9CWpI0Zfkjpi9CWpI0Zfkjpi9CWpI0Zfkjpi9CWpI0Zfkjpi9CWpI0Zfkjpi9CWpI0Zfkjpi9CWpIyOPfpItSR5MMp3k6lG/viT1bKTRT7IK+DBwMXAm8LYkZ45yDpLUs1Gf6Z8DTFfVw1X1A2AvsHXEc5Ckbq0e8eutAx4fWj8AnDu8Q5IdwI62+r0kD45obj04Hfj2uCcxn7xv3DPQGPhvc2m9aq4No47+vKpqF7Br3PNYiZJMVdXkuOchPZv/Nkdn1Jd3DgIbhtbXtzFJ0giMOvp3A5uTbEpyMnAFsG/Ec5Ckbo308k5VHUvyTuBOYBWwu6ruG+UcOudlM71Q+W9zRFJV456DJGlE/EauJHXE6EtSR4y+JHXE6EsauSS/kOSUtvymJO9Ksmbc8+qB0V/hkqxP8tkkM0kOJflMkvXjnpe69xngmSSvZnDnzgbgk+OdUh+M/sr3MQbfhTgD+Dng79uYNE4/qqpjwK8DH6qq32Pwb1TLzOivfBNV9bGqOtZ+Pg5MjHtS6t4Pk7wN2Abc3sZeNMb5dMPor3xPJnl7klXt5+3Ak+OelLp3JfAG4IaqeiTJJuATY55TF/xy1gqX5FXAhxj8B1bAvwLvqqr/GuvE1L0kLwF+vqr8S7ojZPQljVySXwP+Aji5qjYlOQu4rqrePOaprXhGf4VK8icn2FxVdf3IJiM9S5J7gPOBL1bV69vYN6rqteOd2cr3gvt7+loy/zPL2EuB7cArAaOvcfphVR1NMjz2o3FNpidGf4WqqvcfX07yM8BVDD482wu8f67HScspyR3ATuC+JL8JrEqyGXgXg8+btMy8e2cFS3JakvcC9zJ4gz+7qt5TVYfGPDX162MM/rT6o8BrgacZfCnrKIMTEy0zr+mvUEn+HPgNBt92/HBVfW/MU5IASPIy4I+BLQxu0zweoaqqD4xtYp3w8s7K9W4GZ1F/BPzh0LXTMPiP6+Xjmpi69wMGnzmdAryM/4u+RsDor1BV5aU7veAk2QJ8gMGfBjm7qp4a85S64+UdSSOT5J+B3/F/kzo+Rl+SOuIlAEnqiNGXpI4YfUnqiNGXpI4YfUnqyP8CfSu7BsKd0dsAAAAASUVORK5CYII=\n",
            "text/plain": [
              "<Figure size 432x288 with 1 Axes>"
            ]
          },
          "metadata": {
            "tags": [],
            "needs_background": "light"
          }
        }
      ]
    },
    {
      "cell_type": "code",
      "metadata": {
        "colab": {
          "base_uri": "https://localhost:8080/"
        },
        "id": "Q0hYwqKNDS9f",
        "outputId": "fcfe5e3a-4ad4-4240-c0b6-5f1bd934bd77"
      },
      "source": [
        "df.PaperlessBilling.value_counts()"
      ],
      "execution_count": 19,
      "outputs": [
        {
          "output_type": "execute_result",
          "data": {
            "text/plain": [
              "Yes    4171\n",
              "No     2872\n",
              "Name: PaperlessBilling, dtype: int64"
            ]
          },
          "metadata": {
            "tags": []
          },
          "execution_count": 19
        }
      ]
    },
    {
      "cell_type": "code",
      "metadata": {
        "colab": {
          "base_uri": "https://localhost:8080/",
          "height": 289
        },
        "id": "k_JnCppaDS6l",
        "outputId": "967faf61-9a2c-40b0-b68b-299712a1c826"
      },
      "source": [
        "df.PaperlessBilling.value_counts().plot(kind=\"bar\")"
      ],
      "execution_count": 20,
      "outputs": [
        {
          "output_type": "execute_result",
          "data": {
            "text/plain": [
              "<matplotlib.axes._subplots.AxesSubplot at 0x7f3281eec2d0>"
            ]
          },
          "metadata": {
            "tags": []
          },
          "execution_count": 20
        },
        {
          "output_type": "display_data",
          "data": {
            "image/png": "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\n",
            "text/plain": [
              "<Figure size 432x288 with 1 Axes>"
            ]
          },
          "metadata": {
            "tags": [],
            "needs_background": "light"
          }
        }
      ]
    },
    {
      "cell_type": "code",
      "metadata": {
        "colab": {
          "base_uri": "https://localhost:8080/"
        },
        "id": "ODQzFfjUEOg6",
        "outputId": "3979b821-118d-4fb3-fd31-64dceb610b48"
      },
      "source": [
        "df.MultipleLines.value_counts()"
      ],
      "execution_count": 21,
      "outputs": [
        {
          "output_type": "execute_result",
          "data": {
            "text/plain": [
              "No                  3390\n",
              "Yes                 2971\n",
              "No phone service     682\n",
              "Name: MultipleLines, dtype: int64"
            ]
          },
          "metadata": {
            "tags": []
          },
          "execution_count": 21
        }
      ]
    },
    {
      "cell_type": "code",
      "metadata": {
        "colab": {
          "base_uri": "https://localhost:8080/",
          "height": 360
        },
        "id": "R90UjzNOEOd0",
        "outputId": "dda6041e-3a8f-4c7e-fb28-6cb8e5a15e16"
      },
      "source": [
        "df.MultipleLines.value_counts().plot(kind=\"bar\")"
      ],
      "execution_count": 22,
      "outputs": [
        {
          "output_type": "execute_result",
          "data": {
            "text/plain": [
              "<matplotlib.axes._subplots.AxesSubplot at 0x7f3281876210>"
            ]
          },
          "metadata": {
            "tags": []
          },
          "execution_count": 22
        },
        {
          "output_type": "display_data",
          "data": {
            "image/png": "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\n",
            "text/plain": [
              "<Figure size 432x288 with 1 Axes>"
            ]
          },
          "metadata": {
            "tags": [],
            "needs_background": "light"
          }
        }
      ]
    },
    {
      "cell_type": "code",
      "metadata": {
        "colab": {
          "base_uri": "https://localhost:8080/"
        },
        "id": "rcw3VOqvEObV",
        "outputId": "47bd0323-7f1b-44ba-c477-7f89a606378a"
      },
      "source": [
        "df.InternetService.value_counts()"
      ],
      "execution_count": 23,
      "outputs": [
        {
          "output_type": "execute_result",
          "data": {
            "text/plain": [
              "Fiber optic    3096\n",
              "DSL            2421\n",
              "No             1526\n",
              "Name: InternetService, dtype: int64"
            ]
          },
          "metadata": {
            "tags": []
          },
          "execution_count": 23
        }
      ]
    },
    {
      "cell_type": "code",
      "metadata": {
        "colab": {
          "base_uri": "https://localhost:8080/",
          "height": 325
        },
        "id": "KhMI3PGSEOYs",
        "outputId": "d0449d0b-5e87-445e-80a3-5a6199445ba0"
      },
      "source": [
        "df.InternetService.value_counts().plot(kind=\"bar\")"
      ],
      "execution_count": 24,
      "outputs": [
        {
          "output_type": "execute_result",
          "data": {
            "text/plain": [
              "<matplotlib.axes._subplots.AxesSubplot at 0x7f328182e210>"
            ]
          },
          "metadata": {
            "tags": []
          },
          "execution_count": 24
        },
        {
          "output_type": "display_data",
          "data": {
            "image/png": "iVBORw0KGgoAAAANSUhEUgAAAX0AAAEiCAYAAAAVoQJzAAAABHNCSVQICAgIfAhkiAAAAAlwSFlzAAALEgAACxIB0t1+/AAAADh0RVh0U29mdHdhcmUAbWF0cGxvdGxpYiB2ZXJzaW9uMy4yLjIsIGh0dHA6Ly9tYXRwbG90bGliLm9yZy+WH4yJAAATAUlEQVR4nO3df6xfd33f8ecLJ/xomyyB3EXB9nAK7qjRVIO8JC1IZSDyC6bQabBEa/FQNDMpGaBWmkw1NQwaKe2gkUAQ1VUMZmKk2SDCFJfgpkgV2iC+abOAE6Jc8mOxF+ILSSEsaorDe398P7f7Ntwf32tfn6/N5/mQvrrnvM853+/75Eave/w553xPqgpJUh+eN+0GJEnDMfQlqSOGviR1xNCXpI4Y+pLUkdOm3cByzjnnnNq0adO025CkU8pdd9313aqaWWzZSR36mzZtYnZ2dtptSNIpJckjSy1zeEeSOmLoS1JHDH1J6oihL0kdMfQlqSOGviR1xNCXpI4Y+pLUEUNfkjpyUt+RO7RNO7847RZOqIdvePO0W5A0ZR7pS1JHDH1J6siKoZ/khUnuTPK/khxM8p9a/fwkX08yl+SPkzy/1V/Q5ufa8k1j7/W+Vr8/ySUnaqckSYub5Ej/GeANVfVLwFbg0iQXAb8H3FhVrwCeBK5u618NPNnqN7b1SLIFuBJ4FXAp8PEk69ZyZyRJy1sx9Gvkh2329PYq4A3Af2/1PcBb2/QVbZ62/I1J0uq3VNUzVfUQMAdcsCZ7IUmayERj+knWJbkbOALsB74N/HVVHW2rHALWt+n1wKMAbfn3gZeM1xfZZvyzdiSZTTI7Pz+/+j2SJC1potCvqmeraiuwgdHR+StPVENVtauqtlXVtpmZRR/8Ikk6Rqu6eqeq/hr4CvDLwFlJFq7z3wAcbtOHgY0Abfk/AL43Xl9kG0nSACa5emcmyVlt+kXAm4D7GIX/v2yrbQc+36b3tnna8j+vqmr1K9vVPecDm4E712pHJEkrm+SO3POAPe1Km+cBt1bVnyS5F7glye8CfwXc3Na/GfgvSeaAJxhdsUNVHUxyK3AvcBS4pqqeXdvdkSQtZ8XQr6p7gFcvUn+QRa6+qaq/Ad62xHtdD1y/+jYlSWvBO3IlqSOGviR1xNCXpI4Y+pLUEUNfkjpi6EtSRwx9SeqIoS9JHTH0Jakjhr4kdcTQl6SOGPqS1BFDX5I6YuhLUkcMfUnqiKEvSR0x9CWpI4a+JHXE0Jekjhj6ktQRQ1+SOmLoS1JHDH1J6oihL0kdWTH0k2xM8pUk9yY5mOQ9rf7+JIeT3N1el49t874kc0nuT3LJWP3SVptLsvPE7JIkaSmnTbDOUeC3quovk5wB3JVkf1t2Y1V9aHzlJFuAK4FXAS8F/izJL7TFHwPeBBwCDiTZW1X3rsWOSJJWtmLoV9VjwGNt+qkk9wHrl9nkCuCWqnoGeCjJHHBBWzZXVQ8CJLmlrWvoS9JAVjWmn2QT8Grg6610bZJ7kuxOcnarrQceHdvsUKstVZckDWTi0E/yc8BngfdW1Q+Am4CXA1sZ/Uvgw2vRUJIdSWaTzM7Pz6/FW0qSmolCP8npjAL/01X1OYCqeryqnq2qHwN/xP8fwjkMbBzbfEOrLVX/e6pqV1Vtq6ptMzMzq90fSdIyJrl6J8DNwH1V9Qdj9fPGVvs14Jttei9wZZIXJDkf2AzcCRwANic5P8nzGZ3s3bs2uyFJmsQkV++8FvgN4BtJ7m613wauSrIVKOBh4F0AVXUwya2MTtAeBa6pqmcBklwL3A6sA3ZX1cE13BdJ0gomuXrnq0AWWbRvmW2uB65fpL5vue0kSSfWJEf60ilh084vTruFE+rhG9487Rb0U8CvYZCkjhj6ktQRQ1+SOmLoS1JHDH1J6oihL0kdMfQlqSOGviR1xNCXpI4Y+pLUEUNfkjpi6EtSRwx9SeqIoS9JHTH0Jakjhr4kdcTQl6SOGPqS1BFDX5I6YuhLUkcMfUnqiKEvSR0x9CWpI4a+JHVkxdBPsjHJV5Lcm+Rgkve0+ouT7E/yQPt5dqsnyUeSzCW5J8lrxt5re1v/gSTbT9xuSZIWM8mR/lHgt6pqC3ARcE2SLcBO4I6q2gzc0eYBLgM2t9cO4CYY/ZEArgMuBC4Arlv4QyFJGsaKoV9Vj1XVX7bpp4D7gPXAFcCettoe4K1t+grgUzXyNeCsJOcBlwD7q+qJqnoS2A9cuqZ7I0la1qrG9JNsAl4NfB04t6oea4u+A5zbptcDj45tdqjVlqo/9zN2JJlNMjs/P7+a9iRJK5g49JP8HPBZ4L1V9YPxZVVVQK1FQ1W1q6q2VdW2mZmZtXhLSVIzUegnOZ1R4H+6qj7Xyo+3YRvazyOtfhjYOLb5hlZbqi5JGsgkV+8EuBm4r6r+YGzRXmDhCpztwOfH6u9oV/FcBHy/DQPdDlyc5Ox2AvfiVpMkDeS0CdZ5LfAbwDeS3N1qvw3cANya5GrgEeDtbdk+4HJgDngaeCdAVT2R5IPAgbbeB6rqiTXZC0nSRFYM/ar6KpAlFr9xkfULuGaJ99oN7F5Ng5KkteMduZLUEUNfkjpi6EtSRwx9SeqIoS9JHTH0Jakjhr4kdcTQl6SOGPqS1BFDX5I6YuhLUkcMfUnqiKEvSR0x9CWpI4a+JHXE0Jekjhj6ktQRQ1+SOmLoS1JHDH1J6oihL0kdMfQlqSOGviR1xNCXpI6sGPpJdic5kuSbY7X3Jzmc5O72unxs2fuSzCW5P8klY/VLW20uyc613xVJ0komOdL/JHDpIvUbq2pre+0DSLIFuBJ4Vdvm40nWJVkHfAy4DNgCXNXWlSQN6LSVVqiqv0iyacL3uwK4paqeAR5KMgdc0JbNVdWDAEluaeveu+qOJf1U2rTzi9Nu4YR5+IY3T7uFv3M8Y/rXJrmnDf+c3WrrgUfH1jnUakvVf0KSHUlmk8zOz88fR3uSpOc61tC/CXg5sBV4DPjwWjVUVbuqaltVbZuZmVmrt5UkMcHwzmKq6vGF6SR/BPxJmz0MbBxbdUOrsUxdkjSQYzrST3Le2OyvAQtX9uwFrkzygiTnA5uBO4EDwOYk5yd5PqOTvXuPvW1J0rFY8Ug/yWeA1wPnJDkEXAe8PslWoICHgXcBVNXBJLcyOkF7FLimqp5t73MtcDuwDthdVQfXfG8kScua5OqdqxYp37zM+tcD1y9S3wfsW1V3kqQ15R25ktQRQ1+SOmLoS1JHDH1J6oihL0kdMfQlqSOGviR1xNCXpI4Y+pLUEUNfkjpi6EtSRwx9SeqIoS9JHTH0Jakjhr4kdcTQl6SOGPqS1BFDX5I6YuhLUkcMfUnqiKEvSR0x9CWpI4a+JHXE0Jekjhj6ktSRFUM/ye4kR5J8c6z24iT7kzzQfp7d6knykSRzSe5J8pqxbba39R9Isv3E7I4kaTmTHOl/Erj0ObWdwB1VtRm4o80DXAZsbq8dwE0w+iMBXAdcCFwAXLfwh0KSNJwVQ7+q/gJ44jnlK4A9bXoP8Nax+qdq5GvAWUnOAy4B9lfVE1X1JLCfn/xDIkk6wY51TP/cqnqsTX8HOLdNrwceHVvvUKstVf8JSXYkmU0yOz8/f4ztSZIWc9wncquqgFqDXhbeb1dVbauqbTMzM2v1tpIkjj30H2/DNrSfR1r9MLBxbL0NrbZUXZI0oGMN/b3AwhU424HPj9Xf0a7iuQj4fhsGuh24OMnZ7QTuxa0mSRrQaSutkOQzwOuBc5IcYnQVzg3ArUmuBh4B3t5W3wdcDswBTwPvBKiqJ5J8EDjQ1vtAVT335LAk6QRbMfSr6qolFr1xkXULuGaJ99kN7F5Vd5KkNeUduZLUEUNfkjpi6EtSRwx9SeqIoS9JHTH0Jakjhr4kdcTQl6SOGPqS1BFDX5I6YuhLUkcMfUnqiKEvSR0x9CWpI4a+JHXE0Jekjhj6ktQRQ1+SOmLoS1JHDH1J6oihL0kdMfQlqSOGviR1xNCXpI4cV+gneTjJN5LcnWS21V6cZH+SB9rPs1s9ST6SZC7JPUlesxY7IEma3Foc6f+zqtpaVdva/E7gjqraDNzR5gEuAza31w7gpjX4bEnSKpyI4Z0rgD1teg/w1rH6p2rka8BZSc47AZ8vSVrC8YZ+AV9OcleSHa12blU91qa/A5zbptcDj45te6jV/p4kO5LMJpmdn58/zvYkSeNOO87tX1dVh5P8Q2B/km+NL6yqSlKrecOq2gXsAti2bduqtpUkLe+4jvSr6nD7eQS4DbgAeHxh2Kb9PNJWPwxsHNt8Q6tJkgZyzKGf5GeTnLEwDVwMfBPYC2xvq20HPt+m9wLvaFfxXAR8f2wYSJI0gOMZ3jkXuC3Jwvv816r6UpIDwK1JrgYeAd7e1t8HXA7MAU8D7zyOz5YkHYNjDv2qehD4pUXq3wPeuEi9gGuO9fMkScfPO3IlqSOGviR1xNCXpI4Y+pLUEUNfkjpi6EtSRwx9SeqIoS9JHTH0Jakjhr4kdcTQl6SOGPqS1BFDX5I6YuhLUkcMfUnqiKEvSR0x9CWpI4a+JHXE0Jekjhj6ktQRQ1+SOmLoS1JHDH1J6oihL0kdMfQlqSODh36SS5Pcn2Quyc6hP1+SejZo6CdZB3wMuAzYAlyVZMuQPUhSz4Y+0r8AmKuqB6vqb4FbgCsG7kGSunXawJ+3Hnh0bP4QcOH4Ckl2ADva7A+T3D9Qb9NwDvDdoT4svzfUJ3XD39+p66f9d/eypRYMHforqqpdwK5p9zGEJLNVtW3afejY+Ps7dfX8uxt6eOcwsHFsfkOrSZIGMHToHwA2Jzk/yfOBK4G9A/cgSd0adHinqo4muRa4HVgH7K6qg0P2cJLpYhjrp5i/v1NXt7+7VNW0e5AkDcQ7ciWpI4a+JHXE0Jekjhj6A0pyUZIzxubPTHLhctvo5JfkvdPuQZqUoT+sm4Afjs3/sNV0avvNaTeglSXZkOS2JPNJjiT5bJIN0+5raIb+sFJjl0tV1Y85Ce+K1qpl2g1oIp9gdF/QecBLgS+0WlcM/WE9mOTdSU5vr/cAD067KR03r3s+NcxU1Seq6mh7fRKYmXZTQzP0h/XvgF9h9NUTC182t2PZLXRSSPJUkh8s8nqK0VGjTn7fS/LrSda1168D35t2U0Pz5ixJXUjyMuCjwC8z+tfZ/wDeXVX/e6qNDczQH0CS/1BVv5/koywyFFBV755CW1qFJD8D/KiqftTm/zFwOfBwVd021eakVfAk4jDuaz9np9qFjseXgKuBB5K8AvifwKeBtyS5sKp89OdJKsnvLLO4quqDgzVzEjD0B1BVX2iTT1fVfxtfluRtU2hJq3d2VT3QprcDn6mqf9++LfYuwNA/ef3fRWo/y+iP+EuArkLfE7nDet+ENZ18xofl3gDsB2iP/fzxVDrSRKrqwwsvRt+u+SLgnYwe1/rzU21uCjzSH0CSyxiN/65P8pGxRWcCR6fTlVbpniQfYnTl1SuALwMkOWuqXWkiSV7M6Ca6fw3sAV5TVU9Ot6vp8Eh/GP+H0Xj+3zAaClh47QUumWJfmty/ZfRM1U3AxVX1dKtvAT40raa0siT/mdEDnJ4C/klVvb/XwAev3hlUktMZ3b35SkbDBfe34QGdQpLMAFTV/LR70cqS/Bh4htG/qscDL4xO5J45lcamxNAfUJLLgT8Evs3of7jzgXdV1Z9OtTGtKEmA3wGuZfTUtzAKkY9W1Qem2Zu0Gob+gJJ8C3hLVc21+ZcDX6yqV063M60kyW8ClwE7quqhVvt5Rl+Y96WqunGa/UmTMvQHlORAVf3TsfkAd47XdHJK8lfAm6rqu8+pzwBfrqpXT6czaXW8emdYs0n2AbcyGlt8G3Agyb8AqKrPTbM5Lev05wY+jMb127ka6ZRg6A/rhcDjwK+2+XlG1wz/c0Z/BAz9k9dyJ9w9Ga9ThsM70gSSPMvid3YGeGFVebSvU4LX6Q9o7Mk9R3p+cs+pqKrWVdWZi7zOMPB1KjH0h7Xw5J6X0vGTeyRNj8M7A0pyd1VtXakmSSeKR/rD8sk9kqbKI/0B+eQeSdNm6EtSRxzekaSOGPqS1BFDfyBJnpfk7dPuQ1LfHNMfUJLZqto27T4k9cvQH1CSGxg9femPGbulv6qemFpTkrpi6A8oyUOLlKuquns4s6TpMPQlqSOeyB1Qkp9J8h+T7Grzm5O8Zdp9SeqHoT+sTzD67vVfafOHgd+dXjuSemPoD+vlVfX7wI8AquppRt/HLkmDMPSH9bdJXsToe3cWHoz+zHRbktQTH5c4rOuALwEbk3waeC3wb6bakaSuePXOwJK8BLiI0bDO1xZ72LYknSge6Q/vV4HXMRriOR24bbrtSOqJR/oDSvJx4BXAZ1rpXwHfrqprpteVpJ4Y+gNK8i3gF6v9R0/yPOBgVf3idDuT1Auv3hnWHPCPxuY3tpokDcIx/QEk+QKjMfwzgPuS3NnmLwTunGZvkvpi6A/jQ9NuQJLAMX1J6opH+gNI8tWqel2Sp2h34y4sYvTVymdOqTVJnfFIfwBJXlZVj0y7D0ny6p1h/N0NWEk+O81GJPXN0B/G+Ddp+pQsSVNj6A+jlpiWpEE5pj+AJM8yehB6gBcBTy8swhO5kgZk6EtSRxzekaSOGPqS1BFDX5I6YuhLUkcMfUnqyP8DUn486vsnq8IAAAAASUVORK5CYII=\n",
            "text/plain": [
              "<Figure size 432x288 with 1 Axes>"
            ]
          },
          "metadata": {
            "tags": [],
            "needs_background": "light"
          }
        }
      ]
    },
    {
      "cell_type": "code",
      "metadata": {
        "colab": {
          "base_uri": "https://localhost:8080/"
        },
        "id": "cJ5BePWaEOWT",
        "outputId": "a17dd746-dc43-4df0-f7f8-23d3bd872a2a"
      },
      "source": [
        "df.OnlineSecurity.value_counts()"
      ],
      "execution_count": 25,
      "outputs": [
        {
          "output_type": "execute_result",
          "data": {
            "text/plain": [
              "No                     3498\n",
              "Yes                    2019\n",
              "No internet service    1526\n",
              "Name: OnlineSecurity, dtype: int64"
            ]
          },
          "metadata": {
            "tags": []
          },
          "execution_count": 25
        }
      ]
    },
    {
      "cell_type": "code",
      "metadata": {
        "colab": {
          "base_uri": "https://localhost:8080/",
          "height": 369
        },
        "id": "XsHkphJREOTo",
        "outputId": "3c4b70b4-f301-45b4-c1aa-86337cb68762"
      },
      "source": [
        "df.OnlineSecurity.value_counts().plot(kind=\"bar\")"
      ],
      "execution_count": 26,
      "outputs": [
        {
          "output_type": "execute_result",
          "data": {
            "text/plain": [
              "<matplotlib.axes._subplots.AxesSubplot at 0x7f328212aa10>"
            ]
          },
          "metadata": {
            "tags": []
          },
          "execution_count": 26
        },
        {
          "output_type": "display_data",
          "data": {
            "image/png": "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\n",
            "text/plain": [
              "<Figure size 432x288 with 1 Axes>"
            ]
          },
          "metadata": {
            "tags": [],
            "needs_background": "light"
          }
        }
      ]
    },
    {
      "cell_type": "code",
      "metadata": {
        "colab": {
          "base_uri": "https://localhost:8080/"
        },
        "id": "1xxEN8ByEOQz",
        "outputId": "4380498f-1d43-4620-9b82-2481d88aee88"
      },
      "source": [
        "df.OnlineBackup.value_counts()"
      ],
      "execution_count": 27,
      "outputs": [
        {
          "output_type": "execute_result",
          "data": {
            "text/plain": [
              "No                     3088\n",
              "Yes                    2429\n",
              "No internet service    1526\n",
              "Name: OnlineBackup, dtype: int64"
            ]
          },
          "metadata": {
            "tags": []
          },
          "execution_count": 27
        }
      ]
    },
    {
      "cell_type": "code",
      "metadata": {
        "colab": {
          "base_uri": "https://localhost:8080/",
          "height": 369
        },
        "id": "R13zWzn3EOOS",
        "outputId": "e9c1ba36-6381-4059-c758-aa4677447974"
      },
      "source": [
        "df.OnlineBackup.value_counts().plot(kind=\"bar\")"
      ],
      "execution_count": 28,
      "outputs": [
        {
          "output_type": "execute_result",
          "data": {
            "text/plain": [
              "<matplotlib.axes._subplots.AxesSubplot at 0x7f3282448650>"
            ]
          },
          "metadata": {
            "tags": []
          },
          "execution_count": 28
        },
        {
          "output_type": "display_data",
          "data": {
            "image/png": "iVBORw0KGgoAAAANSUhEUgAAAX0AAAFOCAYAAABql81SAAAABHNCSVQICAgIfAhkiAAAAAlwSFlzAAALEgAACxIB0t1+/AAAADh0RVh0U29mdHdhcmUAbWF0cGxvdGxpYiB2ZXJzaW9uMy4yLjIsIGh0dHA6Ly9tYXRwbG90bGliLm9yZy+WH4yJAAAV4klEQVR4nO3dfbBc9X3f8ffH4qE2D+HpBmNJIJWozcjpRDAagutMh9pjELgJ2EldSG0rHlqlMxDwxJMUu3VwbTPjJAYn9jhMcBHGHmOiBj/IsWyqELdu4togEhUQlHKLcZAGIwUwD2YKSHz7x54br8m9ulfS1Z7L/t6vmZ179nvO7n7P7OizR7/zlKpCktSGV/TdgCRpdAx9SWqIoS9JDTH0Jakhhr4kNcTQl6SGHNJ3A3tzwgkn1LJly/puQ5JeVu68886/raqJ6eYt6NBftmwZW7Zs6bsNSXpZSfK9meY5vCNJDTH0Jakhhr4kNcTQl6SGGPqS1BBDX5IaYuhLUkMMfUlqyII+OWvUll3x1b5bOKge+sib+25BUs/c0pekhswa+kn+QZLbk/yvJNuS/KeuvjzJd5JMJvnjJId19cO755Pd/GVD7/Xern5/knMO1kpJkqY3ly3954A3VNXPAquANUnOBH4H+FhV/RTwBHBxt/zFwBNd/WPdciRZCVwIvBZYA/xhkkXzuTKSpL2bNfRr4Jnu6aHdo4A3AH/S1W8ELuimz++e081/Y5J09Zur6rmq+i4wCZwxL2shSZqTOY3pJ1mUZCuwE9gM/F/gB1W1u1tkO7C4m14MPAzQzX8SOH64Ps1rJEkjMKfQr6o9VbUKWMJg6/ynD1ZDSdYl2ZJky65duw7Wx0hSk/bp6J2q+gHwDeB1wDFJpg75XALs6KZ3AEsBuvk/ATw2XJ/mNcOfcV1Vra6q1RMT094DQJK0n+Zy9M5EkmO66VcCbwLuYxD+v9wtthb4cje9sXtON//Pq6q6+oXd0T3LgRXA7fO1IpKk2c3l5KyTgBu7I21eAWyoqj9Nci9wc5IPA38NXN8tfz3w2SSTwOMMjtihqrYl2QDcC+wGLqmqPfO7OpKkvZk19KvqLuC0aeoPMs3RN1X1/4B/OcN7XQVcte9tSpLmg2fkSlJDDH1JaoihL0kNMfQlqSGGviQ1xNCXpIYY+pLUEENfkhpi6EtSQwx9SWqIoS9JDTH0Jakhhr4kNcTQl6SGGPqS1BBDX5IaYuhLUkMMfUlqiKEvSQ0x9CWpIYa+JDXE0Jekhhj6ktQQQ1+SGmLoS1JDZg39JEuTfCPJvUm2Jbm8q38gyY4kW7vHeUOveW+SyST3JzlnqL6mq00mueLgrJIkaSaHzGGZ3cB7quqvkhwF3JlkczfvY1X10eGFk6wELgReC7wG+LMk/6ib/UngTcB24I4kG6vq3vlYEUnS7GYN/ap6BHikm346yX3A4r285Hzg5qp6DvhukkngjG7eZFU9CJDk5m5ZQ1+SRmSfxvSTLANOA77TlS5NcleS9UmO7WqLgYeHXra9q81UlySNyJxDP8mRwC3Au6vqKeBa4FRgFYP/CVw9Hw0lWZdkS5Itu3btmo+3lCR15hT6SQ5lEPifq6ovAFTVo1W1p6peBD7Fj4ZwdgBLh16+pKvNVP8xVXVdVa2uqtUTExP7uj6SpL2Yy9E7Aa4H7quqa4bqJw0t9hbgnm56I3BhksOTLAdWALcDdwArkixPchiDnb0b52c1JElzMZejd14PvAO4O8nWrvY+4KIkq4ACHgJ+DaCqtiXZwGAH7W7gkqraA5DkUuBWYBGwvqq2zeO6SJJmMZejd/4CyDSzNu3lNVcBV01T37S310mSDq65bOlLLwvLrvhq3y0cVA995M19t6Ax4GUYJKkhhr4kNcTQl6SGGPqS1BBDX5IaYuhLUkMMfUlqiKEvSQ0x9CWpIYa+JDXE0Jekhhj6ktQQQ1+SGmLoS1JDDH1JaoihL0kNMfQlqSGGviQ1xNCXpIYY+pLUEENfkhpi6EtSQwx9SWqIoS9JDZk19JMsTfKNJPcm2Zbk8q5+XJLNSR7o/h7b1ZPk40kmk9yV5PSh91rbLf9AkrUHb7UkSdOZy5b+buA9VbUSOBO4JMlK4ArgtqpaAdzWPQc4F1jRPdYB18LgRwK4Evg54AzgyqkfCknSaMwa+lX1SFX9VTf9NHAfsBg4H7ixW+xG4IJu+nzgMzXwbeCYJCcB5wCbq+rxqnoC2Aysmde1kSTt1T6N6SdZBpwGfAc4saoe6WZ9Hzixm14MPDz0su1dbab6Sz9jXZItSbbs2rVrX9qTJM1izqGf5EjgFuDdVfXU8LyqKqDmo6Gquq6qVlfV6omJifl4S0lSZ06hn+RQBoH/uar6Qld+tBu2ofu7s6vvAJYOvXxJV5upLkkakbkcvRPgeuC+qrpmaNZGYOoInLXAl4fq7+yO4jkTeLIbBroVODvJsd0O3LO7miRpRA6ZwzKvB94B3J1ka1d7H/ARYEOSi4HvAW/r5m0CzgMmgWeBdwFU1eNJPgTc0S33wap6fF7WQpI0J7OGflX9BZAZZr9xmuULuGSG91oPrN+XBiVJ88czciWpIYa+JDXE0Jekhhj6ktQQQ1+SGmLoS1JDDH1JaoihL0kNMfQlqSGGviQ1xNCXpIYY+pLUEENfkhpi6EtSQwx9SWqIoS9JDTH0Jakhhr4kNcTQl6SGGPqS1BBDX5IaYuhLUkMMfUlqiKEvSQ2ZNfSTrE+yM8k9Q7UPJNmRZGv3OG9o3nuTTCa5P8k5Q/U1XW0yyRXzvyqSpNnMZUv/08Caaeofq6pV3WMTQJKVwIXAa7vX/GGSRUkWAZ8EzgVWAhd1y0qSRuiQ2Raoqm8mWTbH9zsfuLmqngO+m2QSOKObN1lVDwIkublb9t597ljSWFp2xVf7buGgeegjb+67hb9zIGP6lya5qxv+ObarLQYeHlpme1ebqS5JGqH9Df1rgVOBVcAjwNXz1VCSdUm2JNmya9eu+XpbSRL7GfpV9WhV7amqF4FP8aMhnB3A0qFFl3S1merTvfd1VbW6qlZPTEzsT3uSpBnsV+gnOWno6VuAqSN7NgIXJjk8yXJgBXA7cAewIsnyJIcx2Nm7cf/bliTtj1l35Cb5PHAWcEKS7cCVwFlJVgEFPAT8GkBVbUuygcEO2t3AJVW1p3ufS4FbgUXA+qraNu9rI0naq7kcvXPRNOXr97L8VcBV09Q3AZv2qTtJ0rzyjFxJaoihL0kNMfQlqSGGviQ1xNCXpIYY+pLUEENfkhpi6EtSQwx9SWqIoS9JDTH0Jakhhr4kNcTQl6SGGPqS1BBDX5IaYuhLUkMMfUlqiKEvSQ0x9CWpIYa+JDXE0Jekhhj6ktQQQ1+SGmLoS1JDDH1JasisoZ9kfZKdSe4Zqh2XZHOSB7q/x3b1JPl4kskkdyU5feg1a7vlH0iy9uCsjiRpb+aypf9pYM1LalcAt1XVCuC27jnAucCK7rEOuBYGPxLAlcDPAWcAV079UEiSRmfW0K+qbwKPv6R8PnBjN30jcMFQ/TM18G3gmCQnAecAm6vq8ap6AtjM3/8hkSQdZPs7pn9iVT3STX8fOLGbXgw8PLTc9q42U/3vSbIuyZYkW3bt2rWf7UmSpnPAO3KrqoCah16m3u+6qlpdVasnJibm620lSex/6D/aDdvQ/d3Z1XcAS4eWW9LVZqpLkkZof0N/IzB1BM5a4MtD9Xd2R/GcCTzZDQPdCpyd5NhuB+7ZXU2SNEKHzLZAks8DZwEnJNnO4CicjwAbklwMfA94W7f4JuA8YBJ4FngXQFU9nuRDwB3dch+sqpfuHJYkHWSzhn5VXTTDrDdOs2wBl8zwPuuB9fvUnSRpXnlGriQ1xNCXpIYY+pLUEENfkhpi6EtSQwx9SWqIoS9JDTH0Jakhhr4kNcTQl6SGGPqS1BBDX5IaYuhLUkMMfUlqiKEvSQ0x9CWpIYa+JDXE0Jekhhj6ktQQQ1+SGmLoS1JDDH1JaoihL0kNMfQlqSEHFPpJHkpyd5KtSbZ0teOSbE7yQPf32K6eJB9PMpnkriSnz8cKSJLmbj629P95Va2qqtXd8yuA26pqBXBb9xzgXGBF91gHXDsPny1J2gcHY3jnfODGbvpG4IKh+mdq4NvAMUlOOgifL0mawYGGfgH/NcmdSdZ1tROr6pFu+vvAid30YuDhoddu72qSpBE55ABf//NVtSPJTwKbk/zv4ZlVVUlqX96w+/FYB3DyyScfYHuSpGEHtKVfVTu6vzuBLwJnAI9ODdt0f3d2i+8Alg69fElXe+l7XldVq6tq9cTExIG0J0l6if0O/SRHJDlqaho4G7gH2Ais7RZbC3y5m94IvLM7iudM4MmhYSBJ0ggcyPDOicAXk0y9z01V9fUkdwAbklwMfA94W7f8JuA8YBJ4FnjXAXy2JGk/7HfoV9WDwM9OU38MeOM09QIu2d/PkyQdOM/IlaSGGPqS1BBDX5IaYuhLUkMMfUlqiKEvSQ0x9CWpIYa+JDXE0Jekhhj6ktQQQ1+SGmLoS1JDDH1JaoihL0kNMfQlqSGGviQ1xNCXpIYY+pLUEENfkhpi6EtSQwx9SWqIoS9JDTH0Jakhhr4kNcTQl6SGjDz0k6xJcn+SySRXjPrzJallIw39JIuATwLnAiuBi5KsHGUPktSyUW/pnwFMVtWDVfU8cDNw/oh7kKRmjTr0FwMPDz3f3tUkSSNwSN8NvFSSdcC67ukzSe7vs5+D7ATgb0f1YfmdUX1SM/z+Xr7G/bs7ZaYZow79HcDSoedLutrfqarrgOtG2VRfkmypqtV996H94/f38tXydzfq4Z07gBVJlic5DLgQ2DjiHiSpWSPd0q+q3UkuBW4FFgHrq2rbKHuQpJaNfEy/qjYBm0b9uQtUE8NYY8zv7+Wr2e8uVdV3D5KkEfEyDJLUEENfkhpi6EtzlOTUJId302cluSzJMX33pdkleVWS9yf5VPd8RZJ/0XdffTD0RyzJkiRfTLIryc4ktyRZ0ndfmpNbgD1JforBjsClwE39tqQ5ugF4Dnhd93wH8OH+2umPoT96NzA4N+Ek4DXAV7qaFr4Xq2o38BbgE1X1mwy+Ry18p1bV7wIvAFTVs0D6bakfhv7oTVTVDVW1u3t8GpjouynNyQtJLgLWAn/a1Q7tsR/N3fNJXgkUDIbqGGz5N8fQH73Hkrw9yaLu8Xbgsb6b0py8i8HwwFVV9d0ky4HP9tyT5uZK4OvA0iSfA24DfqvflvrhcfojluQU4BMMwqOAbwGXVdXf9NqY5qTbWjy5qsb5QoBjKcnxwJkMhnW+XVUju+DaQmLoS3OU5BeAjwKHVdXyJKuAD1bVL/bcmmaR5C3An1fVk93zY4CzqupL/XY2eob+iCT57b3Mrqr60Mia0X5JcifwBuC/VdVpXe2eqvqZfjvTbJJsrapVL6n99dT32JIFdz39MfbDaWpHABcDxwOG/sL3QlU9mfzYQR8v9tWM9sl0+y+bzL8mV7oPVXX11HSSo4DLGewYvBm4eqbXqX9JNgGXANuS/AqwKMkK4DIG+2S08G1Jcg2De3TD4Pu8s8d+euPROyOU5LgkHwbuYvCDe3pV/fuq2tlza9q7GxhcDvwh4GcYHOp3E/Akgx9vLXy/DjwP/HH3eI5B8DfHMf0RSfJ7wFsZnMn5yap6pueWtA+SHAm8H1jD4DDNqX84VVXX9NaYtI8c3hmd9zDYuviPwH8YGhcOg+A4uq/GNCfPM9gvczhwJD8KfS1gSX6/qt6d5CtM8521eOSVoT8iVeVQ2stUkjXANQwun3F6dwq/Xh6mTp77aK9dLCAO70izSPI/gH/nrT1fvpK8FfhqVTV56YVhhr6ksZfkBgbnWHyTwY7cr3cXz2uOoS+pCUkOBc4F/hXw88Dmqvo3/XY1eoa+pGZ0wb+GwTky/6yqTui5pZFz56KksZfk3CSfBh4Afgn4z8Cre22qJ27pSxp7SW4CNgBfa31nrodsShprSRYBJ7V4Rc3pOLwjaaxV1R7gxSQ/0XcvC4Fb+pJa8Axwd5LNDF3xtqou66+lfhj6klrwhe7RPHfkSmqCt7occExf0tjrbnW5lcHN0UmyKsnGfrvqh6EvqQUfAM4AfgBQVVuBf9hnQ30x9CW14IWpm6IPafJWl+7IldQCb3XZcUtfUgt+HXgtgxsZfR54Cnh3rx31xKN3JDWlO0P3iKp6qu9e+uCWvqSxl+SmJEcnOQK4G7g3yW/23VcfDH1JLVjZbdlfAHwNWA68o9+W+mHoS2rBod219C8ANlbVCzR6c3tDX1IL/gh4CDgC+GaSUxjszG2OO3IlNSdJgEUt3ifX0Jekhji8I0kNMfQljb0kh8+l1gJDX1IL/ucca2PPa+9IGltJXg0sBl6Z5DQg3ayjgVf11liPDH1J4+wc4FeBJcA1Q/WngPf10VDfPHpH0thL8ktVdUvffSwEjulLasFfJrk+ydcAkqxMcnHfTfXB0JfUghuAW4HXdM//D41eWtnQl9SCE6pqA93dsrozcff021I/DH1JLfhhkuPpLrKW5EzgpbdPbIJH70hqwW8AG4FTk/wlMAH8cr8t9cOjdyQ1IckhwD9mcKz+/d3llZtj6EtqQpJ/CixjaISjqj7TW0M9cXhH0thL8lngVGArP9qBW0Bzoe+WvqSxl+Q+BrdMbD7wPHpHUgvuAV7ddxMLgcM7klpwAnBvktuB56aKVfWL/bXUD0NfUgs+0HcDC4Vj+pLGWpJFwLaq+um+e1kIHNOXNNaqag9wf5KT++5lIXB4R1ILjgW2dWP6P5wqOqYvSePp/X03sFA4pi+pCUlOAVZU1Z8leRWwqKqe7ruvUXNMX9LYS/JvgT8B/qgrLQa+1F9H/TH0JbXgEuD1DO6NS1U9APxkrx31xNCX1ILnqur5qSfdFTebHNs29CW14L8neR/wyiRvAv4L8JWee+qFO3Iljb0krwAuBs5mcD39W6vqU/121Q9DX9LYS3J5Vf3BbLUWOLwjqQVrp6n96qibWAg8OUvS2EpyEfArwPIkG4dmHQU83k9X/TL0JY2zbwGPMLi08tVD9aeBu3rpqGeO6UtSQxzTlzT2krw1yQNJnkzyVJKnkzzVd199cEtf0thLMgn8QlXd13cvfXNLX1ILHjXwB9zSlzT2kvwBgxujf4kfv0fuF3prqicevSOpBUcDzzI4I3dKAc2Fvlv6ktQQt/Qlja0kv1VVv5vkE0xzVc2quqyHtnpl6EsaZ1M7b7f02sUC4vCOJDXEQzYlqSGGviQ1xNCXpIYY+pLGXpIlSb6YZFeSnUluSbKk7776YOhLasENwEbgJOA1DO6Pe0OvHfXEo3ckjb0kW6tq1Wy1FrilL6kFjyV5e5JF3ePtwGN9N9UHt/Qljb0kpwCfAF7H4MzcbwGXVdXf9NpYDwx9SWqIl2GQNLaS/PZeZldVfWhkzSwQbulLGltJ3jNN+QjgYuD4qjpyxC31ztCX1IQkRwGXMwj8DcDVVbWz365Gz+EdSWMtyXHAbwD/GrgROL2qnui3q/4Y+pLGVpLfA94KXAf8k6p6pueWeufwjqSxleRFBvfE3c2P30QlDHbkHt1LYz0y9CWpIZ6RK0kNMfQlqSGGviQ1xNCXpIYY+pLUEENfkhry/wGaluI1RPtsiwAAAABJRU5ErkJggg==\n",
            "text/plain": [
              "<Figure size 432x288 with 1 Axes>"
            ]
          },
          "metadata": {
            "tags": [],
            "needs_background": "light"
          }
        }
      ]
    },
    {
      "cell_type": "code",
      "metadata": {
        "colab": {
          "base_uri": "https://localhost:8080/"
        },
        "id": "LezCC33eEOLv",
        "outputId": "4effba17-cc0c-43f0-f11e-223b4770f4b1"
      },
      "source": [
        "df.DeviceProtection.value_counts()"
      ],
      "execution_count": 29,
      "outputs": [
        {
          "output_type": "execute_result",
          "data": {
            "text/plain": [
              "No                     3095\n",
              "Yes                    2422\n",
              "No internet service    1526\n",
              "Name: DeviceProtection, dtype: int64"
            ]
          },
          "metadata": {
            "tags": []
          },
          "execution_count": 29
        }
      ]
    },
    {
      "cell_type": "code",
      "metadata": {
        "colab": {
          "base_uri": "https://localhost:8080/",
          "height": 369
        },
        "id": "n1-VA7ZIEOI_",
        "outputId": "58c6bcf5-f749-406e-c510-c3f72f49dc50"
      },
      "source": [
        "df.DeviceProtection.value_counts().plot(kind=\"bar\")"
      ],
      "execution_count": 30,
      "outputs": [
        {
          "output_type": "execute_result",
          "data": {
            "text/plain": [
              "<matplotlib.axes._subplots.AxesSubplot at 0x7f328249ba50>"
            ]
          },
          "metadata": {
            "tags": []
          },
          "execution_count": 30
        },
        {
          "output_type": "display_data",
          "data": {
            "image/png": "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\n",
            "text/plain": [
              "<Figure size 432x288 with 1 Axes>"
            ]
          },
          "metadata": {
            "tags": [],
            "needs_background": "light"
          }
        }
      ]
    },
    {
      "cell_type": "code",
      "metadata": {
        "colab": {
          "base_uri": "https://localhost:8080/"
        },
        "id": "g8Q1GB0lEOGB",
        "outputId": "d1274be1-2fa0-4b7e-843d-f69770cfd9b4"
      },
      "source": [
        "df.TechSupport.value_counts()"
      ],
      "execution_count": 31,
      "outputs": [
        {
          "output_type": "execute_result",
          "data": {
            "text/plain": [
              "No                     3473\n",
              "Yes                    2044\n",
              "No internet service    1526\n",
              "Name: TechSupport, dtype: int64"
            ]
          },
          "metadata": {
            "tags": []
          },
          "execution_count": 31
        }
      ]
    },
    {
      "cell_type": "code",
      "metadata": {
        "colab": {
          "base_uri": "https://localhost:8080/",
          "height": 369
        },
        "id": "rbrZ2nE3EN88",
        "outputId": "ed8aeddb-377e-42c7-88b2-521b42f68404"
      },
      "source": [
        "df.TechSupport.value_counts().plot(kind=\"bar\")"
      ],
      "execution_count": 32,
      "outputs": [
        {
          "output_type": "execute_result",
          "data": {
            "text/plain": [
              "<matplotlib.axes._subplots.AxesSubplot at 0x7f328225d750>"
            ]
          },
          "metadata": {
            "tags": []
          },
          "execution_count": 32
        },
        {
          "output_type": "display_data",
          "data": {
            "image/png": "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\n",
            "text/plain": [
              "<Figure size 432x288 with 1 Axes>"
            ]
          },
          "metadata": {
            "tags": [],
            "needs_background": "light"
          }
        }
      ]
    },
    {
      "cell_type": "code",
      "metadata": {
        "colab": {
          "base_uri": "https://localhost:8080/"
        },
        "id": "GGuWmM-IDSiL",
        "outputId": "79d1ac75-d815-4561-f032-6e07b7d27a2a"
      },
      "source": [
        "df.StreamingTV.value_counts()"
      ],
      "execution_count": 33,
      "outputs": [
        {
          "output_type": "execute_result",
          "data": {
            "text/plain": [
              "No                     2810\n",
              "Yes                    2707\n",
              "No internet service    1526\n",
              "Name: StreamingTV, dtype: int64"
            ]
          },
          "metadata": {
            "tags": []
          },
          "execution_count": 33
        }
      ]
    },
    {
      "cell_type": "code",
      "metadata": {
        "colab": {
          "base_uri": "https://localhost:8080/",
          "height": 369
        },
        "id": "yJ69y7tFDSe-",
        "outputId": "c1c93553-a2c9-47c3-a5ae-d0c3adcbe673"
      },
      "source": [
        "df.StreamingTV.value_counts().plot(kind=\"bar\")"
      ],
      "execution_count": 34,
      "outputs": [
        {
          "output_type": "execute_result",
          "data": {
            "text/plain": [
              "<matplotlib.axes._subplots.AxesSubplot at 0x7f328214fc10>"
            ]
          },
          "metadata": {
            "tags": []
          },
          "execution_count": 34
        },
        {
          "output_type": "display_data",
          "data": {
            "image/png": "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\n",
            "text/plain": [
              "<Figure size 432x288 with 1 Axes>"
            ]
          },
          "metadata": {
            "tags": [],
            "needs_background": "light"
          }
        }
      ]
    },
    {
      "cell_type": "code",
      "metadata": {
        "colab": {
          "base_uri": "https://localhost:8080/"
        },
        "id": "xvjUOqHSFH9M",
        "outputId": "42947313-61ab-4bc7-8938-b37ad496cb11"
      },
      "source": [
        "df.StreamingMovies.value_counts()"
      ],
      "execution_count": 35,
      "outputs": [
        {
          "output_type": "execute_result",
          "data": {
            "text/plain": [
              "No                     2785\n",
              "Yes                    2732\n",
              "No internet service    1526\n",
              "Name: StreamingMovies, dtype: int64"
            ]
          },
          "metadata": {
            "tags": []
          },
          "execution_count": 35
        }
      ]
    },
    {
      "cell_type": "code",
      "metadata": {
        "colab": {
          "base_uri": "https://localhost:8080/",
          "height": 369
        },
        "id": "xfucwJWLFH2d",
        "outputId": "f6caabdc-c1aa-40b7-c9bd-f0355a778fca"
      },
      "source": [
        "df.StreamingMovies.value_counts().plot(kind=\"bar\")"
      ],
      "execution_count": 36,
      "outputs": [
        {
          "output_type": "execute_result",
          "data": {
            "text/plain": [
              "<matplotlib.axes._subplots.AxesSubplot at 0x7f32820e50d0>"
            ]
          },
          "metadata": {
            "tags": []
          },
          "execution_count": 36
        },
        {
          "output_type": "display_data",
          "data": {
            "image/png": "iVBORw0KGgoAAAANSUhEUgAAAX0AAAFOCAYAAABql81SAAAABHNCSVQICAgIfAhkiAAAAAlwSFlzAAALEgAACxIB0t1+/AAAADh0RVh0U29mdHdhcmUAbWF0cGxvdGxpYiB2ZXJzaW9uMy4yLjIsIGh0dHA6Ly9tYXRwbG90bGliLm9yZy+WH4yJAAAURElEQVR4nO3df6zddX3H8efLgkT5McBeEdtCO9ZtqVtWScNwmoXNCIX9AHVx4NTOsNUlMDAzOnRTjI6EbcKmxhFxFnARGRv+qLPKKnNzm1MprgEKY9wojjZIKzhASfj53h/ne/XA7u29bW/P93I+z0dycr/n/f1+z3mfnPR1vv18f6WqkCS14Vl9NyBJGh1DX5IaYuhLUkMMfUlqiKEvSQ0x9CWpIQf03cDuLF68uJYvX953G5L0jHLTTTd9t6omppu3oEN/+fLlbNmype82JOkZJcm3Z5rn8I4kNcTQl6SGGPqS1BBDX5IaYuhLUkMMfUlqiKEvSQ0x9CWpIQv65KxRW37B5/puYb+66+Jf6bsFST1zS1+SGmLoS1JDDH1Jaohj+hob7pORZueWviQ1xNCXpIYY+pLUEENfkhpi6EtSQwx9SWqIoS9JDTH0Jakhhr4kNcTQl6SGGPqS1BBDX5IaYuhLUkNmDf0ky5J8KcltSbYlOb+rvzvJjiRbu8dpQ+u8PclkkjuSnDJUX9vVJpNcsH8+kiRpJnO5tPLjwFuq6htJDgVuSrK5m/cXVfW+4YWTrALOBF4EvBD4YpKf7GZ/CHgFsB24McnGqrptPj6IJGl2s4Z+Vd0D3NNNP5TkdmDJblY5Hbimqh4BvpVkEjihmzdZVd8ESHJNt6yhL0kjskdj+kmWAy8GvtaVzk1yc5INSY7oakuAu4dW297VZqpLkkZkzqGf5BDgOuDNVfUgcBlwHLCawf8ELpmPhpKsT7IlyZZdu3bNx0tKkjpzCv0kBzII/I9X1ScBqureqnqiqp4EPsKPhnB2AMuGVl/a1WaqP0VVXV5Va6pqzcTExJ5+HknSbszl6J0AHwVur6pLh+pHDy32SuDWbnojcGaSg5KsAFYCXwduBFYmWZHk2Qx29m6cn48hSZqLuRy981Lg9cAtSbZ2tXcAZyVZDRRwF/AmgKraluRaBjtoHwfOqaonAJKcC1wPLAI2VNW2efwskqRZzOXonX8DMs2sTbtZ5yLgomnqm3a3niRp//KMXElqiKEvSQ0x9CWpIYa+JDXE0Jekhhj6ktQQQ1+SGmLoS1JDDH1JaoihL0kNMfQlqSGGviQ1xNCXpIYY+pLUEENfkhpi6EtSQwx9SWqIoS9JDTH0Jakhhr4kNcTQl6SGGPqS1BBDX5IaYuhLUkMMfUlqiKEvSQ0x9CWpIYa+JDVk1tBPsizJl5LclmRbkvO7+pFJNie5s/t7RFdPkg8kmUxyc5Ljh15rXbf8nUnW7b+PJUmazly29B8H3lJVq4ATgXOSrAIuAG6oqpXADd1zgFOBld1jPXAZDH4kgAuBnwdOAC6c+qGQJI3GrKFfVfdU1Te66YeA24ElwOnAVd1iVwFndNOnAx+rga8Chyc5GjgF2FxV91fV94DNwNp5/TSSpN3aozH9JMuBFwNfA46qqnu6Wd8BjuqmlwB3D622vavNVJckjcicQz/JIcB1wJur6sHheVVVQM1HQ0nWJ9mSZMuuXbvm4yUlSZ05hX6SAxkE/ser6pNd+d5u2Ibu786uvgNYNrT60q42U/0pquryqlpTVWsmJib25LNIkmYxl6N3AnwUuL2qLh2atRGYOgJnHfCZofobuqN4TgQe6IaBrgdOTnJEtwP35K4mSRqRA+awzEuB1wO3JNna1d4BXAxcm+Rs4NvAa7p5m4DTgEngYeCNAFV1f5L3Ajd2y72nqu6fl08hSZqTWUO/qv4NyAyzXz7N8gWcM8NrbQA27EmDkqT54xm5ktQQQ1+SGmLoS1JDDH1JaoihL0kNMfQlqSGGviQ1xNCXpIYY+pLUEENfkhpi6EtSQwx9SWqIoS9JDTH0Jakhhr4kNcTQl6SGGPqS1BBDX5IaYuhLUkMMfUlqiKEvSQ0x9CWpIYa+JDXE0Jekhhj6ktQQQ1+SGmLoS1JDDH1JasisoZ9kQ5KdSW4dqr07yY4kW7vHaUPz3p5kMskdSU4Zqq/tapNJLpj/jyJJms1ctvSvBNZOU/+LqlrdPTYBJFkFnAm8qFvnr5IsSrII+BBwKrAKOKtbVpI0QgfMtkBVfTnJ8jm+3unANVX1CPCtJJPACd28yar6JkCSa7plb9vjjiWNpeUXfK7vFvabuy7+lb5b+KF9GdM/N8nN3fDPEV1tCXD30DLbu9pMdUnSCO1t6F8GHAesBu4BLpmvhpKsT7IlyZZdu3bN18tKktjL0K+qe6vqiap6EvgIPxrC2QEsG1p0aVebqT7da19eVWuqas3ExMTetCdJmsFehX6So4eevhKYOrJnI3BmkoOSrABWAl8HbgRWJlmR5NkMdvZu3Pu2JUl7Y9YduUk+AZwELE6yHbgQOCnJaqCAu4A3AVTVtiTXMthB+zhwTlU90b3OucD1wCJgQ1Vtm/dPI0narbkcvXPWNOWP7mb5i4CLpqlvAjbtUXeSpHnlGbmS1BBDX5IaYuhLUkMMfUlqiKEvSQ0x9CWpIYa+JDXE0Jekhhj6ktQQQ1+SGmLoS1JDDH1JaoihL0kNMfQlqSGGviQ1xNCXpIYY+pLUEENfkhpi6EtSQwx9SWqIoS9JDTH0Jakhhr4kNcTQl6SGGPqS1BBDX5IaYuhLUkMMfUlqyKyhn2RDkp1Jbh2qHZlkc5I7u79HdPUk+UCSySQ3Jzl+aJ113fJ3Jlm3fz6OJGl35rKlfyWw9mm1C4AbqmolcEP3HOBUYGX3WA9cBoMfCeBC4OeBE4ALp34oJEmjM2voV9WXgfufVj4duKqbvgo4Y6j+sRr4KnB4kqOBU4DNVXV/VX0P2Mz//yGRJO1nezumf1RV3dNNfwc4qpteAtw9tNz2rjZTXZI0Qvu8I7eqCqh56AWAJOuTbEmyZdeuXfP1spIk9j707+2Gbej+7uzqO4BlQ8st7Woz1f+fqrq8qtZU1ZqJiYm9bE+SNJ29Df2NwNQROOuAzwzV39AdxXMi8EA3DHQ9cHKSI7oduCd3NUnSCB0w2wJJPgGcBCxOsp3BUTgXA9cmORv4NvCabvFNwGnAJPAw8EaAqro/yXuBG7vl3lNVT985LEnaz2YN/ao6a4ZZL59m2QLOmeF1NgAb9qg7SdK88oxcSWqIoS9JDTH0Jakhhr4kNcTQl6SGGPqS1BBDX5IaYuhLUkMMfUlqiKEvSQ0x9CWpIYa+JDXE0Jekhhj6ktQQQ1+SGmLoS1JDDH1JaoihL0kNMfQlqSGGviQ1xNCXpIYY+pLUEENfkhpi6EtSQwx9SWqIoS9JDTH0Jakhhr4kNWSfQj/JXUluSbI1yZaudmSSzUnu7P4e0dWT5ANJJpPcnOT4+fgAkqS5m48t/V+qqtVVtaZ7fgFwQ1WtBG7ongOcCqzsHuuBy+bhvSVJe2B/DO+cDlzVTV8FnDFU/1gNfBU4PMnR++H9JUkz2NfQL+Afk9yUZH1XO6qq7ummvwMc1U0vAe4eWnd7V5MkjcgB+7j+y6pqR5LnA5uT/NfwzKqqJLUnL9j9eKwHOOaYY/axPUnSsH3a0q+qHd3fncCngBOAe6eGbbq/O7vFdwDLhlZf2tWe/pqXV9WaqlozMTGxL+1Jkp5mr0M/ycFJDp2aBk4GbgU2Auu6xdYBn+mmNwJv6I7iORF4YGgYSJI0AvsyvHMU8KkkU69zdVV9IcmNwLVJzga+DbymW34TcBowCTwMvHEf3luStBf2OvSr6pvAz01Tvw94+TT1As7Z2/eTJO07z8iVpIYY+pLUEENfkhpi6EtSQwx9SWqIoS9JDTH0Jakhhr4kNcTQl6SGGPqS1BBDX5IaYuhLUkMMfUlqiKEvSQ0x9CWpIYa+JDXE0Jekhhj6ktQQQ1+SGmLoS1JDDH1JaoihL0kNMfQlqSGGviQ1xNCXpIYY+pLUEENfkhpi6EtSQwx9SWrIyEM/ydokdySZTHLBqN9fklo20tBPsgj4EHAqsAo4K8mqUfYgSS0b9Zb+CcBkVX2zqh4FrgFOH3EPktSsUYf+EuDuoefbu5okaQQO6LuBp0uyHljfPf1+kjv67Gc/Wwx8d1Rvlj8d1Ts1w+/vmWvcv7tjZ5ox6tDfASwber60q/1QVV0OXD7KpvqSZEtVrem7D+0dv79nrpa/u1EP79wIrEyyIsmzgTOBjSPuQZKaNdIt/ap6PMm5wPXAImBDVW0bZQ+S1LKRj+lX1SZg06jfd4FqYhhrjPn9PXM1+92lqvruQZI0Il6GQZIaYuhLUkMMfWmOkhyX5KBu+qQk5yU5vO++NLskz03yziQf6Z6vTPKrfffVB0N/xJIsTfKpJLuS7ExyXZKlffelObkOeCLJTzDYEbgMuLrfljRHVwCPAC/pnu8A/qS/dvpj6I/eFQzOTTgaeCHw2a6mhe/JqnoceCXwwap6K4PvUQvfcVX1Z8BjAFX1MJB+W+qHoT96E1V1RVU93j2uBCb6bkpz8liSs4B1wD90tQN77Edz92iS5wAFg6E6Blv+zTH0R+++JK9Lsqh7vA64r++mNCdvZDA8cFFVfSvJCuBveu5Jc3Mh8AVgWZKPAzcAb+u3pX54nP6IJTkW+CCD8CjgK8B5VfU/vTamOem2Fo+pqnG+EOBYSvI84EQGwzpfraqRXXBtITH0pTlK8mvA+4BnV9WKJKuB91TVr/fcmmaR5JXAP1XVA93zw4GTqurT/XY2eob+iCR5125mV1W9d2TNaK8kuQn4ZeCfq+rFXe3WqvqZfjvTbJJsrarVT6v959T32JIFdz39MfaDaWoHA2cDzwMM/YXvsap6IHnKQR9P9tWM9sh0+y+bzL8mP3QfquqSqekkhwLnM9gxeA1wyUzrqX9JNgHnANuSvBZYlGQlcB6DfTJa+LYkuZTBPbph8H3e1GM/vfHonRFKcmSSPwFuZvCDe3xV/WFV7ey5Ne3eFQwuB34X8DMMDvW7GniAwY+3Fr7fBx4F/rZ7PMIg+JvjmP6IJPlz4FUMzuT8UFV9v+eWtAeSHAK8E1jL4DDNqX84VVWX9taYtIcc3hmdtzDYuvhj4I+GxoXDIDgO66sxzcmjDPbLHAQcwo9CXwtYkr+sqjcn+SzTfGctHnll6I9IVTmU9gyVZC1wKYPLZxzfncKvZ4apk+fe12sXC4jDO9Iskvwr8Hve2vOZK8mrgM9VVZOXXhhm6Esae0muYHCOxZcZ7Mj9QnfxvOYY+pKakORA4FTgN4GXAZur6nf67Wr0DH1JzeiCfy2Dc2R+saoW99zSyLlzUdLYS3JqkiuBO4FXA38NvKDXpnrilr6ksZfkauBa4POt78z1kE1JYy3JIuDoFq+oOR2HdySNtap6AngyyY/13ctC4Ja+pBZ8H7glyWaGrnhbVef111I/DH1JLfhk92ieO3IlNcFbXQ44pi9p7HW3utzK4OboJFmdZGO/XfXD0JfUgncDJwD/C1BVW4Ef77Ohvhj6klrw2NRN0Yc0eatLd+RKaoG3uuy4pS+pBb8PvIjBjYw+ATwIvLnXjnri0TuSmtKdoXtwVT3Ydy99cEtf0thLcnWSw5IcDNwC3JbkrX331QdDX1ILVnVb9mcAnwdWAK/vt6V+GPqSWnBgdy39M4CNVfUYjd7c3tCX1IIPA3cBBwNfTnIsg525zXFHrqTmJAmwqMX75Br6ktQQh3ckqSGGvqSxl+SgudRaYOhLasF/zLE29rz2jqSxleQFwBLgOUleDKSbdRjw3N4a65GhL2mcnQL8NrAUuHSo/iDwjj4a6ptH70gae0leXVXX9d3HQuCYvqQW/HuSjyb5PECSVUnO7rupPhj6klpwBXA98MLu+X/T6KWVDX1JLVhcVdfS3S2rOxP3iX5b6oehL6kFP0jyPLqLrCU5EXj67ROb4NE7klrwB8BG4Lgk/w5MAL/Rb0v98OgdSU1IcgDwUwyO1b+ju7xycwx9SU1I8gvAcoZGOKrqY7011BOHdySNvSR/AxwHbOVHO3ALaC703dKXNPaS3M7glonNB55H70hqwa3AC/puYiFweEdSCxYDtyX5OvDIVLGqfr2/lvph6Etqwbv7bmChcExf0lhLsgjYVlU/3XcvC4Fj+pLGWlU9AdyR5Ji+e1kIHN6R1IIjgG3dmP4PpoqO6UvSeHpn3w0sFI7pS2pCkmOBlVX1xSTPBRZV1UN99zVqjulLGntJfhf4e+DDXWkJ8On+OuqPoS+pBecAL2Vwb1yq6k7g+b121BNDX1ILHqmqR6eedFfcbHJs29CX1IJ/SfIO4DlJXgH8HfDZnnvqhTtyJY29JM8CzgZOZnA9/eur6iP9dtUPQ1/S2EtyflW9f7ZaCxzekdSCddPUfnvUTSwEnpwlaWwlOQt4LbAiycahWYcC9/fTVb8MfUnj7CvAPQwurXzJUP0h4OZeOuqZY/qS1BDH9CWNvSSvSnJnkgeSPJjkoSQP9t1XH9zSlzT2kkwCv1ZVt/fdS9/c0pfUgnsN/AG39CWNvSTvZ3Bj9E/z1HvkfrK3pnri0TuSWnAY8DCDM3KnFNBc6LulL0kNcUtf0thK8raq+rMkH2Saq2pW1Xk9tNUrQ1/SOJvaebul1y4WEId3JKkhHrIpSQ0x9CWpIYa+JDXE0Jc09pIsTfKpJLuS7ExyXZKlfffVB0NfUguuADYCRwMvZHB/3Ct67agnHr0jaewl2VpVq2ertcAtfUktuC/J65Is6h6vA+7ru6k+uKUvaewlORb4IPASBmfmfgU4r6r+p9fGemDoS1JDvAyDpLGV5F27mV1V9d6RNbNAuKUvaWwlecs05YOBs4HnVdUhI26pd4a+pCYkORQ4n0HgXwtcUlU7++1q9BzekTTWkhwJ/AHwW8BVwPFV9b1+u+qPoS9pbCX5c+BVwOXAz1bV93tuqXcO70gaW0meZHBP3Md56k1UwmBH7mG9NNYjQ1+SGuIZuZLUEENfkhpi6EtSQwx9SWqIoS9JDTH0Jakh/wfj50qe4tWPtgAAAABJRU5ErkJggg==\n",
            "text/plain": [
              "<Figure size 432x288 with 1 Axes>"
            ]
          },
          "metadata": {
            "tags": [],
            "needs_background": "light"
          }
        }
      ]
    },
    {
      "cell_type": "code",
      "metadata": {
        "colab": {
          "base_uri": "https://localhost:8080/"
        },
        "id": "xFE8QmdMFHr0",
        "outputId": "08167260-80c2-4821-a2df-658e5826ede6"
      },
      "source": [
        "df.Contract.value_counts()"
      ],
      "execution_count": 37,
      "outputs": [
        {
          "output_type": "execute_result",
          "data": {
            "text/plain": [
              "Month-to-month    3875\n",
              "Two year          1695\n",
              "One year          1473\n",
              "Name: Contract, dtype: int64"
            ]
          },
          "metadata": {
            "tags": []
          },
          "execution_count": 37
        }
      ]
    },
    {
      "cell_type": "code",
      "metadata": {
        "colab": {
          "base_uri": "https://localhost:8080/",
          "height": 354
        },
        "id": "oabkKgNcFHld",
        "outputId": "cd0942a4-e4fa-4b1b-db00-93f095f6c728"
      },
      "source": [
        "df.Contract.value_counts().plot(kind=\"bar\")"
      ],
      "execution_count": 38,
      "outputs": [
        {
          "output_type": "execute_result",
          "data": {
            "text/plain": [
              "<matplotlib.axes._subplots.AxesSubplot at 0x7f3282126050>"
            ]
          },
          "metadata": {
            "tags": []
          },
          "execution_count": 38
        },
        {
          "output_type": "display_data",
          "data": {
            "image/png": "iVBORw0KGgoAAAANSUhEUgAAAX0AAAE/CAYAAACq6RM2AAAABHNCSVQICAgIfAhkiAAAAAlwSFlzAAALEgAACxIB0t1+/AAAADh0RVh0U29mdHdhcmUAbWF0cGxvdGxpYiB2ZXJzaW9uMy4yLjIsIGh0dHA6Ly9tYXRwbG90bGliLm9yZy+WH4yJAAAa7ElEQVR4nO3df7RddXnn8fenCYKKCkrKYEINtbFdwVHUW37UtqO45Jcuwa6OhbaaUVajLYx2xjUjtNPRarG6amXqLEtXOsSC7ZBSa5ep0tIU6ahTBRJFJCBDBlGShZDyq1qnWOCZP/Y39ZDe5J6b3OydsN+vtc66ez97n3Oe48XP3fme7947VYUkaRy+b+gGJEn9MfQlaUQMfUkaEUNfkkbE0JekETH0JWlEFk+7Y5JFwEZgW1W9OskxwDrgWcAm4PVV9d0kBwOXAy8B7gN+pqrubK9xIXAu8Cjw1qq6enfvecQRR9Ty5cvn/aEkacw2bdr0d1W1ZLZtU4c+8DbgVuDpbf39wMVVtS7J79GF+SXt5wNV9UNJzm77/UySlcDZwLHAs4G/TvK8qnp0V2+4fPlyNm7cOI8WJUlJvr6rbVMN7yRZBrwK+B9tPcDJwMfaLpcBZ7XlM9s6bfsr2v5nAuuq6uGq+hqwBTh+fh9FkrQ3ph3T/2/AfwYea+vPAh6sqkfa+lZgaVteCtwF0LY/1Pb/5/osz/lnSVYn2Zhk4/bt2+fxUSRJc5kz9JO8Gri3qjb10A9VtaaqZqpqZsmSWYekJEl7aJox/ZcCr0lyBnAI3Zj+7wCHJVncjuaXAdva/tuAo4GtSRYDz6D7QndHfYfJ50iSejDnkX5VXVhVy6pqOd0XsZ+uqp8DrgV+uu22CvhEW17f1mnbP13dVd3WA2cnObjN/FkBXL9gn0SSNKf5zN7Z2TuAdUl+A/gScGmrXwp8NMkW4H66PxRU1eYkVwK3AI8A5+1u5o4kaeFlf7608szMTDllU5LmJ8mmqpqZbZtn5ErSiOzN8M4TzvILPjV0C/vUne971dAtSBqYR/qSNCKGviSNiKEvSSNi6EvSiBj6kjQihr4kjYihL0kjYuhL0ogY+pI0Ioa+JI2IoS9JI2LoS9KIGPqSNCKGviSNiKEvSSNi6EvSiMwZ+kkOSXJ9ki8n2Zzk11v9D5J8LcmN7XFcqyfJh5JsSXJTkhdPvNaqJLe3x6pdvackad+Y5s5ZDwMnV9W3kxwEfC7JX7Rt/6mqPrbT/qcDK9rjBOAS4IQkzwTeCcwABWxKsr6qHliIDyJJmtucR/rV+XZbPag9dnc39TOBy9vzvgAcluQo4FRgQ1Xd34J+A3Da3rUvSZqPqcb0kyxKciNwL11wX9c2XdSGcC5OcnCrLQXumnj61lbbVX3n91qdZGOSjdu3b5/nx5Ek7c5UoV9Vj1bVccAy4PgkzwcuBH4E+FHgmcA7FqKhqlpTVTNVNbNkyZKFeElJUjOv2TtV9SBwLXBaVd3dhnAeBj4CHN922wYcPfG0Za22q7okqSfTzN5ZkuSwtvxk4JXAV9s4PUkCnAXc3J6yHnhDm8VzIvBQVd0NXA2ckuTwJIcDp7SaJKkn08zeOQq4LMkiuj8SV1bVJ5N8OskSIMCNwFva/lcBZwBbgO8AbwSoqvuTvAe4oe337qq6f+E+iiRpLnOGflXdBLxolvrJu9i/gPN2sW0tsHaePUqSFohn5ErSiBj6kjQihr4kjYihL0kjYuhL0ogY+pI0Ioa+JI2IoS9JI2LoS9KIGPqSNCKGviSNiKEvSSNi6EvSiBj6kjQihr4kjYihL0kjYuhL0ogY+pI0ItPcGP2QJNcn+XKSzUl+vdWPSXJdki1J/jjJk1r94La+pW1fPvFaF7b6bUlO3VcfSpI0u2mO9B8GTq6qFwLHAaclORF4P3BxVf0Q8ABwbtv/XOCBVr+47UeSlcDZwLHAacDvtputS5J6MmfoV+fbbfWg9ijgZOBjrX4ZcFZbPrOt07a/IklafV1VPVxVXwO2AMcvyKeQJE1lqjH9JIuS3AjcC2wA/i/wYFU90nbZCixty0uBuwDa9oeAZ03WZ3nO5HutTrIxycbt27fP/xNJknZpqtCvqker6jhgGd3R+Y/sq4aqak1VzVTVzJIlS/bV20jSKM1r9k5VPQhcC5wEHJZkcdu0DNjWlrcBRwO07c8A7pusz/IcSVIPppm9syTJYW35ycArgVvpwv+n226rgE+05fVtnbb901VVrX52m91zDLACuH6hPogkaW6L596Fo4DL2kyb7wOurKpPJrkFWJfkN4AvAZe2/S8FPppkC3A/3YwdqmpzkiuBW4BHgPOq6tGF/TiSpN2ZM/Sr6ibgRbPU72CW2TdV9Y/Av93Fa10EXDT/NiVJC8EzciVpRAx9SRoRQ1+SRsTQl6QRMfQlaUQMfUkaEUNfkkbE0JekETH0JWlEDH1JGhFDX5JGxNCXpBEx9CVpRAx9SRoRQ1+SRsTQl6QRMfQlaUSmuUfu0UmuTXJLks1J3tbq70qyLcmN7XHGxHMuTLIlyW1JTp2on9ZqW5JcsG8+kiRpV6a5R+4jwNur6otJngZsSrKhbbu4qj4wuXOSlXT3xT0WeDbw10me1zZ/mO7G6luBG5Ksr6pbFuKDSJLmNs09cu8G7m7L30pyK7B0N085E1hXVQ8DX2s3SN9xL90t7d66JFnX9jX0Jakn8xrTT7Kc7ibp17XS+UluSrI2yeGtthS4a+JpW1ttV/Wd32N1ko1JNm7fvn0+7UmS5jB16Cc5FPhT4Jer6u+BS4DnAsfR/UvgtxeioapaU1UzVTWzZMmShXhJSVIzzZg+SQ6iC/w/qqqPA1TVPRPbfx/4ZFvdBhw98fRlrcZu6pKkHkwzeyfApcCtVfXBifpRE7u9Fri5La8Hzk5ycJJjgBXA9cANwIokxyR5Et2XvesX5mNIkqYxzZH+S4HXA19JcmOr/QpwTpLjgALuBN4MUFWbk1xJ9wXtI8B5VfUoQJLzgauBRcDaqtq8gJ9FkjSHaWbvfA7ILJuu2s1zLgIumqV+1e6eJ0natzwjV5JGxNCXpBEx9CVpRAx9SRoRQ1+SRsTQl6QRMfQlaUQMfUkaEUNfkkbE0JekETH0JWlEDH1JGhFDX5JGxNCXpBEx9CVpRAx9SRoRQ1+SRsTQl6QRmebG6EcnuTbJLUk2J3lbqz8zyYYkt7efh7d6knwoyZYkNyV58cRrrWr7355k1b77WJKk2UxzpP8I8PaqWgmcCJyXZCVwAXBNVa0ArmnrAKcDK9pjNXAJdH8kgHcCJwDHA+/c8YdCktSPOUO/qu6uqi+25W8BtwJLgTOBy9pulwFnteUzgcur8wXgsCRHAacCG6rq/qp6ANgAnLagn0aStFvzGtNPshx4EXAdcGRV3d02fRM4si0vBe6aeNrWVttVfef3WJ1kY5KN27dvn097kqQ5TB36SQ4F/hT45ar6+8ltVVVALURDVbWmqmaqambJkiUL8ZKSpGaq0E9yEF3g/1FVfbyV72nDNrSf97b6NuDoiacva7Vd1SVJPZlm9k6AS4Fbq+qDE5vWAztm4KwCPjFRf0ObxXMi8FAbBroaOCXJ4e0L3FNaTZLUk8VT7PNS4PXAV5Lc2Gq/ArwPuDLJucDXgde1bVcBZwBbgO8AbwSoqvuTvAe4oe337qq6f0E+hSRpKnOGflV9DsguNr9ilv0LOG8Xr7UWWDufBiVJC8czciVpRAx9SRoRQ1+SRsTQl6QRMfQlaUQMfUkaEUNfkkbE0JekETH0JWlEDH1JGpFprr0jHRCWX/CpoVvYp+5836uGbkFPAB7pS9KIGPqSNCKGviSNiKEvSSNi6EvSiBj6kjQihr4kjcg0N0Zfm+TeJDdP1N6VZFuSG9vjjIltFybZkuS2JKdO1E9rtS1JLlj4jyJJmss0R/p/AJw2S/3iqjquPa4CSLISOBs4tj3nd5MsSrII+DBwOrASOKftK0nq0TQ3Rv9MkuVTvt6ZwLqqehj4WpItwPFt25aqugMgybq27y3z7liStMf2Zkz//CQ3teGfw1ttKXDXxD5bW21X9X8hyeokG5Ns3L59+160J0na2Z5ee+cS4D1AtZ+/DbxpIRqqqjXAGoCZmZlaiNeUtP97Il87aX+6btIehX5V3bNjOcnvA59sq9uAoyd2XdZq7KYuSerJHg3vJDlqYvW1wI6ZPeuBs5McnOQYYAVwPXADsCLJMUmeRPdl7/o9b1uStCfmPNJPcgXwMuCIJFuBdwIvS3Ic3fDOncCbAapqc5Ir6b6gfQQ4r6oeba9zPnA1sAhYW1WbF/zTSJJ2a5rZO+fMUr50N/tfBFw0S/0q4Kp5dSdJWlCekStJI2LoS9KIGPqSNCKGviSNiKEvSSNi6EvSiBj6kjQihr4kjYihL0kjYuhL0ogY+pI0Ioa+JI2IoS9JI2LoS9KIGPqSNCKGviSNiKEvSSNi6EvSiMwZ+knWJrk3yc0TtWcm2ZDk9vbz8FZPkg8l2ZLkpiQvnnjOqrb/7UlW7ZuPI0nanWmO9P8AOG2n2gXANVW1ArimrQOcDqxoj9XAJdD9kaC7ofoJwPHAO3f8oZAk9WfO0K+qzwD371Q+E7isLV8GnDVRv7w6XwAOS3IUcCqwoarur6oHgA38yz8kkqR9bE/H9I+sqrvb8jeBI9vyUuCuif22ttqu6v9CktVJNibZuH379j1sT5I0m73+IreqCqgF6GXH662pqpmqmlmyZMlCvawkiT0P/XvasA3t572tvg04emK/Za22q7okqUd7GvrrgR0zcFYBn5iov6HN4jkReKgNA10NnJLk8PYF7imtJknq0eK5dkhyBfAy4IgkW+lm4bwPuDLJucDXgde13a8CzgC2AN8B3ghQVfcneQ9wQ9vv3VW185fDkqR9bM7Qr6pzdrHpFbPsW8B5u3idtcDaeXUnSVpQnpErSSNi6EvSiBj6kjQihr4kjYihL0kjYuhL0ogY+pI0Ioa+JI2IoS9JI2LoS9KIGPqSNCKGviSNiKEvSSNi6EvSiBj6kjQihr4kjYihL0kjslehn+TOJF9JcmOSja32zCQbktzefh7e6knyoSRbktyU5MUL8QEkSdNbiCP9l1fVcVU109YvAK6pqhXANW0d4HRgRXusBi5ZgPeWJM3DvhjeORO4rC1fBpw1Ub+8Ol8ADkty1D54f0nSLuxt6BfwV0k2JVndakdW1d1t+ZvAkW15KXDXxHO3ttrjJFmdZGOSjdu3b9/L9iRJkxbv5fN/vKq2Jfl+YEOSr05urKpKUvN5wapaA6wBmJmZmddzJUm7t1dH+lW1rf28F/gz4Hjgnh3DNu3nvW33bcDRE09f1mqSpJ7scegneWqSp+1YBk4BbgbWA6vabquAT7Tl9cAb2iyeE4GHJoaBJEk92JvhnSOBP0uy43X+Z1X9ZZIbgCuTnAt8HXhd2/8q4AxgC/Ad4I178d6SpD2wx6FfVXcAL5ylfh/wilnqBZy3p+8nSdp7npErSSNi6EvSiBj6kjQihr4kjYihL0kjYuhL0ogY+pI0Ioa+JI2IoS9JI2LoS9KIGPqSNCKGviSNiKEvSSNi6EvSiBj6kjQihr4kjYihL0kjYuhL0oj0HvpJTktyW5ItSS7o+/0lacx6Df0ki4APA6cDK4FzkqzsswdJGrO+j/SPB7ZU1R1V9V1gHXBmzz1I0mgt7vn9lgJ3TaxvBU6Y3CHJamB1W/12ktt66m0IRwB/19eb5f19vdNo+Ps7cD3Rf3fP2dWGvkN/TlW1BlgzdB99SLKxqmaG7kN7xt/fgWvMv7u+h3e2AUdPrC9rNUlSD/oO/RuAFUmOSfIk4Gxgfc89SNJo9Tq8U1WPJDkfuBpYBKytqs199rCfGcUw1hOYv78D12h/d6mqoXuQJPXEM3IlaUQMfUkaEUNfkkbE0JemkGRRkmuH7kPz1353Hxi6j/2FoS9NoaoeBR5L8oyhe9H8tN/djw/dx/5ivzsj94kuyUuBd9GdJr0YCFBV9YND9qWpfBv4SpINwD/sKFbVW4drSVP6UpL1wJ/w+N/dx4draRiGfv8uBf4DsAl4dOBeND8fbw8deA4B7gNOnqgVI/x9Ok+/Z0muq6oT5t5Tkhaeod+TJC9ui6+jOxv548DDO7ZX1ReH6EvTS7IC+E26e0EcsqPu0Nz+L8khwLnAsTz+d/emwZoaiMM7/fntndYnr/BXPP6fndo/fQR4J3Ax8HLgjTgZ4kDxUeCrwKnAu4GfA24dtKOBeKTfsyQ/WFV3zFXT/ifJpqp6SZKvVNW/nqwN3Zt2L8mXqupFSW6qqhckOQj4bFWdOHRvffMopX8fm6X2J713oT3xcJLvA25Pcn6S1wKHDt2UpvJP7eeDSZ4PPAP4/gH7GYzDOz1J8iN044nPSPJTE5uezsQYo/ZrbwOeArwVeA/dEM+qQTvStNYkORz4NbrLuR8K/NdhWxqGwzs9SXImcBbwGh5/D4FvAeuq6m8HaUzzluQpVfWdofuQ9oSh37MkJ1XV54fuQ/OX5CS68ywOraofSPJC4M1V9UsDt6Y5JDkSeC/w7Ko6PclK4KSqunTg1npn6PcsyRLgF4DlTAyvjXHq2IEmyXXATwPrq+pFrXZzVT1/2M40lyR/QTf76ler6oVJFgNf2vGF/Jg4pt+/TwCfBf4az8g94FTVXUkmS/4ODwxHVNWVSS6Ef76L3yh/d4Z+/55SVe8YugntkbuS/BhQbcrf2xjpXO8D0D8keRbdOTEkORF4aNiWhuGUzf59MskZQzehPfIW4DxgKbANOK6ta//3droJFM9N8r+By4F/P2xLw3BMv2dJvgU8Ffgu35s7XFX19OG60jSSPKuq7hu6D+2ZNo7/w3RXtr2tqv5pjqc8IRn60pSS3A7cCKwF/rL8P88BI8kmuplXV1TVA0P3MySHdwaQ5DVJPtAerx66H03tecAa4A10Z+W+N8nzBu5J0/kZumG5G5KsS3JqdvpGfiw80u9ZkvcBPwr8USudA2ysqguH60rzleTlwB/SDdV9GbjA8y/2f+0yGq8GLqGbefUR4Heq6v5BG+uRod+zJDcBx1XVY219Ed184RcM25nm0mZ//DzweuAeuuGC9XRf6P5JVR0zYHuaQ5IX0F0Z9QzgaroDrx8HXl9Vxw3ZW5+csjmMw4AdRxbec/XA8Xm6S/SeVVVbJ+obk/zeQD1pCm1M/0G6P9QXVNWOe1lc125hOhoe6fcsyTnA+4Br6WYR/CTdf4R/PGhjmlOS+OXtgcnLl3+PoT+AJEfRjesDXF9V3xyyH0nj4eydYSxpPxcDP7bTpZYlaZ9xTL9nSdYCLwA2A4+1ctHdM1eS9imHd3qW5JaqWjl0H5q/JMuA/04346PoLpz3tp2+1NV+KMlT6C7F8ANV9QvtJvc/XFWfHLi13jm807/Pt2t568DzEbopmkcBzwb+vNW0//sI8DBwUlvfBvzGcO0MxyP9niX5N3TB8U26/whDd+0d5+nv55LcuPN87tlq2v8k2VhVMztukN5qX66qFw7dW98c0+/fpXQn93yF743p68BwX5KfB65o6+cAXoDtwPDdJE/me5dWfi7dQdfoeKTfsySfr6qT5t5T+5skz6Eb0z+JLjz+FnhrVX1j0MY0pySvBP4LsBL4K+ClwL+rqr8Zsq8hGPo9S/K7dGfk/jkTRxpV5eyd/VySQ6rqH4fuQ3umXUbjRLoh1S9U1d8N3NIgHN7p35Ppwv6UiZpTNg8MNye5h27WzmeBz1XVKO++dIA6BHiALvdWJqGqPjNwT73zSF+ahyQ/APwE3fDAGcCDfpG7/0vyfrrLKz/u/Jiqes1wXQ3DI/0BJfliVb146D40nTZP/6V0of9CugD53KBNaVpn0c3LH+WXt5MM/WGN8iYOB7BvADcA762qtwzdjOblDuAgRjpjZ5KhP6xPDd2A5pZkcVU9AryI7mzcn01yAXA78L+q6tJBG9Q0vgPcmOQaHj+B4q3DtTQMx/QHkORJdLfegxHfoPlAMTkMl+RQuuD/CbobqlBVzxmwPU0hyarZ6lV1Wd+9DM0j/Z4leRlwGXAn3fDO0UlWjXEWwYEmyUbgYLr5+Z8BfrKqvj5sV5rSHwM/1Ja3jHnqrUf6PWt38PnZqrqtrT8PuKKqXjJsZ9qVJFuBDwKLePyVUbuFqg8O0ZfmlmQx8F7gTcDXaQdadNfi+dUx/ivbC67176AdgQ9QVf+H7gsm7b8WAYcCT2k/DwWeNvHQ/uu3gGcCx1TVS9ow3XPpTpD8wKCdDcQj/Z616+k/BvxhK/0csKiq3jRcV9odp9YeuJLcDjxv59tcJlkEfLWqVgzT2XAc0+/fLwLnATtmDXwW+PBw7WgKTq09cNVs9zWuqkeTjPKI1+Gd/r2lqj5YVT/VHhfT/SHQ/usVQzegPXZLkjfsXGxXS/3qAP0MzuGdns02VDB5jW9JCyfJUrrrWv0/YFMrz9BdA+u1VbVtqN6GYuj3JMk5wM/SzfH+7MSmpwGPVZVHk9I+kuRk4Ni2ektVXTNkP0My9HvSrsV+DPCbwAUTm74F3NTO+JSkfcrQH1CSV4/xxsyShmPoD8ipgJL65uydYTkVUFKvDP1hvXnoBiSNi8M7A0jyY8ByJk6Oq6rLB2tI0mh4Rm7PknyU7tofNwKPtnIBhr6kfc4j/Z4luRVYOdup4ZK0rzmm37+bgX81dBOSxsnhnZ4k+XO6YZyn0V0P5Hoef9u21wzVm6TxMPT7M8prd0vavzim37Mk76+qd8xVk6R9wTH9/r1yltrpvXchaZQc3ulJkl8Efgn4wSQ3TWx6Gt2NtiVpn3N4pydJngEczixX2ayq+4fpStLYGPoDaPfnPJLHn5H7jeE6kjQWDu/0LMn5wLuAe+hukA7dVM4XDNWTpPHwSL9nSbYAJ1TVfUP3Iml8nL3Tv7uAh4ZuQtI4ObzTvzuAv0nyKR5/Ru4Hh2tJ0lgY+v37Rns8qT0kqTeO6Q8kyaEAVfXtoXuRNB6O6fcsyfOTfAnYDGxOsinJsUP3JWkcDP3+rQH+Y1U9p6qeA7wd+P2Be5I0EoZ+/55aVdfuWKmqvwGeOlw7ksbEL3L7d0eSXwM+2tZ/nm5GjyTtcx7p9+9NwBLg4+2xpNUkaZ9z9o4kjYjDOz1Jsn53271doqQ+GPr9OYnuEgxXANcBGbYdSWPk8E5P2uWUXwmcQ3dFzU8BV1TV5kEbkzQqfpHbk6p6tKr+sqpWAScCW+iuwXP+wK1JGhGHd3qU5GDgVXRH+8uBDwF/NmRPksbF4Z2eJLkceD5wFbCuqm4euCVJI2To9yTJY8A/tNXJ/9EDVFU9vf+uJI2NoS9JI+IXuZI0Ioa+JI2IoS9JI2LoS9KI/H8b3xJLLdv8TwAAAABJRU5ErkJggg==\n",
            "text/plain": [
              "<Figure size 432x288 with 1 Axes>"
            ]
          },
          "metadata": {
            "tags": [],
            "needs_background": "light"
          }
        }
      ]
    },
    {
      "cell_type": "code",
      "metadata": {
        "colab": {
          "base_uri": "https://localhost:8080/"
        },
        "id": "e5APKg19FHbY",
        "outputId": "637f503c-bc82-472b-b44e-c8d1fa356e15"
      },
      "source": [
        "df.PaymentMethod.value_counts()"
      ],
      "execution_count": 39,
      "outputs": [
        {
          "output_type": "execute_result",
          "data": {
            "text/plain": [
              "Electronic check             2365\n",
              "Mailed check                 1612\n",
              "Bank transfer (automatic)    1544\n",
              "Credit card (automatic)      1522\n",
              "Name: PaymentMethod, dtype: int64"
            ]
          },
          "metadata": {
            "tags": []
          },
          "execution_count": 39
        }
      ]
    },
    {
      "cell_type": "code",
      "metadata": {
        "colab": {
          "base_uri": "https://localhost:8080/",
          "height": 402
        },
        "id": "vsYVAGfVFHVS",
        "outputId": "7d8e1b57-86cf-4202-eb8b-825b619745bd"
      },
      "source": [
        "df.PaymentMethod.value_counts().plot(kind=\"bar\")"
      ],
      "execution_count": 40,
      "outputs": [
        {
          "output_type": "execute_result",
          "data": {
            "text/plain": [
              "<matplotlib.axes._subplots.AxesSubplot at 0x7f32816f0310>"
            ]
          },
          "metadata": {
            "tags": []
          },
          "execution_count": 40
        },
        {
          "output_type": "display_data",
          "data": {
            "image/png": "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\n",
            "text/plain": [
              "<Figure size 432x288 with 1 Axes>"
            ]
          },
          "metadata": {
            "tags": [],
            "needs_background": "light"
          }
        }
      ]
    },
    {
      "cell_type": "code",
      "metadata": {
        "colab": {
          "base_uri": "https://localhost:8080/"
        },
        "id": "ltr3XhW1FHLa",
        "outputId": "52aba18a-d7d2-4d7f-e457-81a82806b59e"
      },
      "source": [
        "# Churn is the Dependent Variable #\n",
        "df.Churn.value_counts()"
      ],
      "execution_count": 41,
      "outputs": [
        {
          "output_type": "execute_result",
          "data": {
            "text/plain": [
              "No     5174\n",
              "Yes    1869\n",
              "Name: Churn, dtype: int64"
            ]
          },
          "metadata": {
            "tags": []
          },
          "execution_count": 41
        }
      ]
    },
    {
      "cell_type": "code",
      "metadata": {
        "colab": {
          "base_uri": "https://localhost:8080/",
          "height": 289
        },
        "id": "rUKytVsoFHEt",
        "outputId": "e87a0dc3-fce5-4448-8292-d91a60447ae8"
      },
      "source": [
        "df.Churn.value_counts().plot(kind=\"bar\")"
      ],
      "execution_count": 42,
      "outputs": [
        {
          "output_type": "execute_result",
          "data": {
            "text/plain": [
              "<matplotlib.axes._subplots.AxesSubplot at 0x7f3281655b10>"
            ]
          },
          "metadata": {
            "tags": []
          },
          "execution_count": 42
        },
        {
          "output_type": "display_data",
          "data": {
            "image/png": "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\n",
            "text/plain": [
              "<Figure size 432x288 with 1 Axes>"
            ]
          },
          "metadata": {
            "tags": [],
            "needs_background": "light"
          }
        }
      ]
    },
    {
      "cell_type": "markdown",
      "metadata": {
        "id": "91pSpoL_S4R2"
      },
      "source": [
        "**5.Assesing the Continous Variables**"
      ]
    },
    {
      "cell_type": "code",
      "metadata": {
        "colab": {
          "base_uri": "https://localhost:8080/"
        },
        "id": "uEeOG8MgS9Ob",
        "outputId": "56e412c9-8bb3-4d25-e964-f7bf1eb1ba73"
      },
      "source": [
        "df['tenure'].describe()"
      ],
      "execution_count": 43,
      "outputs": [
        {
          "output_type": "execute_result",
          "data": {
            "text/plain": [
              "count    7043.000000\n",
              "mean       32.371149\n",
              "std        24.559481\n",
              "min         0.000000\n",
              "25%         9.000000\n",
              "50%        29.000000\n",
              "75%        55.000000\n",
              "max        72.000000\n",
              "Name: tenure, dtype: float64"
            ]
          },
          "metadata": {
            "tags": []
          },
          "execution_count": 43
        }
      ]
    },
    {
      "cell_type": "code",
      "metadata": {
        "colab": {
          "base_uri": "https://localhost:8080/",
          "height": 297
        },
        "id": "67gfhy-8S9ne",
        "outputId": "8cd1bdaa-773b-4527-fd12-5a737a017de0"
      },
      "source": [
        "sns.boxplot(x=df['Churn'],y=df['tenure'])"
      ],
      "execution_count": 44,
      "outputs": [
        {
          "output_type": "execute_result",
          "data": {
            "text/plain": [
              "<matplotlib.axes._subplots.AxesSubplot at 0x7f3281646890>"
            ]
          },
          "metadata": {
            "tags": []
          },
          "execution_count": 44
        },
        {
          "output_type": "display_data",
          "data": {
            "image/png": "iVBORw0KGgoAAAANSUhEUgAAAX4AAAEGCAYAAABiq/5QAAAABHNCSVQICAgIfAhkiAAAAAlwSFlzAAALEgAACxIB0t1+/AAAADh0RVh0U29mdHdhcmUAbWF0cGxvdGxpYiB2ZXJzaW9uMy4yLjIsIGh0dHA6Ly9tYXRwbG90bGliLm9yZy+WH4yJAAASu0lEQVR4nO3dfZBd9X3f8fcHAUYGHExQVSqsCFgNHie1wd4w6Tj1YGMaO02BxA5jN82oCRNN21SV26Y1tjuJQzuEzNSJFU2mrmynVcZyMENMEQ51SmUzberWtgQKAYOHNUUOWx4WY2yeAgi+/eMemUWPF4lzz2p/79fMzr3n3HvO+aC5fPbs756HVBWSpHYcM3QASdJkWfyS1BiLX5IaY/FLUmMsfklqzLFDBxjHaaedVqtWrRo6hiQdVXbs2PFIVS3be/5RUfyrVq1i+/btQ8eQpKNKkl37m+9QjyQ1xuKXpMZY/JLUGItfkhpj8UtaELZs2cIFF1zANddcM3SURc/il7QgfPKTnwTgE5/4xMBJFj+LX9LgtmzZ8pJp9/r7laPhsszT09N1tB/Hv3HjRmZmZoaOwezsLAArVqwYNMfU1BTr1q0bNIMWjgsuuGCfebfccsvEcyw2SXZU1fTe84+KE7j0ynn66aeHjiBpYBb/hCyUvdv169cDsGHDhoGTSBqKY/yS1Jjeij/JOUl2zvv5fpIPJDk1yc1J7ukeX9tXBknSvnor/qr6ZlWdW1XnAm8BngKuB64AtlXVamBbNy1JmpBJDfVcCHyrqnYBlwCbu/mbgUsnlEGSxOSK/33AH3XPl1fVA93zB4Hl+1sgydok25Nsn5ubm0RGSWpC70f1JDkeuBj40N6vVVUl2e+JBFW1CdgEo+P4ew0pNWyhnGOytz1HoE1aC+eYTGKP/93ArVX1UDf9UJLTAbrHhyeQQdICdtJJJ71k+uSTTx4oSRsmcRz/+3lxmAdgK7AGuLp7vGECGSQdwELZu51/9u6NN944XJAG9LrHn+RE4CLg8/NmXw1clOQe4J3dtKTG7dnrf9vb3jZwksWv1z3+qnoS+OG95n2H0VE+kvQDZ599NgBXXnnlwEkWP8/claTGWPyS1BiLX5IaY/FLUmMsfklqjMUvSY2x+CWpMRa/JDXG4pekxlj8ktQYi1+SGmPxS1JjLH5JaozFL0mNsfglqTEWvyQ1xuKXpMZM4p67g9u4cSMzMzNDx1gQ9vw7rF+/fuAkw5uamlow95uVJqnX4k9yCvAp4MeAAn4Z+CbwOWAVcB9wWVV9t88cMzMz7LzjLp5/9al9buaocMyzBcCOex8aOMmwljz16NARpMH0vce/AfhiVb03yfHAq4EPA9uq6uokVwBXAB/sOQfPv/pUnn79T/e9GR0llt5909ARpMH0Nsaf5IeAtwGfBqiqZ6vqMeASYHP3ts3ApX1lkCTtq88vd88E5oD/lOS2JJ9KciKwvKoe6N7zILB8fwsnWZtke5Ltc3NzPcaUpLb0WfzHAm8G/kNVnQc8yWhY5weqqhiN/e+jqjZV1XRVTS9btqzHmJLUlj6L/37g/qr6ajd9HaNfBA8lOR2ge3y4xwySpL30VvxV9SDwl0nO6WZdCHwD2Aqs6eatAW7oK4MkaV99H9WzDtjSHdFzL/BLjH7ZXJvkcmAXcFnPGSRJ8/Ra/FW1E5jez0sX9rldSdKBeckGSWqMxS9JjbH4JakxFr8kNcbil6TGWPyS1BiLX5IaY/FLUmMsfklqjMUvSY2x+CWpMRa/JDXG4pekxlj8ktQYi1+SGmPxS1JjLH5JaozFL0mN6fXWi0nuAx4Hngd2V9V0klOBzwGrgPuAy6rqu33mkCS9aBJ7/G+vqnOras+9d68AtlXVamBbNy1JmpAhhnouATZ3zzcDlw6QQZKa1XfxF/DfkuxIsrabt7yqHuiePwgs7zmDJGmeXsf4gZ+sqtkkfw24Ocnd81+sqkpS+1uw+0WxFmDlypU9x5SkdvS6x19Vs93jw8D1wPnAQ0lOB+geHz7AspuqarqqppctW9ZnTElqSm/Fn+TEJCfveQ78HeAOYCuwpnvbGuCGvjJIkvbV51DPcuD6JHu289mq+mKSrwPXJrkc2AVc1mMGSdJeeiv+qroXeNN+5n8HuLCv7UqSDs4zdyWpMRa/JDXG4pekxlj8ktQYi1+SGmPxS1JjLH5JaozFL0mNsfglqTEWvyQ1xuKXpMZY/JLUGItfkhpj8UtSYyx+SWqMxS9JjbH4JakxFr8kNcbil6TGjFX8SZYmOedwNpBkSZLbknyhmz4zyVeTzCT5XJLjD2e9kqTDc8jiT/L3gJ3AF7vpc5NsfRnbWA/cNW/6t4Hfraop4LvA5S9jXZKkIzTOHv9HgfOBxwCqaidw5jgrT3IG8HeBT3XTAd4BXNe9ZTNw6ctKLEk6IuMU/3NV9b295tWY6/848K+BF7rpHwYeq6rd3fT9wIr9LZhkbZLtSbbPzc2NuTlJ0qGMU/x3Jvn7wJIkq5NsBL5yqIWS/AzwcFXtOJxgVbWpqqaranrZsmWHswpJ0n6MU/zrgB8FngE+C3wP+MAYy70VuDjJfcA1jIZ4NgCnJDm2e88ZwOzLzCxJOgIHLf4kS4A/qaqPVNWPdz//pqr+6lArrqoPVdUZVbUKeB/wpar6BeDLwHu7t60Bbjiy/wRJ0stx0OKvqueBF5L80Cu4zQ8C/yLJDKMx/0+/guuWJB3CsYd+C08Af5HkZuDJPTOr6p+Nu5GqugW4pXt+L6OjhCZmdnaWJU99j6V33zTJzWoBW/LUd5id3X3oN0qL0DjF//nuR5K0CByy+Ktq8ySC9GnFihU8+MyxPP36nx46ihaIpXffxIoVy4eOIQ3ikMWf5P+yn+P2q+qsXhJJkno1zlDP9LznJwA/D5zaTxxJUt8OeRx/VX1n3s9sVX2c0WUYJElHoXGGet48b/IYRn8BjPOXgiRpARqnwD827/lu4D7gsl7SSJJ6N85RPW+fRBBJ0mSMM9TzKuA9wKr576+qK/uLJUnqyzhDPTcwujDbDkYXapMkHcXGKf4zqupdvSeRJE3EOJdl/kqSv9l7EknSRIyzx/+TwD/szuB9BghQVfXGXpNJknoxTvG/u/cUkqSJGefM3V3A64B3dM+fGmc5SdLCdMgCT/IbjG6e8qFu1nHAZ/oMJUnqzzh77j8LXEx3E5aq+n/AyX2GkiT1Z5zif7aqiu7SzElO7DeSJKlP4xT/tUn+I3BKkl8B/jvwyUMtlOSEJF9L8udJ7kzym938M5N8NclMks8lOf7I/hMkSS/HOMW/DLgO+GPgHODXgTPGWO4ZRl8Ivwk4F3hXkp8Afhv43aqaAr4LXH44wSVJh2ec4r+oqm6uqn9VVb9WVTczxiGeNfJEN3lc91PAOxj9IgHYDFx6GLklSYfpgMfxJ/nHwD8Bzkpy+7yXTgb+1zgrT7KE0TV+poDfB74FPFZVu7u33A+sOIzckqTDdLATuD4L/Ffgt4Ar5s1/vKoeHWflVfU8cG6SU4DrgdePGyzJWmAtwMqVK8ddTJJ0CAcs/qr6HqOrcr7/SDdSVY8l+TLwtxh9SXxst9d/BjB7gGU2AZsApqen97nZu7QYbNy4kZmZmaFjLAh7/h3Wr18/cJKFYWpqinXr1vWy7t5uoZhkGfBcV/pLgYsYfbH7ZeC9wDXAGkaXfZaaNDMzwz133sbKk54fOsrgjn9u9JXjM7u2D5xkeN9+Ykmv6+/z3rmnA5u7cf5jgGur6gtJvgFck+TfAbcBn+4xg7TgrTzpeT785u8PHUMLyFW3vqbX9fdW/FV1O3DefubfC5zf13YlSQfnxdYkqTEWvyQ1xuKXpMZY/JLUGItfkhpj8UtSYyx+SWqMxS9JjbH4JakxFr8kNcbil6TGWPyS1BiLX5IaY/FLUmMsfklqjMUvSY2x+CWpMRa/JDXG4pekxvRW/Elel+TLSb6R5M4k67v5pya5Ock93eNr+8ogSdpXn3v8u4F/WVVvAH4C+NUkbwCuALZV1WpgWzctSZqQ3oq/qh6oqlu7548DdwErgEuAzd3bNgOX9pVBkrSviYzxJ1kFnAd8FVheVQ90Lz0ILD/AMmuTbE+yfW5ubhIxJakJvRd/kpOAPwY+UFXfn/9aVRVQ+1uuqjZV1XRVTS9btqzvmJLUjF6LP8lxjEp/S1V9vpv9UJLTu9dPBx7uM4Mk6aX6PKonwKeBu6rqd+a9tBVY0z1fA9zQVwZJ0r6O7XHdbwV+EfiLJDu7eR8GrgauTXI5sAu4rMcMkqS99Fb8VfVnQA7w8oV9bVeSdHCeuStJjbH4JakxFr8kNcbil6TGWPyS1BiLX5IaY/FLUmP6PIFrQVny1KMsvfumoWMM7pi/Gl0u6YUTXjNwkmEteepRDnB9QGnRa6L4p6amho6wYMzMPA7A1Fmtl95yPxdqVhPFv27duqEjLBjr168HYMOGDQMnkTQUx/glqTEWvyQ1xuKXpMZY/JLUGItfkhpj8UtSYyx+SWqMxS9JjenzZut/kOThJHfMm3dqkpuT3NM9vrav7UuS9q/PPf7/DLxrr3lXANuqajWwrZuWJE1Qnzdb/x9JVu01+xLggu75ZuAW4IN9ZZAWutnZWZ58fAlX3dr2RfP0UrseX8KJs7O9rX/SY/zLq+qB7vmDHOTyiEnWJtmeZPvc3Nxk0klSAwa7SFtVVZI6yOubgE0A09PTB3yfdDRbsWIFz+x+gA+/+ftDR9ECctWtr+FVK1b0tv5J7/E/lOR0gO7x4QlvX5KaN+ni3wqs6Z6vAW6Y8PYlqXl9Hs75R8D/Bs5Jcn+Sy4GrgYuS3AO8s5uWJE1Qn0f1vP8AL13Y1zYlSYfmmbuS1BiLX5IaY/FLUmMsfklqjMUvSY2x+CWpMRa/JDXG4pekxlj8ktQYi1+SGmPxS1JjLH5JaozFL0mNsfglqTEWvyQ1ZrB77koa+fYTS7jq1tcMHWNwDz012g9d/uoXBk4yvG8/sYTVPa7f4pcGNDU1NXSEBePZmRkAXvUj/puspt/PhsUvDWjdunVDR1gw1q9fD8CGDRsGTrL4WfxS4zZu3MhMt7c9pD0Z9vwCGMrU1NSi/4U8yJe7Sd6V5JtJZpJcMUQGSQvL0qVLWbp06dAxmjDxPf4kS4DfBy4C7ge+nmRrVX1j0lkkOdzUoiGGes4HZqrqXoAk1wCXAIu6+P1z+qVa+HNaWqiGGOpZAfzlvOn7u3kvkWRtku1Jts/NzU0s3GLnn9OSFuyXu1W1CdgEMD09XQPHOWLu3UpaKIbY458FXjdv+oxuniRpAoYo/q8Dq5OcmeR44H3A1gFySFKTJj7UU1W7k/xT4E+BJcAfVNWdk84hSa0aZIy/qm4Cbhpi25LUOq/OKUmNsfglqTEWvyQ1xuKXpMakauGfG5VkDtg1dI5F5DTgkaFDSPvhZ/OV9SNVtWzvmUdF8euVlWR7VU0PnUPam5/NyXCoR5IaY/FLUmMs/jZtGjqAdAB+NifAMX5Jaox7/JLUGItfkhpj8S9iSSrJx+ZN/1qSjw4YSY3LyJ8lefe8eT+f5ItD5mqNxb+4PQP8XJLThg4iAdToS8V/BPxOkhOSnARcBfzqsMnaYvEvbrsZHSXxz/d+IcmqJF9KcnuSbUlWTj6eWlRVdwA3Ah8Efh34DPCRJF9LcluSSwCS/Gg3b2f3OV09YOxFxaN6FrEkTwB/A7gdeBPwK8BJVfXRJDcC11XV5iS/DFxcVZcOGFcNSXIicCvwLPAF4M6q+kySU4CvAecBVwP/p6q2dHfrW1JVTw8WehGx+BexJE9U1UlJrgSeA57mxeJ/BDi9qp5LchzwQFU5JKSJ6T6XTwCXAScw+gsV4FTgpxiV/0eAPwQ+X1X3DJFzMXKopw0fBy4HThw6iDTPC91PgPdU1bndz8qququqPgtczGiH5aYk7xgy7GJi8Tegqh4FrmVU/nt8hdGN7gF+Afifk84ldf4UWJckAEnO6x7PAu6tqt8DbgDeOFzExcXib8fHGF3ydo91wC8luR34RWD9IKkk+LfAccDtSe7spmE0BHRHkp3AjzEa8tErwDF+SWqMe/yS1BiLX5IaY/FLUmMsfklqjMUvSY05dugA0kKR5K8zOtntx4HHgIeA/8LochY/M2Q26ZXkHr/E6HLBwPXALVV1dlW9BfgQsPwI1+vOlRYcP5TSyNuB56rqE3tmVNWfJ3ktcGGS6xidRLQD+AdVVUnuA6ar6pEk08C/r6oLunsenA2cBXw7yTeBld30SuDj3dmo0iDc45dG9pT6/pwHfAB4A6PyfusY63sD8M6qen83/XpGFx47H/iN7sJ40iAsfunQvlZV91fVC8BOYNUYy2zd6xLCf1JVz1TVI8DDHOEQknQkLH5p5E7gLQd47Zl5z5/nxSHS3bz4/9AJey3z5JjrkCbO4pdGvgS8KsnaPTOSvBH42wdZ5j5e/GXxnv6iSa8si1/iB/eC/VngnUm+1V0l8reABw+y2G8CG5JsZ7QXLx0VvDqnJDXGPX5JaozFL0mNsfglqTEWvyQ1xuKXpMZY/JLUGItfkhrz/wE8XdeXiiLZ9QAAAABJRU5ErkJggg==\n",
            "text/plain": [
              "<Figure size 432x288 with 1 Axes>"
            ]
          },
          "metadata": {
            "tags": [],
            "needs_background": "light"
          }
        }
      ]
    },
    {
      "cell_type": "code",
      "metadata": {
        "colab": {
          "base_uri": "https://localhost:8080/"
        },
        "id": "RV88_uT9TY-f",
        "outputId": "446d5e4a-9fae-4207-d888-d1c4db214731"
      },
      "source": [
        "df['MonthlyCharges'].describe()"
      ],
      "execution_count": 45,
      "outputs": [
        {
          "output_type": "execute_result",
          "data": {
            "text/plain": [
              "count    7043.000000\n",
              "mean       64.761692\n",
              "std        30.090047\n",
              "min        18.250000\n",
              "25%        35.500000\n",
              "50%        70.350000\n",
              "75%        89.850000\n",
              "max       118.750000\n",
              "Name: MonthlyCharges, dtype: float64"
            ]
          },
          "metadata": {
            "tags": []
          },
          "execution_count": 45
        }
      ]
    },
    {
      "cell_type": "code",
      "metadata": {
        "colab": {
          "base_uri": "https://localhost:8080/",
          "height": 297
        },
        "id": "MewyEQrFS9X2",
        "outputId": "b5e81048-7c7a-48c1-b78c-72ce1e16f5f5"
      },
      "source": [
        "sns.boxplot(x=df['Churn'],y=df['MonthlyCharges'])"
      ],
      "execution_count": 46,
      "outputs": [
        {
          "output_type": "execute_result",
          "data": {
            "text/plain": [
              "<matplotlib.axes._subplots.AxesSubplot at 0x7f328154fa90>"
            ]
          },
          "metadata": {
            "tags": []
          },
          "execution_count": 46
        },
        {
          "output_type": "display_data",
          "data": {
            "image/png": "iVBORw0KGgoAAAANSUhEUgAAAYUAAAEGCAYAAACKB4k+AAAABHNCSVQICAgIfAhkiAAAAAlwSFlzAAALEgAACxIB0t1+/AAAADh0RVh0U29mdHdhcmUAbWF0cGxvdGxpYiB2ZXJzaW9uMy4yLjIsIGh0dHA6Ly9tYXRwbG90bGliLm9yZy+WH4yJAAAUYUlEQVR4nO3df7DddX3n8efLIBBAipQ0YjBEDSuDrBZ6y1hZd1XsVKkLdtuyUn9QQVN3aIzVnQraXdS2qOPPSHftpuIK1l8sSgFBtw6K3bYjzE2IQACXWxAkw48gyK+wgYT3/nG++XKJN7knl5zzvbnn+Zg5c8/38z3nfF+TuTev8/2dqkKSJIBndB1AkjR7WAqSpJalIElqWQqSpJalIElq7dF1gKfjoIMOqiVLlnQdQ5J2K6tXr763qhZMNW+3LoUlS5YwPj7edQxJ2q0kuW1789x8JElqWQqSpJalIElqDawUknwhyT1Jrp809vEkNyW5NslFSQ6YNO/MJBNJfpzktwaVS5K0fYNcU/gi8Nptxr4LHFlVLwH+L3AmQJIjgDcCL27e89+TzBtgNknSFAZWClX1D8B924z9fVVtbiZ/CBzSPD8R+FpVbaqqW4EJ4JhBZZMkTa3LfQqnAt9uni8Cfjpp3h3N2C9IsizJeJLxDRs2DDiiJI2WTs5TSPIBYDPw5Z19b1WtAlYBjI2N7fbX/T7nnHOYmJjoOgbr168HYNGiKbt4aJYuXcry5cs7zSCNsqGXQpI/BF4PHFdP3sxhPfC8SS87pBnTkDz66KNdR9AsNBu+tMyWLywwGl9ahloKSV4L/Cnw76pq46RZlwBfSfIp4LnAYcDVw8zWldnyC7ZixQoAVq5c2XES6an8wjJcAyuFJF8FXgkclOQO4Cx6RxvtBXw3CcAPq+qdVbUuyQXADfQ2K51eVVsGlU1Sf2bDlxa/sAzXwEqhqk6eYvjcHbz+L4G/HFQeSdL0PKNZktSyFCRJLUtBktSyFCRJLUtBktSyFCRJLUtBktSyFCRJLUtBktSyFCRJLUtBktSyFCRJLUtBktSyFCRJLUtBktSyFCRJLUtBktSyFCRJLUtBktSyFCRJLUtBktSyFCRJLUtBktSyFCRJLUtBktSyFCRJLUtBktSyFCRJLUtBktSyFCRJrYGVQpIvJLknyfWTxg5M8t0kNzc/n92MJ8lnk0wkuTbJ0YPKJUnavkGuKXwReO02Y2cAV1TVYcAVzTTA64DDmscy4HMDzCVJ2o6BlUJV/QNw3zbDJwLnNc/PA94wafz86vkhcECSgweVTZI0tWHvU1hYVXc2z+8CFjbPFwE/nfS6O5qxX5BkWZLxJOMbNmwYXFJJGkGd7WiuqgJqBu9bVVVjVTW2YMGCASSTpNE17FK4e+tmoebnPc34euB5k153SDMmSRqiYZfCJcApzfNTgIsnjb+1OQrpZcADkzYzSZKGZI9BfXCSrwKvBA5KcgdwFvBR4IIkpwG3ASc1L78cOB6YADYCbxtULknS9g2sFKrq5O3MOm6K1xZw+qCySJL64xnNkqSWpSBJalkKkqSWpSBJalkKkqTWwI4+kjRz55xzDhMTE13HmBW2/jusWLGi4ySzw9KlS1m+fPnAPt9SkGahiYkJbl53DYv329J1lM7t+Xhvg8am28Y7TtK92x+eN/BlWArSLLV4vy28/+gHu46hWeTsNfsPfBnuU5AktSwFSVLLUpAktSwFSVLLUpAktSwFSVLLUpAktSwFSVJrpE9e81ICT/JSAk816EsJSLPVSJfCxMQEa6+/kS37HNh1lM4947ECYPUtd3ecpHvzNt7XdQSpM32VQpJjgbVV9UiSNwNHAyur6raBphuCLfscyKOHH991DM0i82+6vOsIUmf63afwOWBjkpcC7wX+BTh/YKkkSZ3otxQ2V1UBJwJ/VVX/DXjW4GJJkrrQ7z6Fh5KcCbwFeEWSZwDPHFwsSVIX+l1T+I/AJuDUqroLOAT4+MBSSZI60VcpNEXwDWCvZuhe4KJBhZIkdaOvUkjyDuBC4H80Q4uAvxtUKElSN/rdfHQ6cCzwIEBV3Qz8yqBCSZK60W8pbKqqx7ZOJNkDqMFEkiR1pd9S+EGS9wPzk/wm8L+ASwcXS5LUhX5L4QxgA3Ad8EfA5cCfDSqUJKkbfZ2nUFVPAH/TPCRJc1S/1z66jl/ch/AAMA78RVX9bGcWmuRPgLc3n3kd8DbgYOBrwC8Dq4G3TN6PIUkavH43H30buAx4U/O4lF4h3AV8cWcWmGQR8C5grKqOBOYBbwQ+Bny6qpYC9wOn7cznSpKevn4vc/Gaqjp60vR1SdZU1dHNVVNnstz5SR4H9gHuBF4N/EEz/zzgg/QuxCdJGpJ+S2FekmOq6mqAJL9O7xs+wOadWWBVrU/yCeB24FHg7+ltLvp5VW39rDvonSD3C5IsA5YBLF68eGcWLe021q9fzyMPzePsNft3HUWzyG0PzWPf9esHuox+Nx+dBpyb5NYktwLnAm9Psi/wkZ1ZYJJn07va6vOB5wL7Aq/t9/1VtaqqxqpqbMGCBTuzaEnSNKZdU0gyD3hFVf3rJL8EUFUPTHrJBTu5zNcAt1bVhubzv0nvbOkDkuzRrC0cAgy2DqVZbNGiRWzafCfvP/rBrqNoFjl7zf7stWjKjSi7zLRrClW1BTi5ef7ANoUwE7cDL0uyT5IAxwE3AN8Hfq95zSnAxU9zOZKkndTvPoV/SvJXwNeBR7YOVtWanV1gVV2V5EJgDb39EdcAq+gd3fS1JH/RjJ27s58tSXp6+i2FX21+fnjSWNE7YminVdVZwFnbDN8CHDOTz5Mk7Rr9ntH8qkEHkSR1r981BZL8NvBiYO+tY1X14e2/Q5K0u+n3Jjt/Te+WnMuBAL8PHDrAXJKkDvR7nsLLq+qtwP1V9SHgN4B/NbhYkqQu9FsKjzY/NyZ5LvA4vQvYSZLmkH73KXwryQHAx+kdSlrA5weWSpLUiX6PPvrz5uk3knwL2HsXnMQmSZplduboo5cDS7a+JwlVdf6AckmSOtDvTXa+BLwQWAtsaYYLsBQkaQ7pd01hDDiiqra9+5okaQ7p9+ij64HnDDKIJKl7O1xTSHIpvc1EzwJuSHI1sGnr/Ko6YbDxJEnDNN3mo08MJYUkaVaYrhTWAwur6p8mDyb5N/TuqyxJmkOm26fwGWCqWz890MyTJM0h05XCwqq6btvBZmzJQBJJkjozXSkcsIN583dlEElS96YrhfEk79h2MMnbgdWDiSRJ6sp0O5rfDVyU5E08WQJjwJ7A7wwymCRp+HZYClV1N/DyJK8CjmyGL6uq7w08mSRp6Pq9zMXrgS9U1bpBhpEkdavfy1zcCKxKclWSdyb5pUGGkiR1o69SqKrPV9WxwFvpHYp6bZKvNJuVJElzRL9rCiSZBxzePO4FfgS8J8nXBpRNkjRk/d5P4dPAvweuAM6uqqubWR9L8uNBhRu09evXM2/jA8y/6fKuo2gWmbfxZ6xfv7nrGFIn+t3RfC3wZ1X1yBTzjtmFeSRJHZru0tlHN09/BLwoyVPmV9Wa3flezYsWLeKuTXvw6OHHdx1Fs8j8my5n0aKFXceQOjHdmsIndzCvgFfvwiySpI5Nd/KaRxdJ0gjpd58CSV5O73DU9j1Vdf4AMkmSOtLv0UdfAl4IrAW2NMMFWAqSNIf0u6YwBhxRVbUrFprkAODz9K6nVMCpwI+Br9NbG/kJcFJV3b8rlidJ6k+/J69dDzxnFy53JfCdqjoceCm9y2icAVxRVYfROx/ijF24PElSH6Y7JPVSet/knwXckORqYNPW+VV1ws4usLlu0r8F/rD5jMeAx5KcCLyyedl5wJXA+3b28yVJMzfd5qNPDGCZzwc2AP8zyUvp3adhBb1bf97ZvOYuYMoDxZMsA5YBLF68eADxJGl07XDzUVX9oKp+ABy/9fnksRkucw/gaOBzVXUU8AjbbCpq9l1Muf+iqlZV1VhVjS1YsGCGESRJU+l3n8JvTjH2uhku8w7gjqq6qpm+kF5J3J3kYIDm5z0z/HxJ0gztsBSS/Kck19G7xMW1kx63AtfNZIFVdRfw0yQvaoaOA24ALgFOacZOAS6eyedLkmZuun0KXwG+DXyEp27ieaiq7nsay10OfDnJnsAtwNvoFdQFSU4DbgNOehqfL0magekuc/EA8ABwcnM/hYXNe/ZLsl9V3T6ThVbVWnrnPmzruJl8niRp1+j3jOY/Bj4I3A080QwX8JLBxJJ0+8PzOHvN/l3H6NzdG3tbuRfu88Q0r5z7bn94HocNeBn9ntH8buBFVfWzQYaR1LN06dKuI8waj01MALDXof6bHMbgfzf6LYWf0tuMJGkIli9f3nWEWWPFihUArFy5suMko6HfUrgFuDLJZTz1jOZPDSSVJKkT/ZbC7c1jz+YhSZqD+iqFqvoQQJL9mumHBxlKktSNvs5oTnJkkmuAdcC6JKuTvHiw0SRJw9bvZS5WAe+pqkOr6lDgvcDfDC6WJKkL/ZbCvlX1/a0TVXUlsO9AEkmSOtP30UdJ/gvwpWb6zfSOSJIkzSH9rimcCiwAvtk8FjRjkqQ5pN+jj+4H3jXgLJKkjk13O85LdjR/JrfjlCTNXtOtKfwGvUtcfBW4CsjAE0mSOjNdKTyH3l3XTgb+ALgM+GpVrRt0MEnS8E13j+YtVfWdqjoFeBkwQe8aSH88lHSSpKGadkdzkr2A36a3trAE+Cxw0WBjSZK6MN2O5vOBI4HLgQ9V1fVDSSVJ6sR0awpvBh4BVgDvStr9zAGqqrwtlCTNIdPdo7nfk9skSXOA/+lLklqWgiSpZSlIklqWgiSpZSlIklqWgiSpZSlIklqWgiSpZSlIklqWgiSp1VkpJJmX5Jok32qmn5/kqiQTSb6eZM+usknSqOpyTWEFcOOk6Y8Bn66qpcD9wGmdpJKkEdZJKSQ5hN49Gj7fTAd4NXBh85LzgDd0kU2SRllXawqfAf4UeKKZ/mXg51W1uZm+A1g01RuTLEsynmR8w4YNg08qSSNk6KWQ5PXAPVW1eibvr6pVVTVWVWMLFizYxekkabRNezvOATgWOCHJ8cDewP7ASuCAJHs0awuHAOs7yCZJI23oawpVdWZVHVJVS4A3At+rqjcB3wd+r3nZKcDFw84mSaNuNp2n8D7gPUkm6O1jOLfjPJI0crrYfNSqqiuBK5vntwDHdJlHkkbdbFpTkCR1zFKQJLUsBUlSy1KQJLUsBUlSy1KQJLUsBUlSy1KQJLUsBUlSy1KQJLUsBUlSy1KQJLUsBUlSy1KQJLUsBUlSy1KQJLUsBUlSy1KQJLUsBUlSy1KQJLUsBUlSy1KQJLX26DpA1+ZtvI/5N13edYzOPeP/PQjAE3vv33GS7s3beB+wsOsYUidGuhSWLl3adYRZY2LiIQCWvsD/DGGhvxsaWSNdCsuXL+86wqyxYsUKAFauXNlxEkldcp+CJKllKUiSWpaCJKllKUiSWpaCJKk19FJI8rwk309yQ5J1SVY04wcm+W6Sm5ufzx52NkkadV2sKWwG3ltVRwAvA05PcgRwBnBFVR0GXNFMS5KGaOilUFV3VtWa5vlDwI3AIuBE4LzmZecBbxh2NkkadZ3uU0iyBDgKuApYWFV3NrPuYjvXGUiyLMl4kvENGzYMJackjYrOSiHJfsA3gHdX1YOT51VVATXV+6pqVVWNVdXYggULhpBUkkZHJ5e5SPJMeoXw5ar6ZjN8d5KDq+rOJAcD93SRTdKTzjnnHCYmJjrNsHX5Wy/F0qWlS5fO+cvjDL0UkgQ4F7ixqj41adYlwCnAR5ufFw87Wxdmwx8dzJ4/vFH4o9POmT9/ftcRRkoXawrHAm8Brkuythl7P70yuCDJacBtwEkdZBtZ/uFpKhb06Elv8/3uaWxsrMbHx7uOIUm7lSSrq2psqnme0SxJalkKkqSWpSBJalkKkqSWpSBJalkKkqSWpSBJalkKkqTWbn3yWpIN9M5+1q5xEHBv1yGkKfi7uWsdWlVTXlF0ty4F7VpJxrd3lqPUJX83h8fNR5KklqUgSWpZCppsVdcBpO3wd3NI3KcgSWq5piBJalkKkqSWpTCCklSST06a/s9JPthhJI249PxjktdNGvv9JN/pMtcoshRG0ybgPyQ5qOsgEkD1dm6+E/hUkr2T7AecDZzebbLRYymMps30jub4k21nJFmS5HtJrk1yRZLFw4+nUVRV1wOXAu8D/ivwt8AHklyd5JokJwIkeXEztrb5PT2sw9hzjkcfjaAkDwPPBa4FXgq8A9ivqj6Y5FLgwqo6L8mpwAlV9YYO42qEJNkXWAM8BnwLWFdVf5vkAOBq4Cjgo8APq+rLSfYE5lXVo52FnmMshRGU5OGq2i/Jh4HHgUd5shTuBQ6uqseTPBO4s6rczKShaX4vHwZOAvamt2YLcCDwW/SK4QPA+cA3q+rmLnLOVW4+Gm2fAU4D9u06iDTJE80jwO9W1a82j8VVdWNVfQU4gd6XmcuTvLrLsHONpTDCquo+4AJ6xbDVPwNvbJ6/Cfg/w84lNf43sDxJAJIc1fx8AXBLVX0WuBh4SXcR5x5LQZ+kd1nirZYDb0tyLfAWYEUnqST4c+CZwLVJ1jXT0NusdH2StcCR9DYjaRdxn4IkqeWagiSpZSlIklqWgiSpZSlIklqWgiSptUfXAaTZLslz6J3o9+vAz4G7gb+jdwmQ13eZTdrVXFOQdqA5ceoi4MqqemFV/RpwJrDwaX6uX8g0K/mLKe3Yq4DHq+qvtw5U1Y+SPBs4LsmF9E6gWg28uaoqyU+Asaq6N8kY8ImqemVzz4oXAi8Abk/yY2BxM70Y+Exzlq7UGdcUpB3b+h/+VI4C3g0cQe8/9mP7+LwjgNdU1cnN9OH0LvJ2DHBWcxFCqTOWgjRzV1fVHVX1BLAWWNLHey7Z5jLPl1XVpqq6F7iHp7lZSnq6LAVpx9YBv7adeZsmPd/Ck5tjN/Pk39be27znkT4/Q+qEpSDt2PeAvZIs2zqQ5CXAK3bwnp/wZJH87uCiSbuepSDtQHPv4N8BXpPkX5qrdX4EuGsHb/sQsDLJOL1v/9Juw6ukSpJarilIklqWgiSpZSlIklqWgiSpZSlIklqWgiSpZSlIklr/H1nKd22dUcNHAAAAAElFTkSuQmCC\n",
            "text/plain": [
              "<Figure size 432x288 with 1 Axes>"
            ]
          },
          "metadata": {
            "tags": [],
            "needs_background": "light"
          }
        }
      ]
    },
    {
      "cell_type": "code",
      "metadata": {
        "colab": {
          "base_uri": "https://localhost:8080/"
        },
        "id": "XILfCxO6LJPq",
        "outputId": "3d74fdb7-9a2b-450d-a446-f5ad5e216a1c"
      },
      "source": [
        "# I ended up having some missing values (which was missed by the null values Table in section 2 )#\n",
        "df['TotalCharges'][:5]"
      ],
      "execution_count": 47,
      "outputs": [
        {
          "output_type": "execute_result",
          "data": {
            "text/plain": [
              "0      29.85\n",
              "1     1889.5\n",
              "2     108.15\n",
              "3    1840.75\n",
              "4     151.65\n",
              "Name: TotalCharges, dtype: object"
            ]
          },
          "metadata": {
            "tags": []
          },
          "execution_count": 47
        }
      ]
    },
    {
      "cell_type": "code",
      "metadata": {
        "colab": {
          "base_uri": "https://localhost:8080/"
        },
        "id": "ksBoHzqxLWVz",
        "outputId": "948cd17b-52a4-4c8d-9140-aa6033b9537e"
      },
      "source": [
        "#There are some Missing values which stuck as an empty String rather than Nan #\n",
        "(df.TotalCharges == ' ').sum()"
      ],
      "execution_count": 48,
      "outputs": [
        {
          "output_type": "execute_result",
          "data": {
            "text/plain": [
              "11"
            ]
          },
          "metadata": {
            "tags": []
          },
          "execution_count": 48
        }
      ]
    },
    {
      "cell_type": "code",
      "metadata": {
        "colab": {
          "base_uri": "https://localhost:8080/"
        },
        "id": "6_ch8e14LWSo",
        "outputId": "0e6d2d7c-74b2-4f87-927c-75b5274e9098"
      },
      "source": [
        "# Since There are some empty values let us just check what is the MonthlyCharge against these Values #\n",
        "df['MonthlyCharges'][df.TotalCharges==' ']"
      ],
      "execution_count": 49,
      "outputs": [
        {
          "output_type": "execute_result",
          "data": {
            "text/plain": [
              "488     52.55\n",
              "753     20.25\n",
              "936     80.85\n",
              "1082    25.75\n",
              "1340    56.05\n",
              "3331    19.85\n",
              "3826    25.35\n",
              "4380    20.00\n",
              "5218    19.70\n",
              "6670    73.35\n",
              "6754    61.90\n",
              "Name: MonthlyCharges, dtype: float64"
            ]
          },
          "metadata": {
            "tags": []
          },
          "execution_count": 49
        }
      ]
    },
    {
      "cell_type": "code",
      "metadata": {
        "colab": {
          "base_uri": "https://localhost:8080/",
          "height": 571
        },
        "id": "X8hdiErFMK-H",
        "outputId": "3e9a3844-d870-4237-f337-79698ace9e71"
      },
      "source": [
        "# The Corresponding values in MonthlyCharges column seems to be fine #\n",
        "#Lets find those sneaky Strings in TotalCharges #\n",
        "df[df.TotalCharges == ' ']"
      ],
      "execution_count": 50,
      "outputs": [
        {
          "output_type": "execute_result",
          "data": {
            "text/html": [
              "<div>\n",
              "<style scoped>\n",
              "    .dataframe tbody tr th:only-of-type {\n",
              "        vertical-align: middle;\n",
              "    }\n",
              "\n",
              "    .dataframe tbody tr th {\n",
              "        vertical-align: top;\n",
              "    }\n",
              "\n",
              "    .dataframe thead th {\n",
              "        text-align: right;\n",
              "    }\n",
              "</style>\n",
              "<table border=\"1\" class=\"dataframe\">\n",
              "  <thead>\n",
              "    <tr style=\"text-align: right;\">\n",
              "      <th></th>\n",
              "      <th>SeniorCitizen</th>\n",
              "      <th>PhoneService</th>\n",
              "      <th>gender</th>\n",
              "      <th>Partner</th>\n",
              "      <th>Dependents</th>\n",
              "      <th>PaperlessBilling</th>\n",
              "      <th>MultipleLines</th>\n",
              "      <th>InternetService</th>\n",
              "      <th>OnlineSecurity</th>\n",
              "      <th>OnlineBackup</th>\n",
              "      <th>DeviceProtection</th>\n",
              "      <th>TechSupport</th>\n",
              "      <th>StreamingTV</th>\n",
              "      <th>StreamingMovies</th>\n",
              "      <th>Contract</th>\n",
              "      <th>PaymentMethod</th>\n",
              "      <th>tenure</th>\n",
              "      <th>MonthlyCharges</th>\n",
              "      <th>TotalCharges</th>\n",
              "      <th>Churn</th>\n",
              "    </tr>\n",
              "  </thead>\n",
              "  <tbody>\n",
              "    <tr>\n",
              "      <th>488</th>\n",
              "      <td>0</td>\n",
              "      <td>No</td>\n",
              "      <td>Female</td>\n",
              "      <td>Yes</td>\n",
              "      <td>Yes</td>\n",
              "      <td>Yes</td>\n",
              "      <td>No phone service</td>\n",
              "      <td>DSL</td>\n",
              "      <td>Yes</td>\n",
              "      <td>No</td>\n",
              "      <td>Yes</td>\n",
              "      <td>Yes</td>\n",
              "      <td>Yes</td>\n",
              "      <td>No</td>\n",
              "      <td>Two year</td>\n",
              "      <td>Bank transfer (automatic)</td>\n",
              "      <td>0</td>\n",
              "      <td>52.55</td>\n",
              "      <td></td>\n",
              "      <td>No</td>\n",
              "    </tr>\n",
              "    <tr>\n",
              "      <th>753</th>\n",
              "      <td>0</td>\n",
              "      <td>Yes</td>\n",
              "      <td>Male</td>\n",
              "      <td>No</td>\n",
              "      <td>Yes</td>\n",
              "      <td>No</td>\n",
              "      <td>No</td>\n",
              "      <td>No</td>\n",
              "      <td>No internet service</td>\n",
              "      <td>No internet service</td>\n",
              "      <td>No internet service</td>\n",
              "      <td>No internet service</td>\n",
              "      <td>No internet service</td>\n",
              "      <td>No internet service</td>\n",
              "      <td>Two year</td>\n",
              "      <td>Mailed check</td>\n",
              "      <td>0</td>\n",
              "      <td>20.25</td>\n",
              "      <td></td>\n",
              "      <td>No</td>\n",
              "    </tr>\n",
              "    <tr>\n",
              "      <th>936</th>\n",
              "      <td>0</td>\n",
              "      <td>Yes</td>\n",
              "      <td>Female</td>\n",
              "      <td>Yes</td>\n",
              "      <td>Yes</td>\n",
              "      <td>No</td>\n",
              "      <td>No</td>\n",
              "      <td>DSL</td>\n",
              "      <td>Yes</td>\n",
              "      <td>Yes</td>\n",
              "      <td>Yes</td>\n",
              "      <td>No</td>\n",
              "      <td>Yes</td>\n",
              "      <td>Yes</td>\n",
              "      <td>Two year</td>\n",
              "      <td>Mailed check</td>\n",
              "      <td>0</td>\n",
              "      <td>80.85</td>\n",
              "      <td></td>\n",
              "      <td>No</td>\n",
              "    </tr>\n",
              "    <tr>\n",
              "      <th>1082</th>\n",
              "      <td>0</td>\n",
              "      <td>Yes</td>\n",
              "      <td>Male</td>\n",
              "      <td>Yes</td>\n",
              "      <td>Yes</td>\n",
              "      <td>No</td>\n",
              "      <td>Yes</td>\n",
              "      <td>No</td>\n",
              "      <td>No internet service</td>\n",
              "      <td>No internet service</td>\n",
              "      <td>No internet service</td>\n",
              "      <td>No internet service</td>\n",
              "      <td>No internet service</td>\n",
              "      <td>No internet service</td>\n",
              "      <td>Two year</td>\n",
              "      <td>Mailed check</td>\n",
              "      <td>0</td>\n",
              "      <td>25.75</td>\n",
              "      <td></td>\n",
              "      <td>No</td>\n",
              "    </tr>\n",
              "    <tr>\n",
              "      <th>1340</th>\n",
              "      <td>0</td>\n",
              "      <td>No</td>\n",
              "      <td>Female</td>\n",
              "      <td>Yes</td>\n",
              "      <td>Yes</td>\n",
              "      <td>No</td>\n",
              "      <td>No phone service</td>\n",
              "      <td>DSL</td>\n",
              "      <td>Yes</td>\n",
              "      <td>Yes</td>\n",
              "      <td>Yes</td>\n",
              "      <td>Yes</td>\n",
              "      <td>Yes</td>\n",
              "      <td>No</td>\n",
              "      <td>Two year</td>\n",
              "      <td>Credit card (automatic)</td>\n",
              "      <td>0</td>\n",
              "      <td>56.05</td>\n",
              "      <td></td>\n",
              "      <td>No</td>\n",
              "    </tr>\n",
              "    <tr>\n",
              "      <th>3331</th>\n",
              "      <td>0</td>\n",
              "      <td>Yes</td>\n",
              "      <td>Male</td>\n",
              "      <td>Yes</td>\n",
              "      <td>Yes</td>\n",
              "      <td>No</td>\n",
              "      <td>No</td>\n",
              "      <td>No</td>\n",
              "      <td>No internet service</td>\n",
              "      <td>No internet service</td>\n",
              "      <td>No internet service</td>\n",
              "      <td>No internet service</td>\n",
              "      <td>No internet service</td>\n",
              "      <td>No internet service</td>\n",
              "      <td>Two year</td>\n",
              "      <td>Mailed check</td>\n",
              "      <td>0</td>\n",
              "      <td>19.85</td>\n",
              "      <td></td>\n",
              "      <td>No</td>\n",
              "    </tr>\n",
              "    <tr>\n",
              "      <th>3826</th>\n",
              "      <td>0</td>\n",
              "      <td>Yes</td>\n",
              "      <td>Male</td>\n",
              "      <td>Yes</td>\n",
              "      <td>Yes</td>\n",
              "      <td>No</td>\n",
              "      <td>Yes</td>\n",
              "      <td>No</td>\n",
              "      <td>No internet service</td>\n",
              "      <td>No internet service</td>\n",
              "      <td>No internet service</td>\n",
              "      <td>No internet service</td>\n",
              "      <td>No internet service</td>\n",
              "      <td>No internet service</td>\n",
              "      <td>Two year</td>\n",
              "      <td>Mailed check</td>\n",
              "      <td>0</td>\n",
              "      <td>25.35</td>\n",
              "      <td></td>\n",
              "      <td>No</td>\n",
              "    </tr>\n",
              "    <tr>\n",
              "      <th>4380</th>\n",
              "      <td>0</td>\n",
              "      <td>Yes</td>\n",
              "      <td>Female</td>\n",
              "      <td>Yes</td>\n",
              "      <td>Yes</td>\n",
              "      <td>No</td>\n",
              "      <td>No</td>\n",
              "      <td>No</td>\n",
              "      <td>No internet service</td>\n",
              "      <td>No internet service</td>\n",
              "      <td>No internet service</td>\n",
              "      <td>No internet service</td>\n",
              "      <td>No internet service</td>\n",
              "      <td>No internet service</td>\n",
              "      <td>Two year</td>\n",
              "      <td>Mailed check</td>\n",
              "      <td>0</td>\n",
              "      <td>20.00</td>\n",
              "      <td></td>\n",
              "      <td>No</td>\n",
              "    </tr>\n",
              "    <tr>\n",
              "      <th>5218</th>\n",
              "      <td>0</td>\n",
              "      <td>Yes</td>\n",
              "      <td>Male</td>\n",
              "      <td>Yes</td>\n",
              "      <td>Yes</td>\n",
              "      <td>Yes</td>\n",
              "      <td>No</td>\n",
              "      <td>No</td>\n",
              "      <td>No internet service</td>\n",
              "      <td>No internet service</td>\n",
              "      <td>No internet service</td>\n",
              "      <td>No internet service</td>\n",
              "      <td>No internet service</td>\n",
              "      <td>No internet service</td>\n",
              "      <td>One year</td>\n",
              "      <td>Mailed check</td>\n",
              "      <td>0</td>\n",
              "      <td>19.70</td>\n",
              "      <td></td>\n",
              "      <td>No</td>\n",
              "    </tr>\n",
              "    <tr>\n",
              "      <th>6670</th>\n",
              "      <td>0</td>\n",
              "      <td>Yes</td>\n",
              "      <td>Female</td>\n",
              "      <td>Yes</td>\n",
              "      <td>Yes</td>\n",
              "      <td>No</td>\n",
              "      <td>Yes</td>\n",
              "      <td>DSL</td>\n",
              "      <td>No</td>\n",
              "      <td>Yes</td>\n",
              "      <td>Yes</td>\n",
              "      <td>Yes</td>\n",
              "      <td>Yes</td>\n",
              "      <td>No</td>\n",
              "      <td>Two year</td>\n",
              "      <td>Mailed check</td>\n",
              "      <td>0</td>\n",
              "      <td>73.35</td>\n",
              "      <td></td>\n",
              "      <td>No</td>\n",
              "    </tr>\n",
              "    <tr>\n",
              "      <th>6754</th>\n",
              "      <td>0</td>\n",
              "      <td>Yes</td>\n",
              "      <td>Male</td>\n",
              "      <td>No</td>\n",
              "      <td>Yes</td>\n",
              "      <td>Yes</td>\n",
              "      <td>Yes</td>\n",
              "      <td>DSL</td>\n",
              "      <td>Yes</td>\n",
              "      <td>Yes</td>\n",
              "      <td>No</td>\n",
              "      <td>Yes</td>\n",
              "      <td>No</td>\n",
              "      <td>No</td>\n",
              "      <td>Two year</td>\n",
              "      <td>Bank transfer (automatic)</td>\n",
              "      <td>0</td>\n",
              "      <td>61.90</td>\n",
              "      <td></td>\n",
              "      <td>No</td>\n",
              "    </tr>\n",
              "  </tbody>\n",
              "</table>\n",
              "</div>"
            ],
            "text/plain": [
              "      SeniorCitizen PhoneService  gender  ... MonthlyCharges TotalCharges Churn\n",
              "488               0           No  Female  ...          52.55                 No\n",
              "753               0          Yes    Male  ...          20.25                 No\n",
              "936               0          Yes  Female  ...          80.85                 No\n",
              "1082              0          Yes    Male  ...          25.75                 No\n",
              "1340              0           No  Female  ...          56.05                 No\n",
              "3331              0          Yes    Male  ...          19.85                 No\n",
              "3826              0          Yes    Male  ...          25.35                 No\n",
              "4380              0          Yes  Female  ...          20.00                 No\n",
              "5218              0          Yes    Male  ...          19.70                 No\n",
              "6670              0          Yes  Female  ...          73.35                 No\n",
              "6754              0          Yes    Male  ...          61.90                 No\n",
              "\n",
              "[11 rows x 20 columns]"
            ]
          },
          "metadata": {
            "tags": []
          },
          "execution_count": 50
        }
      ]
    },
    {
      "cell_type": "code",
      "metadata": {
        "id": "y2NERil-LWOA"
      },
      "source": [
        "# Generally if the problematic Missing data is less tha 1 % we can just remove it #\n",
        "# But lets still replace it with the mean #\n",
        "df['TotalCharges'] = df['TotalCharges'].replace(' ',0)\n",
        "df.TotalCharges = df.TotalCharges.astype(float)"
      ],
      "execution_count": 51,
      "outputs": []
    },
    {
      "cell_type": "code",
      "metadata": {
        "colab": {
          "base_uri": "https://localhost:8080/"
        },
        "id": "dmDh-m8aXFRo",
        "outputId": "2c5c5704-cce7-400d-a95e-565f9220c23d"
      },
      "source": [
        "df['TotalCharges'].describe()"
      ],
      "execution_count": 52,
      "outputs": [
        {
          "output_type": "execute_result",
          "data": {
            "text/plain": [
              "count    7043.000000\n",
              "mean     2279.734304\n",
              "std      2266.794470\n",
              "min         0.000000\n",
              "25%       398.550000\n",
              "50%      1394.550000\n",
              "75%      3786.600000\n",
              "max      8684.800000\n",
              "Name: TotalCharges, dtype: float64"
            ]
          },
          "metadata": {
            "tags": []
          },
          "execution_count": 52
        }
      ]
    },
    {
      "cell_type": "code",
      "metadata": {
        "id": "vSv6KteUXqqn"
      },
      "source": [
        "df['TotalCharges'] = df['TotalCharges'].replace(0,2279)"
      ],
      "execution_count": 53,
      "outputs": []
    },
    {
      "cell_type": "code",
      "metadata": {
        "colab": {
          "base_uri": "https://localhost:8080/",
          "height": 297
        },
        "id": "NYtO7np0LWH-",
        "outputId": "6c9a1382-f8d4-4ab2-f3a0-448e4d67a793"
      },
      "source": [
        "sns.boxplot(x=df['Churn'],y=df['TotalCharges'])"
      ],
      "execution_count": 54,
      "outputs": [
        {
          "output_type": "execute_result",
          "data": {
            "text/plain": [
              "<matplotlib.axes._subplots.AxesSubplot at 0x7f32814e5310>"
            ]
          },
          "metadata": {
            "tags": []
          },
          "execution_count": 54
        },
        {
          "output_type": "display_data",
          "data": {
            "image/png": "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\n",
            "text/plain": [
              "<Figure size 432x288 with 1 Axes>"
            ]
          },
          "metadata": {
            "tags": [],
            "needs_background": "light"
          }
        }
      ]
    },
    {
      "cell_type": "markdown",
      "metadata": {
        "id": "GlSziCkMYM6H"
      },
      "source": [
        "**6.Encoding the Categorical Data**"
      ]
    },
    {
      "cell_type": "code",
      "metadata": {
        "id": "kfN8jZYtHFwP"
      },
      "source": [
        "from sklearn.preprocessing import LabelEncoder\n",
        "cols = ['gender','Partner','Dependents','PhoneService','PaperlessBilling','Churn']\n",
        "df[cols] = df[cols].apply(LabelEncoder().fit_transform)"
      ],
      "execution_count": 55,
      "outputs": []
    },
    {
      "cell_type": "code",
      "metadata": {
        "id": "2YMKr3JpAsAz"
      },
      "source": [
        "from sklearn.preprocessing import OneHotEncoder\n",
        "from sklearn.compose import ColumnTransformer\n",
        "ct = ColumnTransformer(transformers=[('encoder',OneHotEncoder(),[6,7,8,9,10,11,12,13,14,15])],remainder='passthrough')\n",
        "df = np.array(ct.fit_transform(df))"
      ],
      "execution_count": 56,
      "outputs": []
    },
    {
      "cell_type": "code",
      "metadata": {
        "colab": {
          "base_uri": "https://localhost:8080/",
          "height": 226
        },
        "id": "PgijxZhyHX0I",
        "outputId": "95c5d7e6-8b61-4fd3-fc6e-7ff6310d89fb"
      },
      "source": [
        "df = pd.DataFrame(df)\n",
        "df.head()"
      ],
      "execution_count": 57,
      "outputs": [
        {
          "output_type": "execute_result",
          "data": {
            "text/html": [
              "<div>\n",
              "<style scoped>\n",
              "    .dataframe tbody tr th:only-of-type {\n",
              "        vertical-align: middle;\n",
              "    }\n",
              "\n",
              "    .dataframe tbody tr th {\n",
              "        vertical-align: top;\n",
              "    }\n",
              "\n",
              "    .dataframe thead th {\n",
              "        text-align: right;\n",
              "    }\n",
              "</style>\n",
              "<table border=\"1\" class=\"dataframe\">\n",
              "  <thead>\n",
              "    <tr style=\"text-align: right;\">\n",
              "      <th></th>\n",
              "      <th>0</th>\n",
              "      <th>1</th>\n",
              "      <th>2</th>\n",
              "      <th>3</th>\n",
              "      <th>4</th>\n",
              "      <th>5</th>\n",
              "      <th>6</th>\n",
              "      <th>7</th>\n",
              "      <th>8</th>\n",
              "      <th>9</th>\n",
              "      <th>10</th>\n",
              "      <th>11</th>\n",
              "      <th>12</th>\n",
              "      <th>13</th>\n",
              "      <th>14</th>\n",
              "      <th>15</th>\n",
              "      <th>16</th>\n",
              "      <th>17</th>\n",
              "      <th>18</th>\n",
              "      <th>19</th>\n",
              "      <th>20</th>\n",
              "      <th>21</th>\n",
              "      <th>22</th>\n",
              "      <th>23</th>\n",
              "      <th>24</th>\n",
              "      <th>25</th>\n",
              "      <th>26</th>\n",
              "      <th>27</th>\n",
              "      <th>28</th>\n",
              "      <th>29</th>\n",
              "      <th>30</th>\n",
              "      <th>31</th>\n",
              "      <th>32</th>\n",
              "      <th>33</th>\n",
              "      <th>34</th>\n",
              "      <th>35</th>\n",
              "      <th>36</th>\n",
              "      <th>37</th>\n",
              "      <th>38</th>\n",
              "      <th>39</th>\n",
              "      <th>40</th>\n",
              "    </tr>\n",
              "  </thead>\n",
              "  <tbody>\n",
              "    <tr>\n",
              "      <th>0</th>\n",
              "      <td>0.0</td>\n",
              "      <td>1.0</td>\n",
              "      <td>0.0</td>\n",
              "      <td>1.0</td>\n",
              "      <td>0.0</td>\n",
              "      <td>0.0</td>\n",
              "      <td>1.0</td>\n",
              "      <td>0.0</td>\n",
              "      <td>0.0</td>\n",
              "      <td>0.0</td>\n",
              "      <td>0.0</td>\n",
              "      <td>1.0</td>\n",
              "      <td>1.0</td>\n",
              "      <td>0.0</td>\n",
              "      <td>0.0</td>\n",
              "      <td>1.0</td>\n",
              "      <td>0.0</td>\n",
              "      <td>0.0</td>\n",
              "      <td>1.0</td>\n",
              "      <td>0.0</td>\n",
              "      <td>0.0</td>\n",
              "      <td>1.0</td>\n",
              "      <td>0.0</td>\n",
              "      <td>0.0</td>\n",
              "      <td>1.0</td>\n",
              "      <td>0.0</td>\n",
              "      <td>0.0</td>\n",
              "      <td>0.0</td>\n",
              "      <td>0.0</td>\n",
              "      <td>1.0</td>\n",
              "      <td>0.0</td>\n",
              "      <td>0.0</td>\n",
              "      <td>0.0</td>\n",
              "      <td>0.0</td>\n",
              "      <td>1.0</td>\n",
              "      <td>0.0</td>\n",
              "      <td>1.0</td>\n",
              "      <td>1.0</td>\n",
              "      <td>29.85</td>\n",
              "      <td>29.85</td>\n",
              "      <td>0.0</td>\n",
              "    </tr>\n",
              "    <tr>\n",
              "      <th>1</th>\n",
              "      <td>1.0</td>\n",
              "      <td>0.0</td>\n",
              "      <td>0.0</td>\n",
              "      <td>1.0</td>\n",
              "      <td>0.0</td>\n",
              "      <td>0.0</td>\n",
              "      <td>0.0</td>\n",
              "      <td>0.0</td>\n",
              "      <td>1.0</td>\n",
              "      <td>1.0</td>\n",
              "      <td>0.0</td>\n",
              "      <td>0.0</td>\n",
              "      <td>0.0</td>\n",
              "      <td>0.0</td>\n",
              "      <td>1.0</td>\n",
              "      <td>1.0</td>\n",
              "      <td>0.0</td>\n",
              "      <td>0.0</td>\n",
              "      <td>1.0</td>\n",
              "      <td>0.0</td>\n",
              "      <td>0.0</td>\n",
              "      <td>1.0</td>\n",
              "      <td>0.0</td>\n",
              "      <td>0.0</td>\n",
              "      <td>0.0</td>\n",
              "      <td>1.0</td>\n",
              "      <td>0.0</td>\n",
              "      <td>0.0</td>\n",
              "      <td>0.0</td>\n",
              "      <td>0.0</td>\n",
              "      <td>1.0</td>\n",
              "      <td>0.0</td>\n",
              "      <td>1.0</td>\n",
              "      <td>1.0</td>\n",
              "      <td>0.0</td>\n",
              "      <td>0.0</td>\n",
              "      <td>0.0</td>\n",
              "      <td>34.0</td>\n",
              "      <td>56.95</td>\n",
              "      <td>1889.50</td>\n",
              "      <td>0.0</td>\n",
              "    </tr>\n",
              "    <tr>\n",
              "      <th>2</th>\n",
              "      <td>1.0</td>\n",
              "      <td>0.0</td>\n",
              "      <td>0.0</td>\n",
              "      <td>1.0</td>\n",
              "      <td>0.0</td>\n",
              "      <td>0.0</td>\n",
              "      <td>0.0</td>\n",
              "      <td>0.0</td>\n",
              "      <td>1.0</td>\n",
              "      <td>0.0</td>\n",
              "      <td>0.0</td>\n",
              "      <td>1.0</td>\n",
              "      <td>1.0</td>\n",
              "      <td>0.0</td>\n",
              "      <td>0.0</td>\n",
              "      <td>1.0</td>\n",
              "      <td>0.0</td>\n",
              "      <td>0.0</td>\n",
              "      <td>1.0</td>\n",
              "      <td>0.0</td>\n",
              "      <td>0.0</td>\n",
              "      <td>1.0</td>\n",
              "      <td>0.0</td>\n",
              "      <td>0.0</td>\n",
              "      <td>1.0</td>\n",
              "      <td>0.0</td>\n",
              "      <td>0.0</td>\n",
              "      <td>0.0</td>\n",
              "      <td>0.0</td>\n",
              "      <td>0.0</td>\n",
              "      <td>1.0</td>\n",
              "      <td>0.0</td>\n",
              "      <td>1.0</td>\n",
              "      <td>1.0</td>\n",
              "      <td>0.0</td>\n",
              "      <td>0.0</td>\n",
              "      <td>1.0</td>\n",
              "      <td>2.0</td>\n",
              "      <td>53.85</td>\n",
              "      <td>108.15</td>\n",
              "      <td>1.0</td>\n",
              "    </tr>\n",
              "    <tr>\n",
              "      <th>3</th>\n",
              "      <td>0.0</td>\n",
              "      <td>1.0</td>\n",
              "      <td>0.0</td>\n",
              "      <td>1.0</td>\n",
              "      <td>0.0</td>\n",
              "      <td>0.0</td>\n",
              "      <td>0.0</td>\n",
              "      <td>0.0</td>\n",
              "      <td>1.0</td>\n",
              "      <td>1.0</td>\n",
              "      <td>0.0</td>\n",
              "      <td>0.0</td>\n",
              "      <td>0.0</td>\n",
              "      <td>0.0</td>\n",
              "      <td>1.0</td>\n",
              "      <td>0.0</td>\n",
              "      <td>0.0</td>\n",
              "      <td>1.0</td>\n",
              "      <td>1.0</td>\n",
              "      <td>0.0</td>\n",
              "      <td>0.0</td>\n",
              "      <td>1.0</td>\n",
              "      <td>0.0</td>\n",
              "      <td>0.0</td>\n",
              "      <td>0.0</td>\n",
              "      <td>1.0</td>\n",
              "      <td>0.0</td>\n",
              "      <td>1.0</td>\n",
              "      <td>0.0</td>\n",
              "      <td>0.0</td>\n",
              "      <td>0.0</td>\n",
              "      <td>0.0</td>\n",
              "      <td>0.0</td>\n",
              "      <td>1.0</td>\n",
              "      <td>0.0</td>\n",
              "      <td>0.0</td>\n",
              "      <td>0.0</td>\n",
              "      <td>45.0</td>\n",
              "      <td>42.30</td>\n",
              "      <td>1840.75</td>\n",
              "      <td>0.0</td>\n",
              "    </tr>\n",
              "    <tr>\n",
              "      <th>4</th>\n",
              "      <td>1.0</td>\n",
              "      <td>0.0</td>\n",
              "      <td>0.0</td>\n",
              "      <td>0.0</td>\n",
              "      <td>1.0</td>\n",
              "      <td>0.0</td>\n",
              "      <td>1.0</td>\n",
              "      <td>0.0</td>\n",
              "      <td>0.0</td>\n",
              "      <td>1.0</td>\n",
              "      <td>0.0</td>\n",
              "      <td>0.0</td>\n",
              "      <td>1.0</td>\n",
              "      <td>0.0</td>\n",
              "      <td>0.0</td>\n",
              "      <td>1.0</td>\n",
              "      <td>0.0</td>\n",
              "      <td>0.0</td>\n",
              "      <td>1.0</td>\n",
              "      <td>0.0</td>\n",
              "      <td>0.0</td>\n",
              "      <td>1.0</td>\n",
              "      <td>0.0</td>\n",
              "      <td>0.0</td>\n",
              "      <td>1.0</td>\n",
              "      <td>0.0</td>\n",
              "      <td>0.0</td>\n",
              "      <td>0.0</td>\n",
              "      <td>0.0</td>\n",
              "      <td>1.0</td>\n",
              "      <td>0.0</td>\n",
              "      <td>0.0</td>\n",
              "      <td>1.0</td>\n",
              "      <td>0.0</td>\n",
              "      <td>0.0</td>\n",
              "      <td>0.0</td>\n",
              "      <td>1.0</td>\n",
              "      <td>2.0</td>\n",
              "      <td>70.70</td>\n",
              "      <td>151.65</td>\n",
              "      <td>1.0</td>\n",
              "    </tr>\n",
              "  </tbody>\n",
              "</table>\n",
              "</div>"
            ],
            "text/plain": [
              "    0    1    2    3    4    5    6   ...   34   35   36    37     38       39   40\n",
              "0  0.0  1.0  0.0  1.0  0.0  0.0  1.0  ...  1.0  0.0  1.0   1.0  29.85    29.85  0.0\n",
              "1  1.0  0.0  0.0  1.0  0.0  0.0  0.0  ...  0.0  0.0  0.0  34.0  56.95  1889.50  0.0\n",
              "2  1.0  0.0  0.0  1.0  0.0  0.0  0.0  ...  0.0  0.0  1.0   2.0  53.85   108.15  1.0\n",
              "3  0.0  1.0  0.0  1.0  0.0  0.0  0.0  ...  0.0  0.0  0.0  45.0  42.30  1840.75  0.0\n",
              "4  1.0  0.0  0.0  0.0  1.0  0.0  1.0  ...  0.0  0.0  1.0   2.0  70.70   151.65  1.0\n",
              "\n",
              "[5 rows x 41 columns]"
            ]
          },
          "metadata": {
            "tags": []
          },
          "execution_count": 57
        }
      ]
    },
    {
      "cell_type": "code",
      "metadata": {
        "colab": {
          "base_uri": "https://localhost:8080/"
        },
        "id": "PuVqZbgx75x-",
        "outputId": "3cf5cb5c-3370-446b-c40a-f1ae6836686e"
      },
      "source": [
        "df.dtypes"
      ],
      "execution_count": 58,
      "outputs": [
        {
          "output_type": "execute_result",
          "data": {
            "text/plain": [
              "0     float64\n",
              "1     float64\n",
              "2     float64\n",
              "3     float64\n",
              "4     float64\n",
              "5     float64\n",
              "6     float64\n",
              "7     float64\n",
              "8     float64\n",
              "9     float64\n",
              "10    float64\n",
              "11    float64\n",
              "12    float64\n",
              "13    float64\n",
              "14    float64\n",
              "15    float64\n",
              "16    float64\n",
              "17    float64\n",
              "18    float64\n",
              "19    float64\n",
              "20    float64\n",
              "21    float64\n",
              "22    float64\n",
              "23    float64\n",
              "24    float64\n",
              "25    float64\n",
              "26    float64\n",
              "27    float64\n",
              "28    float64\n",
              "29    float64\n",
              "30    float64\n",
              "31    float64\n",
              "32    float64\n",
              "33    float64\n",
              "34    float64\n",
              "35    float64\n",
              "36    float64\n",
              "37    float64\n",
              "38    float64\n",
              "39    float64\n",
              "40    float64\n",
              "dtype: object"
            ]
          },
          "metadata": {
            "tags": []
          },
          "execution_count": 58
        }
      ]
    },
    {
      "cell_type": "markdown",
      "metadata": {
        "id": "21xug1EtYvse"
      },
      "source": [
        "**7.Seperating the Dependent and Independent Variables**"
      ]
    },
    {
      "cell_type": "code",
      "metadata": {
        "id": "RmwsqEZwY5KP"
      },
      "source": [
        "x = df.iloc[:,:-1]\n",
        "y = df.iloc[:,-1]"
      ],
      "execution_count": 59,
      "outputs": []
    },
    {
      "cell_type": "code",
      "metadata": {
        "colab": {
          "base_uri": "https://localhost:8080/",
          "height": 132
        },
        "id": "L-aHQY3jZjgH",
        "outputId": "f4b24a2a-bdf9-40a2-dc12-137de04a20b9"
      },
      "source": [
        "x.iloc[:2,:]"
      ],
      "execution_count": 60,
      "outputs": [
        {
          "output_type": "execute_result",
          "data": {
            "text/html": [
              "<div>\n",
              "<style scoped>\n",
              "    .dataframe tbody tr th:only-of-type {\n",
              "        vertical-align: middle;\n",
              "    }\n",
              "\n",
              "    .dataframe tbody tr th {\n",
              "        vertical-align: top;\n",
              "    }\n",
              "\n",
              "    .dataframe thead th {\n",
              "        text-align: right;\n",
              "    }\n",
              "</style>\n",
              "<table border=\"1\" class=\"dataframe\">\n",
              "  <thead>\n",
              "    <tr style=\"text-align: right;\">\n",
              "      <th></th>\n",
              "      <th>0</th>\n",
              "      <th>1</th>\n",
              "      <th>2</th>\n",
              "      <th>3</th>\n",
              "      <th>4</th>\n",
              "      <th>5</th>\n",
              "      <th>6</th>\n",
              "      <th>7</th>\n",
              "      <th>8</th>\n",
              "      <th>9</th>\n",
              "      <th>10</th>\n",
              "      <th>11</th>\n",
              "      <th>12</th>\n",
              "      <th>13</th>\n",
              "      <th>14</th>\n",
              "      <th>15</th>\n",
              "      <th>16</th>\n",
              "      <th>17</th>\n",
              "      <th>18</th>\n",
              "      <th>19</th>\n",
              "      <th>20</th>\n",
              "      <th>21</th>\n",
              "      <th>22</th>\n",
              "      <th>23</th>\n",
              "      <th>24</th>\n",
              "      <th>25</th>\n",
              "      <th>26</th>\n",
              "      <th>27</th>\n",
              "      <th>28</th>\n",
              "      <th>29</th>\n",
              "      <th>30</th>\n",
              "      <th>31</th>\n",
              "      <th>32</th>\n",
              "      <th>33</th>\n",
              "      <th>34</th>\n",
              "      <th>35</th>\n",
              "      <th>36</th>\n",
              "      <th>37</th>\n",
              "      <th>38</th>\n",
              "      <th>39</th>\n",
              "    </tr>\n",
              "  </thead>\n",
              "  <tbody>\n",
              "    <tr>\n",
              "      <th>0</th>\n",
              "      <td>0.0</td>\n",
              "      <td>1.0</td>\n",
              "      <td>0.0</td>\n",
              "      <td>1.0</td>\n",
              "      <td>0.0</td>\n",
              "      <td>0.0</td>\n",
              "      <td>1.0</td>\n",
              "      <td>0.0</td>\n",
              "      <td>0.0</td>\n",
              "      <td>0.0</td>\n",
              "      <td>0.0</td>\n",
              "      <td>1.0</td>\n",
              "      <td>1.0</td>\n",
              "      <td>0.0</td>\n",
              "      <td>0.0</td>\n",
              "      <td>1.0</td>\n",
              "      <td>0.0</td>\n",
              "      <td>0.0</td>\n",
              "      <td>1.0</td>\n",
              "      <td>0.0</td>\n",
              "      <td>0.0</td>\n",
              "      <td>1.0</td>\n",
              "      <td>0.0</td>\n",
              "      <td>0.0</td>\n",
              "      <td>1.0</td>\n",
              "      <td>0.0</td>\n",
              "      <td>0.0</td>\n",
              "      <td>0.0</td>\n",
              "      <td>0.0</td>\n",
              "      <td>1.0</td>\n",
              "      <td>0.0</td>\n",
              "      <td>0.0</td>\n",
              "      <td>0.0</td>\n",
              "      <td>0.0</td>\n",
              "      <td>1.0</td>\n",
              "      <td>0.0</td>\n",
              "      <td>1.0</td>\n",
              "      <td>1.0</td>\n",
              "      <td>29.85</td>\n",
              "      <td>29.85</td>\n",
              "    </tr>\n",
              "    <tr>\n",
              "      <th>1</th>\n",
              "      <td>1.0</td>\n",
              "      <td>0.0</td>\n",
              "      <td>0.0</td>\n",
              "      <td>1.0</td>\n",
              "      <td>0.0</td>\n",
              "      <td>0.0</td>\n",
              "      <td>0.0</td>\n",
              "      <td>0.0</td>\n",
              "      <td>1.0</td>\n",
              "      <td>1.0</td>\n",
              "      <td>0.0</td>\n",
              "      <td>0.0</td>\n",
              "      <td>0.0</td>\n",
              "      <td>0.0</td>\n",
              "      <td>1.0</td>\n",
              "      <td>1.0</td>\n",
              "      <td>0.0</td>\n",
              "      <td>0.0</td>\n",
              "      <td>1.0</td>\n",
              "      <td>0.0</td>\n",
              "      <td>0.0</td>\n",
              "      <td>1.0</td>\n",
              "      <td>0.0</td>\n",
              "      <td>0.0</td>\n",
              "      <td>0.0</td>\n",
              "      <td>1.0</td>\n",
              "      <td>0.0</td>\n",
              "      <td>0.0</td>\n",
              "      <td>0.0</td>\n",
              "      <td>0.0</td>\n",
              "      <td>1.0</td>\n",
              "      <td>0.0</td>\n",
              "      <td>1.0</td>\n",
              "      <td>1.0</td>\n",
              "      <td>0.0</td>\n",
              "      <td>0.0</td>\n",
              "      <td>0.0</td>\n",
              "      <td>34.0</td>\n",
              "      <td>56.95</td>\n",
              "      <td>1889.50</td>\n",
              "    </tr>\n",
              "  </tbody>\n",
              "</table>\n",
              "</div>"
            ],
            "text/plain": [
              "    0    1    2    3    4    5    6   ...   33   34   35   36    37     38       39\n",
              "0  0.0  1.0  0.0  1.0  0.0  0.0  1.0  ...  0.0  1.0  0.0  1.0   1.0  29.85    29.85\n",
              "1  1.0  0.0  0.0  1.0  0.0  0.0  0.0  ...  1.0  0.0  0.0  0.0  34.0  56.95  1889.50\n",
              "\n",
              "[2 rows x 40 columns]"
            ]
          },
          "metadata": {
            "tags": []
          },
          "execution_count": 60
        }
      ]
    },
    {
      "cell_type": "code",
      "metadata": {
        "colab": {
          "base_uri": "https://localhost:8080/"
        },
        "id": "l0pF9V-sZkPf",
        "outputId": "ff09041b-f11b-44d1-b27f-b72dcdb10b62"
      },
      "source": [
        "y[:10]"
      ],
      "execution_count": 61,
      "outputs": [
        {
          "output_type": "execute_result",
          "data": {
            "text/plain": [
              "0    0.0\n",
              "1    0.0\n",
              "2    1.0\n",
              "3    0.0\n",
              "4    1.0\n",
              "5    1.0\n",
              "6    0.0\n",
              "7    0.0\n",
              "8    1.0\n",
              "9    0.0\n",
              "Name: 40, dtype: float64"
            ]
          },
          "metadata": {
            "tags": []
          },
          "execution_count": 61
        }
      ]
    },
    {
      "cell_type": "markdown",
      "metadata": {
        "id": "nAreDVJzZ24Y"
      },
      "source": [
        "**8.Splitting the Data Set into Training and Testing Data**"
      ]
    },
    {
      "cell_type": "code",
      "metadata": {
        "id": "q4ir869iZ-LX"
      },
      "source": [
        "from sklearn.model_selection import train_test_split as tts\n",
        "x_train,x_test,y_train,y_test = tts(x,y,test_size = 0.25,random_state=0)"
      ],
      "execution_count": 62,
      "outputs": []
    },
    {
      "cell_type": "markdown",
      "metadata": {
        "id": "cyjl_XxAaFkB"
      },
      "source": [
        "**9.Feature Scaling**"
      ]
    },
    {
      "cell_type": "code",
      "metadata": {
        "id": "v0B3r7DAaJA-"
      },
      "source": [
        "# Note that we are Scaling Features after splitting the data in order to avoid Information leakage from test set to Training set #\n",
        "from sklearn.preprocessing import StandardScaler\n",
        "sc = StandardScaler()\n",
        "x_train = sc.fit_transform(x_train)\n",
        "x_test = sc.transform(x_test)"
      ],
      "execution_count": 63,
      "outputs": []
    },
    {
      "cell_type": "code",
      "metadata": {
        "colab": {
          "base_uri": "https://localhost:8080/"
        },
        "id": "9goX6V1JanxS",
        "outputId": "2dbb0200-ea5b-4763-af5e-612d782d0335"
      },
      "source": [
        "x_train[1,:]"
      ],
      "execution_count": 64,
      "outputs": [
        {
          "output_type": "execute_result",
          "data": {
            "text/plain": [
              "array([ 1.03507128, -0.32584967, -0.85313407,  1.38151739, -0.88569716,\n",
              "       -0.52579659,  1.0102762 , -0.52579659, -0.63681619,  1.12992218,\n",
              "       -0.52579659, -0.7244493 , -0.88910544, -0.52579659,  1.38733394,\n",
              "       -0.9962207 , -0.52579659,  1.58271184,  1.22320043, -0.52579659,\n",
              "       -0.7875566 , -0.81141774, -0.52579659,  1.26013772, -1.11271541,\n",
              "        1.93318901, -0.55533533,  1.88297929, -0.52256851, -0.7090153 ,\n",
              "       -0.5480371 ,  2.29633603,  0.32584967,  1.0045541 , -0.96941854,\n",
              "       -0.65654284, -1.21839152,  0.88320961,  0.01784008,  0.55540695])"
            ]
          },
          "metadata": {
            "tags": []
          },
          "execution_count": 64
        }
      ]
    },
    {
      "cell_type": "markdown",
      "metadata": {
        "id": "oeK0Uoj_a4aH"
      },
      "source": [
        "**10.Building the Artificial Neural Network and adding Layers**"
      ]
    },
    {
      "cell_type": "code",
      "metadata": {
        "id": "zacIO_D_a5tP"
      },
      "source": [
        "# We are Using 3 Layer Neural Network with Rectifier function as Activation Function for the Hidden Layers #\n",
        "ann = tf.keras.models.Sequential()\n",
        "ann.add(tf.keras.layers.Dense(units = 6 , activation = 'relu'))\n",
        "ann.add(tf.keras.layers.Dense(units = 6 , activation = 'relu'))\n",
        "ann.add(tf.keras.layers.Dense(units = 6 , activation = 'relu'))\n",
        "# Since the output is Binanry , we are using the Sigmoid Activation function that predicts the probablity of the binanry outcome in the Output Layer #\n",
        "ann.add(tf.keras.layers.Dense(units = 1 , activation = 'sigmoid'))"
      ],
      "execution_count": 65,
      "outputs": []
    },
    {
      "cell_type": "markdown",
      "metadata": {
        "id": "59fzts1JfLyY"
      },
      "source": [
        "**11.Compiling and Training ANN**"
      ]
    },
    {
      "cell_type": "code",
      "metadata": {
        "colab": {
          "base_uri": "https://localhost:8080/"
        },
        "id": "KA3fXuBEfQ-3",
        "outputId": "48096e6d-001f-448c-8702-e3b2dd7bbd06"
      },
      "source": [
        "# We are choosing Stochastic Gradient Descent to Optimize Weights #\n",
        "ann.compile(optimizer = 'adam',loss = 'BinaryCrossentropy',metrics = ['accuracy'])\n",
        "# Training Ann by Batch Learning #\n",
        "ann.fit(x_train,y_train,batch_size=32,epochs = 50)"
      ],
      "execution_count": 66,
      "outputs": [
        {
          "output_type": "stream",
          "text": [
            "Epoch 1/50\n",
            "166/166 [==============================] - 1s 2ms/step - loss: 0.5931 - accuracy: 0.6842\n",
            "Epoch 2/50\n",
            "166/166 [==============================] - 0s 2ms/step - loss: 0.4725 - accuracy: 0.7638\n",
            "Epoch 3/50\n",
            "166/166 [==============================] - 0s 2ms/step - loss: 0.4548 - accuracy: 0.7839\n",
            "Epoch 4/50\n",
            "166/166 [==============================] - 0s 2ms/step - loss: 0.4524 - accuracy: 0.7778\n",
            "Epoch 5/50\n",
            "166/166 [==============================] - 0s 2ms/step - loss: 0.4309 - accuracy: 0.7910\n",
            "Epoch 6/50\n",
            "166/166 [==============================] - 0s 2ms/step - loss: 0.4263 - accuracy: 0.8026\n",
            "Epoch 7/50\n",
            "166/166 [==============================] - 0s 1ms/step - loss: 0.4201 - accuracy: 0.7942\n",
            "Epoch 8/50\n",
            "166/166 [==============================] - 0s 1ms/step - loss: 0.4238 - accuracy: 0.7989\n",
            "Epoch 9/50\n",
            "166/166 [==============================] - 0s 1ms/step - loss: 0.4129 - accuracy: 0.8137\n",
            "Epoch 10/50\n",
            "166/166 [==============================] - 0s 1ms/step - loss: 0.4097 - accuracy: 0.8086\n",
            "Epoch 11/50\n",
            "166/166 [==============================] - 0s 1ms/step - loss: 0.4093 - accuracy: 0.8074\n",
            "Epoch 12/50\n",
            "166/166 [==============================] - 0s 1ms/step - loss: 0.3975 - accuracy: 0.8161\n",
            "Epoch 13/50\n",
            "166/166 [==============================] - 0s 1ms/step - loss: 0.4137 - accuracy: 0.8085\n",
            "Epoch 14/50\n",
            "166/166 [==============================] - 0s 1ms/step - loss: 0.4059 - accuracy: 0.8203\n",
            "Epoch 15/50\n",
            "166/166 [==============================] - 0s 2ms/step - loss: 0.4086 - accuracy: 0.8070\n",
            "Epoch 16/50\n",
            "166/166 [==============================] - 0s 2ms/step - loss: 0.4117 - accuracy: 0.8030\n",
            "Epoch 17/50\n",
            "166/166 [==============================] - 0s 2ms/step - loss: 0.3992 - accuracy: 0.8167\n",
            "Epoch 18/50\n",
            "166/166 [==============================] - 0s 2ms/step - loss: 0.3982 - accuracy: 0.8128\n",
            "Epoch 19/50\n",
            "166/166 [==============================] - 0s 1ms/step - loss: 0.4109 - accuracy: 0.8059\n",
            "Epoch 20/50\n",
            "166/166 [==============================] - 0s 2ms/step - loss: 0.4026 - accuracy: 0.8100\n",
            "Epoch 21/50\n",
            "166/166 [==============================] - 0s 1ms/step - loss: 0.3972 - accuracy: 0.8168\n",
            "Epoch 22/50\n",
            "166/166 [==============================] - 0s 2ms/step - loss: 0.4138 - accuracy: 0.8050\n",
            "Epoch 23/50\n",
            "166/166 [==============================] - 0s 1ms/step - loss: 0.3948 - accuracy: 0.8144\n",
            "Epoch 24/50\n",
            "166/166 [==============================] - 0s 1ms/step - loss: 0.3975 - accuracy: 0.8136\n",
            "Epoch 25/50\n",
            "166/166 [==============================] - 0s 2ms/step - loss: 0.3897 - accuracy: 0.8179\n",
            "Epoch 26/50\n",
            "166/166 [==============================] - 0s 1ms/step - loss: 0.3917 - accuracy: 0.8169\n",
            "Epoch 27/50\n",
            "166/166 [==============================] - 0s 2ms/step - loss: 0.4063 - accuracy: 0.8130\n",
            "Epoch 28/50\n",
            "166/166 [==============================] - 0s 2ms/step - loss: 0.3988 - accuracy: 0.8119\n",
            "Epoch 29/50\n",
            "166/166 [==============================] - 0s 1ms/step - loss: 0.4035 - accuracy: 0.8167\n",
            "Epoch 30/50\n",
            "166/166 [==============================] - 0s 2ms/step - loss: 0.3904 - accuracy: 0.8221\n",
            "Epoch 31/50\n",
            "166/166 [==============================] - 0s 1ms/step - loss: 0.4129 - accuracy: 0.8059\n",
            "Epoch 32/50\n",
            "166/166 [==============================] - 0s 2ms/step - loss: 0.3944 - accuracy: 0.8161\n",
            "Epoch 33/50\n",
            "166/166 [==============================] - 0s 1ms/step - loss: 0.4110 - accuracy: 0.7993\n",
            "Epoch 34/50\n",
            "166/166 [==============================] - 0s 1ms/step - loss: 0.3964 - accuracy: 0.8065\n",
            "Epoch 35/50\n",
            "166/166 [==============================] - 0s 1ms/step - loss: 0.3983 - accuracy: 0.8170\n",
            "Epoch 36/50\n",
            "166/166 [==============================] - 0s 1ms/step - loss: 0.3917 - accuracy: 0.8164\n",
            "Epoch 37/50\n",
            "166/166 [==============================] - 0s 2ms/step - loss: 0.3984 - accuracy: 0.8152\n",
            "Epoch 38/50\n",
            "166/166 [==============================] - 0s 1ms/step - loss: 0.3954 - accuracy: 0.8148\n",
            "Epoch 39/50\n",
            "166/166 [==============================] - 0s 1ms/step - loss: 0.3936 - accuracy: 0.8205\n",
            "Epoch 40/50\n",
            "166/166 [==============================] - 0s 1ms/step - loss: 0.3901 - accuracy: 0.8154\n",
            "Epoch 41/50\n",
            "166/166 [==============================] - 0s 1ms/step - loss: 0.3866 - accuracy: 0.8220\n",
            "Epoch 42/50\n",
            "166/166 [==============================] - 0s 1ms/step - loss: 0.3858 - accuracy: 0.8193\n",
            "Epoch 43/50\n",
            "166/166 [==============================] - 0s 1ms/step - loss: 0.4053 - accuracy: 0.8064\n",
            "Epoch 44/50\n",
            "166/166 [==============================] - 0s 1ms/step - loss: 0.4074 - accuracy: 0.8092\n",
            "Epoch 45/50\n",
            "166/166 [==============================] - 0s 1ms/step - loss: 0.4061 - accuracy: 0.8094\n",
            "Epoch 46/50\n",
            "166/166 [==============================] - 0s 2ms/step - loss: 0.3911 - accuracy: 0.8183\n",
            "Epoch 47/50\n",
            "166/166 [==============================] - 0s 1ms/step - loss: 0.4025 - accuracy: 0.8143\n",
            "Epoch 48/50\n",
            "166/166 [==============================] - 0s 1ms/step - loss: 0.4034 - accuracy: 0.8066\n",
            "Epoch 49/50\n",
            "166/166 [==============================] - 0s 1ms/step - loss: 0.3900 - accuracy: 0.8218\n",
            "Epoch 50/50\n",
            "166/166 [==============================] - 0s 1ms/step - loss: 0.3937 - accuracy: 0.8174\n"
          ],
          "name": "stdout"
        },
        {
          "output_type": "execute_result",
          "data": {
            "text/plain": [
              "<tensorflow.python.keras.callbacks.History at 0x7f327c22b950>"
            ]
          },
          "metadata": {
            "tags": []
          },
          "execution_count": 66
        }
      ]
    },
    {
      "cell_type": "markdown",
      "metadata": {
        "id": "Hw5bB6r4gK3M"
      },
      "source": [
        "**12.Predicting the Test Set Results of ANN**"
      ]
    },
    {
      "cell_type": "code",
      "metadata": {
        "colab": {
          "base_uri": "https://localhost:8080/"
        },
        "id": "P-bPRrBZgOM_",
        "outputId": "b3495383-c33b-4843-fb2e-b3a38a874c8e"
      },
      "source": [
        "y_pred = ann.predict(x_test)\n",
        "y_pred = (y_pred > 0.5) \n",
        "# We assume that if the Probablilty of the y_pred > 0.5 , it indicates Customer Churn and Vice Versa #\n",
        "y_pred[:10]\n",
        "#Note that: False indicates that Customer will not Churn and True Indicates the Vice Versa #"
      ],
      "execution_count": 67,
      "outputs": [
        {
          "output_type": "execute_result",
          "data": {
            "text/plain": [
              "array([[False],\n",
              "       [False],\n",
              "       [False],\n",
              "       [False],\n",
              "       [False],\n",
              "       [ True],\n",
              "       [False],\n",
              "       [ True],\n",
              "       [False],\n",
              "       [False]])"
            ]
          },
          "metadata": {
            "tags": []
          },
          "execution_count": 67
        }
      ]
    },
    {
      "cell_type": "code",
      "metadata": {
        "colab": {
          "base_uri": "https://localhost:8080/"
        },
        "id": "QlYFsVgghZwn",
        "outputId": "2db93770-9e9a-4fae-8260-982ca7cbbe09"
      },
      "source": [
        "# Accuracy Matrix potraying the Predicted and Actual results #\n",
        "y_test = (y_test > 0.5)\n",
        "y_test = np.array(y_test)\n",
        "y_pred = y_pred.reshape(len(y_pred),1)\n",
        "y_test = y_test.reshape(len(y_test),1)\n",
        "Accuracy_Matrix = np.concatenate((y_pred,y_test),1)\n",
        "Accuracy_Matrix[:20]"
      ],
      "execution_count": 68,
      "outputs": [
        {
          "output_type": "execute_result",
          "data": {
            "text/plain": [
              "array([[False, False],\n",
              "       [False, False],\n",
              "       [False, False],\n",
              "       [False, False],\n",
              "       [False, False],\n",
              "       [ True,  True],\n",
              "       [False, False],\n",
              "       [ True,  True],\n",
              "       [False, False],\n",
              "       [False, False],\n",
              "       [False, False],\n",
              "       [False, False],\n",
              "       [False, False],\n",
              "       [ True, False],\n",
              "       [False, False],\n",
              "       [False,  True],\n",
              "       [False, False],\n",
              "       [False, False],\n",
              "       [False, False],\n",
              "       [ True, False]])"
            ]
          },
          "metadata": {
            "tags": []
          },
          "execution_count": 68
        }
      ]
    },
    {
      "cell_type": "markdown",
      "metadata": {
        "id": "d3fUR-O5iCrf"
      },
      "source": [
        "**13.Confusion Matrix and Accuracy Score**"
      ]
    },
    {
      "cell_type": "code",
      "metadata": {
        "colab": {
          "base_uri": "https://localhost:8080/"
        },
        "id": "TjKj5cQGiFh7",
        "outputId": "ca26919d-59c0-42a6-e063-0546a4527d1e"
      },
      "source": [
        "from sklearn.metrics import  confusion_matrix , accuracy_score\n",
        "cm = confusion_matrix(y_test,y_pred)\n",
        "print(cm)\n",
        "accuracy_score(y_test,y_pred)"
      ],
      "execution_count": 69,
      "outputs": [
        {
          "output_type": "stream",
          "text": [
            "[[1181  117]\n",
            " [ 249  214]]\n"
          ],
          "name": "stdout"
        },
        {
          "output_type": "execute_result",
          "data": {
            "text/plain": [
              "0.7921635434412265"
            ]
          },
          "metadata": {
            "tags": []
          },
          "execution_count": 69
        }
      ]
    }
  ]
}
