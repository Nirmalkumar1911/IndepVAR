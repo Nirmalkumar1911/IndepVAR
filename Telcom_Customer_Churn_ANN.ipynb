{
  "nbformat": 4,
  "nbformat_minor": 0,
  "metadata": {
    "colab": {
      "name": "Telcom_Customer_Churn_ANN.ipynb",
      "provenance": [],
      "authorship_tag": "ABX9TyNRmfHxtCdDW91Ws4FawRyw",
      "include_colab_link": true
    },
    "kernelspec": {
      "name": "python3",
      "display_name": "Python 3"
    },
    "language_info": {
      "name": "python"
    }
  },
  "cells": [
    {
      "cell_type": "markdown",
      "metadata": {
        "id": "view-in-github",
        "colab_type": "text"
      },
      "source": [
        "<a href=\"https://colab.research.google.com/github/Nirmalkumar1911/IndepVAR/blob/main/Telcom_Customer_Churn_ANN.ipynb\" target=\"_parent\"><img src=\"https://colab.research.google.com/assets/colab-badge.svg\" alt=\"Open In Colab\"/></a>"
      ]
    },
    {
      "cell_type": "markdown",
      "metadata": {
        "id": "3EjTcF7MBgI2"
      },
      "source": [
        "# Churn Modelling using Artificial Neural Network\n",
        "\n"
      ]
    },
    {
      "cell_type": "markdown",
      "metadata": {
        "id": "I2PrUwIaCACU"
      },
      "source": [
        "**1.Importing Libraries**"
      ]
    },
    {
      "cell_type": "code",
      "metadata": {
        "id": "qOtwhQW4-7JS"
      },
      "source": [
        "import pandas as pd\n",
        "import numpy as np\n",
        "import matplotlib.pyplot as plt\n",
        "import tensorflow as tf"
      ],
      "execution_count": 1,
      "outputs": []
    },
    {
      "cell_type": "markdown",
      "metadata": {
        "id": "ma73zP5xCQvE"
      },
      "source": [
        "**2.Importing Data and Exploratory Data Analysis**"
      ]
    },
    {
      "cell_type": "code",
      "metadata": {
        "colab": {
          "base_uri": "https://localhost:8080/",
          "height": 313
        },
        "id": "U4cV3f7GCYMT",
        "outputId": "a75e934a-04b8-4f6a-901a-767ac6910f27"
      },
      "source": [
        "dataset = pd.read_excel('Telco-Customer-Churn.xlsx')\n",
        "dataset.head()"
      ],
      "execution_count": 2,
      "outputs": [
        {
          "output_type": "execute_result",
          "data": {
            "text/html": [
              "<div>\n",
              "<style scoped>\n",
              "    .dataframe tbody tr th:only-of-type {\n",
              "        vertical-align: middle;\n",
              "    }\n",
              "\n",
              "    .dataframe tbody tr th {\n",
              "        vertical-align: top;\n",
              "    }\n",
              "\n",
              "    .dataframe thead th {\n",
              "        text-align: right;\n",
              "    }\n",
              "</style>\n",
              "<table border=\"1\" class=\"dataframe\">\n",
              "  <thead>\n",
              "    <tr style=\"text-align: right;\">\n",
              "      <th></th>\n",
              "      <th>customerID</th>\n",
              "      <th>gender</th>\n",
              "      <th>SeniorCitizen</th>\n",
              "      <th>Partner</th>\n",
              "      <th>Dependents</th>\n",
              "      <th>tenure</th>\n",
              "      <th>PhoneService</th>\n",
              "      <th>MultipleLines</th>\n",
              "      <th>InternetService</th>\n",
              "      <th>OnlineSecurity</th>\n",
              "      <th>OnlineBackup</th>\n",
              "      <th>DeviceProtection</th>\n",
              "      <th>TechSupport</th>\n",
              "      <th>StreamingTV</th>\n",
              "      <th>StreamingMovies</th>\n",
              "      <th>Contract</th>\n",
              "      <th>PaperlessBilling</th>\n",
              "      <th>PaymentMethod</th>\n",
              "      <th>MonthlyCharges</th>\n",
              "      <th>TotalCharges</th>\n",
              "      <th>Churn</th>\n",
              "    </tr>\n",
              "  </thead>\n",
              "  <tbody>\n",
              "    <tr>\n",
              "      <th>0</th>\n",
              "      <td>7590-VHVEG</td>\n",
              "      <td>Female</td>\n",
              "      <td>0</td>\n",
              "      <td>Yes</td>\n",
              "      <td>No</td>\n",
              "      <td>1</td>\n",
              "      <td>No</td>\n",
              "      <td>No phone service</td>\n",
              "      <td>DSL</td>\n",
              "      <td>No</td>\n",
              "      <td>Yes</td>\n",
              "      <td>No</td>\n",
              "      <td>No</td>\n",
              "      <td>No</td>\n",
              "      <td>No</td>\n",
              "      <td>Month-to-month</td>\n",
              "      <td>Yes</td>\n",
              "      <td>Electronic check</td>\n",
              "      <td>29.85</td>\n",
              "      <td>29.85</td>\n",
              "      <td>No</td>\n",
              "    </tr>\n",
              "    <tr>\n",
              "      <th>1</th>\n",
              "      <td>5575-GNVDE</td>\n",
              "      <td>Male</td>\n",
              "      <td>0</td>\n",
              "      <td>No</td>\n",
              "      <td>No</td>\n",
              "      <td>34</td>\n",
              "      <td>Yes</td>\n",
              "      <td>No</td>\n",
              "      <td>DSL</td>\n",
              "      <td>Yes</td>\n",
              "      <td>No</td>\n",
              "      <td>Yes</td>\n",
              "      <td>No</td>\n",
              "      <td>No</td>\n",
              "      <td>No</td>\n",
              "      <td>One year</td>\n",
              "      <td>No</td>\n",
              "      <td>Mailed check</td>\n",
              "      <td>56.95</td>\n",
              "      <td>1889.5</td>\n",
              "      <td>No</td>\n",
              "    </tr>\n",
              "    <tr>\n",
              "      <th>2</th>\n",
              "      <td>3668-QPYBK</td>\n",
              "      <td>Male</td>\n",
              "      <td>0</td>\n",
              "      <td>No</td>\n",
              "      <td>No</td>\n",
              "      <td>2</td>\n",
              "      <td>Yes</td>\n",
              "      <td>No</td>\n",
              "      <td>DSL</td>\n",
              "      <td>Yes</td>\n",
              "      <td>Yes</td>\n",
              "      <td>No</td>\n",
              "      <td>No</td>\n",
              "      <td>No</td>\n",
              "      <td>No</td>\n",
              "      <td>Month-to-month</td>\n",
              "      <td>Yes</td>\n",
              "      <td>Mailed check</td>\n",
              "      <td>53.85</td>\n",
              "      <td>108.15</td>\n",
              "      <td>Yes</td>\n",
              "    </tr>\n",
              "    <tr>\n",
              "      <th>3</th>\n",
              "      <td>7795-CFOCW</td>\n",
              "      <td>Male</td>\n",
              "      <td>0</td>\n",
              "      <td>No</td>\n",
              "      <td>No</td>\n",
              "      <td>45</td>\n",
              "      <td>No</td>\n",
              "      <td>No phone service</td>\n",
              "      <td>DSL</td>\n",
              "      <td>Yes</td>\n",
              "      <td>No</td>\n",
              "      <td>Yes</td>\n",
              "      <td>Yes</td>\n",
              "      <td>No</td>\n",
              "      <td>No</td>\n",
              "      <td>One year</td>\n",
              "      <td>No</td>\n",
              "      <td>Bank transfer (automatic)</td>\n",
              "      <td>42.30</td>\n",
              "      <td>1840.75</td>\n",
              "      <td>No</td>\n",
              "    </tr>\n",
              "    <tr>\n",
              "      <th>4</th>\n",
              "      <td>9237-HQITU</td>\n",
              "      <td>Female</td>\n",
              "      <td>0</td>\n",
              "      <td>No</td>\n",
              "      <td>No</td>\n",
              "      <td>2</td>\n",
              "      <td>Yes</td>\n",
              "      <td>No</td>\n",
              "      <td>Fiber optic</td>\n",
              "      <td>No</td>\n",
              "      <td>No</td>\n",
              "      <td>No</td>\n",
              "      <td>No</td>\n",
              "      <td>No</td>\n",
              "      <td>No</td>\n",
              "      <td>Month-to-month</td>\n",
              "      <td>Yes</td>\n",
              "      <td>Electronic check</td>\n",
              "      <td>70.70</td>\n",
              "      <td>151.65</td>\n",
              "      <td>Yes</td>\n",
              "    </tr>\n",
              "  </tbody>\n",
              "</table>\n",
              "</div>"
            ],
            "text/plain": [
              "   customerID  gender  SeniorCitizen  ... MonthlyCharges TotalCharges  Churn\n",
              "0  7590-VHVEG  Female              0  ...          29.85        29.85     No\n",
              "1  5575-GNVDE    Male              0  ...          56.95       1889.5     No\n",
              "2  3668-QPYBK    Male              0  ...          53.85       108.15    Yes\n",
              "3  7795-CFOCW    Male              0  ...          42.30      1840.75     No\n",
              "4  9237-HQITU  Female              0  ...          70.70       151.65    Yes\n",
              "\n",
              "[5 rows x 21 columns]"
            ]
          },
          "metadata": {
            "tags": []
          },
          "execution_count": 2
        }
      ]
    },
    {
      "cell_type": "code",
      "metadata": {
        "colab": {
          "base_uri": "https://localhost:8080/"
        },
        "id": "fAyraXTl7ITN",
        "outputId": "249c4882-63d2-4cbb-c965-96c9536496c9"
      },
      "source": [
        "dataset.info()"
      ],
      "execution_count": 3,
      "outputs": [
        {
          "output_type": "stream",
          "text": [
            "<class 'pandas.core.frame.DataFrame'>\n",
            "RangeIndex: 7043 entries, 0 to 7042\n",
            "Data columns (total 21 columns):\n",
            " #   Column            Non-Null Count  Dtype  \n",
            "---  ------            --------------  -----  \n",
            " 0   customerID        7043 non-null   object \n",
            " 1   gender            7043 non-null   object \n",
            " 2   SeniorCitizen     7043 non-null   int64  \n",
            " 3   Partner           7043 non-null   object \n",
            " 4   Dependents        7043 non-null   object \n",
            " 5   tenure            7043 non-null   int64  \n",
            " 6   PhoneService      7043 non-null   object \n",
            " 7   MultipleLines     7043 non-null   object \n",
            " 8   InternetService   7043 non-null   object \n",
            " 9   OnlineSecurity    7043 non-null   object \n",
            " 10  OnlineBackup      7043 non-null   object \n",
            " 11  DeviceProtection  7043 non-null   object \n",
            " 12  TechSupport       7043 non-null   object \n",
            " 13  StreamingTV       7043 non-null   object \n",
            " 14  StreamingMovies   7043 non-null   object \n",
            " 15  Contract          7043 non-null   object \n",
            " 16  PaperlessBilling  7043 non-null   object \n",
            " 17  PaymentMethod     7043 non-null   object \n",
            " 18  MonthlyCharges    7043 non-null   float64\n",
            " 19  TotalCharges      7043 non-null   object \n",
            " 20  Churn             7043 non-null   object \n",
            "dtypes: float64(1), int64(2), object(18)\n",
            "memory usage: 1.1+ MB\n"
          ],
          "name": "stdout"
        }
      ]
    },
    {
      "cell_type": "code",
      "metadata": {
        "colab": {
          "base_uri": "https://localhost:8080/"
        },
        "id": "gKRh6_Kr70Ro",
        "outputId": "be0f565b-65fb-4f2f-db53-26a6497a407d"
      },
      "source": [
        "dataset.dtypes"
      ],
      "execution_count": 4,
      "outputs": [
        {
          "output_type": "execute_result",
          "data": {
            "text/plain": [
              "customerID           object\n",
              "gender               object\n",
              "SeniorCitizen         int64\n",
              "Partner              object\n",
              "Dependents           object\n",
              "tenure                int64\n",
              "PhoneService         object\n",
              "MultipleLines        object\n",
              "InternetService      object\n",
              "OnlineSecurity       object\n",
              "OnlineBackup         object\n",
              "DeviceProtection     object\n",
              "TechSupport          object\n",
              "StreamingTV          object\n",
              "StreamingMovies      object\n",
              "Contract             object\n",
              "PaperlessBilling     object\n",
              "PaymentMethod        object\n",
              "MonthlyCharges      float64\n",
              "TotalCharges         object\n",
              "Churn                object\n",
              "dtype: object"
            ]
          },
          "metadata": {
            "tags": []
          },
          "execution_count": 4
        }
      ]
    },
    {
      "cell_type": "code",
      "metadata": {
        "colab": {
          "base_uri": "https://localhost:8080/"
        },
        "id": "mJ6chLn_8Pk0",
        "outputId": "b866fbda-df70-4e71-b5b8-34eba862620b"
      },
      "source": [
        "dataset.shape"
      ],
      "execution_count": 5,
      "outputs": [
        {
          "output_type": "execute_result",
          "data": {
            "text/plain": [
              "(7043, 21)"
            ]
          },
          "metadata": {
            "tags": []
          },
          "execution_count": 5
        }
      ]
    },
    {
      "cell_type": "markdown",
      "metadata": {
        "id": "kAkE9Mfv_wPN"
      },
      "source": [
        "**3.Seperating the Dependent and Independent Variables**"
      ]
    },
    {
      "cell_type": "code",
      "metadata": {
        "colab": {
          "base_uri": "https://localhost:8080/",
          "height": 149
        },
        "id": "9jT19i2cCtQN",
        "outputId": "2a870e42-cc26-4a88-bfe1-93bc2bd1e2fb"
      },
      "source": [
        "# Since the Customer Id is unnessecary for prediction we can just Ignore it #\n",
        "x = dataset.iloc[:,1:-1]\n",
        "x.iloc[:2,:]"
      ],
      "execution_count": 6,
      "outputs": [
        {
          "output_type": "execute_result",
          "data": {
            "text/html": [
              "<div>\n",
              "<style scoped>\n",
              "    .dataframe tbody tr th:only-of-type {\n",
              "        vertical-align: middle;\n",
              "    }\n",
              "\n",
              "    .dataframe tbody tr th {\n",
              "        vertical-align: top;\n",
              "    }\n",
              "\n",
              "    .dataframe thead th {\n",
              "        text-align: right;\n",
              "    }\n",
              "</style>\n",
              "<table border=\"1\" class=\"dataframe\">\n",
              "  <thead>\n",
              "    <tr style=\"text-align: right;\">\n",
              "      <th></th>\n",
              "      <th>gender</th>\n",
              "      <th>SeniorCitizen</th>\n",
              "      <th>Partner</th>\n",
              "      <th>Dependents</th>\n",
              "      <th>tenure</th>\n",
              "      <th>PhoneService</th>\n",
              "      <th>MultipleLines</th>\n",
              "      <th>InternetService</th>\n",
              "      <th>OnlineSecurity</th>\n",
              "      <th>OnlineBackup</th>\n",
              "      <th>DeviceProtection</th>\n",
              "      <th>TechSupport</th>\n",
              "      <th>StreamingTV</th>\n",
              "      <th>StreamingMovies</th>\n",
              "      <th>Contract</th>\n",
              "      <th>PaperlessBilling</th>\n",
              "      <th>PaymentMethod</th>\n",
              "      <th>MonthlyCharges</th>\n",
              "      <th>TotalCharges</th>\n",
              "    </tr>\n",
              "  </thead>\n",
              "  <tbody>\n",
              "    <tr>\n",
              "      <th>0</th>\n",
              "      <td>Female</td>\n",
              "      <td>0</td>\n",
              "      <td>Yes</td>\n",
              "      <td>No</td>\n",
              "      <td>1</td>\n",
              "      <td>No</td>\n",
              "      <td>No phone service</td>\n",
              "      <td>DSL</td>\n",
              "      <td>No</td>\n",
              "      <td>Yes</td>\n",
              "      <td>No</td>\n",
              "      <td>No</td>\n",
              "      <td>No</td>\n",
              "      <td>No</td>\n",
              "      <td>Month-to-month</td>\n",
              "      <td>Yes</td>\n",
              "      <td>Electronic check</td>\n",
              "      <td>29.85</td>\n",
              "      <td>29.85</td>\n",
              "    </tr>\n",
              "    <tr>\n",
              "      <th>1</th>\n",
              "      <td>Male</td>\n",
              "      <td>0</td>\n",
              "      <td>No</td>\n",
              "      <td>No</td>\n",
              "      <td>34</td>\n",
              "      <td>Yes</td>\n",
              "      <td>No</td>\n",
              "      <td>DSL</td>\n",
              "      <td>Yes</td>\n",
              "      <td>No</td>\n",
              "      <td>Yes</td>\n",
              "      <td>No</td>\n",
              "      <td>No</td>\n",
              "      <td>No</td>\n",
              "      <td>One year</td>\n",
              "      <td>No</td>\n",
              "      <td>Mailed check</td>\n",
              "      <td>56.95</td>\n",
              "      <td>1889.5</td>\n",
              "    </tr>\n",
              "  </tbody>\n",
              "</table>\n",
              "</div>"
            ],
            "text/plain": [
              "   gender  SeniorCitizen Partner  ...     PaymentMethod  MonthlyCharges TotalCharges\n",
              "0  Female              0     Yes  ...  Electronic check           29.85        29.85\n",
              "1    Male              0      No  ...      Mailed check           56.95       1889.5\n",
              "\n",
              "[2 rows x 19 columns]"
            ]
          },
          "metadata": {
            "tags": []
          },
          "execution_count": 6
        }
      ]
    },
    {
      "cell_type": "code",
      "metadata": {
        "colab": {
          "base_uri": "https://localhost:8080/"
        },
        "id": "Nc38ZUgbDmnq",
        "outputId": "b6b4bc7c-59e4-4c1b-f063-08db9a6f3de6"
      },
      "source": [
        "y = dataset.iloc[:,-1].values\n",
        "y[:10]"
      ],
      "execution_count": 7,
      "outputs": [
        {
          "output_type": "execute_result",
          "data": {
            "text/plain": [
              "array(['No', 'No', 'Yes', 'No', 'Yes', 'Yes', 'No', 'No', 'Yes', 'No'],\n",
              "      dtype=object)"
            ]
          },
          "metadata": {
            "tags": []
          },
          "execution_count": 7
        }
      ]
    },
    {
      "cell_type": "markdown",
      "metadata": {
        "id": "zCVeGaVWFJgs"
      },
      "source": [
        "**4.Encoding the Categorical Variables**"
      ]
    },
    {
      "cell_type": "code",
      "metadata": {
        "id": "q_ik9LdCFSDb"
      },
      "source": [
        "from sklearn.preprocessing import LabelEncoder\n",
        "cols = ['gender','Partner','Dependents','PhoneService','PaperlessBilling']\n",
        "x[cols] = x[cols].apply(LabelEncoder().fit_transform)"
      ],
      "execution_count": 8,
      "outputs": []
    },
    {
      "cell_type": "code",
      "metadata": {
        "id": "-zB3oApdK74R"
      },
      "source": [
        "from sklearn.preprocessing import OneHotEncoder\n",
        "from sklearn.compose import ColumnTransformer\n",
        "ct = ColumnTransformer(transformers=[('encoder',OneHotEncoder(),[6,7,8,9,10,11,12,13,14,16])],remainder='passthrough')\n",
        "x = np.array(ct.fit_transform(x))\n"
      ],
      "execution_count": 9,
      "outputs": []
    },
    {
      "cell_type": "code",
      "metadata": {
        "id": "lB3V_H3rQon3"
      },
      "source": [
        "le = LabelEncoder()\n",
        "y = le.fit_transform(y)"
      ],
      "execution_count": 10,
      "outputs": []
    },
    {
      "cell_type": "code",
      "metadata": {
        "colab": {
          "base_uri": "https://localhost:8080/"
        },
        "id": "rtzmx5OtCjV8",
        "outputId": "b35a5eb4-5615-4fc1-dc79-98d427838ca1"
      },
      "source": [
        "y[:10]"
      ],
      "execution_count": 11,
      "outputs": [
        {
          "output_type": "execute_result",
          "data": {
            "text/plain": [
              "array([0, 0, 1, 0, 1, 1, 0, 0, 1, 0])"
            ]
          },
          "metadata": {
            "tags": []
          },
          "execution_count": 11
        }
      ]
    },
    {
      "cell_type": "code",
      "metadata": {
        "id": "AXDlZccjA7BF"
      },
      "source": [
        "x = pd.DataFrame(x)"
      ],
      "execution_count": 12,
      "outputs": []
    },
    {
      "cell_type": "code",
      "metadata": {
        "colab": {
          "base_uri": "https://localhost:8080/",
          "height": 226
        },
        "id": "ec12clXgCNXP",
        "outputId": "41cdb9ab-58d3-46a4-e26d-41e8d47cbba1"
      },
      "source": [
        "x.iloc[:5,:]"
      ],
      "execution_count": 13,
      "outputs": [
        {
          "output_type": "execute_result",
          "data": {
            "text/html": [
              "<div>\n",
              "<style scoped>\n",
              "    .dataframe tbody tr th:only-of-type {\n",
              "        vertical-align: middle;\n",
              "    }\n",
              "\n",
              "    .dataframe tbody tr th {\n",
              "        vertical-align: top;\n",
              "    }\n",
              "\n",
              "    .dataframe thead th {\n",
              "        text-align: right;\n",
              "    }\n",
              "</style>\n",
              "<table border=\"1\" class=\"dataframe\">\n",
              "  <thead>\n",
              "    <tr style=\"text-align: right;\">\n",
              "      <th></th>\n",
              "      <th>0</th>\n",
              "      <th>1</th>\n",
              "      <th>2</th>\n",
              "      <th>3</th>\n",
              "      <th>4</th>\n",
              "      <th>5</th>\n",
              "      <th>6</th>\n",
              "      <th>7</th>\n",
              "      <th>8</th>\n",
              "      <th>9</th>\n",
              "      <th>10</th>\n",
              "      <th>11</th>\n",
              "      <th>12</th>\n",
              "      <th>13</th>\n",
              "      <th>14</th>\n",
              "      <th>15</th>\n",
              "      <th>16</th>\n",
              "      <th>17</th>\n",
              "      <th>18</th>\n",
              "      <th>19</th>\n",
              "      <th>20</th>\n",
              "      <th>21</th>\n",
              "      <th>22</th>\n",
              "      <th>23</th>\n",
              "      <th>24</th>\n",
              "      <th>25</th>\n",
              "      <th>26</th>\n",
              "      <th>27</th>\n",
              "      <th>28</th>\n",
              "      <th>29</th>\n",
              "      <th>30</th>\n",
              "      <th>31</th>\n",
              "      <th>32</th>\n",
              "      <th>33</th>\n",
              "      <th>34</th>\n",
              "      <th>35</th>\n",
              "      <th>36</th>\n",
              "      <th>37</th>\n",
              "      <th>38</th>\n",
              "      <th>39</th>\n",
              "    </tr>\n",
              "  </thead>\n",
              "  <tbody>\n",
              "    <tr>\n",
              "      <th>0</th>\n",
              "      <td>0</td>\n",
              "      <td>1</td>\n",
              "      <td>0</td>\n",
              "      <td>1</td>\n",
              "      <td>0</td>\n",
              "      <td>0</td>\n",
              "      <td>1</td>\n",
              "      <td>0</td>\n",
              "      <td>0</td>\n",
              "      <td>0</td>\n",
              "      <td>0</td>\n",
              "      <td>1</td>\n",
              "      <td>1</td>\n",
              "      <td>0</td>\n",
              "      <td>0</td>\n",
              "      <td>1</td>\n",
              "      <td>0</td>\n",
              "      <td>0</td>\n",
              "      <td>1</td>\n",
              "      <td>0</td>\n",
              "      <td>0</td>\n",
              "      <td>1</td>\n",
              "      <td>0</td>\n",
              "      <td>0</td>\n",
              "      <td>1</td>\n",
              "      <td>0</td>\n",
              "      <td>0</td>\n",
              "      <td>0</td>\n",
              "      <td>0</td>\n",
              "      <td>1</td>\n",
              "      <td>0</td>\n",
              "      <td>0</td>\n",
              "      <td>0</td>\n",
              "      <td>1</td>\n",
              "      <td>0</td>\n",
              "      <td>1</td>\n",
              "      <td>0</td>\n",
              "      <td>1</td>\n",
              "      <td>29.85</td>\n",
              "      <td>29.85</td>\n",
              "    </tr>\n",
              "    <tr>\n",
              "      <th>1</th>\n",
              "      <td>1</td>\n",
              "      <td>0</td>\n",
              "      <td>0</td>\n",
              "      <td>1</td>\n",
              "      <td>0</td>\n",
              "      <td>0</td>\n",
              "      <td>0</td>\n",
              "      <td>0</td>\n",
              "      <td>1</td>\n",
              "      <td>1</td>\n",
              "      <td>0</td>\n",
              "      <td>0</td>\n",
              "      <td>0</td>\n",
              "      <td>0</td>\n",
              "      <td>1</td>\n",
              "      <td>1</td>\n",
              "      <td>0</td>\n",
              "      <td>0</td>\n",
              "      <td>1</td>\n",
              "      <td>0</td>\n",
              "      <td>0</td>\n",
              "      <td>1</td>\n",
              "      <td>0</td>\n",
              "      <td>0</td>\n",
              "      <td>0</td>\n",
              "      <td>1</td>\n",
              "      <td>0</td>\n",
              "      <td>0</td>\n",
              "      <td>0</td>\n",
              "      <td>0</td>\n",
              "      <td>1</td>\n",
              "      <td>1</td>\n",
              "      <td>0</td>\n",
              "      <td>0</td>\n",
              "      <td>0</td>\n",
              "      <td>34</td>\n",
              "      <td>1</td>\n",
              "      <td>0</td>\n",
              "      <td>56.95</td>\n",
              "      <td>1889.5</td>\n",
              "    </tr>\n",
              "    <tr>\n",
              "      <th>2</th>\n",
              "      <td>1</td>\n",
              "      <td>0</td>\n",
              "      <td>0</td>\n",
              "      <td>1</td>\n",
              "      <td>0</td>\n",
              "      <td>0</td>\n",
              "      <td>0</td>\n",
              "      <td>0</td>\n",
              "      <td>1</td>\n",
              "      <td>0</td>\n",
              "      <td>0</td>\n",
              "      <td>1</td>\n",
              "      <td>1</td>\n",
              "      <td>0</td>\n",
              "      <td>0</td>\n",
              "      <td>1</td>\n",
              "      <td>0</td>\n",
              "      <td>0</td>\n",
              "      <td>1</td>\n",
              "      <td>0</td>\n",
              "      <td>0</td>\n",
              "      <td>1</td>\n",
              "      <td>0</td>\n",
              "      <td>0</td>\n",
              "      <td>1</td>\n",
              "      <td>0</td>\n",
              "      <td>0</td>\n",
              "      <td>0</td>\n",
              "      <td>0</td>\n",
              "      <td>0</td>\n",
              "      <td>1</td>\n",
              "      <td>1</td>\n",
              "      <td>0</td>\n",
              "      <td>0</td>\n",
              "      <td>0</td>\n",
              "      <td>2</td>\n",
              "      <td>1</td>\n",
              "      <td>1</td>\n",
              "      <td>53.85</td>\n",
              "      <td>108.15</td>\n",
              "    </tr>\n",
              "    <tr>\n",
              "      <th>3</th>\n",
              "      <td>0</td>\n",
              "      <td>1</td>\n",
              "      <td>0</td>\n",
              "      <td>1</td>\n",
              "      <td>0</td>\n",
              "      <td>0</td>\n",
              "      <td>0</td>\n",
              "      <td>0</td>\n",
              "      <td>1</td>\n",
              "      <td>1</td>\n",
              "      <td>0</td>\n",
              "      <td>0</td>\n",
              "      <td>0</td>\n",
              "      <td>0</td>\n",
              "      <td>1</td>\n",
              "      <td>0</td>\n",
              "      <td>0</td>\n",
              "      <td>1</td>\n",
              "      <td>1</td>\n",
              "      <td>0</td>\n",
              "      <td>0</td>\n",
              "      <td>1</td>\n",
              "      <td>0</td>\n",
              "      <td>0</td>\n",
              "      <td>0</td>\n",
              "      <td>1</td>\n",
              "      <td>0</td>\n",
              "      <td>1</td>\n",
              "      <td>0</td>\n",
              "      <td>0</td>\n",
              "      <td>0</td>\n",
              "      <td>1</td>\n",
              "      <td>0</td>\n",
              "      <td>0</td>\n",
              "      <td>0</td>\n",
              "      <td>45</td>\n",
              "      <td>0</td>\n",
              "      <td>0</td>\n",
              "      <td>42.3</td>\n",
              "      <td>1840.75</td>\n",
              "    </tr>\n",
              "    <tr>\n",
              "      <th>4</th>\n",
              "      <td>1</td>\n",
              "      <td>0</td>\n",
              "      <td>0</td>\n",
              "      <td>0</td>\n",
              "      <td>1</td>\n",
              "      <td>0</td>\n",
              "      <td>1</td>\n",
              "      <td>0</td>\n",
              "      <td>0</td>\n",
              "      <td>1</td>\n",
              "      <td>0</td>\n",
              "      <td>0</td>\n",
              "      <td>1</td>\n",
              "      <td>0</td>\n",
              "      <td>0</td>\n",
              "      <td>1</td>\n",
              "      <td>0</td>\n",
              "      <td>0</td>\n",
              "      <td>1</td>\n",
              "      <td>0</td>\n",
              "      <td>0</td>\n",
              "      <td>1</td>\n",
              "      <td>0</td>\n",
              "      <td>0</td>\n",
              "      <td>1</td>\n",
              "      <td>0</td>\n",
              "      <td>0</td>\n",
              "      <td>0</td>\n",
              "      <td>0</td>\n",
              "      <td>1</td>\n",
              "      <td>0</td>\n",
              "      <td>0</td>\n",
              "      <td>0</td>\n",
              "      <td>0</td>\n",
              "      <td>0</td>\n",
              "      <td>2</td>\n",
              "      <td>1</td>\n",
              "      <td>1</td>\n",
              "      <td>70.7</td>\n",
              "      <td>151.65</td>\n",
              "    </tr>\n",
              "  </tbody>\n",
              "</table>\n",
              "</div>"
            ],
            "text/plain": [
              "  0  1  2  3  4  5  6  7  8  9  10  ... 29 30 31 32 33 34  35 36 37     38       39\n",
              "0  0  1  0  1  0  0  1  0  0  0  0  ...  1  0  0  0  1  0   1  0  1  29.85    29.85\n",
              "1  1  0  0  1  0  0  0  0  1  1  0  ...  0  1  1  0  0  0  34  1  0  56.95   1889.5\n",
              "2  1  0  0  1  0  0  0  0  1  0  0  ...  0  1  1  0  0  0   2  1  1  53.85   108.15\n",
              "3  0  1  0  1  0  0  0  0  1  1  0  ...  0  0  1  0  0  0  45  0  0   42.3  1840.75\n",
              "4  1  0  0  0  1  0  1  0  0  1  0  ...  1  0  0  0  0  0   2  1  1   70.7   151.65\n",
              "\n",
              "[5 rows x 40 columns]"
            ]
          },
          "metadata": {
            "tags": []
          },
          "execution_count": 13
        }
      ]
    },
    {
      "cell_type": "code",
      "metadata": {
        "id": "BRsFpao9_Ijl"
      },
      "source": [
        "cols = x.select_dtypes(exclude=['float']).columns\n",
        "\n",
        "x[cols] = x[cols].apply(pd.to_numeric, downcast='float', errors='coerce')"
      ],
      "execution_count": 14,
      "outputs": []
    },
    {
      "cell_type": "code",
      "metadata": {
        "id": "Zzz8MX8DBfrp"
      },
      "source": [
        "x = np.array(x)"
      ],
      "execution_count": 15,
      "outputs": []
    },
    {
      "cell_type": "markdown",
      "metadata": {
        "id": "PTZyLdIoR1i2"
      },
      "source": [
        "**5.Splitting the Data into Training and Test Set**"
      ]
    },
    {
      "cell_type": "code",
      "metadata": {
        "id": "ZlfWYwncR_Os"
      },
      "source": [
        "from sklearn.model_selection import train_test_split as tts\n",
        "x_train,x_test,y_train,y_test = tts(x,y,test_size = 0.25,random_state=0)"
      ],
      "execution_count": 16,
      "outputs": []
    },
    {
      "cell_type": "markdown",
      "metadata": {
        "id": "XBc8q18dSZCq"
      },
      "source": [
        "**6.Feature Scaling**"
      ]
    },
    {
      "cell_type": "code",
      "metadata": {
        "id": "0e72Ze0pSdbE"
      },
      "source": [
        "from sklearn.preprocessing import StandardScaler\n",
        "sc = StandardScaler()\n",
        "x_train = sc.fit_transform(x_train)\n",
        "x_test = sc.transform(x_test)"
      ],
      "execution_count": 17,
      "outputs": []
    },
    {
      "cell_type": "code",
      "metadata": {
        "colab": {
          "base_uri": "https://localhost:8080/"
        },
        "id": "ApjPvaOABqHK",
        "outputId": "9337cd30-26ea-4b28-f6fd-824cdbaa3261"
      },
      "source": [
        "x_train[1,:]"
      ],
      "execution_count": 18,
      "outputs": [
        {
          "output_type": "execute_result",
          "data": {
            "text/plain": [
              "array([ 1.0350713 , -0.32584965, -0.85313404,  1.3815174 , -0.8856972 ,\n",
              "       -0.5257966 ,  1.0102762 , -0.5257966 , -0.63681614,  1.1299222 ,\n",
              "       -0.5257966 , -0.7244493 , -0.88910544, -0.5257966 ,  1.3873339 ,\n",
              "       -0.9962207 , -0.5257966 ,  1.5827118 ,  1.2232004 , -0.5257966 ,\n",
              "       -0.7875566 , -0.81141776, -0.5257966 ,  1.2601377 , -1.1127155 ,\n",
              "        1.933189  , -0.5553353 ,  1.8829793 , -0.5225685 , -0.7090153 ,\n",
              "       -0.54803705,  1.0045542 ,  2.296336  , -0.9694185 , -0.65654284,\n",
              "        0.8832096 ,  0.32584965, -1.2183915 ,  0.01784008,  0.5549879 ],\n",
              "      dtype=float32)"
            ]
          },
          "metadata": {
            "tags": []
          },
          "execution_count": 18
        }
      ]
    },
    {
      "cell_type": "code",
      "metadata": {
        "colab": {
          "base_uri": "https://localhost:8080/"
        },
        "id": "pl2JU1zZI2Iy",
        "outputId": "f5c12afd-25f3-40e1-f255-b333bddbb253"
      },
      "source": [
        "y_train[:10]"
      ],
      "execution_count": 19,
      "outputs": [
        {
          "output_type": "execute_result",
          "data": {
            "text/plain": [
              "array([0, 0, 1, 0, 1, 0, 0, 0, 0, 0])"
            ]
          },
          "metadata": {
            "tags": []
          },
          "execution_count": 19
        }
      ]
    },
    {
      "cell_type": "code",
      "metadata": {
        "colab": {
          "base_uri": "https://localhost:8080/"
        },
        "id": "tm5L2CWKKICo",
        "outputId": "f5ce2f12-5f24-4891-b1dc-bafdf3320be4"
      },
      "source": [
        "y_test[:10]"
      ],
      "execution_count": 20,
      "outputs": [
        {
          "output_type": "execute_result",
          "data": {
            "text/plain": [
              "array([0, 0, 0, 0, 0, 1, 0, 1, 0, 0])"
            ]
          },
          "metadata": {
            "tags": []
          },
          "execution_count": 20
        }
      ]
    },
    {
      "cell_type": "markdown",
      "metadata": {
        "id": "7gw7WaFaDPsh"
      },
      "source": [
        "**7.Building the Artificial Neural Network and adding Layers**"
      ]
    },
    {
      "cell_type": "code",
      "metadata": {
        "id": "rUWsjsRZDWhd"
      },
      "source": [
        "ann = tf.keras.models.Sequential()\n",
        "ann.add(tf.keras.layers.Dense(units = 6 , activation = 'relu'))\n",
        "ann.add(tf.keras.layers.Dense(units = 6 , activation = 'relu'))\n",
        "ann.add(tf.keras.layers.Dense(units = 6 , activation = 'relu'))\n",
        "ann.add(tf.keras.layers.Dense(units = 1 , activation = 'sigmoid'))"
      ],
      "execution_count": 21,
      "outputs": []
    },
    {
      "cell_type": "markdown",
      "metadata": {
        "id": "QUFjaWHGEftg"
      },
      "source": [
        "**8.Compiling and Training ANN**"
      ]
    },
    {
      "cell_type": "code",
      "metadata": {
        "colab": {
          "base_uri": "https://localhost:8080/"
        },
        "id": "2krIWL-FEj46",
        "outputId": "7f570b4a-e2fa-4cff-8f1f-ba176e480a4e"
      },
      "source": [
        "# We are choosing Stochastic Gradient Descent to Optimize Weights #\n",
        "ann.compile(optimizer = 'adam',loss = 'binary_crossentropy',metrics = ['accuracy'])\n",
        "# Training Ann by Batch Learning #\n",
        "ann.fit(x_train,y_train,batch_size=32,epochs = 100)"
      ],
      "execution_count": 22,
      "outputs": [
        {
          "output_type": "stream",
          "text": [
            "Epoch 1/100\n",
            "166/166 [==============================] - 1s 1ms/step - loss: nan - accuracy: 0.6242\n",
            "Epoch 2/100\n",
            "166/166 [==============================] - 0s 1ms/step - loss: nan - accuracy: 0.7329\n",
            "Epoch 3/100\n",
            "166/166 [==============================] - 0s 1ms/step - loss: nan - accuracy: 0.7323\n",
            "Epoch 4/100\n",
            "166/166 [==============================] - 0s 2ms/step - loss: nan - accuracy: 0.7218\n",
            "Epoch 5/100\n",
            "166/166 [==============================] - 0s 1ms/step - loss: nan - accuracy: 0.7235\n",
            "Epoch 6/100\n",
            "166/166 [==============================] - 0s 1ms/step - loss: nan - accuracy: 0.7340\n",
            "Epoch 7/100\n",
            "166/166 [==============================] - 0s 1ms/step - loss: nan - accuracy: 0.7286\n",
            "Epoch 8/100\n",
            "166/166 [==============================] - 0s 1ms/step - loss: nan - accuracy: 0.7329\n",
            "Epoch 9/100\n",
            "166/166 [==============================] - 0s 1ms/step - loss: nan - accuracy: 0.7429\n",
            "Epoch 10/100\n",
            "166/166 [==============================] - 0s 1ms/step - loss: nan - accuracy: 0.7298\n",
            "Epoch 11/100\n",
            "166/166 [==============================] - 0s 1ms/step - loss: nan - accuracy: 0.7397\n",
            "Epoch 12/100\n",
            "166/166 [==============================] - 0s 1ms/step - loss: nan - accuracy: 0.7319\n",
            "Epoch 13/100\n",
            "166/166 [==============================] - 0s 1ms/step - loss: nan - accuracy: 0.7187\n",
            "Epoch 14/100\n",
            "166/166 [==============================] - 0s 1ms/step - loss: nan - accuracy: 0.7332\n",
            "Epoch 15/100\n",
            "166/166 [==============================] - 0s 2ms/step - loss: nan - accuracy: 0.7383\n",
            "Epoch 16/100\n",
            "166/166 [==============================] - 0s 1ms/step - loss: nan - accuracy: 0.7379\n",
            "Epoch 17/100\n",
            "166/166 [==============================] - 0s 1ms/step - loss: nan - accuracy: 0.7401\n",
            "Epoch 18/100\n",
            "166/166 [==============================] - 0s 1ms/step - loss: nan - accuracy: 0.7366\n",
            "Epoch 19/100\n",
            "166/166 [==============================] - 0s 1ms/step - loss: nan - accuracy: 0.7355\n",
            "Epoch 20/100\n",
            "166/166 [==============================] - 0s 1ms/step - loss: nan - accuracy: 0.7326\n",
            "Epoch 21/100\n",
            "166/166 [==============================] - 0s 1ms/step - loss: nan - accuracy: 0.7301\n",
            "Epoch 22/100\n",
            "166/166 [==============================] - 0s 1ms/step - loss: nan - accuracy: 0.7385\n",
            "Epoch 23/100\n",
            "166/166 [==============================] - 0s 1ms/step - loss: nan - accuracy: 0.7294\n",
            "Epoch 24/100\n",
            "166/166 [==============================] - 0s 1ms/step - loss: nan - accuracy: 0.7378\n",
            "Epoch 25/100\n",
            "166/166 [==============================] - 0s 1ms/step - loss: nan - accuracy: 0.7234\n",
            "Epoch 26/100\n",
            "166/166 [==============================] - 0s 1ms/step - loss: nan - accuracy: 0.7332\n",
            "Epoch 27/100\n",
            "166/166 [==============================] - 0s 1ms/step - loss: nan - accuracy: 0.7343\n",
            "Epoch 28/100\n",
            "166/166 [==============================] - 0s 2ms/step - loss: nan - accuracy: 0.7311\n",
            "Epoch 29/100\n",
            "166/166 [==============================] - 0s 1ms/step - loss: nan - accuracy: 0.7362\n",
            "Epoch 30/100\n",
            "166/166 [==============================] - 0s 1ms/step - loss: nan - accuracy: 0.7240\n",
            "Epoch 31/100\n",
            "166/166 [==============================] - 0s 1ms/step - loss: nan - accuracy: 0.7331\n",
            "Epoch 32/100\n",
            "166/166 [==============================] - 0s 1ms/step - loss: nan - accuracy: 0.7401\n",
            "Epoch 33/100\n",
            "166/166 [==============================] - 0s 1ms/step - loss: nan - accuracy: 0.7361\n",
            "Epoch 34/100\n",
            "166/166 [==============================] - 0s 1ms/step - loss: nan - accuracy: 0.7254\n",
            "Epoch 35/100\n",
            "166/166 [==============================] - 0s 1ms/step - loss: nan - accuracy: 0.7423\n",
            "Epoch 36/100\n",
            "166/166 [==============================] - 0s 1ms/step - loss: nan - accuracy: 0.7469\n",
            "Epoch 37/100\n",
            "166/166 [==============================] - 0s 1ms/step - loss: nan - accuracy: 0.7304\n",
            "Epoch 38/100\n",
            "166/166 [==============================] - 0s 1ms/step - loss: nan - accuracy: 0.7306\n",
            "Epoch 39/100\n",
            "166/166 [==============================] - 0s 1ms/step - loss: nan - accuracy: 0.7442\n",
            "Epoch 40/100\n",
            "166/166 [==============================] - 0s 1ms/step - loss: nan - accuracy: 0.7344\n",
            "Epoch 41/100\n",
            "166/166 [==============================] - 0s 1ms/step - loss: nan - accuracy: 0.7302\n",
            "Epoch 42/100\n",
            "166/166 [==============================] - 0s 1ms/step - loss: nan - accuracy: 0.7239\n",
            "Epoch 43/100\n",
            "166/166 [==============================] - 0s 2ms/step - loss: nan - accuracy: 0.7264\n",
            "Epoch 44/100\n",
            "166/166 [==============================] - 0s 1ms/step - loss: nan - accuracy: 0.7335\n",
            "Epoch 45/100\n",
            "166/166 [==============================] - 0s 1ms/step - loss: nan - accuracy: 0.7377\n",
            "Epoch 46/100\n",
            "166/166 [==============================] - 0s 1ms/step - loss: nan - accuracy: 0.7300\n",
            "Epoch 47/100\n",
            "166/166 [==============================] - 0s 1ms/step - loss: nan - accuracy: 0.7350\n",
            "Epoch 48/100\n",
            "166/166 [==============================] - 0s 1ms/step - loss: nan - accuracy: 0.7306\n",
            "Epoch 49/100\n",
            "166/166 [==============================] - 0s 1ms/step - loss: nan - accuracy: 0.7320\n",
            "Epoch 50/100\n",
            "166/166 [==============================] - 0s 2ms/step - loss: nan - accuracy: 0.7332\n",
            "Epoch 51/100\n",
            "166/166 [==============================] - 0s 1ms/step - loss: nan - accuracy: 0.7413\n",
            "Epoch 52/100\n",
            "166/166 [==============================] - 0s 1ms/step - loss: nan - accuracy: 0.7423\n",
            "Epoch 53/100\n",
            "166/166 [==============================] - 0s 1ms/step - loss: nan - accuracy: 0.7307\n",
            "Epoch 54/100\n",
            "166/166 [==============================] - 0s 1ms/step - loss: nan - accuracy: 0.7304\n",
            "Epoch 55/100\n",
            "166/166 [==============================] - 0s 1ms/step - loss: nan - accuracy: 0.7391\n",
            "Epoch 56/100\n",
            "166/166 [==============================] - 0s 1ms/step - loss: nan - accuracy: 0.7317\n",
            "Epoch 57/100\n",
            "166/166 [==============================] - 0s 2ms/step - loss: nan - accuracy: 0.7322\n",
            "Epoch 58/100\n",
            "166/166 [==============================] - 0s 1ms/step - loss: nan - accuracy: 0.7400\n",
            "Epoch 59/100\n",
            "166/166 [==============================] - 0s 1ms/step - loss: nan - accuracy: 0.7313\n",
            "Epoch 60/100\n",
            "166/166 [==============================] - 0s 1ms/step - loss: nan - accuracy: 0.7405\n",
            "Epoch 61/100\n",
            "166/166 [==============================] - 0s 1ms/step - loss: nan - accuracy: 0.7411\n",
            "Epoch 62/100\n",
            "166/166 [==============================] - 0s 1ms/step - loss: nan - accuracy: 0.7396\n",
            "Epoch 63/100\n",
            "166/166 [==============================] - 0s 1ms/step - loss: nan - accuracy: 0.7277\n",
            "Epoch 64/100\n",
            "166/166 [==============================] - 0s 1ms/step - loss: nan - accuracy: 0.7308\n",
            "Epoch 65/100\n",
            "166/166 [==============================] - 0s 1ms/step - loss: nan - accuracy: 0.7408\n",
            "Epoch 66/100\n",
            "166/166 [==============================] - 0s 1ms/step - loss: nan - accuracy: 0.7355\n",
            "Epoch 67/100\n",
            "166/166 [==============================] - 0s 1ms/step - loss: nan - accuracy: 0.7305\n",
            "Epoch 68/100\n",
            "166/166 [==============================] - 0s 1ms/step - loss: nan - accuracy: 0.7471\n",
            "Epoch 69/100\n",
            "166/166 [==============================] - 0s 1ms/step - loss: nan - accuracy: 0.7274\n",
            "Epoch 70/100\n",
            "166/166 [==============================] - 0s 2ms/step - loss: nan - accuracy: 0.7362\n",
            "Epoch 71/100\n",
            "166/166 [==============================] - 0s 1ms/step - loss: nan - accuracy: 0.7402\n",
            "Epoch 72/100\n",
            "166/166 [==============================] - 0s 1ms/step - loss: nan - accuracy: 0.7216\n",
            "Epoch 73/100\n",
            "166/166 [==============================] - 0s 1ms/step - loss: nan - accuracy: 0.7284\n",
            "Epoch 74/100\n",
            "166/166 [==============================] - 0s 1ms/step - loss: nan - accuracy: 0.7241\n",
            "Epoch 75/100\n",
            "166/166 [==============================] - 0s 1ms/step - loss: nan - accuracy: 0.7313\n",
            "Epoch 76/100\n",
            "166/166 [==============================] - 0s 1ms/step - loss: nan - accuracy: 0.7332\n",
            "Epoch 77/100\n",
            "166/166 [==============================] - 0s 1ms/step - loss: nan - accuracy: 0.7331\n",
            "Epoch 78/100\n",
            "166/166 [==============================] - 0s 1ms/step - loss: nan - accuracy: 0.7402\n",
            "Epoch 79/100\n",
            "166/166 [==============================] - 0s 1ms/step - loss: nan - accuracy: 0.7363\n",
            "Epoch 80/100\n",
            "166/166 [==============================] - 0s 1ms/step - loss: nan - accuracy: 0.7331\n",
            "Epoch 81/100\n",
            "166/166 [==============================] - 0s 1ms/step - loss: nan - accuracy: 0.7283\n",
            "Epoch 82/100\n",
            "166/166 [==============================] - 0s 1ms/step - loss: nan - accuracy: 0.7373\n",
            "Epoch 83/100\n",
            "166/166 [==============================] - 0s 1ms/step - loss: nan - accuracy: 0.7331\n",
            "Epoch 84/100\n",
            "166/166 [==============================] - 0s 1ms/step - loss: nan - accuracy: 0.7405\n",
            "Epoch 85/100\n",
            "166/166 [==============================] - 0s 1ms/step - loss: nan - accuracy: 0.7231\n",
            "Epoch 86/100\n",
            "166/166 [==============================] - 0s 1ms/step - loss: nan - accuracy: 0.7355\n",
            "Epoch 87/100\n",
            "166/166 [==============================] - 0s 2ms/step - loss: nan - accuracy: 0.7340\n",
            "Epoch 88/100\n",
            "166/166 [==============================] - 0s 1ms/step - loss: nan - accuracy: 0.7333\n",
            "Epoch 89/100\n",
            "166/166 [==============================] - 0s 1ms/step - loss: nan - accuracy: 0.7358\n",
            "Epoch 90/100\n",
            "166/166 [==============================] - 0s 1ms/step - loss: nan - accuracy: 0.7347\n",
            "Epoch 91/100\n",
            "166/166 [==============================] - 0s 2ms/step - loss: nan - accuracy: 0.7182\n",
            "Epoch 92/100\n",
            "166/166 [==============================] - 0s 1ms/step - loss: nan - accuracy: 0.7388\n",
            "Epoch 93/100\n",
            "166/166 [==============================] - 0s 1ms/step - loss: nan - accuracy: 0.7341\n",
            "Epoch 94/100\n",
            "166/166 [==============================] - 0s 1ms/step - loss: nan - accuracy: 0.7318\n",
            "Epoch 95/100\n",
            "166/166 [==============================] - 0s 1ms/step - loss: nan - accuracy: 0.7366\n",
            "Epoch 96/100\n",
            "166/166 [==============================] - 0s 1ms/step - loss: nan - accuracy: 0.7303\n",
            "Epoch 97/100\n",
            "166/166 [==============================] - 0s 1ms/step - loss: nan - accuracy: 0.7364\n",
            "Epoch 98/100\n",
            "166/166 [==============================] - 0s 1ms/step - loss: nan - accuracy: 0.7323\n",
            "Epoch 99/100\n",
            "166/166 [==============================] - 0s 1ms/step - loss: nan - accuracy: 0.7309\n",
            "Epoch 100/100\n",
            "166/166 [==============================] - 0s 1ms/step - loss: nan - accuracy: 0.7360\n"
          ],
          "name": "stdout"
        },
        {
          "output_type": "execute_result",
          "data": {
            "text/plain": [
              "<tensorflow.python.keras.callbacks.History at 0x7fb694d5d8d0>"
            ]
          },
          "metadata": {
            "tags": []
          },
          "execution_count": 22
        }
      ]
    },
    {
      "cell_type": "markdown",
      "metadata": {
        "id": "z4Hinu4sFxrw"
      },
      "source": [
        "**9.Predicting the Test Set Results**"
      ]
    },
    {
      "cell_type": "code",
      "metadata": {
        "colab": {
          "base_uri": "https://localhost:8080/"
        },
        "id": "uwmYceTRF4pI",
        "outputId": "aef43484-ac41-4a00-fb45-ed457f52762d"
      },
      "source": [
        "y_pred = ann.predict(x_test)\n",
        "y_pred = (y_pred > 0.5)\n",
        "y_pred[:10]"
      ],
      "execution_count": 23,
      "outputs": [
        {
          "output_type": "execute_result",
          "data": {
            "text/plain": [
              "array([[False],\n",
              "       [False],\n",
              "       [False],\n",
              "       [False],\n",
              "       [False],\n",
              "       [False],\n",
              "       [False],\n",
              "       [False],\n",
              "       [False],\n",
              "       [False]])"
            ]
          },
          "metadata": {
            "tags": []
          },
          "execution_count": 23
        }
      ]
    },
    {
      "cell_type": "code",
      "metadata": {
        "colab": {
          "base_uri": "https://localhost:8080/"
        },
        "id": "AIhq1SN4IglK",
        "outputId": "6ba60699-9de3-4ab7-b416-f1b69b689d98"
      },
      "source": [
        "y_test = (y_test > 0.5)\n",
        "y_pred = y_pred.reshape(len(y_pred),1)\n",
        "y_test = y_test.reshape(len(y_test),1)\n",
        "Accuracy_Matrix = np.concatenate((y_pred,y_test),1)\n",
        "Accuracy_Matrix[:10]"
      ],
      "execution_count": 24,
      "outputs": [
        {
          "output_type": "execute_result",
          "data": {
            "text/plain": [
              "array([[False, False],\n",
              "       [False, False],\n",
              "       [False, False],\n",
              "       [False, False],\n",
              "       [False, False],\n",
              "       [False,  True],\n",
              "       [False, False],\n",
              "       [False,  True],\n",
              "       [False, False],\n",
              "       [False, False]])"
            ]
          },
          "metadata": {
            "tags": []
          },
          "execution_count": 24
        }
      ]
    }
  ]
}